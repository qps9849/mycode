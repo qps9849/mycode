{
 "cells": [
  {
   "cell_type": "code",
   "execution_count": 3,
   "metadata": {},
   "outputs": [],
   "source": [
    "from nltk.stem.porter import PorterStemmer\n",
    "from nltk.corpus import stopwords\n",
    "from nltk.tokenize import word_tokenize\n",
    "import re\n",
    "\n",
    "stm=PorterStemmer()\n",
    "stopwords=set(stopwords.words('english'))\n",
    "pattern=re.compile('[a-zA-Z][-_a-zA-Z0-9.]*')\n",
    "def tokenize(sentence):\n",
    "    def stem(w):\n",
    "        try: return stm.stem(w)\n",
    "        except:return w\n",
    "    return [stem(w) for w in word_tokenize(sentence.lower()) if w not in \n",
    "    stopwords and pattern.match(w)]"
   ]
  },
  {
   "cell_type": "code",
   "execution_count": 4,
   "metadata": {},
   "outputs": [
    {
     "name": "stdout",
     "output_type": "stream",
     "text": [
      "Total docs: 1\n",
      "Total words: 162\n",
      "Vocab size: 21\n",
      "Topic #0\tamerica, american, nation, countri, peopl, one, everi, protect, world, great\n",
      "Topic #1\tone, make, america, american, nation, countri, peopl, everi, protect, world\n",
      "Topic #2\tprotect, never, america, american, nation, countri, peopl, one, everi, world\n",
      "Topic #3\tamerica, countri, american, nation, peopl, one, everi, protect, world, great\n",
      "Topic #4\tamerica, american, nation, countri, peopl, one, everi, protect, world, great\n",
      "Topic #5\tdream, new, never, america, american, nation, countri, peopl, one, everi\n",
      "Topic #6\tworld, back, right, presid, america, american, nation, countri, peopl, one\n",
      "Topic #7\tamerica, american, nation, countri, peopl, one, everi, protect, world, great\n",
      "Topic #8\tamerica, american, nation, countri, peopl, one, everi, protect, world, great\n",
      "Topic #9\ttoday, america, american, nation, countri, peopl, one, everi, protect, world\n",
      "Topic #10\tamerica, american, nation, countri, peopl, one, everi, protect, world, great\n",
      "Topic #11\tnation, mani, america, american, countri, peopl, one, everi, protect, world\n",
      "Topic #12\tamerica, american, nation, countri, peopl, one, everi, protect, world, great\n",
      "Topic #13\tamerica, american, nation, countri, peopl, one, everi, protect, world, great\n",
      "Topic #14\tamerican, america, god, back, nation, countri, peopl, one, everi, protect\n",
      "Topic #15\tamerica, american, nation, countri, peopl, one, everi, protect, world, great\n",
      "Topic #16\tpeopl, everi, presid, america, american, nation, countri, one, protect, world\n",
      "Topic #17\tamerica, american, nation, countri, peopl, one, everi, protect, world, great\n",
      "Topic #18\tamerica, american, nation, countri, peopl, one, everi, protect, world, great\n",
      "Topic #19\tgreat, everi, across, america, american, nation, countri, peopl, one, protect\n"
     ]
    }
   ],
   "source": [
    "import tomotopy as tp\n",
    "\n",
    "model=tp.LDAModel(k=20,min_cf=5)\n",
    "for i,line in enumerate(open('c:/data/text/trumph.txt',encoding='ms949')):\n",
    "    model.add_doc(tokenize(line))\n",
    "\n",
    "model.train(0)\n",
    "print('Total docs:',len(model.docs))\n",
    "print('Total words:',model.num_words)\n",
    "print('Vocab size:',model.num_vocabs)\n",
    "model.train(200)\n",
    "for i in range(model.k):\n",
    "    res=model.get_topic_words(i, top_n=10)\n",
    "    print('Topic #{0}'.format(i),end='\\t')\n",
    "    print(', '.join(w for w, p in res))"
   ]
  },
  {
   "cell_type": "code",
   "execution_count": null,
   "metadata": {},
   "outputs": [],
   "source": []
  }
 ],
 "metadata": {
  "interpreter": {
   "hash": "cef9e06bb236b2a8629b07e87a04b187b952a0f661eff5533360a155783f0c33"
  },
  "kernelspec": {
   "display_name": "Python 3.8.8 64-bit ('base': conda)",
   "language": "python",
   "name": "python3"
  },
  "language_info": {
   "codemirror_mode": {
    "name": "ipython",
    "version": 3
   },
   "file_extension": ".py",
   "mimetype": "text/x-python",
   "name": "python",
   "nbconvert_exporter": "python",
   "pygments_lexer": "ipython3",
   "version": "3.8.8"
  },
  "orig_nbformat": 4
 },
 "nbformat": 4,
 "nbformat_minor": 2
}
