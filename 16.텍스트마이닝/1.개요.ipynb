{
 "cells": [
  {
   "cell_type": "code",
   "execution_count": 3,
   "metadata": {},
   "outputs": [
    {
     "name": "stdout",
     "output_type": "stream",
     "text": [
      "hello world\n",
      "HELLO WORLD\n"
     ]
    }
   ],
   "source": [
    "s=\"Hello World\"\n",
    "print(s.lower())\n",
    "print(s.upper())"
   ]
  },
  {
   "cell_type": "code",
   "execution_count": 4,
   "metadata": {},
   "outputs": [
    {
     "name": "stdout",
     "output_type": "stream",
     "text": [
      "올해 들어 서울 지역의 부동산 가격이 % 하락했습니다\n"
     ]
    }
   ],
   "source": [
    "import re\n",
    "p=re.compile(\"[0-9]+\")\n",
    "result=p.sub(\"\",\"올해 들어 서울 지역의 부동산 가격이 30% 하락했습니다\")\n",
    "print(result)"
   ]
  },
  {
   "cell_type": "code",
   "execution_count": 5,
   "metadata": {},
   "outputs": [
    {
     "name": "stdout",
     "output_type": "stream",
     "text": [
      "올해 들어 서울 지역의 부동산 가격이 30% 하락했습니다!@#$_$123\n",
      "올해 들어 서울 지역의 부동산 가격이  하락했습니다_\n"
     ]
    }
   ],
   "source": [
    "def clean_test(input_data):\n",
    "    p=re.compile(\"[0-9!@#$%^&*]\")\n",
    "    result=p.sub(\"\",input_data)\n",
    "    return result\n",
    "txt=\"올해 들어 서울 지역의 부동산 가격이 30% 하락했습니다!@#$_$123\"\n",
    "print(txt)\n",
    "print(clean_test(txt))"
   ]
  },
  {
   "cell_type": "code",
   "execution_count": 6,
   "metadata": {},
   "outputs": [
    {
     "data": {
      "text/plain": [
       "['추석', '연휴', '민족', '대이동', '시작', '교통량', '교통사고', '특히', '자동차', '고장', '상당수']"
      ]
     },
     "execution_count": 6,
     "metadata": {},
     "output_type": "execute_result"
    }
   ],
   "source": [
    "words=[\"추석\",\"연휴\",\"민족\",\"대이동\",\"시작\",\"늘어\",\"교통량\",\"교통사고\",\"특히\",\"자동차\",\n",
    "\"고장\",\"상당수\",\"나타\",\"것\",\"기자\"]\n",
    "stopwords=[\"가다\",\"늘어\",\"나타\",\"것\",\"기자\"]\n",
    "[i for i in words if i not in stopwords]"
   ]
  },
  {
   "cell_type": "code",
   "execution_count": 7,
   "metadata": {},
   "outputs": [
    {
     "name": "stderr",
     "output_type": "stream",
     "text": [
      "[nltk_data] Downloading package stopwords to\n",
      "[nltk_data]     C:\\Users\\qps98\\AppData\\Roaming\\nltk_data...\n",
      "[nltk_data]   Package stopwords is already up-to-date!\n"
     ]
    },
    {
     "data": {
      "text/plain": [
       "True"
      ]
     },
     "execution_count": 7,
     "metadata": {},
     "output_type": "execute_result"
    }
   ],
   "source": [
    "import nltk\n",
    "nltk.download(\"stopwords\")"
   ]
  },
  {
   "cell_type": "code",
   "execution_count": 8,
   "metadata": {},
   "outputs": [
    {
     "name": "stdout",
     "output_type": "stream",
     "text": [
      "['chief', 'justice', 'roberts', ',', 'president', 'carter', ',', 'president', 'clinton', 'president', 'bush', 'obama', 'fellow', 'americans', 'people', 'world', 'thank']\n"
     ]
    }
   ],
   "source": [
    "from nltk.corpus import stopwords\n",
    "words=[\"chief\",\"justice\",\"roberts\",\",\",\"president\",\"carter\",\",\",\"president\",\"clinton\",\n",
    "\"president\",\"bush\",\"obama\",\"fellow\",\"americans\",\"and\",\"people\",\"of\",\"the\",\"world\",\"thank\",\"you\"]\n",
    "print([w for w in words if not w in stopwords.words(\"english\")])"
   ]
  },
  {
   "cell_type": "code",
   "execution_count": 9,
   "metadata": {},
   "outputs": [
    {
     "name": "stderr",
     "output_type": "stream",
     "text": [
      "[nltk_data] Downloading package punkt to\n",
      "[nltk_data]     C:\\Users\\qps98\\AppData\\Roaming\\nltk_data...\n",
      "[nltk_data]   Package punkt is already up-to-date!\n"
     ]
    },
    {
     "data": {
      "text/plain": [
       "True"
      ]
     },
     "execution_count": 9,
     "metadata": {},
     "output_type": "execute_result"
    }
   ],
   "source": [
    "nltk.download(\"punkt\")"
   ]
  },
  {
   "cell_type": "code",
   "execution_count": 10,
   "metadata": {},
   "outputs": [
    {
     "name": "stdout",
     "output_type": "stream",
     "text": [
      "cook cooker cook cook cookeri "
     ]
    }
   ],
   "source": [
    "from nltk.stem.porter import PorterStemmer\n",
    "from nltk.tokenize import word_tokenize\n",
    "stm=PorterStemmer()\n",
    "txt=\"cook cooker cooking cooks cookery\"\n",
    "words=word_tokenize(txt)\n",
    "for w in words:\n",
    "    print(stm.stem(w),end=\" \")"
   ]
  },
  {
   "cell_type": "code",
   "execution_count": 11,
   "metadata": {},
   "outputs": [
    {
     "name": "stdout",
     "output_type": "stream",
     "text": [
      "python python python python python "
     ]
    }
   ],
   "source": [
    "stm=PorterStemmer()\n",
    "txt=\"pythoning pythons Python pythoners pythoned\"\n",
    "words=word_tokenize(txt)\n",
    "for w in words:\n",
    "    print(stm.stem(w), end=\" \")"
   ]
  },
  {
   "cell_type": "code",
   "execution_count": 12,
   "metadata": {},
   "outputs": [
    {
     "name": "stdout",
     "output_type": "stream",
     "text": [
      "cook cook cook cook cookery "
     ]
    }
   ],
   "source": [
    "from nltk.stem.lancaster import LancasterStemmer\n",
    "stm=LancasterStemmer()\n",
    "txt=\"cook cooker cooking cooks cookery\"\n",
    "words=word_tokenize(txt)\n",
    "for w in words:\n",
    "    print(stm.stem(w),end=\" \")"
   ]
  },
  {
   "cell_type": "code",
   "execution_count": 13,
   "metadata": {},
   "outputs": [
    {
     "name": "stdout",
     "output_type": "stream",
     "text": [
      "python python python python python "
     ]
    }
   ],
   "source": [
    "stm=LancasterStemmer()\n",
    "txt=\"pythoning pythons Python pythoners pythoned\"\n",
    "words=word_tokenize(txt)\n",
    "for w in words:\n",
    "    print(stm.stem(w), end=\" \")"
   ]
  },
  {
   "cell_type": "code",
   "execution_count": 14,
   "metadata": {},
   "outputs": [
    {
     "name": "stdout",
     "output_type": "stream",
     "text": [
      "cook\n",
      "cookery\n",
      "leside\n"
     ]
    }
   ],
   "source": [
    "from nltk.stem.regexp import RegexpStemmer\n",
    "stm=RegexpStemmer('ing')\n",
    "print(stm.stem('cooking'))\n",
    "print(stm.stem('cookery'))\n",
    "print(stm.stem('ingleside'))"
   ]
  },
  {
   "cell_type": "code",
   "execution_count": 15,
   "metadata": {},
   "outputs": [
    {
     "name": "stdout",
     "output_type": "stream",
     "text": [
      "ing s Python ers ed "
     ]
    }
   ],
   "source": [
    "stm=RegexpStemmer(\"python\")\n",
    "txt=\"pythoning pythons Python pythoners pythoned\"\n",
    "words=word_tokenize(txt)\n",
    "for w in words:\n",
    "    print(stm.stem(w), end=\" \")"
   ]
  },
  {
   "cell_type": "code",
   "execution_count": 16,
   "metadata": {},
   "outputs": [
    {
     "name": "stdout",
     "output_type": "stream",
     "text": [
      "He\n",
      "el\n",
      "ll\n",
      "lo\n"
     ]
    }
   ],
   "source": [
    "txt='Hello'\n",
    "for i in range(len(txt)-1):\n",
    "    print(txt[i],txt[i+1],sep='')"
   ]
  },
  {
   "cell_type": "code",
   "execution_count": 17,
   "metadata": {},
   "outputs": [
    {
     "name": "stdout",
     "output_type": "stream",
     "text": [
      "this is\n",
      "is python\n",
      "python script\n"
     ]
    }
   ],
   "source": [
    "txt='this is python script'\n",
    "words=txt.split()\n",
    "for i in range(len(words)-1):\n",
    "    print(words[i], words[i+1])"
   ]
  },
  {
   "cell_type": "code",
   "execution_count": 18,
   "metadata": {},
   "outputs": [
    {
     "name": "stdout",
     "output_type": "stream",
     "text": [
      "he\n",
      "he\n",
      "he\n",
      "he\n"
     ]
    }
   ],
   "source": [
    "txt='hello'\n",
    "two_gram=zip(txt,txt[1:])\n",
    "for i in two_gram:\n",
    "    print(txt[0],txt[1],sep='')"
   ]
  },
  {
   "cell_type": "code",
   "execution_count": 19,
   "metadata": {},
   "outputs": [
    {
     "data": {
      "text/plain": [
       "[('this', 'is'), ('is', 'python'), ('python', 'script')]"
      ]
     },
     "execution_count": 19,
     "metadata": {},
     "output_type": "execute_result"
    }
   ],
   "source": [
    "txt='this is python script'\n",
    "words=txt.split()\n",
    "list(zip(words,words[1:]))"
   ]
  },
  {
   "cell_type": "code",
   "execution_count": 20,
   "metadata": {},
   "outputs": [
    {
     "name": "stdout",
     "output_type": "stream",
     "text": [
      "('I', 'love') ('love', 'you.') ('you.', 'Good') ('Good', 'morning.') ('morning.', 'Good') ('Good', 'bye.') "
     ]
    }
   ],
   "source": [
    "from nltk import ngrams\n",
    "\n",
    "sentence=\"I love you.  Good morning.  Good bye.\"\n",
    "grams=ngrams(sentence.split(),2)\n",
    "for gram in grams:\n",
    "    print(gram,end=\" \")"
   ]
  },
  {
   "cell_type": "code",
   "execution_count": 21,
   "metadata": {},
   "outputs": [
    {
     "name": "stdout",
     "output_type": "stream",
     "text": [
      "('I', 'love', 'you.') ('love', 'you.', 'Good') ('you.', 'Good', 'morning.') ('Good', 'morning.', 'Good') ('morning.', 'Good', 'bye.') "
     ]
    }
   ],
   "source": [
    "sentence=\"I love you.  Good morning.  Good bye.\"\n",
    "grams=ngrams(sentence.split(),3)\n",
    "for gram in grams:\n",
    "    print(gram,end=\" \")"
   ]
  },
  {
   "cell_type": "code",
   "execution_count": 22,
   "metadata": {},
   "outputs": [
    {
     "data": {
      "text/plain": [
       "['constitution.txt']"
      ]
     },
     "execution_count": 22,
     "metadata": {},
     "output_type": "execute_result"
    }
   ],
   "source": [
    "from konlpy.corpus import kolaw\n",
    "\n",
    "kolaw.fileids()"
   ]
  },
  {
   "cell_type": "code",
   "execution_count": 23,
   "metadata": {},
   "outputs": [
    {
     "name": "stdout",
     "output_type": "stream",
     "text": [
      "대한민국헌법\n",
      "\n",
      "유구한 역사와 전통에 빛나는 우리 대한국민은 3·1운동으로\n"
     ]
    }
   ],
   "source": [
    "c=kolaw.open('constitution.txt').read()\n",
    "print(c[:40])"
   ]
  },
  {
   "cell_type": "code",
   "execution_count": 24,
   "metadata": {},
   "outputs": [
    {
     "data": {
      "text/plain": [
       "['1809890.txt',\n",
       " '1809891.txt',\n",
       " '1809892.txt',\n",
       " '1809893.txt',\n",
       " '1809894.txt',\n",
       " '1809895.txt',\n",
       " '1809896.txt',\n",
       " '1809897.txt',\n",
       " '1809898.txt',\n",
       " '1809899.txt']"
      ]
     },
     "execution_count": 24,
     "metadata": {},
     "output_type": "execute_result"
    }
   ],
   "source": [
    "from konlpy.corpus import kobill\n",
    "kobill.fileids()"
   ]
  },
  {
   "cell_type": "code",
   "execution_count": 25,
   "metadata": {},
   "outputs": [
    {
     "name": "stdout",
     "output_type": "stream",
     "text": [
      "지방공무원법 일부개정법률안\n",
      "\n",
      "(정의화의원 대표발의 )\n",
      "\n",
      " 의 안\n",
      " 번 호\n"
     ]
    }
   ],
   "source": [
    "d=kobill.open('1809890.txt').read()\n",
    "print(d[:40])"
   ]
  },
  {
   "cell_type": "code",
   "execution_count": 26,
   "metadata": {},
   "outputs": [
    {
     "data": {
      "text/plain": [
       "['원',\n",
       " '다르',\n",
       " '아',\n",
       " '환율',\n",
       " '이',\n",
       " '3년',\n",
       " '5개월',\n",
       " '만',\n",
       " '에',\n",
       " '최고치',\n",
       " '로',\n",
       " '마감',\n",
       " '하고',\n",
       " '위안화',\n",
       " '환율',\n",
       " '이',\n",
       " '11년',\n",
       " '만',\n",
       " '에',\n",
       " '달러당',\n",
       " '7위',\n",
       " '안',\n",
       " '을',\n",
       " '넘',\n",
       " '었다',\n",
       " '.',\n",
       " '원',\n",
       " '/',\n",
       " '엔',\n",
       " '재정환율',\n",
       " '역시',\n",
       " '100엔',\n",
       " '당',\n",
       " '30원',\n",
       " '가까이',\n",
       " '뛰',\n",
       " '었다',\n",
       " '.']"
      ]
     },
     "execution_count": 26,
     "metadata": {},
     "output_type": "execute_result"
    }
   ],
   "source": [
    "from konlpy.tag import Hannanum\n",
    "han=Hannanum()\n",
    "txt='''원 달러 환율이 3년 5개월 만에 최고치로 마감하고\n",
    "위안화 환율이 11년 만에 달러당 7위안을 넘었다.\n",
    "원/엔 재정환율 역시 100엔당 30원 가까이 뛰었다.\n",
    "'''\n",
    "han.morphs(txt)"
   ]
  },
  {
   "cell_type": "code",
   "execution_count": 27,
   "metadata": {},
   "outputs": [
    {
     "data": {
      "text/plain": [
       "['원',\n",
       " '환율',\n",
       " '3년',\n",
       " '5개월',\n",
       " '만',\n",
       " '최고치',\n",
       " '마감',\n",
       " '위안화',\n",
       " '환율',\n",
       " '11년',\n",
       " '만',\n",
       " '달러당',\n",
       " '7위',\n",
       " '원',\n",
       " '엔',\n",
       " '재정환율',\n",
       " '100엔',\n",
       " '30원']"
      ]
     },
     "execution_count": 27,
     "metadata": {},
     "output_type": "execute_result"
    }
   ],
   "source": [
    "han.nouns(txt)"
   ]
  },
  {
   "cell_type": "code",
   "execution_count": 28,
   "metadata": {},
   "outputs": [
    {
     "data": {
      "text/plain": [
       "[('원', 'N'),\n",
       " ('다르', 'P'),\n",
       " ('아', 'E'),\n",
       " ('환율', 'N'),\n",
       " ('이', 'J'),\n",
       " ('3년', 'N'),\n",
       " ('5개월', 'N'),\n",
       " ('만', 'N'),\n",
       " ('에', 'J'),\n",
       " ('최고치', 'N'),\n",
       " ('로', 'J'),\n",
       " ('마감', 'N'),\n",
       " ('하고', 'J'),\n",
       " ('위안화', 'N'),\n",
       " ('환율', 'N'),\n",
       " ('이', 'J'),\n",
       " ('11년', 'N'),\n",
       " ('만', 'N'),\n",
       " ('에', 'J'),\n",
       " ('달러당', 'N'),\n",
       " ('7위', 'N'),\n",
       " ('안', 'X'),\n",
       " ('을', 'J'),\n",
       " ('넘', 'P'),\n",
       " ('었다', 'E'),\n",
       " ('.', 'S'),\n",
       " ('원', 'N'),\n",
       " ('/', 'S'),\n",
       " ('엔', 'N'),\n",
       " ('재정환율', 'N'),\n",
       " ('역시', 'M'),\n",
       " ('100엔', 'N'),\n",
       " ('당', 'X'),\n",
       " ('30원', 'N'),\n",
       " ('가까이', 'M'),\n",
       " ('뛰', 'P'),\n",
       " ('었다', 'E'),\n",
       " ('.', 'S')]"
      ]
     },
     "execution_count": 28,
     "metadata": {},
     "output_type": "execute_result"
    }
   ],
   "source": [
    "han.pos(txt)"
   ]
  },
  {
   "cell_type": "code",
   "execution_count": 29,
   "metadata": {},
   "outputs": [
    {
     "data": {
      "text/plain": [
       "{'E': '어미',\n",
       " 'EC': '연결 어미',\n",
       " 'EF': '종결 어미',\n",
       " 'EP': '선어말어미',\n",
       " 'ET': '전성 어미',\n",
       " 'F': '외국어',\n",
       " 'I': '독립언',\n",
       " 'II': '감탄사',\n",
       " 'J': '관계언',\n",
       " 'JC': '격조사',\n",
       " 'JP': '서술격 조사',\n",
       " 'JX': '보조사',\n",
       " 'M': '수식언',\n",
       " 'MA': '부사',\n",
       " 'MM': '관형사',\n",
       " 'N': '체언',\n",
       " 'NB': '의존명사',\n",
       " 'NC': '보통명사',\n",
       " 'NN': '수사',\n",
       " 'NP': '대명사',\n",
       " 'NQ': '고유명사',\n",
       " 'P': '용언',\n",
       " 'PA': '형용사',\n",
       " 'PV': '동사',\n",
       " 'PX': '보조 용언',\n",
       " 'S': '기호',\n",
       " 'X': '접사',\n",
       " 'XP': '접두사',\n",
       " 'XS': '접미사'}"
      ]
     },
     "execution_count": 29,
     "metadata": {},
     "output_type": "execute_result"
    }
   ],
   "source": [
    "han.tagset"
   ]
  },
  {
   "cell_type": "code",
   "execution_count": 30,
   "metadata": {},
   "outputs": [
    {
     "data": {
      "text/plain": [
       "['원',\n",
       " '달러',\n",
       " '환율',\n",
       " '이',\n",
       " '3',\n",
       " '년',\n",
       " '5',\n",
       " '개월',\n",
       " '만',\n",
       " '에',\n",
       " '최고',\n",
       " '치',\n",
       " '로',\n",
       " '마감',\n",
       " '하',\n",
       " '고',\n",
       " '위안',\n",
       " '화',\n",
       " '환율',\n",
       " '이',\n",
       " '11',\n",
       " '년',\n",
       " '만',\n",
       " '에',\n",
       " '달',\n",
       " '러',\n",
       " '당',\n",
       " '7',\n",
       " '위',\n",
       " '안',\n",
       " '을',\n",
       " '넘',\n",
       " '었',\n",
       " '다',\n",
       " '.',\n",
       " '원',\n",
       " '/',\n",
       " '엔',\n",
       " '재정',\n",
       " '환율',\n",
       " '역시',\n",
       " '100',\n",
       " '엔',\n",
       " '당',\n",
       " '30',\n",
       " '원',\n",
       " '가까이',\n",
       " '뛰',\n",
       " '었',\n",
       " '다',\n",
       " '.']"
      ]
     },
     "execution_count": 30,
     "metadata": {},
     "output_type": "execute_result"
    }
   ],
   "source": [
    "from konlpy.tag import Kkma\n",
    "kkm=Kkma()\n",
    "kkm.morphs(txt)"
   ]
  },
  {
   "cell_type": "code",
   "execution_count": 31,
   "metadata": {},
   "outputs": [
    {
     "data": {
      "text/plain": [
       "['원',\n",
       " '달러',\n",
       " '환율',\n",
       " '3',\n",
       " '3년',\n",
       " '년',\n",
       " '5',\n",
       " '5개월',\n",
       " '개월',\n",
       " '만',\n",
       " '최고',\n",
       " '마감',\n",
       " '위안',\n",
       " '11',\n",
       " '11년',\n",
       " '당',\n",
       " '7',\n",
       " '7위안',\n",
       " '위',\n",
       " '안',\n",
       " '엔',\n",
       " '재정',\n",
       " '재정환율',\n",
       " '100',\n",
       " '100엔당',\n",
       " '엔',\n",
       " '30',\n",
       " '30원']"
      ]
     },
     "execution_count": 31,
     "metadata": {},
     "output_type": "execute_result"
    }
   ],
   "source": [
    "kkm.nouns(txt)"
   ]
  },
  {
   "cell_type": "code",
   "execution_count": 32,
   "metadata": {},
   "outputs": [
    {
     "data": {
      "text/plain": [
       "[('원', 'NNM'),\n",
       " ('달러', 'NNG'),\n",
       " ('환율', 'NNG'),\n",
       " ('이', 'JKS'),\n",
       " ('3', 'NR'),\n",
       " ('년', 'NNM'),\n",
       " ('5', 'NR'),\n",
       " ('개월', 'NNM'),\n",
       " ('만', 'NNB'),\n",
       " ('에', 'JKM'),\n",
       " ('최고', 'NNG'),\n",
       " ('치', 'XSN'),\n",
       " ('로', 'JKM'),\n",
       " ('마감', 'NNG'),\n",
       " ('하', 'XSV'),\n",
       " ('고', 'ECE'),\n",
       " ('위안', 'NNG'),\n",
       " ('화', 'XSN'),\n",
       " ('환율', 'NNG'),\n",
       " ('이', 'JKS'),\n",
       " ('11', 'NR'),\n",
       " ('년', 'NNM'),\n",
       " ('만', 'NNB'),\n",
       " ('에', 'JKM'),\n",
       " ('달', 'VV'),\n",
       " ('러', 'ECD'),\n",
       " ('당', 'NNG'),\n",
       " ('7', 'NR'),\n",
       " ('위', 'NNG'),\n",
       " ('안', 'NNG'),\n",
       " ('을', 'JKO'),\n",
       " ('넘', 'VV'),\n",
       " ('었', 'EPT'),\n",
       " ('다', 'EFN'),\n",
       " ('.', 'SF'),\n",
       " ('원', 'NNM'),\n",
       " ('/', 'SP'),\n",
       " ('엔', 'NNG'),\n",
       " ('재정', 'NNG'),\n",
       " ('환율', 'NNG'),\n",
       " ('역시', 'MAG'),\n",
       " ('100', 'NR'),\n",
       " ('엔', 'NNM'),\n",
       " ('당', 'NNG'),\n",
       " ('30', 'NR'),\n",
       " ('원', 'NNM'),\n",
       " ('가까이', 'MAG'),\n",
       " ('뛰', 'VV'),\n",
       " ('었', 'EPT'),\n",
       " ('다', 'EFN'),\n",
       " ('.', 'SF')]"
      ]
     },
     "execution_count": 32,
     "metadata": {},
     "output_type": "execute_result"
    }
   ],
   "source": [
    "kkm.pos(txt)"
   ]
  },
  {
   "cell_type": "code",
   "execution_count": 33,
   "metadata": {},
   "outputs": [
    {
     "data": {
      "text/plain": [
       "{'EC': '연결 어미',\n",
       " 'ECD': '의존적 연결 어미',\n",
       " 'ECE': '대등 연결 어미',\n",
       " 'ECS': '보조적 연결 어미',\n",
       " 'EF': '종결 어미',\n",
       " 'EFA': '청유형 종결 어미',\n",
       " 'EFI': '감탄형 종결 어미',\n",
       " 'EFN': '평서형 종결 어미',\n",
       " 'EFO': '명령형 종결 어미',\n",
       " 'EFQ': '의문형 종결 어미',\n",
       " 'EFR': '존칭형 종결 어미',\n",
       " 'EP': '선어말 어미',\n",
       " 'EPH': '존칭 선어말 어미',\n",
       " 'EPP': '공손 선어말 어미',\n",
       " 'EPT': '시제 선어말 어미',\n",
       " 'ET': '전성 어미',\n",
       " 'ETD': '관형형 전성 어미',\n",
       " 'ETN': '명사형 전성 어미',\n",
       " 'IC': '감탄사',\n",
       " 'JC': '접속 조사',\n",
       " 'JK': '조사',\n",
       " 'JKC': '보격 조사',\n",
       " 'JKG': '관형격 조사',\n",
       " 'JKI': '호격 조사',\n",
       " 'JKM': '부사격 조사',\n",
       " 'JKO': '목적격 조사',\n",
       " 'JKQ': '인용격 조사',\n",
       " 'JKS': '주격 조사',\n",
       " 'JX': '보조사',\n",
       " 'MA': '부사',\n",
       " 'MAC': '접속 부사',\n",
       " 'MAG': '일반 부사',\n",
       " 'MD': '관형사',\n",
       " 'MDN': '수 관형사',\n",
       " 'MDT': '일반 관형사',\n",
       " 'NN': '명사',\n",
       " 'NNB': '일반 의존 명사',\n",
       " 'NNG': '보통명사',\n",
       " 'NNM': '단위 의존 명사',\n",
       " 'NNP': '고유명사',\n",
       " 'NP': '대명사',\n",
       " 'NR': '수사',\n",
       " 'OH': '한자',\n",
       " 'OL': '외국어',\n",
       " 'ON': '숫자',\n",
       " 'SE': '줄임표',\n",
       " 'SF': '마침표, 물음표, 느낌표',\n",
       " 'SO': '붙임표(물결,숨김,빠짐)',\n",
       " 'SP': '쉼표,가운뎃점,콜론,빗금',\n",
       " 'SS': '따옴표,괄호표,줄표',\n",
       " 'SW': '기타기호 (논리수학기호,화폐기호)',\n",
       " 'UN': '명사추정범주',\n",
       " 'VA': '형용사',\n",
       " 'VC': '지정사',\n",
       " 'VCN': \"부정 지정사, 형용사 '아니다'\",\n",
       " 'VCP': \"긍정 지정사, 서술격 조사 '이다'\",\n",
       " 'VV': '동사',\n",
       " 'VX': '보조 용언',\n",
       " 'VXA': '보조 형용사',\n",
       " 'VXV': '보조 동사',\n",
       " 'XP': '접두사',\n",
       " 'XPN': '체언 접두사',\n",
       " 'XPV': '용언 접두사',\n",
       " 'XR': '어근',\n",
       " 'XSA': '형용사 파생 접미사',\n",
       " 'XSN': '명사파생 접미사',\n",
       " 'XSV': '동사 파생 접미사'}"
      ]
     },
     "execution_count": 33,
     "metadata": {},
     "output_type": "execute_result"
    }
   ],
   "source": [
    "kkm.tagset"
   ]
  },
  {
   "cell_type": "code",
   "execution_count": 34,
   "metadata": {},
   "outputs": [
    {
     "data": {
      "text/plain": [
       "['원',\n",
       " '달러',\n",
       " '환율',\n",
       " '이',\n",
       " '3년',\n",
       " '5',\n",
       " '개월',\n",
       " '만에',\n",
       " '최고',\n",
       " '치',\n",
       " '로',\n",
       " '마감',\n",
       " '하고',\n",
       " '\\n',\n",
       " '위안화',\n",
       " '환율',\n",
       " '이',\n",
       " '11년',\n",
       " '만에',\n",
       " '달러',\n",
       " '당',\n",
       " '7위안',\n",
       " '을',\n",
       " '넘었다',\n",
       " '.',\n",
       " '\\n',\n",
       " '원',\n",
       " '/',\n",
       " '엔',\n",
       " '재정',\n",
       " '환율',\n",
       " '역시',\n",
       " '100엔',\n",
       " '당',\n",
       " '30원',\n",
       " '가까이',\n",
       " '뛰었다',\n",
       " '.',\n",
       " '\\n']"
      ]
     },
     "execution_count": 34,
     "metadata": {},
     "output_type": "execute_result"
    }
   ],
   "source": [
    "from konlpy.tag import Okt\n",
    "okt=Okt()\n",
    "okt.morphs(txt)"
   ]
  },
  {
   "cell_type": "code",
   "execution_count": 35,
   "metadata": {},
   "outputs": [
    {
     "data": {
      "text/plain": [
       "['원',\n",
       " '달러',\n",
       " '환율',\n",
       " '개월',\n",
       " '최고',\n",
       " '치',\n",
       " '마감',\n",
       " '위안화',\n",
       " '환율',\n",
       " '달러',\n",
       " '원',\n",
       " '재정',\n",
       " '환율',\n",
       " '역시',\n",
       " '가까이']"
      ]
     },
     "execution_count": 35,
     "metadata": {},
     "output_type": "execute_result"
    }
   ],
   "source": [
    "okt.nouns(txt)"
   ]
  },
  {
   "cell_type": "code",
   "execution_count": 36,
   "metadata": {},
   "outputs": [
    {
     "data": {
      "text/plain": [
       "[('원', 'Noun'),\n",
       " ('달러', 'Noun'),\n",
       " ('환율', 'Noun'),\n",
       " ('이', 'Josa'),\n",
       " ('3년', 'Number'),\n",
       " ('5', 'Number'),\n",
       " ('개월', 'Noun'),\n",
       " ('만에', 'Josa'),\n",
       " ('최고', 'Noun'),\n",
       " ('치', 'Noun'),\n",
       " ('로', 'Josa'),\n",
       " ('마감', 'Noun'),\n",
       " ('하고', 'Josa'),\n",
       " ('\\n', 'Foreign'),\n",
       " ('위안화', 'Noun'),\n",
       " ('환율', 'Noun'),\n",
       " ('이', 'Josa'),\n",
       " ('11년', 'Number'),\n",
       " ('만에', 'Josa'),\n",
       " ('달러', 'Noun'),\n",
       " ('당', 'Suffix'),\n",
       " ('7위안', 'Number'),\n",
       " ('을', 'Foreign'),\n",
       " ('넘었다', 'Verb'),\n",
       " ('.', 'Punctuation'),\n",
       " ('\\n', 'Foreign'),\n",
       " ('원', 'Noun'),\n",
       " ('/', 'Punctuation'),\n",
       " ('엔', 'Josa'),\n",
       " ('재정', 'Noun'),\n",
       " ('환율', 'Noun'),\n",
       " ('역시', 'Noun'),\n",
       " ('100엔', 'Number'),\n",
       " ('당', 'Foreign'),\n",
       " ('30원', 'Number'),\n",
       " ('가까이', 'Noun'),\n",
       " ('뛰었다', 'Verb'),\n",
       " ('.', 'Punctuation'),\n",
       " ('\\n', 'Foreign')]"
      ]
     },
     "execution_count": 36,
     "metadata": {},
     "output_type": "execute_result"
    }
   ],
   "source": [
    "okt.pos(txt)"
   ]
  },
  {
   "cell_type": "code",
   "execution_count": 37,
   "metadata": {},
   "outputs": [
    {
     "data": {
      "text/plain": [
       "{'Adjective': '형용사',\n",
       " 'Adverb': '부사',\n",
       " 'Alpha': '알파벳',\n",
       " 'Conjunction': '접속사',\n",
       " 'Determiner': '관형사',\n",
       " 'Eomi': '어미',\n",
       " 'Exclamation': '감탄사',\n",
       " 'Foreign': '외국어, 한자 및 기타기호',\n",
       " 'Hashtag': '트위터 해쉬태그',\n",
       " 'Josa': '조사',\n",
       " 'KoreanParticle': '(ex: ㅋㅋ)',\n",
       " 'Noun': '명사',\n",
       " 'Number': '숫자',\n",
       " 'PreEomi': '선어말어미',\n",
       " 'Punctuation': '구두점',\n",
       " 'ScreenName': '트위터 아이디',\n",
       " 'Suffix': '접미사',\n",
       " 'Unknown': '미등록어',\n",
       " 'Verb': '동사'}"
      ]
     },
     "execution_count": 37,
     "metadata": {},
     "output_type": "execute_result"
    }
   ],
   "source": [
    "okt.tagset"
   ]
  },
  {
   "cell_type": "code",
   "execution_count": 38,
   "metadata": {},
   "outputs": [
    {
     "data": {
      "text/plain": [
       "['원 달러',\n",
       " '원 달러 환율',\n",
       " '3년',\n",
       " '3년 5개월',\n",
       " '최고치',\n",
       " '마감',\n",
       " '위안화',\n",
       " '위안화 환율',\n",
       " '11년',\n",
       " '달러당',\n",
       " '달러당 7위안',\n",
       " '재정환율',\n",
       " '재정환율 역시',\n",
       " '재정환율 역시 100엔',\n",
       " '30원',\n",
       " '30원 가까이',\n",
       " '달러',\n",
       " '환율',\n",
       " '개월',\n",
       " '최고',\n",
       " '7위안',\n",
       " '재정',\n",
       " '역시',\n",
       " '100엔',\n",
       " '가까이']"
      ]
     },
     "execution_count": 38,
     "metadata": {},
     "output_type": "execute_result"
    }
   ],
   "source": [
    "okt.phrases(txt)"
   ]
  },
  {
   "cell_type": "code",
   "execution_count": 39,
   "metadata": {},
   "outputs": [
    {
     "data": {
      "image/png": "[encoded data removed]",
      "text/plain": [
       "<Figure size 1440x432 with 1 Axes>"
      ]
     },
     "metadata": {
      "needs_background": "light"
     },
     "output_type": "display_data"
    }
   ],
   "source": [
    "import matplotlib.pyplot as plt\n",
    "from matplotlib import font_manager, rc\n",
    "font_name=font_manager.FontProperties(fname=\"c:/Windows/fonts/malgun.ttf\").get_name()\n",
    "rc('font', family=font_name)\n",
    "from nltk import Text\n",
    "\n",
    "plt.figure(figsize=(20,6))\n",
    "kolaw=Text(okt.nouns(c), name=\"kolaw\")\n",
    "kolaw.plot(30)\n",
    "plt.show()"
   ]
  },
  {
   "cell_type": "code",
   "execution_count": 40,
   "metadata": {},
   "outputs": [
    {
     "data": {
      "image/png": "[encoded data removed]",
      "text/plain": [
       "<Figure size 432x288 with 1 Axes>"
      ]
     },
     "metadata": {
      "needs_background": "light"
     },
     "output_type": "display_data"
    }
   ],
   "source": [
    "from wordcloud import WordCloud\n",
    "font_path='c:/windows/fonts/malgun.ttf'\n",
    "wc=WordCloud(width=1000, height=600, background_color=\"white\",font_path=font_path)\n",
    "plt.imshow(wc.generate_from_frequencies(kolaw.vocab()))\n",
    "plt.axis(\"off\")\n",
    "plt.show()"
   ]
  },
  {
   "cell_type": "code",
   "execution_count": 41,
   "metadata": {},
   "outputs": [
    {
     "name": "stderr",
     "output_type": "stream",
     "text": [
      "[nltk_data] Downloading package averaged_perceptron_tagger to\n",
      "[nltk_data]     C:\\Users\\qps98\\AppData\\Roaming\\nltk_data...\n",
      "[nltk_data]   Unzipping taggers\\averaged_perceptron_tagger.zip.\n"
     ]
    },
    {
     "name": "stdout",
     "output_type": "stream",
     "text": [
      "[('I', 'PRP'), ('love', 'VBP'), ('you.', 'RB')]\n"
     ]
    }
   ],
   "source": [
    "import nltk\n",
    "nltk.download(\"averaged_perceptron_tagger\")\n",
    "\n",
    "from nltk import pos_tag\n",
    "a=\"I love you.\"\n",
    "tags=pos_tag(a.split())\n",
    "print(tags)"
   ]
  },
  {
   "cell_type": "code",
   "execution_count": 42,
   "metadata": {},
   "outputs": [
    {
     "data": {
      "image/png": "[encoded data removed]",
      "text/plain": [
       "<Figure size 1440x1152 with 1 Axes>"
      ]
     },
     "metadata": {
      "needs_background": "light"
     },
     "output_type": "display_data"
    },
    {
     "data": {
      "text/plain": [
       "<AxesSubplot:xlabel='Samples', ylabel='Counts'>"
      ]
     },
     "execution_count": 42,
     "metadata": {},
     "output_type": "execute_result"
    }
   ],
   "source": [
    "import urllib \n",
    "import re\n",
    "from bs4 import BeautifulSoup\n",
    "plt.rcParams[\"figure.figsize\"]=(20,16)\n",
    "plt.rcParams[\"font.size\"]=15\n",
    "\n",
    "res=urllib.request.urlopen('http://python.org/')\n",
    "html=res.read()\n",
    "tokens=re.split('\\W+',html.decode('utf-8'))\n",
    "\n",
    "clean=BeautifulSoup(html,'html.parser').get_text()\n",
    "tokens=[token for token in clean.split()]\n",
    "stop=set(stopwords.words('english'))\n",
    "clean_tokens=[token for token in tokens if len(token.lower())>1 and (token.lower() not in stop)]\n",
    "tagged=nltk.pos_tag(clean_tokens)\n",
    "allnoun=[word for word,pos in tagged if pos in ['NN','NNP']]\n",
    "freq_result=nltk.FreqDist(allnoun)\n",
    "freq_result.plot(50, cumulative=False)"
   ]
  },
  {
   "cell_type": "code",
   "execution_count": null,
   "metadata": {},
   "outputs": [],
   "source": []
  }
 ],
 "metadata": {
  "interpreter": {
   "hash": "cef9e06bb236b2a8629b07e87a04b187b952a0f661eff5533360a155783f0c33"
  },
  "kernelspec": {
   "display_name": "Python 3.8.8 64-bit ('base': conda)",
   "language": "python",
   "name": "python3"
  },
  "language_info": {
   "codemirror_mode": {
    "name": "ipython",
    "version": 3
   },
   "file_extension": ".py",
   "mimetype": "text/x-python",
   "name": "python",
   "nbconvert_exporter": "python",
   "pygments_lexer": "ipython3",
   "version": "3.8.8"
  },
  "orig_nbformat": 4
 },
 "nbformat": 4,
 "nbformat_minor": 2
}
