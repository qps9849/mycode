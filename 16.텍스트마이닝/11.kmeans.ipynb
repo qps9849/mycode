{
 "cells": [
  {
   "cell_type": "code",
   "execution_count": 5,
   "metadata": {},
   "outputs": [
    {
     "data": {
      "text/html": [
       "<div>\n",
       "<style scoped>\n",
       "    .dataframe tbody tr th:only-of-type {\n",
       "        vertical-align: middle;\n",
       "    }\n",
       "\n",
       "    .dataframe tbody tr th {\n",
       "        vertical-align: top;\n",
       "    }\n",
       "\n",
       "    .dataframe thead th {\n",
       "        text-align: right;\n",
       "    }\n",
       "</style>\n",
       "<table border=\"1\" class=\"dataframe\">\n",
       "  <thead>\n",
       "    <tr style=\"text-align: right;\">\n",
       "      <th></th>\n",
       "      <th>검색어</th>\n",
       "      <th>기사내용</th>\n",
       "    </tr>\n",
       "  </thead>\n",
       "  <tbody>\n",
       "    <tr>\n",
       "      <th>0</th>\n",
       "      <td>유한양행</td>\n",
       "      <td>유한양행은 얀센 바이오테크(Janssen Biotech Inc)와 EGFR표적 항암...</td>\n",
       "    </tr>\n",
       "    <tr>\n",
       "      <th>1</th>\n",
       "      <td>유한양행</td>\n",
       "      <td>유한양행이 1조4000억원 규모의 기술이전 계약 체결 소식에 가격제한폭까지 치솟았다...</td>\n",
       "    </tr>\n",
       "    <tr>\n",
       "      <th>2</th>\n",
       "      <td>유한양행</td>\n",
       "      <td>유한양행이 다국적 제약사 얀센에 기술수출했다는 소식에 주가가 5일 장 초반 상한가를...</td>\n",
       "    </tr>\n",
       "    <tr>\n",
       "      <th>3</th>\n",
       "      <td>유한양행</td>\n",
       "      <td>유한양행은 얀센 바이오테크((Janssen Biotech, Inc.)와 EGFR(상...</td>\n",
       "    </tr>\n",
       "    <tr>\n",
       "      <th>4</th>\n",
       "      <td>유한양행</td>\n",
       "      <td>유한양행이 1조4000억원 규모 기술 수출 소식에 가격제한폭까지 치솟았다. 유한양행...</td>\n",
       "    </tr>\n",
       "    <tr>\n",
       "      <th>5</th>\n",
       "      <td>라돈</td>\n",
       "      <td>최근 침대 매트리스에 이어 온수매트에서도 라돈이 검출됐다는 소식이 알려지면서, 가정...</td>\n",
       "    </tr>\n",
       "    <tr>\n",
       "      <th>6</th>\n",
       "      <td>라돈</td>\n",
       "      <td>침대, 생리대, 마스크 등에서 라돈이 검출되면서, 발암 물질 ‘라돈’에 대한 관심...</td>\n",
       "    </tr>\n",
       "    <tr>\n",
       "      <th>7</th>\n",
       "      <td>라돈</td>\n",
       "      <td>하이젠 온수매트가 '라돈 온수매트'로 언급되고 있다.\\n\\n최근 한 온라인커뮤니티에...</td>\n",
       "    </tr>\n",
       "    <tr>\n",
       "      <th>8</th>\n",
       "      <td>라돈</td>\n",
       "      <td>겨울 난방 제품인 온수매트에서 라돈이 검출된 가운데 해당 업체가 별 문제가 되지 않...</td>\n",
       "    </tr>\n",
       "    <tr>\n",
       "      <th>9</th>\n",
       "      <td>라돈</td>\n",
       "      <td>매트리스, 생리대에 이어 온수 매트에서도 라돈이 검출돼 이슈로 떠올랐다.\\n\\n5일...</td>\n",
       "    </tr>\n",
       "    <tr>\n",
       "      <th>10</th>\n",
       "      <td>복면가왕 왕밤빵</td>\n",
       "      <td>복면가왕’ 88대 가왕 자리는 2연승의 왕밤빵이 차지했다.\\n\\n4일 오후 방송된 ...</td>\n",
       "    </tr>\n",
       "    <tr>\n",
       "      <th>11</th>\n",
       "      <td>복면가왕 왕밤빵</td>\n",
       "      <td>복면가왕'에 출연해 왕밤빵에 패하면서 얼굴을 공개한 '축음기' 천단비에 관심이 쏠리...</td>\n",
       "    </tr>\n",
       "    <tr>\n",
       "      <th>12</th>\n",
       "      <td>복면가왕 왕밤빵</td>\n",
       "      <td>지난 4일 방송된 MBC ‘복면가왕’에서는 왕밤빵에 맞서 축음기, 조커, 북극곰 버...</td>\n",
       "    </tr>\n",
       "    <tr>\n",
       "      <th>13</th>\n",
       "      <td>복면가왕 왕밤빵</td>\n",
       "      <td>복면가왕' 왕밤빵의 정체가 더욱더 오리무중에 빠졌다. \\n\\n4일 방송된 MBC 예...</td>\n",
       "    </tr>\n",
       "    <tr>\n",
       "      <th>14</th>\n",
       "      <td>복면가왕 왕밤빵</td>\n",
       "      <td>복면가왕' 왕밤빵이 첫 방어전에 성공하며 2연승을 차지했다.\\n지난 4일 방송된 M...</td>\n",
       "    </tr>\n",
       "  </tbody>\n",
       "</table>\n",
       "</div>"
      ],
      "text/plain": [
       "         검색어                                               기사내용\n",
       "0       유한양행  유한양행은 얀센 바이오테크(Janssen Biotech Inc)와 EGFR표적 항암...\n",
       "1       유한양행  유한양행이 1조4000억원 규모의 기술이전 계약 체결 소식에 가격제한폭까지 치솟았다...\n",
       "2       유한양행  유한양행이 다국적 제약사 얀센에 기술수출했다는 소식에 주가가 5일 장 초반 상한가를...\n",
       "3       유한양행  유한양행은 얀센 바이오테크((Janssen Biotech, Inc.)와 EGFR(상...\n",
       "4       유한양행  유한양행이 1조4000억원 규모 기술 수출 소식에 가격제한폭까지 치솟았다. 유한양행...\n",
       "5         라돈  최근 침대 매트리스에 이어 온수매트에서도 라돈이 검출됐다는 소식이 알려지면서, 가정...\n",
       "6         라돈   침대, 생리대, 마스크 등에서 라돈이 검출되면서, 발암 물질 ‘라돈’에 대한 관심...\n",
       "7         라돈  하이젠 온수매트가 '라돈 온수매트'로 언급되고 있다.\\n\\n최근 한 온라인커뮤니티에...\n",
       "8         라돈  겨울 난방 제품인 온수매트에서 라돈이 검출된 가운데 해당 업체가 별 문제가 되지 않...\n",
       "9         라돈  매트리스, 생리대에 이어 온수 매트에서도 라돈이 검출돼 이슈로 떠올랐다.\\n\\n5일...\n",
       "10  복면가왕 왕밤빵  복면가왕’ 88대 가왕 자리는 2연승의 왕밤빵이 차지했다.\\n\\n4일 오후 방송된 ...\n",
       "11  복면가왕 왕밤빵  복면가왕'에 출연해 왕밤빵에 패하면서 얼굴을 공개한 '축음기' 천단비에 관심이 쏠리...\n",
       "12  복면가왕 왕밤빵  지난 4일 방송된 MBC ‘복면가왕’에서는 왕밤빵에 맞서 축음기, 조커, 북극곰 버...\n",
       "13  복면가왕 왕밤빵  복면가왕' 왕밤빵의 정체가 더욱더 오리무중에 빠졌다. \\n\\n4일 방송된 MBC 예...\n",
       "14  복면가왕 왕밤빵  복면가왕' 왕밤빵이 첫 방어전에 성공하며 2연승을 차지했다.\\n지난 4일 방송된 M..."
      ]
     },
     "execution_count": 5,
     "metadata": {},
     "output_type": "execute_result"
    }
   ],
   "source": [
    "from konlpy.tag import Hannanum\n",
    "import pandas as pd\n",
    "han = Hannanum()\n",
    "\n",
    "df=pd.read_csv('c:/data/text/군집분석데이터.csv',engine=\"python\",encoding=\"ms949\")\n",
    "df"
   ]
  },
  {
   "cell_type": "code",
   "execution_count": 6,
   "metadata": {},
   "outputs": [
    {
     "name": "stdout",
     "output_type": "stream",
     "text": [
      "['유한양행 얀센 바이오테크(Janssen 표적 항암 치료제 기술이전 계약 체결 5일 공시 기술수출금액 12억5500만달러(한화 약 1조3416억원 계약금 5000만달러 개발 허가 매출 단계별 마일스톤 12억500만달러 수령 예정 경상기술료 순매출액 책정 유한양행 관계자 기술이전 계약 수익 식 임상시험 허가 등 성공여부 수 미실현 가능성']\n"
     ]
    }
   ],
   "source": [
    "docs=[]\n",
    "for i in df['기사내용']:\n",
    "    docs.append(han.nouns(i))\n",
    "for i in range(len(docs)):\n",
    "    docs[i]=' '.join(docs[i])\n",
    "print(docs[:1])"
   ]
  },
  {
   "cell_type": "code",
   "execution_count": 7,
   "metadata": {},
   "outputs": [
    {
     "name": "stdout",
     "output_type": "stream",
     "text": [
      "   10대  10배  10분  12억500  12억500만달러  12억5500  12억5500만달러  12억5천500  15명  16  \\\n",
      "0    0    0    0       0          1        0           1         0    0   0   \n",
      "1    0    0    0       1          0        0           1         0    0   0   \n",
      "2    0    0    0       1          0        1           0         0    0   0   \n",
      "3    0    0    0       1          0        0           0         1    0   0   \n",
      "4    0    0    0       0          0        0           1         0    0   0   \n",
      "\n",
      "   ...  협조  호소력  홈페이지  확대  확인  확충  환경부  활동  후보물질  흡연  \n",
      "0  ...   0    0     0   0   0   0    0   0     0   0  \n",
      "1  ...   0    0     0   0   0   0    0   0     0   0  \n",
      "2  ...   0    0     0   0   0   0    0   0     0   0  \n",
      "3  ...   0    0     0   0   0   0    0   0     0   0  \n",
      "4  ...   0    0     0   0   0   0    0   0     1   0  \n",
      "\n",
      "[5 rows x 581 columns]\n"
     ]
    }
   ],
   "source": [
    "from sklearn.feature_extraction.text import CountVectorizer\n",
    "vec = CountVectorizer()\n",
    "X = vec.fit_transform(docs)\n",
    "df2 = pd.DataFrame(X.toarray(), columns=vec.get_feature_names())\n",
    "print(df2.head())"
   ]
  },
  {
   "cell_type": "code",
   "execution_count": 8,
   "metadata": {},
   "outputs": [
    {
     "name": "stdout",
     "output_type": "stream",
     "text": [
      "[1 1 1 1 1 1 0 0 0 0 2 2 2 2 2]\n"
     ]
    }
   ],
   "source": [
    "from sklearn.cluster import KMeans\n",
    "\n",
    "kmeans = KMeans(n_clusters=3,random_state=10).fit(df2)\n",
    "print(kmeans.labels_)"
   ]
  },
  {
   "cell_type": "code",
   "execution_count": 11,
   "metadata": {},
   "outputs": [
    {
     "name": "stdout",
     "output_type": "stream",
     "text": [
      "          component 1  component 2\n",
      "검색어                               \n",
      "유한양행        -2.245408    -4.167447\n",
      "유한양행        -3.613940    -9.898629\n",
      "유한양행        -2.932638    -7.159346\n",
      "유한양행        -2.142776    -3.757097\n",
      "유한양행        -3.397887    -8.904249\n",
      "라돈          -3.456162     0.931168\n",
      "라돈          -4.172638     2.527021\n",
      "라돈          -6.418891     7.240856\n",
      "라돈          -7.928541    10.011257\n",
      "라돈          -7.161775     8.881843\n",
      "복면가왕 왕밤빵    20.296606     4.548939\n",
      "복면가왕 왕밤빵     4.186122    -0.501075\n",
      "복면가왕 왕밤빵     9.931536     1.068590\n",
      "복면가왕 왕밤빵     6.580160    -0.003793\n",
      "복면가왕 왕밤빵     2.476233    -0.818038\n"
     ]
    },
    {
     "data": {
      "text/plain": [
       "<matplotlib.legend.Legend at 0x254688e04c0>"
      ]
     },
     "execution_count": 11,
     "metadata": {},
     "output_type": "execute_result"
    },
    {
     "data": {
      "image/png": "[encoded data removed]",
      "text/plain": [
       "<Figure size 432x288 with 1 Axes>"
      ]
     },
     "metadata": {
      "needs_background": "light"
     },
     "output_type": "display_data"
    }
   ],
   "source": [
    "from sklearn.decomposition import PCA\n",
    "import matplotlib.pyplot as plt\n",
    "pca=PCA(n_components=2,random_state=10)\n",
    "components=pca.fit_transform(df2)\n",
    "df3=pd.DataFrame(data=components,columns=['component 1','component 2'])\n",
    "df3.index=df['검색어']\n",
    "print(df3)\n",
    "kmeans.labels_==0\n",
    "plt.scatter(df3.iloc[kmeans.labels_ == 0, 0],\n",
    "df3.iloc[kmeans.labels_ == 0, 1], s = 10, c ='red', label = 'cluster1')\n",
    "plt.scatter(df3.iloc[kmeans.labels_ == 1, 0],\n",
    "df3.iloc[kmeans.labels_ == 1, 1], s = 10, c ='blue', label = 'cluster2')\n",
    "plt.scatter(df3.iloc[kmeans.labels_ == 2, 0],\n",
    "df3.iloc[kmeans.labels_ == 2, 1], s = 10, c ='green', label = 'cluster3')\n",
    "plt.legend()"
   ]
  },
  {
   "cell_type": "code",
   "execution_count": null,
   "metadata": {},
   "outputs": [],
   "source": []
  }
 ],
 "metadata": {
  "interpreter": {
   "hash": "cef9e06bb236b2a8629b07e87a04b187b952a0f661eff5533360a155783f0c33"
  },
  "kernelspec": {
   "display_name": "Python 3.8.8 64-bit ('base': conda)",
   "language": "python",
   "name": "python3"
  },
  "language_info": {
   "codemirror_mode": {
    "name": "ipython",
    "version": 3
   },
   "file_extension": ".py",
   "mimetype": "text/x-python",
   "name": "python",
   "nbconvert_exporter": "python",
   "pygments_lexer": "ipython3",
   "version": "3.8.8"
  },
  "orig_nbformat": 4
 },
 "nbformat": 4,
 "nbformat_minor": 2
}
