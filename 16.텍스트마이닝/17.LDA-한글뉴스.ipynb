{
 "cells": [
  {
   "cell_type": "code",
   "execution_count": 3,
   "metadata": {},
   "outputs": [],
   "source": [
    "import tomotopy as tp\n",
    "import re \n",
    "from konlpy.tag import Hannanum\n",
    "han=Hannanum()\n",
    "\n",
    "model=tp.LDAModel(k=10,min_cf=2)\n",
    "for i ,line in enumerate(open('c:/data/text/news1.txt',encoding='utf-8')):\n",
    "    sentence=re.sub('[^가-힣ㄱ-ㅎㅏ-ㅣa-zA-Z]',' ',line)\n",
    "    a=sentence.strip()\n",
    "    n=han.nouns(a)\n",
    "    n2=[x for x in n if len(x)>1]\n",
    "    if len(n2)>0:\n",
    "        model.add_doc(n2)"
   ]
  },
  {
   "cell_type": "code",
   "execution_count": 4,
   "metadata": {},
   "outputs": [
    {
     "name": "stdout",
     "output_type": "stream",
     "text": [
      "Total docs: 27\n",
      "Total words: 367\n",
      "Vocab size: 89\n",
      "Topic #0\t버전, 스팀, 서비스, 목표, 미르, 블록체, 만큼, 한편, 반응, 기존\n",
      "Topic #1\t글로벌, 시장, 플랫폼, 거래소, 확보, 위메이드, 인력, 레티아드, 아레, 버전\n",
      "Topic #2\t유저들, 요소, 보완, 형태, 섬멸전, 설명, 고인물, 클래스, 플레이스, 기존\n",
      "Topic #3\t관련, 방식, 탱크, 콘텐츠, 랜딩페이지, 계약, 공개, 일러스트, 예정, 캐릭터\n",
      "Topic #4\t개발사, 개발중, 황인수, 대표, 지난해, 상황, 설립, 모습, 변수, 마케팅\n",
      "Topic #5\t포트리스, 게임, 레티아드, 아레, 개발, 플레이, 고민, 경쟁, 구축, 진행\n",
      "Topic #6\t위주, 자금, 생각, 설계, 게임들, 집중, 부활, 양사, 스팀, 아레나\n",
      "Topic #7\t플레이스, 등장, 지난달, 짝퉁, 소유자, 문제점, 버전, 기존, 스팀, 아레나\n",
      "Topic #8\t기존, 계획, 카드, 유저, 내년, 아레, 프로젝트, 기반, 개선, 이후\n",
      "Topic #9\t아레나, 김충연, 게임, 강조, 이후, 보완, 경험, 유사성, 전략적, 코인까지\n"
     ]
    }
   ],
   "source": [
    "model.train(0)\n",
    "print('Total docs:', len(model.docs))\n",
    "print('Total words:', model.num_words)\n",
    "print('Vocab size:', model.num_vocabs)\n",
    "\n",
    "model.train(200)\n",
    "for i in range(model.k):\n",
    "    res=model.get_topic_words(i,top_n=10)\n",
    "    print('Topic #{0}'.format(i),end='\\t')\n",
    "    print(', '.join(w for w, p in res))"
   ]
  },
  {
   "cell_type": "code",
   "execution_count": null,
   "metadata": {},
   "outputs": [],
   "source": []
  }
 ],
 "metadata": {
  "interpreter": {
   "hash": "cef9e06bb236b2a8629b07e87a04b187b952a0f661eff5533360a155783f0c33"
  },
  "kernelspec": {
   "display_name": "Python 3.8.8 64-bit ('base': conda)",
   "language": "python",
   "name": "python3"
  },
  "language_info": {
   "codemirror_mode": {
    "name": "ipython",
    "version": 3
   },
   "file_extension": ".py",
   "mimetype": "text/x-python",
   "name": "python",
   "nbconvert_exporter": "python",
   "pygments_lexer": "ipython3",
   "version": "3.8.8"
  },
  "orig_nbformat": 4
 },
 "nbformat": 4,
 "nbformat_minor": 2
}
