{
 "cells": [
  {
   "cell_type": "code",
   "execution_count": 5,
   "metadata": {},
   "outputs": [],
   "source": [
    "import pandas as pd\n",
    "f = open(\"c:/data/text/news1.txt\", 'r', encoding='utf-8')\n",
    "lines = f.readlines()\n",
    "f.close()"
   ]
  },
  {
   "cell_type": "code",
   "execution_count": 6,
   "metadata": {},
   "outputs": [],
   "source": [
    "import re\n",
    "from konlpy.tag import Hannanum\n",
    "han = Hannanum()\n",
    "word_list = []\n",
    "for i in range(len(lines)):\n",
    "    sentence =re.sub('[^가-힣ㄱ-ㅎㅏ-ㅣa-zA-Z]', ' ',lines[i])\n",
    "    a=sentence.strip()\n",
    "    n=han.nouns(a)\n",
    "    n2=[x for x in n if len(x)>1]\n",
    "    if len(n2)>0:\n",
    "        word_list.append(n2)"
   ]
  },
  {
   "cell_type": "code",
   "execution_count": 7,
   "metadata": {},
   "outputs": [
    {
     "data": {
      "text/plain": [
       "['불가능 토큰 게임 가상 공간 카드 아이템 거래 카드 게임 경쟁 요소 작용 때문 유저 모객 기업 매출 기존 게임 원활한 운영 가능 여름 계획 다양 업체들 미팅 프로젝트 본격화',\n",
       " '황인수 레티아드 대표 개발중 포트리스 아레 지난해 설립 개발사 레티아드 준비중 포트리스 아레 포트리스 계약 게임 레티아드 지난해 스팀 공개 포트리스 관련 최초 게임 개발',\n",
       " '포트리스 탱크 카드',\n",
       " '년대 대표적 대전 게임 자리매김 포트리스 기술 적용 모습 지난해 설립 신생 개발사 레티아드 최우선 과제 포트리스 게임 개발',\n",
       " '게임 플레이 비즈니스 모델 게임계 트렌드 게임사들 관련 시장 시장 개척 위메이드 미르 글로벌 버전 성과 글로벌 시장 진출 수요층 확보 마리 토끼 기회 평가 블록체 플랫폼 구축 시간 자금 소요 만큼 위메이드 위믹스 활성화 플랫폼 게임 론칭하 사례 증가 모습',\n",
       " '포트리스 아레 일러스트 레티아드',\n",
       " '레티아드 시장 안착한 블록체 플랫폼 게임 파트너사 확보 자체 거래소 구축 계획 계약 콘텐츠 확보 한편 랜딩페이지 거래소 밸류체인 예정',\n",
       " '김충연 레티아드 핫하 접근 유저들 우리 게임 찾아줄까 고민 충족 조건 게임 생각',\n",
       " '포트리스 기반 개발중 포트리스 아레나 게임 기본 충실 구조 설계 게임 주요 캐릭터 탱크 아이템화해 수집 방식 레티아드 이달 내년 랜딩페이지 관련 카드 판매 계획 이후 내년 테스트 진행 기존 구매 카드 활용 목표',\n",
       " '포트리스 아레나 기존 포트리스 게임들 차별성 레티아드 포트리스 게임 정체성 계승 멀티플레 위주 게임 방식 변주 형태 게임 설계 온라인 베이스 기존 게임 싱글플레이 위주 콘텐츠 경험 이후 최종적 아레 유저간 대결 집중 방식',\n",
       " '포트리스 아레 레티아드',\n",
       " '김충연 기존 포트리스 게임들 다대다 섬멸전 위주 중심 포트리스 아레나 게임 특성 카드 구매 부대 전략적 운용 플레이 차별화 생각 설명',\n",
       " '기존 포트리스 게임 경우 섬멸전 형태 플레이 타임 충성 유저들 이탈률 실력 등급 경쟁 요소 부각 결정적 유저 체류율 앤드 콘텐츠 부족 포트리스 아레나는 단점들 보완 유저들 자금 확보 게임 계획',\n",
       " '레티아드 스팀 버전 론칭한 포트리스 개발 노하우 포트리스 아레나 콘텐츠 개선 강조 고인물 실력자들 신규 유저 진입장벽 포트리스 패착 답습 의지',\n",
       " '김충연 포트리스 부터 고인물 게임 점유 단점 보완 탱커 힐러 클래스 개념 도입 포트리스 아레나 클래스 비중 구성 전략적 초점 설명',\n",
       " '변수 짝퉁 강력 응징',\n",
       " '포트리스 버전 부활 레티아드 지난해 포트리스 스팀 등장 양사 인연 양사 포트리스 버전 부활 글로벌 시장 공략 목표 아래 스팀 버전 출시 년여 게임 차례',\n",
       " '황인수 대표 포트리스 별도 마케팅 스팀 얼리액세스 반응 이용자 평가면 만족 반응 여기 확장 방법 고민 소재 방향 선회 상황 스팀 버전 서비스 미르 제외 버전 스팀 클라우드 모바 서비스 개발중',\n",
       " '포트리스 아레 일러스트 레티아드',\n",
       " '레티아드 포트리스 버전 글로벌 목표 스팀 론칭 진행 이후 시너지 효과 도모 게임 개발 집중 상황 포트리스 개발진 포트리스 아레 개발 투입 한편 인력 채용 개발 속도 계획',\n",
       " '환경 변수 등장 짝퉁 게임 지난달 필리핀계 게임사가 플레이스 게임 공개 포트리스 등장 탱크 캐릭터 게임 방식 유사성 소유자 허락 관련 저작물 변형 누구 포트리스 게임 게임성 문제점 부상 플레이스 개발사 지난달 글로벌 거래소 게이트아이 플레이스 코인까지 상장했다 일부 국내 유튜버 블로거 플레이스 포트리스 게임 소개 실정',\n",
       " '포트리스 표절한 추정 플레이스 플레이스 홈페이지',\n",
       " '김충연 개발자 입장 장르 유사성 인정 플레이스 탱크 방식 속성 슈팅 게임 퀄리티 토로',\n",
       " '소유자 플레이스 개발사 상대 소송 준비 황인수 대표 플레이스 개발사 코인까지 판매 상황 부분 이야기 정식 계약 개발중 관련 게임 포트리스 아레나 유일 강조',\n",
       " '레티아드 내년 서비스 본격적 포트리스 기반 게임 계획 지포스 나우 버전 포트리스 게임 프로젝트 만큼 기존 단점 보완 포트리스 아레 계획',\n",
       " '황인수 대표 랜딩페이지 오픈 해외 커뮤니티 마케팅 시작 예정 관련 인력 충원 포트리스 아레 개발 원활 만반 준비',\n",
       " '김충연 기존 포트리스 게임 당시 개선 부족한 보완 주력 슈팅 게임 경험 문제점 보완 결과물 포트리스 아레나 강조']"
      ]
     },
     "execution_count": 7,
     "metadata": {},
     "output_type": "execute_result"
    }
   ],
   "source": [
    "detokenized_doc = []\n",
    "for i in range(len(word_list)): \n",
    "    t = ' '.join(word_list[i])\n",
    "    detokenized_doc.append(t)\n",
    "detokenized_doc"
   ]
  },
  {
   "cell_type": "code",
   "execution_count": 8,
   "metadata": {},
   "outputs": [
    {
     "data": {
      "text/plain": [
       "(27, 282)"
      ]
     },
     "execution_count": 8,
     "metadata": {},
     "output_type": "execute_result"
    }
   ],
   "source": [
    "from sklearn.feature_extraction.text import TfidfVectorizer\n",
    "vectorizer = TfidfVectorizer()\n",
    "X = vectorizer.fit_transform(detokenized_doc)\n",
    "X.shape"
   ]
  },
  {
   "cell_type": "code",
   "execution_count": 9,
   "metadata": {},
   "outputs": [
    {
     "data": {
      "text/plain": [
       "17"
      ]
     },
     "execution_count": 9,
     "metadata": {},
     "output_type": "execute_result"
    }
   ],
   "source": [
    "from sklearn.decomposition import TruncatedSVD\n",
    "\n",
    "svd_model = TruncatedSVD(n_components=17)\n",
    "svd_model.fit(X)\n",
    "len(svd_model.components_)"
   ]
  },
  {
   "cell_type": "code",
   "execution_count": 10,
   "metadata": {},
   "outputs": [
    {
     "data": {
      "text/plain": [
       "(17, 282)"
      ]
     },
     "execution_count": 10,
     "metadata": {},
     "output_type": "execute_result"
    }
   ],
   "source": [
    "import numpy as np\n",
    "np.shape(svd_model.components_)"
   ]
  },
  {
   "cell_type": "code",
   "execution_count": 11,
   "metadata": {},
   "outputs": [
    {
     "data": {
      "text/plain": [
       "array([[ 0.00793089,  0.00793089,  0.00171779, ...,  0.06459567,\n",
       "         0.02489985,  0.01237375],\n",
       "       [-0.02755523, -0.02755523, -0.0112631 , ..., -0.02205774,\n",
       "        -0.00551819, -0.02296302],\n",
       "       [-0.03806893, -0.03806893,  0.03133919, ...,  0.14747158,\n",
       "         0.0188084 , -0.03117724],\n",
       "       ...,\n",
       "       [-0.01255373, -0.01255373, -0.02416993, ..., -0.09873584,\n",
       "         0.12612482,  0.08326631],\n",
       "       [-0.08461011, -0.08461011, -0.00438665, ..., -0.0458638 ,\n",
       "        -0.0208366 , -0.03365794],\n",
       "       [-0.10988282, -0.10988282,  0.03073533, ...,  0.0200414 ,\n",
       "        -0.03496185,  0.00398282]])"
      ]
     },
     "execution_count": 11,
     "metadata": {},
     "output_type": "execute_result"
    }
   ],
   "source": [
    "svd_model.components_"
   ]
  },
  {
   "cell_type": "code",
   "execution_count": 12,
   "metadata": {},
   "outputs": [
    {
     "name": "stdout",
     "output_type": "stream",
     "text": [
      "Topic 1: [('포트리스', 0.49977), ('아레', 0.43054), ('레티아드', 0.40575), ('일러스트', 0.2723), ('게임', 0.23878)]\n",
      "Topic 2: [('일러스트', 0.41229), ('아레', 0.39806), ('레티아드', 0.26731), ('준비중', 0.00895), ('최초', 0.00895)]\n",
      "Topic 3: [('플레이스', 0.4309), ('개발사', 0.20047), ('황인수', 0.14747), ('대표', 0.14747), ('스팀', 0.13733)]\n",
      "Topic 4: [('플레이스', 0.39198), ('일러스트', 0.21678), ('탱크', 0.20128), ('카드', 0.13823), ('홈페이지', 0.12088)]\n",
      "Topic 5: [('카드', 0.3846), ('탱크', 0.28421), ('스팀', 0.15188), ('개발', 0.11746), ('포트리스', 0.10898)]\n",
      "Topic 6: [('카드', 0.29944), ('탱크', 0.22102), ('확보', 0.19424), ('시장', 0.18617), ('거래소', 0.17351)]\n",
      "Topic 7: [('개발사', 0.17611), ('개발', 0.16702), ('준비', 0.1633), ('황인수', 0.14969), ('대표', 0.14969)]\n",
      "Topic 8: [('강력', 0.21363), ('응징', 0.21363), ('변수', 0.20547), ('짝퉁', 0.20547), ('지난해', 0.19977)]\n",
      "Topic 9: [('강력', 0.41029), ('응징', 0.41029), ('짝퉁', 0.37595), ('변수', 0.37595), ('클래스', 0.08781)]\n",
      "Topic 10: [('지난해', 0.15152), ('모습', 0.14282), ('설립', 0.12903), ('신생', 0.12459), ('기술', 0.12459)]\n",
      "Topic 11: [('생각', 0.20467), ('김충연', 0.19858), ('고민', 0.14933), ('탱크', 0.13414), ('조건', 0.13179)]\n",
      "Topic 12: [('방식', 0.2416), ('슈팅', 0.15302), ('이후', 0.14928), ('집중', 0.14332), ('경험', 0.13914)]\n",
      "Topic 13: [('탱크', 0.25704), ('슈팅', 0.18375), ('장르', 0.14471), ('속성', 0.14471), ('인정', 0.14471)]\n",
      "Topic 14: [('보완', 0.21309), ('내년', 0.19288), ('단점', 0.18552), ('서비스', 0.17487), ('기반', 0.16224)]\n",
      "Topic 15: [('개발', 0.23484), ('계획', 0.16668), ('클래스', 0.16653), ('추정', 0.15744), ('홈페이지', 0.15744)]\n",
      "Topic 16: [('내년', 0.17427), ('강조', 0.13553), ('찾아줄까', 0.13026), ('핫하', 0.13026), ('조건', 0.13026)]\n",
      "Topic 17: [('탱크', 0.1812), ('유저들', 0.15532), ('체류율', 0.14102), ('앤드', 0.14102), ('충성', 0.14102)]\n"
     ]
    }
   ],
   "source": [
    "terms = vectorizer.get_feature_names()\n",
    "def get_topics(components, feature_names, n=5):\n",
    "    for idx, topic in enumerate(components):\n",
    "        print(\"Topic %d:\" % (idx+1),\n",
    "        [(feature_names[i], topic[i].round(5)) for i in topic.argsort()[:-n - 1:-1]])\n",
    "get_topics(svd_model.components_,terms)"
   ]
  },
  {
   "cell_type": "code",
   "execution_count": null,
   "metadata": {},
   "outputs": [],
   "source": []
  }
 ],
 "metadata": {
  "interpreter": {
   "hash": "cef9e06bb236b2a8629b07e87a04b187b952a0f661eff5533360a155783f0c33"
  },
  "kernelspec": {
   "display_name": "Python 3.8.8 64-bit ('base': conda)",
   "language": "python",
   "name": "python3"
  },
  "language_info": {
   "codemirror_mode": {
    "name": "ipython",
    "version": 3
   },
   "file_extension": ".py",
   "mimetype": "text/x-python",
   "name": "python",
   "nbconvert_exporter": "python",
   "pygments_lexer": "ipython3",
   "version": "3.8.8"
  },
  "orig_nbformat": 4
 },
 "nbformat": 4,
 "nbformat_minor": 2
}
