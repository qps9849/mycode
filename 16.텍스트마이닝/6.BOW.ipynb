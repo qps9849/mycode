{
 "cells": [
  {
   "cell_type": "code",
   "execution_count": 1,
   "metadata": {},
   "outputs": [
    {
     "name": "stdout",
     "output_type": "stream",
     "text": [
      "{'비': 0, '가': 1, '오니': 2, '마음': 3, '이': 4, '차분해지네요': 5, '요즘': 6, '너무': 7, '더웠어요': 8, '기쁘네요': 9}\n",
      "[2, 2, 2, 2, 2, 1, 1, 1, 1, 1]\n"
     ]
    }
   ],
   "source": [
    "from konlpy.tag import Okt\n",
    "import re\n",
    "okt=Okt()\n",
    "token=re.sub(\"[.!#~]\",\"\",'비가 오니 마음이 차분해지네요 요즘 너무 더웠어요 비가 오니 마음이 기쁘네요.')\n",
    "token=okt.morphs(token)\n",
    "word2index={}\n",
    "bow=[]\n",
    "for voca in token:\n",
    "    if voca not in word2index.keys():\n",
    "        word2index[voca]=len(word2index)\n",
    "        bow.insert(len(word2index)-1,1)\n",
    "    else:\n",
    "        index=word2index.get(voca)\n",
    "        bow[index]=bow[index]+1\n",
    "    \n",
    "print(word2index)\n",
    "print(bow)"
   ]
  },
  {
   "cell_type": "code",
   "execution_count": 2,
   "metadata": {},
   "outputs": [
    {
     "name": "stdout",
     "output_type": "stream",
     "text": [
      "{'모처럼': 1, '전국에': 4, '비가': 2, '내리고': 0, '있습니다': 3}\n",
      "[[0 0 1 0 1]]\n"
     ]
    }
   ],
   "source": [
    "from sklearn.feature_extraction.text import CountVectorizer\n",
    "corpus=['모처럼 전국에 비가 내리고 있습니다.']\n",
    "line=['전국에 비가']\n",
    "vector=CountVectorizer()\n",
    "vector.fit(corpus)\n",
    "print(vector.vocabulary_)\n",
    "print(vector.transform(line).toarray())"
   ]
  },
  {
   "cell_type": "code",
   "execution_count": 3,
   "metadata": {},
   "outputs": [
    {
     "name": "stdout",
     "output_type": "stream",
     "text": [
      "[[1 1 1 1 2 1 1 1 1 1 1 1 1 1 2 1 1 1 1 1 1 1 1]]\n",
      "{'모처럼': 7, '전국에': 18, '비가': 11, '내리고': 2, '있습니다': 16, '대부분': 3, '밤까지': 9, '계속되기': 1, '때문에': 4, '종일': 19, '우산이': 15, '필요하겠는데요': 22, '비의': 12, '양도': 13, '많고': 5, '바람도': 8, '강하게': 0, '불기': 10, '작은': 17, '우산': 14, '말고': 6, '챙기는': 21, '좋습니다': 20}\n"
     ]
    }
   ],
   "source": [
    "corpus=['''모처럼 전국에 비가 내리고 있습니다.\n",
    "대부분 밤까지 계속되기 때문에 종일 우산이 필요하겠는데요.\n",
    "비의 양도 많고 바람도 강하게 불기 때문에 작은 우산 말고 큰 우산\n",
    "챙기는 게 더 좋습니다.''']\n",
    "vector=CountVectorizer()\n",
    "print(vector.fit_transform(corpus).toarray())\n",
    "print(vector.vocabulary_)"
   ]
  },
  {
   "cell_type": "code",
   "execution_count": 5,
   "metadata": {},
   "outputs": [
    {
     "data": {
      "text/plain": [
       "['대체 토큰 게임 가상 공간 카드 아이템 거래 수 카드 게임 내 경쟁 요소 작용 때문 유저 객 기업 매출 면 기존 게임 운영 지난 여름 계획 잡고 업체 미팅 프로젝트 본격 황 인수 레티아드 대표 현재 개발 포트리스 아레나 대해 말 지난해 설립 개발 사 레티아드 준비 포트리스 아레나 과 포트리스 계약 게임 통해 레 티아 지난해 스팀 공개 포트리스 관련 최초 게임 개발 포트리스 속 탱크 카드 로 초 대표 팀 대전 게임 김 포트리스 기술 적용 모습 지난해 설립 신생 개발 사 레티아드 최 우선 과제 포트리스 게임 개발 최근 게임 돈 버 플레이 투 비즈니스 모델 게임 트렌드 게임 관련 시장 앞서 시장 개척 위메이드 미르 글로벌 버전 통해 성과 글로벌 시장 진출 과 수요 층 확보 두 마리 토끼 잡 기회 평가 블록 체인 플랫폼 구축 시간 자금 소요 만큼 위메이드 위 믹스 활성화 플랫폼 게임 론칭하 사례 증가 모습 포트리스 아레나 일러스트 사진 레티아드 레 티아 시장 안착 블록 체인 플랫폼 게임 리지 대신 파트너 확보 자체 거래소 구축 계획 과 계약 통해 콘텐츠 확보 한편 랜딩 페이지 거래소 밸류 체인 예정 김충 연 레티아드 핫 접근 때 유저 우리 게임 대해 고민 며 충족 조건 게임 생각 것 말 포트리스 를 기반 개발 포트리스 아레나 게임 기본 구조 설계 게임 내 주요 캐릭터 볼 수 탱크 를 아이템 화해 수집 수 방식 레 티아 달 말 내년 초 랜딩 페이지 관련 카드 판매 계획 이후 내년 쯤 베타 테스트 진행 기존 구매 카드 활용 수 것 목표 포트리스 아레나 기존 포트리스 게임 차별성 레 티아 포트리스 게임 정체 계승 멀티플레이 위주 게임 방식 변주 형태 게임 설계 온라인 전투 베이스 기존 게임 달리 싱글플레이 위주 콘텐츠 경험 이후 최종 아레나 유저 대결 집중 방식 포트리스 아레나 사진 레티아드 김충 연 기존 포트리스 게임 다대 의 섬멸 전 위주 전투 중심 며 포트리스 아레나 게임 특성 카드 구매 통해 나 덱 부대 전략 운용 플레이 차별 줄 생각 설명 실제 기존 포트리스 게임 경우 단판 섬멸 전 형태 플레이 타임 충성 유저 이탈 률 실력 등급 겨 경쟁 요소 기도 결정 유저 체류 율 수 앤드 콘텐츠 포트리스 아레나 단점 보완 유저 자금 확보 수 게임 계획 레 티아 스팀 버전 론칭 포트리스 를 개발 노하우 포트리스 아레나 콘텐츠 대폭 개선 것 강조 인물 실력 자 신규 유저 진입 장벽 포트리스 의 패착 답습 의지 김충 연 포트리스 인물 게임 점유 단점 보완 위해 탱커 나 힐러 클래스 개념 도입 며 포트리스 아레나 클래스 비중 높이 덱 구성 통한 전략 전투 초점 고 설명 변수 짝퉁 강력 응징 것 포트리스 를 은 버전 부활 위해 레티아드 손 지난해 포트리스 스팀 등장 양사 인연 양사 포트리스 버전 부활 글로벌 시장 공략 목표 아래 스팀 버전 출시 약 게임 차례 더 손 황 인수 대표 포트리스 별도 마케팅 스팀 액세스 통해 반응 이용자 평 가면 반응 며 여기 더 확장 방법 고민 소재 방향 선회 상황 스팀 버전 현재 서비스 중이 미르 만 제외 버전 스팀 클라우드 모바일 서비스 개발 말 포트리스 아레나 밸리 맵 일러스트 사진 레티아드 레 티아 포트리스 버전 글로벌 목표 위해 스팀 론칭 진행 이후 더 시너지 효과 도모 위해 게임 개발 집중 상황 포트리스 개발 진 그대로 포트리스 아레나 개발 투입 한편 추가 인력 채용 통해 개발 속도 계획 환경 변수 등장 짝퉁 게임 지난달 필리핀 게임 사가 레이스 워 게임 공개 포트리스 등장 탱크 캐릭터 게임 방식 면 유사성 것 원 소유자 의 허락 관련 저작물 변형 누가 포트리스 게임 볼 수 게임 문제점 부상 레이스 워 개발 지난달 글로벌 거래소 게이트 아이오 레이스 코인 상장 일부 국내 유튜버 및 블로거 레이스 워 를 포트리스 게임 소개 실정 포트리스 를 표절 것 추정 레이스 워 사진 레이스 워 홈페이지 김충 연 개발자 입장 장르 유사성 인정 레이스 워 탱크 방식 속성 등 베 탄도 슈팅 게임 퀄리티 크게 고 토로 현재 소유자 은 레이스 워 개발 상대로 소송 준비 황 인수 대표 레이스 워 개발 사가 코인 판매 상황 과 이 부분 대해 이야기 며 과 정식 계약 개발 관련 게임 포트리스 아레나 고 강조 레 티아 내년 베타 서비스 통해 본격 포트리스 기반 게임 계획 지포스 나우 버전 포트리스 게임 세 프로젝트 만큼 기존 단점 보완 포트리스 아레나 를 계획 황 인수 대표 랜딩 페이지 오픈 해외 커뮤니티 등 통해 마케팅 시작 예정 라며 관련 인력 충 포트리스 아레나 개발 더 수 만반 준비 고 말 김충 연 기존 포트리스 게임 당시 점 개선 점 보완 주력 며 탄도 슈팅 게임 대한 경험 문제점 보완 결과물 포트리스 아레나 것 강조']"
      ]
     },
     "execution_count": 5,
     "metadata": {},
     "output_type": "execute_result"
    }
   ],
   "source": [
    "f=open('c:/data/text/news1.txt',encoding='utf-8')\n",
    "corpus=f.read()\n",
    "txt=okt.nouns(corpus)\n",
    "txt2=[' '.join(txt)]\n",
    "txt2"
   ]
  },
  {
   "cell_type": "code",
   "execution_count": 8,
   "metadata": {},
   "outputs": [
    {
     "data": {
      "image/png": "[encoded data removed]",
      "text/plain": [
       "<Figure size 432x288 with 1 Axes>"
      ]
     },
     "metadata": {
      "needs_background": "light"
     },
     "output_type": "display_data"
    }
   ],
   "source": [
    "import numpy as np\n",
    "import matplotlib.pyplot as plt\n",
    "vect=CountVectorizer().fit(txt2)\n",
    "count=vect.transform(txt2).toarray().sum(axis=0)\n",
    "idx=np.argsort(-count)\n",
    "count=count[idx]\n",
    "feature_name=np.array(vect.get_feature_names())[idx]\n",
    "plt.bar(range(len(count)),count)\n",
    "plt.show()"
   ]
  },
  {
   "cell_type": "code",
   "execution_count": 9,
   "metadata": {},
   "outputs": [
    {
     "name": "stdout",
     "output_type": "stream",
     "text": [
      "[[ 1  1  1  3  1 17  1  2  1  1  3  1 41  1  1  1  2  2  1  3  7  2  1  2\n",
      "   1  1  6  2  1  1  2  1  1  5  1  2  1  1  1  8  1  5  1  3  1  1  1  1\n",
      "   3  1  1  1  1  1  1  1  1  1  5  1  3  1  1  1  3  1  1  3  9  8  2  1\n",
      "   1  1  2  1  2  1  1  1  1  2  3  2  2  1  1  2  1  5  1  1  1  9  1  2\n",
      "   2  1  1  1  5  2  1  1  1  2  1  2  1  1  2  1  4  1  1  3  2  3  1  2\n",
      "   2  2  2  1  1  1  1  2  1  1  1  1  1  2  8  1  1  1  5  1  1  2  1  1\n",
      "   1  1 17  1  2  1  1  1  1  2  1  1  1  2  1  1  2  1  1  1  1  2  3  4\n",
      "   2  7  1  1  1  1  1  1  3  2  2  4  1  1  2  1  1  2  1  1  1  1  1  1\n",
      "   1  2  3  1  1  1  1  1  1  1  1  3  1  1  1  1  2  4  1  1  1  2  2  2\n",
      "   1  1  1  1  1  3  1  1  1  1  1  1  1  1  1  6  2  1  2  4  1  1  1  2\n",
      "   1  2  1  4  1  1  1  1  1  8  1  1  1  7  1  2  1  3  1 42  1  2  3  3\n",
      "   1  2  1  1  3  2  1  1  4  1  1  1  1  1  1]]\n",
      "{'대체': 56, '토큰': 247, '게임': 12, '가상': 1, '공간': 22, '카드': 231, '아이템': 148, '거래': 9, '경쟁': 16, '요소': 160, '작용': 187, '때문': 65, '유저': 169, '기업': 38, '매출': 77, '기존': 39, '운영': 163, '지난': 207, '여름': 156, '계획': 20, '잡고': 188, '업체': 154, '미팅': 85, '프로젝트': 261, '본격': 101, '인수': 179, '레티아드': 69, '대표': 58, '현재': 268, '개발': 5, '포트리스': 259, '아레나': 146, '대해': 60, '지난해': 209, '설립': 120, '준비': 203, '계약': 19, '통해': 249, '티아': 253, '스팀': 134, '공개': 23, '관련': 26, '최초': 225, '탱크': 243, '대전': 55, '기술': 37, '적용': 192, '모습': 81, '신생': 140, '우선': 162, '과제': 25, '최근': 223, '플레이': 263, '비즈니스': 109, '모델': 79, '트렌드': 251, '시장': 138, '앞서': 150, '개척': 8, '위메이드': 165, '미르': 84, '글로벌': 33, '버전': 93, '성과': 123, '진출': 212, '수요': 131, '확보': 272, '마리': 73, '토끼': 245, '기회': 40, '평가': 258, '블록': 107, '체인': 221, '플랫폼': 262, '구축': 30, '시간': 135, '자금': 185, '소요': 126, '만큼': 76, '믹스': 86, '활성화': 275, '론칭하': 71, '사례': 111, '증가': 206, '일러스트': 182, '사진': 112, '안착': 149, '리지': 72, '대신': 54, '파트너': 254, '자체': 186, '거래소': 10, '콘텐츠': 235, '한편': 265, '랜딩': 67, '페이지': 257, '밸류': 91, '예정': 157, '김충': 41, '접근': 196, '우리': 161, '고민': 21, '충족': 230, '조건': 200, '생각': 116, '기반': 35, '기본': 36, '구조': 29, '설계': 119, '주요': 202, '캐릭터': 232, '화해': 271, '수집': 132, '방식': 89, '내년': 43, '판매': 255, '이후': 176, '베타': 95, '테스트': 244, '진행': 213, '구매': 27, '활용': 276, '목표': 82, '차별성': 218, '정체': 198, '계승': 18, '멀티플레이': 78, '위주': 166, '변주': 97, '형태': 269, '온라인': 159, '전투': 194, '베이스': 94, '달리': 50, '싱글플레이': 144, '경험': 17, '최종': 224, '대결': 53, '집중': 214, '다대': 47, '섬멸': 122, '중심': 204, '특성': 252, '부대': 102, '전략': 193, '운용': 164, '차별': 217, '설명': 121, '실제': 143, '경우': 15, '단판': 49, '타임': 240, '충성': 229, '이탈': 175, '실력': 141, '등급': 63, '기도': 34, '결정': 14, '체류': 220, '앤드': 152, '단점': 48, '보완': 100, '론칭': 70, '노하우': 44, '대폭': 57, '개선': 7, '강조': 3, '인물': 178, '신규': 139, '진입': 211, '장벽': 190, '패착': 256, '답습': 51, '의지': 172, '점유': 195, '위해': 167, '탱커': 242, '힐러': 278, '클래스': 239, '개념': 4, '도입': 62, '비중': 108, '높이': 45, '구성': 28, '통한': 248, '초점': 222, '변수': 96, '짝퉁': 215, '강력': 2, '응징': 171, '부활': 105, '등장': 64, '양사': 153, '인연': 180, '공략': 24, '아래': 145, '출시': 228, '차례': 216, '별도': 99, '마케팅': 74, '액세스': 151, '반응': 87, '이용자': 174, '가면': 0, '여기': 155, '확장': 273, '방법': 88, '소재': 128, '방향': 90, '선회': 118, '상황': 115, '서비스': 117, '중이': 205, '제외': 199, '클라우드': 238, '모바일': 80, '밸리': 92, '시너지': 136, '효과': 277, '도모': 61, '그대로': 32, '투입': 250, '추가': 226, '인력': 177, '채용': 219, '속도': 129, '환경': 274, '지난달': 208, '필리핀': 264, '사가': 110, '레이스': 68, '유사성': 168, '소유자': 127, '허락': 267, '저작물': 191, '변형': 98, '누가': 46, '문제점': 83, '부상': 104, '게이트': 11, '아이오': 147, '코인': 234, '상장': 114, '일부': 183, '국내': 31, '유튜버': 170, '블로거': 106, '소개': 124, '실정': 142, '표절': 260, '추정': 227, '홈페이지': 270, '개발자': 6, '입장': 184, '장르': 189, '인정': 181, '속성': 130, '탄도': 241, '슈팅': 133, '퀄리티': 236, '크게': 237, '토로': 246, '상대로': 113, '소송': 125, '부분': 103, '이야기': 173, '정식': 197, '지포스': 210, '나우': 42, '오픈': 158, '해외': 266, '커뮤니티': 233, '시작': 137, '라며': 66, '만반': 75, '당시': 52, '주력': 201, '대한': 59, '결과물': 13}\n"
     ]
    }
   ],
   "source": [
    "vector=CountVectorizer(stop_words=['등'])\n",
    "print(vector.fit_transform(txt2).toarray())\n",
    "print(vector.vocabulary_)"
   ]
  },
  {
   "cell_type": "code",
   "execution_count": null,
   "metadata": {},
   "outputs": [],
   "source": []
  }
 ],
 "metadata": {
  "interpreter": {
   "hash": "cef9e06bb236b2a8629b07e87a04b187b952a0f661eff5533360a155783f0c33"
  },
  "kernelspec": {
   "display_name": "Python 3.8.8 64-bit ('base': conda)",
   "language": "python",
   "name": "python3"
  },
  "language_info": {
   "codemirror_mode": {
    "name": "ipython",
    "version": 3
   },
   "file_extension": ".py",
   "mimetype": "text/x-python",
   "name": "python",
   "nbconvert_exporter": "python",
   "pygments_lexer": "ipython3",
   "version": "3.8.8"
  },
  "orig_nbformat": 4
 },
 "nbformat": 4,
 "nbformat_minor": 2
}
