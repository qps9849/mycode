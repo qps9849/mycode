{
 "cells": [
  {
   "cell_type": "code",
   "execution_count": 1,
   "metadata": {},
   "outputs": [],
   "source": [
    "text=\"\"\"\n",
    "경마장에 있는 말이 뛰고 있다\\n\n",
    "그의 말이 법이다\\n\n",
    "가는 말이 고와야 오는 말이 곱다\\n\n",
    "그런 식으로 하면 말이 안된다\\n\n",
    "새로 태어난 말이 배가 고프다\\n\n",
    "\"\"\""
   ]
  },
  {
   "cell_type": "code",
   "execution_count": 2,
   "metadata": {},
   "outputs": [
    {
     "name": "stdout",
     "output_type": "stream",
     "text": [
      "단어 집합의 크기: 20\n"
     ]
    }
   ],
   "source": [
    "from tensorflow.keras.preprocessing.text import Tokenizer\n",
    "\n",
    "t=Tokenizer()\n",
    "t.fit_on_texts([text])\n",
    "vocab_size=len(t.word_index)+1\n",
    "print('단어 집합의 크기: %d' %vocab_size)"
   ]
  },
  {
   "cell_type": "code",
   "execution_count": 3,
   "metadata": {},
   "outputs": [
    {
     "name": "stdout",
     "output_type": "stream",
     "text": [
      "{'말이': 1, '경마장에': 2, '있는': 3, '뛰고': 4, '있다': 5, '그의': 6, '법이다': 7, '가는': 8, '고와야': 9, '오는': 10, '곱다': 11, '그런': 12, '식으로': 13, '하면': 14, '안된다': 15, '새로': 16, '태어난': 17, '배가': 18, '고프다': 19}\n"
     ]
    }
   ],
   "source": [
    "print(t.word_index)"
   ]
  },
  {
   "cell_type": "code",
   "execution_count": 4,
   "metadata": {},
   "outputs": [
    {
     "name": "stdout",
     "output_type": "stream",
     "text": [
      "학습에 사용할 샘플의 개수: 19\n"
     ]
    }
   ],
   "source": [
    "sequences=list()\n",
    "for line in text.split('\\n'):\n",
    "    encoded=t.texts_to_sequences([line])[0]\n",
    "    for i in range(1, len(encoded)):\n",
    "        sequence=encoded[:i+1]\n",
    "        sequences.append(sequence)\n",
    "\n",
    "print('학습에 사용할 샘플의 개수: %d' % len(sequences))"
   ]
  },
  {
   "cell_type": "code",
   "execution_count": 5,
   "metadata": {},
   "outputs": [
    {
     "name": "stdout",
     "output_type": "stream",
     "text": [
      "[[2, 3], [2, 3, 1], [2, 3, 1, 4], [2, 3, 1, 4, 5], [6, 1], [6, 1, 7], [8, 1], [8, 1, 9], [8, 1, 9, 10], [8, 1, 9, 10, 1], [8, 1, 9, 10, 1, 11], [12, 13], [12, 13, 14], [12, 13, 14, 1], [12, 13, 14, 1, 15], [16, 17], [16, 17, 1], [16, 17, 1, 18], [16, 17, 1, 18, 19]]\n"
     ]
    }
   ],
   "source": [
    "print(sequences)"
   ]
  },
  {
   "cell_type": "code",
   "execution_count": 6,
   "metadata": {},
   "outputs": [
    {
     "name": "stdout",
     "output_type": "stream",
     "text": [
      "샘플의 최대 길이 : 6\n"
     ]
    }
   ],
   "source": [
    "max_len=max(len(l) for l in sequences)\n",
    "print('샘플의 최대 길이 : {}'.format(max_len))"
   ]
  },
  {
   "cell_type": "code",
   "execution_count": 7,
   "metadata": {},
   "outputs": [
    {
     "name": "stdout",
     "output_type": "stream",
     "text": [
      "[[1, 2, 3], [4, 5], [6, 7, 8, 9]]\n",
      "[[0 1 2 3]\n",
      " [0 0 4 5]\n",
      " [6 7 8 9]]\n",
      "[[1 2 3 0]\n",
      " [4 5 0 0]\n",
      " [6 7 8 9]]\n",
      "[[1 2 3 1]\n",
      " [4 5 1 1]\n",
      " [6 7 8 9]]\n",
      "[[1 2 3]\n",
      " [4 5 0]\n",
      " [7 8 9]]\n",
      "[[1 2 3]\n",
      " [4 5 0]\n",
      " [6 7 8]]\n"
     ]
    }
   ],
   "source": [
    "from tensorflow.keras.preprocessing.sequence import pad_sequences\n",
    "a=[[1,2,3],[4,5],[6,7,8,9]]\n",
    "print(a)\n",
    "b=pad_sequences(a)\n",
    "print(b)\n",
    "c=pad_sequences(a,padding='post')\n",
    "print(c)\n",
    "d=pad_sequences(a,padding='post',value=1)\n",
    "print(d)\n",
    "e=pad_sequences(a,padding='post',maxlen=3)\n",
    "print(e)\n",
    "e=pad_sequences(a,padding='post',maxlen=3,truncating='post')\n",
    "print(e)"
   ]
  },
  {
   "cell_type": "code",
   "execution_count": 8,
   "metadata": {},
   "outputs": [],
   "source": [
    "sequences=pad_sequences(sequences,maxlen=max_len,padding='pre')"
   ]
  },
  {
   "cell_type": "code",
   "execution_count": 9,
   "metadata": {},
   "outputs": [
    {
     "name": "stdout",
     "output_type": "stream",
     "text": [
      "[[ 0  0  0  0  2  3]\n",
      " [ 0  0  0  2  3  1]\n",
      " [ 0  0  2  3  1  4]\n",
      " [ 0  2  3  1  4  5]\n",
      " [ 0  0  0  0  6  1]\n",
      " [ 0  0  0  6  1  7]\n",
      " [ 0  0  0  0  8  1]\n",
      " [ 0  0  0  8  1  9]\n",
      " [ 0  0  8  1  9 10]\n",
      " [ 0  8  1  9 10  1]\n",
      " [ 8  1  9 10  1 11]\n",
      " [ 0  0  0  0 12 13]\n",
      " [ 0  0  0 12 13 14]\n",
      " [ 0  0 12 13 14  1]\n",
      " [ 0 12 13 14  1 15]\n",
      " [ 0  0  0  0 16 17]\n",
      " [ 0  0  0 16 17  1]\n",
      " [ 0  0 16 17  1 18]\n",
      " [ 0 16 17  1 18 19]]\n"
     ]
    }
   ],
   "source": [
    "print(sequences)"
   ]
  },
  {
   "cell_type": "code",
   "execution_count": 10,
   "metadata": {},
   "outputs": [],
   "source": [
    "import numpy as np\n",
    "\n",
    "sequences=np.array(sequences)\n",
    "X=sequences[:,:-1]\n",
    "y=sequences[:,-1]"
   ]
  },
  {
   "cell_type": "code",
   "execution_count": 11,
   "metadata": {},
   "outputs": [
    {
     "name": "stdout",
     "output_type": "stream",
     "text": [
      "[[ 0  0  0  0  2]\n",
      " [ 0  0  0  2  3]\n",
      " [ 0  0  2  3  1]\n",
      " [ 0  2  3  1  4]\n",
      " [ 0  0  0  0  6]\n",
      " [ 0  0  0  6  1]\n",
      " [ 0  0  0  0  8]\n",
      " [ 0  0  0  8  1]\n",
      " [ 0  0  8  1  9]\n",
      " [ 0  8  1  9 10]\n",
      " [ 8  1  9 10  1]\n",
      " [ 0  0  0  0 12]\n",
      " [ 0  0  0 12 13]\n",
      " [ 0  0 12 13 14]\n",
      " [ 0 12 13 14  1]\n",
      " [ 0  0  0  0 16]\n",
      " [ 0  0  0 16 17]\n",
      " [ 0  0 16 17  1]\n",
      " [ 0 16 17  1 18]]\n"
     ]
    }
   ],
   "source": [
    "print(X)"
   ]
  },
  {
   "cell_type": "code",
   "execution_count": 12,
   "metadata": {},
   "outputs": [
    {
     "name": "stdout",
     "output_type": "stream",
     "text": [
      "[ 3  1  4  5  1  7  1  9 10  1 11 13 14  1 15 17  1 18 19]\n"
     ]
    }
   ],
   "source": [
    "print(y)"
   ]
  },
  {
   "cell_type": "code",
   "execution_count": 14,
   "metadata": {},
   "outputs": [],
   "source": [
    "from tensorflow.keras import utils\n",
    "y=utils.to_categorical(y, num_classes=vocab_size)"
   ]
  },
  {
   "cell_type": "code",
   "execution_count": 15,
   "metadata": {},
   "outputs": [
    {
     "name": "stdout",
     "output_type": "stream",
     "text": [
      "[[0. 0. 0. 1. 0. 0. 0. 0. 0. 0. 0. 0. 0. 0. 0. 0. 0. 0. 0. 0.]\n",
      " [0. 1. 0. 0. 0. 0. 0. 0. 0. 0. 0. 0. 0. 0. 0. 0. 0. 0. 0. 0.]\n",
      " [0. 0. 0. 0. 1. 0. 0. 0. 0. 0. 0. 0. 0. 0. 0. 0. 0. 0. 0. 0.]\n",
      " [0. 0. 0. 0. 0. 1. 0. 0. 0. 0. 0. 0. 0. 0. 0. 0. 0. 0. 0. 0.]\n",
      " [0. 1. 0. 0. 0. 0. 0. 0. 0. 0. 0. 0. 0. 0. 0. 0. 0. 0. 0. 0.]\n",
      " [0. 0. 0. 0. 0. 0. 0. 1. 0. 0. 0. 0. 0. 0. 0. 0. 0. 0. 0. 0.]\n",
      " [0. 1. 0. 0. 0. 0. 0. 0. 0. 0. 0. 0. 0. 0. 0. 0. 0. 0. 0. 0.]\n",
      " [0. 0. 0. 0. 0. 0. 0. 0. 0. 1. 0. 0. 0. 0. 0. 0. 0. 0. 0. 0.]\n",
      " [0. 0. 0. 0. 0. 0. 0. 0. 0. 0. 1. 0. 0. 0. 0. 0. 0. 0. 0. 0.]\n",
      " [0. 1. 0. 0. 0. 0. 0. 0. 0. 0. 0. 0. 0. 0. 0. 0. 0. 0. 0. 0.]\n",
      " [0. 0. 0. 0. 0. 0. 0. 0. 0. 0. 0. 1. 0. 0. 0. 0. 0. 0. 0. 0.]\n",
      " [0. 0. 0. 0. 0. 0. 0. 0. 0. 0. 0. 0. 0. 1. 0. 0. 0. 0. 0. 0.]\n",
      " [0. 0. 0. 0. 0. 0. 0. 0. 0. 0. 0. 0. 0. 0. 1. 0. 0. 0. 0. 0.]\n",
      " [0. 1. 0. 0. 0. 0. 0. 0. 0. 0. 0. 0. 0. 0. 0. 0. 0. 0. 0. 0.]\n",
      " [0. 0. 0. 0. 0. 0. 0. 0. 0. 0. 0. 0. 0. 0. 0. 1. 0. 0. 0. 0.]\n",
      " [0. 0. 0. 0. 0. 0. 0. 0. 0. 0. 0. 0. 0. 0. 0. 0. 0. 1. 0. 0.]\n",
      " [0. 1. 0. 0. 0. 0. 0. 0. 0. 0. 0. 0. 0. 0. 0. 0. 0. 0. 0. 0.]\n",
      " [0. 0. 0. 0. 0. 0. 0. 0. 0. 0. 0. 0. 0. 0. 0. 0. 0. 0. 1. 0.]\n",
      " [0. 0. 0. 0. 0. 0. 0. 0. 0. 0. 0. 0. 0. 0. 0. 0. 0. 0. 0. 1.]]\n"
     ]
    }
   ],
   "source": [
    "print(y)"
   ]
  },
  {
   "cell_type": "code",
   "execution_count": 16,
   "metadata": {},
   "outputs": [
    {
     "data": {
      "text/plain": [
       "6"
      ]
     },
     "execution_count": 16,
     "metadata": {},
     "output_type": "execute_result"
    }
   ],
   "source": [
    "max_len"
   ]
  },
  {
   "cell_type": "code",
   "execution_count": 17,
   "metadata": {},
   "outputs": [],
   "source": [
    "from tensorflow.keras.models import Sequential\n",
    "from tensorflow.keras.layers import Dense,Embedding, SimpleRNN\n",
    "\n",
    "model=Sequential()\n",
    "model.add(Embedding(vocab_size,10,input_length=max_len-1))\n",
    "model.add(SimpleRNN(32))\n",
    "model.add(Dense(vocab_size, activation='softmax'))\n",
    "model.compile(loss='categorical_crossentropy', optimizer='adam',metrics=['accuracy'])"
   ]
  },
  {
   "cell_type": "code",
   "execution_count": 18,
   "metadata": {},
   "outputs": [
    {
     "name": "stdout",
     "output_type": "stream",
     "text": [
      "Epoch 1/200\n",
      "1/1 - 1s - loss: 2.9819 - accuracy: 0.0526\n",
      "Epoch 2/200\n",
      "1/1 - 0s - loss: 2.9689 - accuracy: 0.1579\n",
      "Epoch 3/200\n",
      "1/1 - 0s - loss: 2.9557 - accuracy: 0.2632\n",
      "Epoch 4/200\n",
      "1/1 - 0s - loss: 2.9423 - accuracy: 0.3158\n",
      "Epoch 5/200\n",
      "1/1 - 0s - loss: 2.9286 - accuracy: 0.3158\n",
      "Epoch 6/200\n",
      "1/1 - 0s - loss: 2.9144 - accuracy: 0.3158\n",
      "Epoch 7/200\n",
      "1/1 - 0s - loss: 2.8996 - accuracy: 0.3158\n",
      "Epoch 8/200\n",
      "1/1 - 0s - loss: 2.8841 - accuracy: 0.3158\n",
      "Epoch 9/200\n",
      "1/1 - 0s - loss: 2.8679 - accuracy: 0.3158\n",
      "Epoch 10/200\n",
      "1/1 - 0s - loss: 2.8509 - accuracy: 0.3158\n",
      "Epoch 11/200\n",
      "1/1 - 0s - loss: 2.8329 - accuracy: 0.3158\n",
      "Epoch 12/200\n",
      "1/1 - 0s - loss: 2.8140 - accuracy: 0.3158\n",
      "Epoch 13/200\n",
      "1/1 - 0s - loss: 2.7941 - accuracy: 0.3158\n",
      "Epoch 14/200\n",
      "1/1 - 0s - loss: 2.7732 - accuracy: 0.3158\n",
      "Epoch 15/200\n",
      "1/1 - 0s - loss: 2.7514 - accuracy: 0.3158\n",
      "Epoch 16/200\n",
      "1/1 - 0s - loss: 2.7287 - accuracy: 0.3158\n",
      "Epoch 17/200\n",
      "1/1 - 0s - loss: 2.7051 - accuracy: 0.3158\n",
      "Epoch 18/200\n",
      "1/1 - 0s - loss: 2.6808 - accuracy: 0.3158\n",
      "Epoch 19/200\n",
      "1/1 - 0s - loss: 2.6560 - accuracy: 0.3158\n",
      "Epoch 20/200\n",
      "1/1 - 0s - loss: 2.6308 - accuracy: 0.3158\n",
      "Epoch 21/200\n",
      "1/1 - 0s - loss: 2.6055 - accuracy: 0.3158\n",
      "Epoch 22/200\n",
      "1/1 - 0s - loss: 2.5805 - accuracy: 0.3158\n",
      "Epoch 23/200\n",
      "1/1 - 0s - loss: 2.5560 - accuracy: 0.3158\n",
      "Epoch 24/200\n",
      "1/1 - 0s - loss: 2.5326 - accuracy: 0.3158\n",
      "Epoch 25/200\n",
      "1/1 - 0s - loss: 2.5104 - accuracy: 0.3158\n",
      "Epoch 26/200\n",
      "1/1 - 0s - loss: 2.4899 - accuracy: 0.3158\n",
      "Epoch 27/200\n",
      "1/1 - 0s - loss: 2.4714 - accuracy: 0.3158\n",
      "Epoch 28/200\n",
      "1/1 - 0s - loss: 2.4550 - accuracy: 0.3158\n",
      "Epoch 29/200\n",
      "1/1 - 0s - loss: 2.4406 - accuracy: 0.3158\n",
      "Epoch 30/200\n",
      "1/1 - 0s - loss: 2.4282 - accuracy: 0.3158\n",
      "Epoch 31/200\n",
      "1/1 - 0s - loss: 2.4173 - accuracy: 0.3158\n",
      "Epoch 32/200\n",
      "1/1 - 0s - loss: 2.4075 - accuracy: 0.3158\n",
      "Epoch 33/200\n",
      "1/1 - 0s - loss: 2.3982 - accuracy: 0.3158\n",
      "Epoch 34/200\n",
      "1/1 - 0s - loss: 2.3890 - accuracy: 0.3158\n",
      "Epoch 35/200\n",
      "1/1 - 0s - loss: 2.3794 - accuracy: 0.3158\n",
      "Epoch 36/200\n",
      "1/1 - 0s - loss: 2.3692 - accuracy: 0.3158\n",
      "Epoch 37/200\n",
      "1/1 - 0s - loss: 2.3582 - accuracy: 0.3158\n",
      "Epoch 38/200\n",
      "1/1 - 0s - loss: 2.3464 - accuracy: 0.3158\n",
      "Epoch 39/200\n",
      "1/1 - 0s - loss: 2.3339 - accuracy: 0.3158\n",
      "Epoch 40/200\n",
      "1/1 - 0s - loss: 2.3210 - accuracy: 0.3158\n",
      "Epoch 41/200\n",
      "1/1 - 0s - loss: 2.3077 - accuracy: 0.3158\n",
      "Epoch 42/200\n",
      "1/1 - 0s - loss: 2.2943 - accuracy: 0.3158\n",
      "Epoch 43/200\n",
      "1/1 - 0s - loss: 2.2809 - accuracy: 0.3158\n",
      "Epoch 44/200\n",
      "1/1 - 0s - loss: 2.2676 - accuracy: 0.3158\n",
      "Epoch 45/200\n",
      "1/1 - 0s - loss: 2.2544 - accuracy: 0.3158\n",
      "Epoch 46/200\n",
      "1/1 - 0s - loss: 2.2411 - accuracy: 0.3158\n",
      "Epoch 47/200\n",
      "1/1 - 0s - loss: 2.2279 - accuracy: 0.3158\n",
      "Epoch 48/200\n",
      "1/1 - 0s - loss: 2.2145 - accuracy: 0.3158\n",
      "Epoch 49/200\n",
      "1/1 - 0s - loss: 2.2008 - accuracy: 0.3158\n",
      "Epoch 50/200\n",
      "1/1 - 0s - loss: 2.1868 - accuracy: 0.3158\n",
      "Epoch 51/200\n",
      "1/1 - 0s - loss: 2.1724 - accuracy: 0.3684\n",
      "Epoch 52/200\n",
      "1/1 - 0s - loss: 2.1575 - accuracy: 0.3684\n",
      "Epoch 53/200\n",
      "1/1 - 0s - loss: 2.1422 - accuracy: 0.3684\n",
      "Epoch 54/200\n",
      "1/1 - 0s - loss: 2.1265 - accuracy: 0.3684\n",
      "Epoch 55/200\n",
      "1/1 - 0s - loss: 2.1102 - accuracy: 0.3684\n",
      "Epoch 56/200\n",
      "1/1 - 0s - loss: 2.0936 - accuracy: 0.3684\n",
      "Epoch 57/200\n",
      "1/1 - 0s - loss: 2.0766 - accuracy: 0.3684\n",
      "Epoch 58/200\n",
      "1/1 - 0s - loss: 2.0593 - accuracy: 0.3684\n",
      "Epoch 59/200\n",
      "1/1 - 0s - loss: 2.0416 - accuracy: 0.3684\n",
      "Epoch 60/200\n",
      "1/1 - 0s - loss: 2.0236 - accuracy: 0.3684\n",
      "Epoch 61/200\n",
      "1/1 - 0s - loss: 2.0053 - accuracy: 0.3684\n",
      "Epoch 62/200\n",
      "1/1 - 0s - loss: 1.9867 - accuracy: 0.3684\n",
      "Epoch 63/200\n",
      "1/1 - 0s - loss: 1.9678 - accuracy: 0.3684\n",
      "Epoch 64/200\n",
      "1/1 - 0s - loss: 1.9486 - accuracy: 0.3684\n",
      "Epoch 65/200\n",
      "1/1 - 0s - loss: 1.9292 - accuracy: 0.3684\n",
      "Epoch 66/200\n",
      "1/1 - 0s - loss: 1.9095 - accuracy: 0.3684\n",
      "Epoch 67/200\n",
      "1/1 - 0s - loss: 1.8897 - accuracy: 0.4211\n",
      "Epoch 68/200\n",
      "1/1 - 0s - loss: 1.8696 - accuracy: 0.4211\n",
      "Epoch 69/200\n",
      "1/1 - 0s - loss: 1.8494 - accuracy: 0.4211\n",
      "Epoch 70/200\n",
      "1/1 - 0s - loss: 1.8291 - accuracy: 0.4211\n",
      "Epoch 71/200\n",
      "1/1 - 0s - loss: 1.8087 - accuracy: 0.4211\n",
      "Epoch 72/200\n",
      "1/1 - 0s - loss: 1.7882 - accuracy: 0.4737\n",
      "Epoch 73/200\n",
      "1/1 - 0s - loss: 1.7676 - accuracy: 0.4737\n",
      "Epoch 74/200\n",
      "1/1 - 0s - loss: 1.7469 - accuracy: 0.4737\n",
      "Epoch 75/200\n",
      "1/1 - 0s - loss: 1.7263 - accuracy: 0.4737\n",
      "Epoch 76/200\n",
      "1/1 - 0s - loss: 1.7056 - accuracy: 0.4737\n",
      "Epoch 77/200\n",
      "1/1 - 0s - loss: 1.6848 - accuracy: 0.5263\n",
      "Epoch 78/200\n",
      "1/1 - 0s - loss: 1.6641 - accuracy: 0.5263\n",
      "Epoch 79/200\n",
      "1/1 - 0s - loss: 1.6434 - accuracy: 0.5263\n",
      "Epoch 80/200\n",
      "1/1 - 0s - loss: 1.6226 - accuracy: 0.5789\n",
      "Epoch 81/200\n",
      "1/1 - 0s - loss: 1.6020 - accuracy: 0.5789\n",
      "Epoch 82/200\n",
      "1/1 - 0s - loss: 1.5813 - accuracy: 0.5789\n",
      "Epoch 83/200\n",
      "1/1 - 0s - loss: 1.5607 - accuracy: 0.5789\n",
      "Epoch 84/200\n",
      "1/1 - 0s - loss: 1.5401 - accuracy: 0.5789\n",
      "Epoch 85/200\n",
      "1/1 - 0s - loss: 1.5197 - accuracy: 0.5789\n",
      "Epoch 86/200\n",
      "1/1 - 0s - loss: 1.4992 - accuracy: 0.5789\n",
      "Epoch 87/200\n",
      "1/1 - 0s - loss: 1.4789 - accuracy: 0.5789\n",
      "Epoch 88/200\n",
      "1/1 - 0s - loss: 1.4585 - accuracy: 0.5789\n",
      "Epoch 89/200\n",
      "1/1 - 0s - loss: 1.4383 - accuracy: 0.5789\n",
      "Epoch 90/200\n",
      "1/1 - 0s - loss: 1.4181 - accuracy: 0.5789\n",
      "Epoch 91/200\n",
      "1/1 - 0s - loss: 1.3980 - accuracy: 0.5789\n",
      "Epoch 92/200\n",
      "1/1 - 0s - loss: 1.3780 - accuracy: 0.5789\n",
      "Epoch 93/200\n",
      "1/1 - 0s - loss: 1.3580 - accuracy: 0.6316\n",
      "Epoch 94/200\n",
      "1/1 - 0s - loss: 1.3382 - accuracy: 0.6316\n",
      "Epoch 95/200\n",
      "1/1 - 0s - loss: 1.3184 - accuracy: 0.6316\n",
      "Epoch 96/200\n",
      "1/1 - 0s - loss: 1.2988 - accuracy: 0.6316\n",
      "Epoch 97/200\n",
      "1/1 - 0s - loss: 1.2793 - accuracy: 0.6316\n",
      "Epoch 98/200\n",
      "1/1 - 0s - loss: 1.2599 - accuracy: 0.6316\n",
      "Epoch 99/200\n",
      "1/1 - 0s - loss: 1.2406 - accuracy: 0.6316\n",
      "Epoch 100/200\n",
      "1/1 - 0s - loss: 1.2215 - accuracy: 0.6316\n",
      "Epoch 101/200\n",
      "1/1 - 0s - loss: 1.2025 - accuracy: 0.6316\n",
      "Epoch 102/200\n",
      "1/1 - 0s - loss: 1.1836 - accuracy: 0.6316\n",
      "Epoch 103/200\n",
      "1/1 - 0s - loss: 1.1650 - accuracy: 0.6316\n",
      "Epoch 104/200\n",
      "1/1 - 0s - loss: 1.1464 - accuracy: 0.6842\n",
      "Epoch 105/200\n",
      "1/1 - 0s - loss: 1.1281 - accuracy: 0.6842\n",
      "Epoch 106/200\n",
      "1/1 - 0s - loss: 1.1099 - accuracy: 0.7895\n",
      "Epoch 107/200\n",
      "1/1 - 0s - loss: 1.0919 - accuracy: 0.7895\n",
      "Epoch 108/200\n",
      "1/1 - 0s - loss: 1.0742 - accuracy: 0.7895\n",
      "Epoch 109/200\n",
      "1/1 - 0s - loss: 1.0566 - accuracy: 0.7895\n",
      "Epoch 110/200\n",
      "1/1 - 0s - loss: 1.0392 - accuracy: 0.7895\n",
      "Epoch 111/200\n",
      "1/1 - 0s - loss: 1.0220 - accuracy: 0.7895\n",
      "Epoch 112/200\n",
      "1/1 - 0s - loss: 1.0050 - accuracy: 0.7895\n",
      "Epoch 113/200\n",
      "1/1 - 0s - loss: 0.9882 - accuracy: 0.8421\n",
      "Epoch 114/200\n",
      "1/1 - 0s - loss: 0.9716 - accuracy: 0.8421\n",
      "Epoch 115/200\n",
      "1/1 - 0s - loss: 0.9553 - accuracy: 0.8421\n",
      "Epoch 116/200\n",
      "1/1 - 0s - loss: 0.9392 - accuracy: 0.8421\n",
      "Epoch 117/200\n",
      "1/1 - 0s - loss: 0.9233 - accuracy: 0.8421\n",
      "Epoch 118/200\n",
      "1/1 - 0s - loss: 0.9077 - accuracy: 0.8421\n",
      "Epoch 119/200\n",
      "1/1 - 0s - loss: 0.8923 - accuracy: 0.8421\n",
      "Epoch 120/200\n",
      "1/1 - 0s - loss: 0.8771 - accuracy: 0.8421\n",
      "Epoch 121/200\n",
      "1/1 - 0s - loss: 0.8622 - accuracy: 0.8421\n",
      "Epoch 122/200\n",
      "1/1 - 0s - loss: 0.8476 - accuracy: 0.8421\n",
      "Epoch 123/200\n",
      "1/1 - 0s - loss: 0.8331 - accuracy: 0.8421\n",
      "Epoch 124/200\n",
      "1/1 - 0s - loss: 0.8190 - accuracy: 0.8421\n",
      "Epoch 125/200\n",
      "1/1 - 0s - loss: 0.8051 - accuracy: 0.8421\n",
      "Epoch 126/200\n",
      "1/1 - 0s - loss: 0.7914 - accuracy: 0.8421\n",
      "Epoch 127/200\n",
      "1/1 - 0s - loss: 0.7780 - accuracy: 0.8421\n",
      "Epoch 128/200\n",
      "1/1 - 0s - loss: 0.7648 - accuracy: 0.8421\n",
      "Epoch 129/200\n",
      "1/1 - 0s - loss: 0.7519 - accuracy: 0.8421\n",
      "Epoch 130/200\n",
      "1/1 - 0s - loss: 0.7392 - accuracy: 0.8421\n",
      "Epoch 131/200\n",
      "1/1 - 0s - loss: 0.7268 - accuracy: 0.8421\n",
      "Epoch 132/200\n",
      "1/1 - 0s - loss: 0.7146 - accuracy: 0.8421\n",
      "Epoch 133/200\n",
      "1/1 - 0s - loss: 0.7027 - accuracy: 0.8421\n",
      "Epoch 134/200\n",
      "1/1 - 0s - loss: 0.6910 - accuracy: 0.8421\n",
      "Epoch 135/200\n",
      "1/1 - 0s - loss: 0.6796 - accuracy: 0.8421\n",
      "Epoch 136/200\n",
      "1/1 - 0s - loss: 0.6684 - accuracy: 0.8421\n",
      "Epoch 137/200\n",
      "1/1 - 0s - loss: 0.6574 - accuracy: 0.8421\n",
      "Epoch 138/200\n",
      "1/1 - 0s - loss: 0.6466 - accuracy: 0.8421\n",
      "Epoch 139/200\n",
      "1/1 - 0s - loss: 0.6361 - accuracy: 0.8421\n",
      "Epoch 140/200\n",
      "1/1 - 0s - loss: 0.6258 - accuracy: 0.8421\n",
      "Epoch 141/200\n",
      "1/1 - 0s - loss: 0.6157 - accuracy: 0.8421\n",
      "Epoch 142/200\n",
      "1/1 - 0s - loss: 0.6059 - accuracy: 0.8421\n",
      "Epoch 143/200\n",
      "1/1 - 0s - loss: 0.5962 - accuracy: 0.8421\n",
      "Epoch 144/200\n",
      "1/1 - 0s - loss: 0.5868 - accuracy: 0.8421\n",
      "Epoch 145/200\n",
      "1/1 - 0s - loss: 0.5776 - accuracy: 0.8421\n",
      "Epoch 146/200\n",
      "1/1 - 0s - loss: 0.5685 - accuracy: 0.8421\n",
      "Epoch 147/200\n",
      "1/1 - 0s - loss: 0.5597 - accuracy: 0.8421\n",
      "Epoch 148/200\n",
      "1/1 - 0s - loss: 0.5510 - accuracy: 0.8421\n",
      "Epoch 149/200\n",
      "1/1 - 0s - loss: 0.5425 - accuracy: 0.8421\n",
      "Epoch 150/200\n",
      "1/1 - 0s - loss: 0.5342 - accuracy: 0.8421\n",
      "Epoch 151/200\n",
      "1/1 - 0s - loss: 0.5261 - accuracy: 0.8421\n",
      "Epoch 152/200\n",
      "1/1 - 0s - loss: 0.5182 - accuracy: 0.8421\n",
      "Epoch 153/200\n",
      "1/1 - 0s - loss: 0.5104 - accuracy: 0.8421\n",
      "Epoch 154/200\n",
      "1/1 - 0s - loss: 0.5027 - accuracy: 0.8421\n",
      "Epoch 155/200\n",
      "1/1 - 0s - loss: 0.4953 - accuracy: 0.8421\n",
      "Epoch 156/200\n",
      "1/1 - 0s - loss: 0.4880 - accuracy: 0.8421\n",
      "Epoch 157/200\n",
      "1/1 - 0s - loss: 0.4808 - accuracy: 0.8421\n",
      "Epoch 158/200\n",
      "1/1 - 0s - loss: 0.4738 - accuracy: 0.8421\n",
      "Epoch 159/200\n",
      "1/1 - 0s - loss: 0.4669 - accuracy: 0.8421\n",
      "Epoch 160/200\n",
      "1/1 - 0s - loss: 0.4601 - accuracy: 0.8421\n",
      "Epoch 161/200\n",
      "1/1 - 0s - loss: 0.4535 - accuracy: 0.8421\n",
      "Epoch 162/200\n",
      "1/1 - 0s - loss: 0.4470 - accuracy: 0.8421\n",
      "Epoch 163/200\n",
      "1/1 - 0s - loss: 0.4406 - accuracy: 0.8947\n",
      "Epoch 164/200\n",
      "1/1 - 0s - loss: 0.4344 - accuracy: 0.8947\n",
      "Epoch 165/200\n",
      "1/1 - 0s - loss: 0.4283 - accuracy: 0.8947\n",
      "Epoch 166/200\n",
      "1/1 - 0s - loss: 0.4222 - accuracy: 0.8947\n",
      "Epoch 167/200\n",
      "1/1 - 0s - loss: 0.4163 - accuracy: 0.8947\n",
      "Epoch 168/200\n",
      "1/1 - 0s - loss: 0.4105 - accuracy: 0.8947\n",
      "Epoch 169/200\n",
      "1/1 - 0s - loss: 0.4048 - accuracy: 0.8947\n",
      "Epoch 170/200\n",
      "1/1 - 0s - loss: 0.3992 - accuracy: 0.8947\n",
      "Epoch 171/200\n",
      "1/1 - 0s - loss: 0.3937 - accuracy: 0.8947\n",
      "Epoch 172/200\n",
      "1/1 - 0s - loss: 0.3883 - accuracy: 0.8947\n",
      "Epoch 173/200\n",
      "1/1 - 0s - loss: 0.3830 - accuracy: 0.9474\n",
      "Epoch 174/200\n",
      "1/1 - 0s - loss: 0.3778 - accuracy: 0.9474\n",
      "Epoch 175/200\n",
      "1/1 - 0s - loss: 0.3727 - accuracy: 0.9474\n",
      "Epoch 176/200\n",
      "1/1 - 0s - loss: 0.3676 - accuracy: 0.9474\n",
      "Epoch 177/200\n",
      "1/1 - 0s - loss: 0.3626 - accuracy: 0.9474\n",
      "Epoch 178/200\n",
      "1/1 - 0s - loss: 0.3578 - accuracy: 0.9474\n",
      "Epoch 179/200\n",
      "1/1 - 0s - loss: 0.3529 - accuracy: 0.9474\n",
      "Epoch 180/200\n",
      "1/1 - 0s - loss: 0.3482 - accuracy: 0.9474\n",
      "Epoch 181/200\n",
      "1/1 - 0s - loss: 0.3436 - accuracy: 0.9474\n",
      "Epoch 182/200\n",
      "1/1 - 0s - loss: 0.3390 - accuracy: 0.9474\n",
      "Epoch 183/200\n",
      "1/1 - 0s - loss: 0.3344 - accuracy: 0.9474\n",
      "Epoch 184/200\n",
      "1/1 - 0s - loss: 0.3300 - accuracy: 0.9474\n",
      "Epoch 185/200\n",
      "1/1 - 0s - loss: 0.3256 - accuracy: 0.9474\n",
      "Epoch 186/200\n",
      "1/1 - 0s - loss: 0.3213 - accuracy: 0.9474\n",
      "Epoch 187/200\n",
      "1/1 - 0s - loss: 0.3170 - accuracy: 0.9474\n",
      "Epoch 188/200\n",
      "1/1 - 0s - loss: 0.3128 - accuracy: 0.9474\n",
      "Epoch 189/200\n",
      "1/1 - 0s - loss: 0.3087 - accuracy: 0.9474\n",
      "Epoch 190/200\n",
      "1/1 - 0s - loss: 0.3046 - accuracy: 0.9474\n",
      "Epoch 191/200\n",
      "1/1 - 0s - loss: 0.3006 - accuracy: 0.9474\n",
      "Epoch 192/200\n",
      "1/1 - 0s - loss: 0.2966 - accuracy: 0.9474\n",
      "Epoch 193/200\n",
      "1/1 - 0s - loss: 0.2927 - accuracy: 0.9474\n",
      "Epoch 194/200\n",
      "1/1 - 0s - loss: 0.2889 - accuracy: 0.9474\n",
      "Epoch 195/200\n",
      "1/1 - 0s - loss: 0.2851 - accuracy: 0.9474\n",
      "Epoch 196/200\n",
      "1/1 - 0s - loss: 0.2813 - accuracy: 0.9474\n",
      "Epoch 197/200\n",
      "1/1 - 0s - loss: 0.2776 - accuracy: 0.9474\n",
      "Epoch 198/200\n",
      "1/1 - 0s - loss: 0.2740 - accuracy: 0.9474\n",
      "Epoch 199/200\n",
      "1/1 - 0s - loss: 0.2704 - accuracy: 0.9474\n",
      "Epoch 200/200\n",
      "1/1 - 0s - loss: 0.2668 - accuracy: 0.9474\n"
     ]
    },
    {
     "data": {
      "text/plain": [
       "<tensorflow.python.keras.callbacks.History at 0x2249d72e640>"
      ]
     },
     "execution_count": 18,
     "metadata": {},
     "output_type": "execute_result"
    }
   ],
   "source": [
    "model.fit(X,y,epochs=200, verbose=2)"
   ]
  },
  {
   "cell_type": "code",
   "execution_count": 19,
   "metadata": {},
   "outputs": [],
   "source": [
    "def sentence_generation(model, t, current_word, n):\n",
    "    init_word=current_word\n",
    "    sentence=''\n",
    "    for _ in range(n):\n",
    "        encoded=t.texts_to_sequences([current_word])[0]\n",
    "        encoded = pad_sequences([encoded], maxlen=max_len-1,padding='pre')\n",
    "        pred=model.predict(encoded)\n",
    "        result=np.argmax(pred,axis=1)\n",
    "        for word, index in t.word_index.items():\n",
    "            if index == result:\n",
    "                break\n",
    "        current_word=current_word + ' ' +word\n",
    "        sentence=sentence + ' ' + word\n",
    "    sentence=init_word + sentence\n",
    "    return sentence"
   ]
  },
  {
   "cell_type": "code",
   "execution_count": 20,
   "metadata": {},
   "outputs": [
    {
     "name": "stdout",
     "output_type": "stream",
     "text": [
      "경마장에 있는 말이 뛰고 있다\n"
     ]
    }
   ],
   "source": [
    "print(sentence_generation(model, t, '경마장에', 4)) "
   ]
  },
  {
   "cell_type": "code",
   "execution_count": 21,
   "metadata": {},
   "outputs": [
    {
     "name": "stdout",
     "output_type": "stream",
     "text": [
      "그의 말이 법이다\n"
     ]
    }
   ],
   "source": [
    "print(sentence_generation(model, t, '그의', 2)) "
   ]
  },
  {
   "cell_type": "code",
   "execution_count": 22,
   "metadata": {},
   "outputs": [
    {
     "name": "stdout",
     "output_type": "stream",
     "text": [
      "가는 말이 고와야 오는 말이 곱다\n",
      "그런 말이 하면 말이 안된다\n",
      "새로 태어난 말이 배가 고프다\n"
     ]
    }
   ],
   "source": [
    "print(sentence_generation(model, t, '가는', 5)) \n",
    "print(sentence_generation(model, t, '그런', 4)) \n",
    "print(sentence_generation(model, t, '새로', 4)) "
   ]
  },
  {
   "cell_type": "code",
   "execution_count": null,
   "metadata": {},
   "outputs": [],
   "source": []
  }
 ],
 "metadata": {
  "interpreter": {
   "hash": "cef9e06bb236b2a8629b07e87a04b187b952a0f661eff5533360a155783f0c33"
  },
  "kernelspec": {
   "display_name": "Python 3.8.8 64-bit ('base': conda)",
   "language": "python",
   "name": "python3"
  },
  "language_info": {
   "codemirror_mode": {
    "name": "ipython",
    "version": 3
   },
   "file_extension": ".py",
   "mimetype": "text/x-python",
   "name": "python",
   "nbconvert_exporter": "python",
   "pygments_lexer": "ipython3",
   "version": "3.8.8"
  },
  "orig_nbformat": 4
 },
 "nbformat": 4,
 "nbformat_minor": 2
}
