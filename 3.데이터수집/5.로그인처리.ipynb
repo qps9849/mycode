{
 "cells": [
  {
   "cell_type": "code",
   "execution_count": 2,
   "metadata": {},
   "outputs": [
    {
     "data": {
      "text/plain": [
       "'<!DOCTYPE html>\\n<html lang=\"en\">\\n<head>\\n    <meta charset=\"UTF-8\">\\n    <title>Title</title>\\n</head>\\n<body>\\n<h2>로그인</h2>\\n<form method=\"POST\" action=\"/member/login\">\\n    <input type=\"hidden\" name=\"csrfmiddlewaretoken\" value=\"5FhsnYHFNrwUx4JDemi54calS9A7f8dFXalpP9PYsrNivc45zpuoTpH714oP7GSe\">\\n    <table>\\n        <tr>\\n            <td>아이디</td>\\n            <td>\\n                <input id=\"id_username\" maxlength=\"15\"\\n                name=\"username\">\\n            </td>\\n        </tr>\\n        <tr>\\n          '"
      ]
     },
     "execution_count": 2,
     "metadata": {},
     "output_type": "execute_result"
    }
   ],
   "source": [
    "import requests\n",
    "result=requests.get('http://localhost/shop/cart_list')\n",
    "result.text[:500]"
   ]
  },
  {
   "cell_type": "code",
   "execution_count": 4,
   "metadata": {},
   "outputs": [
    {
     "name": "stdout",
     "output_type": "stream",
     "text": [
      "수박\n",
      "토마토\n"
     ]
    }
   ],
   "source": [
    "import requests\n",
    "from bs4 import BeautifulSoup\n",
    "\n",
    "params={'username': 'kim','password':'1234'}\n",
    "session=requests.Session()\n",
    "s=session.post(\"http://localhost/member/login\",params)\n",
    "res=session.get(\"http://localhost/shop/cart_list\")\n",
    "bs=BeautifulSoup(res.text,\"html.parser\")\n",
    "\n",
    "carts=bs.select(\"table > tr > td > span\")\n",
    "for cart in carts:\n",
    "    a=cart.text\n",
    "    print(a)"
   ]
  },
  {
   "cell_type": "code",
   "execution_count": null,
   "metadata": {},
   "outputs": [],
   "source": []
  }
 ],
 "metadata": {
  "interpreter": {
   "hash": "cef9e06bb236b2a8629b07e87a04b187b952a0f661eff5533360a155783f0c33"
  },
  "kernelspec": {
   "display_name": "Python 3.8.8 64-bit ('base': conda)",
   "language": "python",
   "name": "python3"
  },
  "language_info": {
   "codemirror_mode": {
    "name": "ipython",
    "version": 3
   },
   "file_extension": ".py",
   "mimetype": "text/x-python",
   "name": "python",
   "nbconvert_exporter": "python",
   "pygments_lexer": "ipython3",
   "version": "3.8.8"
  },
  "orig_nbformat": 4
 },
 "nbformat": 4,
 "nbformat_minor": 2
}
