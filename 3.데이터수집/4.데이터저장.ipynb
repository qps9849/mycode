{
 "cells": [
  {
   "cell_type": "code",
   "execution_count": 2,
   "metadata": {},
   "outputs": [
    {
     "name": "stdout",
     "output_type": "stream",
     "text": [
      "csv로 저장되었습니다.\n"
     ]
    }
   ],
   "source": [
    "import csv\n",
    "from urllib.request import urlopen\n",
    "from bs4 import BeautifulSoup\n",
    "\n",
    "html=urlopen(\"http://en.wikipedia.org/wiki/Comparison_of_text_editors\")\n",
    "bs=BeautifulSoup(html,\"html.parser\")\n",
    "table = bs.find_all(\"table\",{\"class\":\"wikitable\"})[0]\n",
    "rows = table.find_all(\"tr\")\n",
    "\n",
    "csvFile=open(\"c:/data/csv/editors.csv\",'w',newline='',encoding='utf-8')\n",
    "writer=csv.writer(csvFile)\n",
    "try:\n",
    "    for row in rows:\n",
    "        csvRow=[]\n",
    "        for cell in row.find_all(['td','th']):\n",
    "            csvRow.append(cell.text.strip())\n",
    "        writer.writerow(csvRow)\n",
    "finally:\n",
    "    print(\"csv로 저장되었습니다.\")\n",
    "    csvFile.close()"
   ]
  },
  {
   "cell_type": "code",
   "execution_count": 16,
   "metadata": {},
   "outputs": [],
   "source": [
    "from urllib.request import urlopen\n",
    "from bs4 import BeautifulSoup as bs\n",
    "import re\n",
    "import datetime\n",
    "import random\n",
    "import pymysql\n",
    "\n",
    "conn=pymysql.connect(host='localhost', port=3306, user='web', password='1234', db='myweb',charset='utf8')\n",
    "cursor=conn.cursor()\n",
    "cursor.execute(\"use myweb\")\n",
    "cursor.execute(\"delete from pages\")\n",
    "random.seed(datetime.datetime.now())"
   ]
  },
  {
   "cell_type": "code",
   "execution_count": 17,
   "metadata": {},
   "outputs": [],
   "source": [
    "def store(title, content):\n",
    "    title=title.replace(\"'\",\"''\")\n",
    "    content=content.replace(\"'\",\"''\")\n",
    "    sql=\"insert into pages(title,content)values ('%s','%s')\" %(title,content)\n",
    "    cursor.execute(sql)\n",
    "    conn.commit()"
   ]
  },
  {
   "cell_type": "code",
   "execution_count": 18,
   "metadata": {},
   "outputs": [],
   "source": [
    "def getLinks(url):\n",
    "    html=urlopen('http://ko.wikipedia.org'+url)\n",
    "    obj=bs(html,\"html.parser\")\n",
    "    title=obj.find(\"h1\").text\n",
    "    content=obj.find(\"div\",{\"id\":\"mw-content-text\"}).find(\"p\").text\n",
    "    store(title, content)\n",
    "    return obj.find(\"div\",{\"id\":\"bodyContent\"}).find_all(\"a\", href=re.compile(\"^(/wiki/)((?!:).)*$\"))"
   ]
  },
  {
   "cell_type": "code",
   "execution_count": 19,
   "metadata": {},
   "outputs": [
    {
     "name": "stdout",
     "output_type": "stream",
     "text": [
      "/wiki/%EC%BD%9C%ED%8A%B8_%ED%8C%8C%EC%9D%B4%EC%84%A0\n",
      "/wiki/%EC%BD%9C%ED%8A%B8_%EC%95%84%EB%82%98%EC%BD%98%EB%8B%A4\n",
      "/wiki/%EC%9C%A0%ED%8A%9C%EB%B8%8C\n",
      "/wiki/%EA%B5%AC%EA%B8%80_%EB%B9%84%EB%94%94%EC%98%A4\n",
      "/wiki/%EB%B9%85%EC%BF%BC%EB%A6%AC\n",
      "/wiki/%EA%B5%AC%EA%B8%80_%EA%B2%80%EC%83%89\n",
      "/wiki/%EB%AF%B8%EC%9C%A0%EC%95%84%EC%9D%B4\n",
      "/wiki/%EA%B5%AC%EA%B8%80\n",
      "/wiki/%EC%96%B4%EC%84%BC%EB%8D%94\n",
      "/wiki/%EB%8B%A8%EB%9D%BD\n",
      "/wiki/%EB%8B%A8%EB%9D%BD_%EA%B8%B0%ED%98%B8\n",
      "/wiki/%E3%80%83\n",
      "/wiki/%ED%83%80%EC%9D%B4%ED%8F%AC%EA%B7%B8%EB%9E%98%ED%94%BC\n",
      "/wiki/%EC%96%B4%EC%84%BC%EB%8D%94\n",
      "/wiki/%EB%AC%B8%EC%9E%90_%EC%A0%95%EB%A0%AC\n",
      "/wiki/%EC%9E%90%EC%B2%B4\n",
      "/wiki/%ED%83%80%EC%9D%B4%ED%8F%AC%EA%B7%B8%EB%9E%98%ED%94%BC\n",
      "/wiki/%EC%9E%90%EC%B2%B4\n",
      "/wiki/%EC%8B%9C%EC%8A%A4%EB%A1%9C\n",
      "/wiki/%EC%AA%BD\n",
      "/wiki/%EB%AC%B8%EC%9E%90_%EC%A0%95%EB%A0%AC\n",
      "/wiki/%EC%A0%95%ED%8C%90\n",
      "/wiki/%EC%9E%89%ED%81%AC\n",
      "/wiki/%EC%97%B0%ED%95%84\n",
      "/wiki/%ED%9D%91%EC%97%B0\n",
      "/wiki/%EA%B7%B8%EB%A6%AC%EC%8A%A4%EC%96%B4\n",
      "/wiki/%ED%97%9D%EA%B0%80%EB%A6%AC%EC%96%B4\n",
      "/wiki/%ED%94%84%EB%9E%91%EC%8A%A4%EC%96%B4\n",
      "/wiki/%ED%94%84%EB%9E%91%EC%8A%A4\n",
      "/wiki/%EC%BD%A9%EA%B3%A0_%EB%AF%BC%EC%A3%BC_%EA%B3%B5%ED%99%94%EA%B5%AD\n",
      "/wiki/%EC%9D%B8%EB%AC%B8%ED%95%99\n",
      "/wiki/%EC%98%88%EC%88%A0_%EC%9E%91%ED%92%88\n",
      "/wiki/%EC%9C%84%ED%82%A4%EB%AF%B8%EB%94%94%EC%96%B4_%EA%B3%B5%EC%9A%A9\n",
      "/wiki/%EC%9C%84%ED%82%A4%EB%A7%88%EB%8B%88%EC%95%84\n",
      "/wiki/%EB%AF%B8%EB%94%94%EC%96%B4%EC%9C%84%ED%82%A4\n",
      "/wiki/%ED%81%AC%EB%A6%AC%EC%97%90%EC%9D%B4%ED%8B%B0%EB%B8%8C_%EC%BB%A4%EB%A8%BC%EC%A6%88_%EB%9D%BC%EC%9D%B4%EC%84%A0%EC%8A%A4\n",
      "/wiki/%ED%81%AC%EB%A6%AC%EC%97%90%EC%9D%B4%ED%8B%B0%EB%B8%8C_%EC%BB%A4%EB%A8%BC%EC%A6%88\n",
      "/wiki/%EB%A6%AC%EC%B2%98%EB%93%9C_%EC%8A%A4%ED%86%A8%EB%A8%BC\n",
      "/wiki/%EC%B9%B4%ED%94%BC%EB%A0%88%ED%94%84%ED%8A%B8\n",
      "/wiki/%EC%82%AC%EC%9D%B4%ED%97%88%EB%B8%8C\n",
      "/wiki/%EB%9F%AC%EC%8B%9C%EC%95%84\n",
      "/wiki/%EB%8F%99%EC%8A%AC%EB%9D%BC%EB%B8%8C%EC%9D%B8\n",
      "/wiki/%EB%AA%A8%EC%8A%A4%ED%81%AC%EB%B0%94_%EB%8C%80%EA%B3%B5%EA%B5%AD\n",
      "/wiki/%EC%9C%A0%EB%A6%AC_%EB%8F%8C%EA%B3%A0%EB%A3%A8%ED%82%A4\n",
      "/wiki/%EB%A1%9C%EB%A7%8C_%EB%A1%9C%EC%8A%A4%ED%8B%B0%EC%8A%AC%EB%9D%BC%EB%B9%84%EC%B9%98\n",
      "/wiki/%EC%95%88%EB%93%9C%EB%A0%88%EC%9D%B4_3%EC%84%B8\n",
      "/wiki/%EC%95%BC%EB%A1%9C%EC%8A%AC%EB%9D%BC%ED%94%84_3%EC%84%B8\n",
      "/wiki/%EC%95%BC%EB%A1%9C%EC%8A%AC%EB%9D%BC%ED%94%84_2%EC%84%B8_%ED%94%84%EC%84%B8%EB%B3%BC%EB%A1%9C%EB%8F%84%EB%B9%84%EC%B9%98\n",
      "/wiki/%EC%9C%A0%EB%A6%AC_%EB%8F%8C%EA%B3%A0%EB%A3%A8%ED%82%A4\n",
      "/wiki/%EB%A5%98%EB%A6%AC%ED%81%AC_2%EC%84%B8_%EB%A1%9C%EC%8A%A4%ED%8B%B0%EC%8A%AC%EB%9D%BC%EB%B9%84%EC%B9%98\n",
      "/wiki/%EB%85%B8%EB%B8%8C%EA%B3%A0%EB%A1%9C%EB%93%9C_%EA%B3%B5%ED%99%94%EA%B5%AD\n",
      "완료되었습니다\n"
     ]
    }
   ],
   "source": [
    "links=getLinks(\"/wiki/python\")\n",
    "try:\n",
    "    cnt=0\n",
    "    #while len(links) > 0:\n",
    "    while True:\n",
    "        newArtcle=links[random.randint(0,len(links)-1)].attrs[\"href\"]\n",
    "        print(newArtcle)\n",
    "        links=getLinks(newArtcle)\n",
    "        cnt += 1\n",
    "        if cnt > 50:\n",
    "            break\n",
    "finally:\n",
    "    cursor.close()\n",
    "    conn.close()\n",
    "    print(\"완료되었습니다\")"
   ]
  },
  {
   "cell_type": "code",
   "execution_count": 22,
   "metadata": {},
   "outputs": [
    {
     "data": {
      "text/plain": [
       "8"
      ]
     },
     "execution_count": 22,
     "metadata": {},
     "output_type": "execute_result"
    }
   ],
   "source": [
    "#random.seed(15)\n",
    "random.randint(0,10)"
   ]
  },
  {
   "cell_type": "code",
   "execution_count": null,
   "metadata": {},
   "outputs": [],
   "source": []
  }
 ],
 "metadata": {
  "interpreter": {
   "hash": "cef9e06bb236b2a8629b07e87a04b187b952a0f661eff5533360a155783f0c33"
  },
  "kernelspec": {
   "display_name": "Python 3.8.8 64-bit ('base': conda)",
   "language": "python",
   "name": "python3"
  },
  "language_info": {
   "codemirror_mode": {
    "name": "ipython",
    "version": 3
   },
   "file_extension": ".py",
   "mimetype": "text/x-python",
   "name": "python",
   "nbconvert_exporter": "python",
   "pygments_lexer": "ipython3",
   "version": "3.8.8"
  },
  "orig_nbformat": 4
 },
 "nbformat": 4,
 "nbformat_minor": 2
}
