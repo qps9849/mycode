{
 "cells": [
  {
   "cell_type": "code",
   "execution_count": 2,
   "metadata": {},
   "outputs": [
    {
     "data": {
      "text/plain": [
       "Index(['Sepallength', 'Sepalwidth', 'Petallength', 'Petalwidth', 'Name',\n",
       "       'Species'],\n",
       "      dtype='object')"
      ]
     },
     "execution_count": 2,
     "metadata": {},
     "output_type": "execute_result"
    }
   ],
   "source": [
    "import pandas as pd\n",
    "df=pd.read_csv('c:/data/iris/iris2.csv')\n",
    "df.columns"
   ]
  },
  {
   "cell_type": "code",
   "execution_count": 4,
   "metadata": {},
   "outputs": [],
   "source": [
    "cols=['Sepallength', 'Sepalwidth', 'Petallength', 'Petalwidth']\n",
    "X=df[cols]\n",
    "y=df[\"Species\"]"
   ]
  },
  {
   "cell_type": "code",
   "execution_count": 5,
   "metadata": {},
   "outputs": [],
   "source": [
    "from sklearn.model_selection import train_test_split\n",
    "X_train, X_test, y_train, y_test = train_test_split(X, y,test_size=0.2, stratify=y, random_state=0)"
   ]
  },
  {
   "cell_type": "code",
   "execution_count": 6,
   "metadata": {},
   "outputs": [
    {
     "data": {
      "text/plain": [
       "array([[  6.69170682,   2.87294711,  -9.56465393],\n",
       "       [  6.33123978,   2.96080417,  -9.29204395],\n",
       "       [  6.81986694,   2.82463778,  -9.64450472],\n",
       "       [  6.30399572,   2.80410852,  -9.10810424],\n",
       "       [  6.81914604,   2.80114878,  -9.62029481],\n",
       "       [  6.021047  ,   2.66213383,  -8.68318083],\n",
       "       [  6.70024319,   2.6261125 ,  -9.32635569],\n",
       "       [  6.40958432,   2.85984813,  -9.26943245],\n",
       "       [  6.44099689,   2.80020141,  -9.2411983 ],\n",
       "       [  6.2866183 ,   3.00654092,  -9.29315921],\n",
       "       [  6.51517293,   2.91558774,  -9.43076067],\n",
       "       [  6.25490105,   2.77495081,  -9.02985186],\n",
       "       [  6.47199324,   3.0083025 ,  -9.48029574],\n",
       "       [  7.37090301,   2.83692577, -10.20782878],\n",
       "       [  7.32200769,   2.9936182 , -10.31562589],\n",
       "       [  6.80947876,   2.62787086,  -9.43734962],\n",
       "       [  6.95604188,   2.69185497,  -9.64789685],\n",
       "       [  6.59048608,   2.78671526,  -9.37720134],\n",
       "       [  5.91576308,   2.89763105,  -8.81339413],\n",
       "       [  6.62045685,   2.68009052,  -9.30054737],\n",
       "       [  5.783956  ,   2.99992163,  -8.78387762],\n",
       "       [  6.43132961,   2.62692349,  -9.0582531 ],\n",
       "       [  7.9122718 ,   2.67593585, -10.58820765],\n",
       "       [  5.51098545,   2.65809034,  -8.16907579],\n",
       "       [  5.55365489,   2.75265996,  -8.30631485],\n",
       "       [  5.82420962,   2.98467712,  -8.80888674],\n",
       "       [  5.97339413,   2.67995414,  -8.65334827],\n",
       "       [  6.41842538,   2.90425034,  -9.32267572],\n",
       "       [  6.5642676 ,   2.94474544,  -9.50901305],\n",
       "       [  6.11862078,   2.80234693,  -8.92096771],\n",
       "       [  5.99118156,   2.87414527,  -8.86532682],\n",
       "       [  6.04901196,   2.84231849,  -8.89133045],\n",
       "       [  7.04708509,   2.79209328,  -9.83917838],\n",
       "       [  7.14892141,   2.79642745,  -9.94534885],\n",
       "       [  6.18539756,   2.92030907,  -9.10570662],\n",
       "       [  6.93501749,   2.94826862,  -9.88328611],\n",
       "       [  6.76732465,   3.03531146,  -9.80263611],\n",
       "       [  6.9598995 ,   2.84864711,  -9.80854661],\n",
       "       [  6.76265211,   2.77456687,  -9.53721898],\n",
       "       [  6.3700516 ,   2.89858164,  -9.26863325],\n",
       "       [  6.86376752,   2.75541203,  -9.61917955],\n",
       "       [  6.00655317,   2.95852226,  -8.96507544],\n",
       "       [  6.9384651 ,   2.70843724,  -9.64690233],\n",
       "       [  5.85885914,   2.47442562,  -8.33328477],\n",
       "       [  5.58424123,   2.56413754,  -8.14837876],\n",
       "       [  6.26955176,   2.8358388 ,  -9.10539056],\n",
       "       [  6.48792887,   2.75889209,  -9.24682096],\n",
       "       [  6.62565094,   2.77847398,  -9.40412492],\n",
       "       [  6.55470565,   2.87685422,  -9.43155987],\n",
       "       [  6.55542655,   2.90034323,  -9.45576978],\n",
       "       [ -3.251491  ,   2.4280968 ,   0.82339421],\n",
       "       [ -2.64801797,   2.12432442,   0.52369356],\n",
       "       [ -3.86858296,   2.32133568,   1.54724728],\n",
       "       [ -1.71219687,   2.28292125,  -0.57072438],\n",
       "       [ -3.2729254 ,   2.28788692,   0.98503848],\n",
       "       [ -2.52047343,   2.15791278,   0.36256065],\n",
       "       [ -3.08929694,   1.95143366,   1.13786327],\n",
       "       [  0.55280921,   2.32816288,  -2.88097209],\n",
       "       [ -3.02211015,   2.46601932,   0.55609083],\n",
       "       [ -1.10944474,   1.95565987,  -0.84621513],\n",
       "       [ -0.30584693,   2.4842951 ,  -2.17844816],\n",
       "       [ -1.9249212 ,   2.01907732,  -0.09415612],\n",
       "       [ -1.69410476,   2.76834921,  -1.07424445],\n",
       "       [ -3.159416  ,   2.1786896 ,   0.98072639],\n",
       "       [ -0.28929573,   2.152987  ,  -1.86369126],\n",
       "       [ -2.51955318,   2.36725192,   0.15230126],\n",
       "       [ -2.5075692 ,   1.88058592,   0.62698327],\n",
       "       [ -1.40925555,   2.5181278 ,  -1.10887225],\n",
       "       [ -3.44801749,   2.37750557,   1.07051193],\n",
       "       [ -1.1397264 ,   2.43541912,  -1.29569272],\n",
       "       [ -3.45526275,   1.64967043,   1.80559231],\n",
       "       [ -1.50986072,   2.34999826,  -0.84013754],\n",
       "       [ -4.15882561,   2.28732349,   1.87150211],\n",
       "       [ -3.04488102,   2.38421812,   0.66066289],\n",
       "       [ -2.24179855,   2.41084314,  -0.16904459],\n",
       "       [ -2.56792695,   2.36158322,   0.20634373],\n",
       "       [ -3.75780027,   2.47545875,   1.28234151],\n",
       "       [ -4.31361421,   2.09703948,   2.21657473],\n",
       "       [ -2.75360658,   2.06858481,   0.68502177],\n",
       "       [ -0.05513701,   2.5570408 ,  -2.5019038 ],\n",
       "       [ -0.95435146,   2.43718071,  -1.48282925],\n",
       "       [ -0.619382  ,   2.53084284,  -1.91146084],\n",
       "       [ -1.14419959,   2.36052466,  -1.21632507],\n",
       "       [ -4.43313263,   2.00390089,   2.42923174],\n",
       "       [ -2.42850375,   1.80311889,   0.62538486],\n",
       "       [ -2.41529484,   1.81702886,   0.59826597],\n",
       "       [ -3.32202008,   2.25872922,   1.06329086],\n",
       "       [ -2.96345352,   2.56306825,   0.40038527],\n",
       "       [ -1.37013284,   2.08277076,  -0.71263792],\n",
       "       [ -1.53638388,   2.21679162,  -0.68040774],\n",
       "       [ -2.28225152,   2.24023752,   0.04201401],\n",
       "       [ -2.83776078,   2.15305507,   0.68470571],\n",
       "       [ -1.46585481,   2.3861592 ,  -0.92030439],\n",
       "       [  0.42536999,   2.39996121,  -2.82533121],\n",
       "       [ -1.86760105,   2.17453493,  -0.30693388],\n",
       "       [ -1.54219354,   2.20030584,  -0.6581123 ],\n",
       "       [ -1.73132078,   2.14713881,  -0.41581803],\n",
       "       [ -2.1627331 ,   2.33337611,  -0.170643  ],\n",
       "       [  1.16167569,   2.30862409,  -3.47029978],\n",
       "       [ -1.58547855,   2.18763391,  -0.60215536],\n",
       "       [ -7.03901695,   1.07875332,   5.96026363],\n",
       "       [ -4.6577294 ,   1.6677383 ,   2.9899911 ],\n",
       "       [ -6.98036653,   1.84017359,   5.14019294],\n",
       "       [ -5.74710288,   1.84435668,   3.9027462 ],\n",
       "       [ -6.61064222,   1.52897092,   5.0816713 ],\n",
       "       [ -8.81427118,   1.98182918,   6.832442  ],\n",
       "       [ -2.87281411,   1.6023117 ,   1.27050241],\n",
       "       [ -7.77867113,   2.17967985,   5.59899128],\n",
       "       [ -6.72435719,   2.11668945,   4.60766774],\n",
       "       [ -7.36484067,   1.32073022,   6.04411045],\n",
       "       [ -4.59614671,   1.68731698,   2.90882974],\n",
       "       [ -5.36242317,   1.88527883,   3.47714434],\n",
       "       [ -5.92677349,   1.75369417,   4.17307931],\n",
       "       [ -4.66148169,   1.61633286,   3.04514884],\n",
       "       [ -5.0759266 ,   1.20351423,   3.87241237],\n",
       "       [ -5.32777365,   1.37502734,   3.95274631],\n",
       "       [ -5.50451311,   1.89618918,   3.60832393],\n",
       "       [ -8.48552139,   1.66238202,   6.82313937],\n",
       "       [-10.10911752,   1.95806742,   8.1510501 ],\n",
       "       [ -4.53769565,   2.26288711,   2.27480854],\n",
       "       [ -6.46043213,   1.53897378,   4.92145835],\n",
       "       [ -4.12448076,   1.48583517,   2.63864559],\n",
       "       [ -9.16214487,   2.1654939 ,   6.99665097],\n",
       "       [ -4.28667483,   1.9624983 ,   2.32417653],\n",
       "       [ -6.09101872,   1.60090564,   4.49011308],\n",
       "       [ -6.77417276,   2.06404274,   4.71013003],\n",
       "       [ -3.92548689,   1.89813025,   2.02735664],\n",
       "       [ -3.9438899 ,   1.78583682,   2.15805308],\n",
       "       [ -6.17820431,   1.65745946,   4.52074485],\n",
       "       [ -6.28004684,   2.31749664,   3.96255019],\n",
       "       [ -7.53983365,   2.18010691,   5.35972674],\n",
       "       [ -7.66089919,   1.9346036 ,   5.72629559],\n",
       "       [ -6.27942505,   1.57122761,   4.70819744],\n",
       "       [ -4.36260356,   2.17326847,   2.18933509],\n",
       "       [ -5.52687397,   2.2110115 ,   3.31586246],\n",
       "       [ -7.88750178,   1.88525042,   6.00225136],\n",
       "       [ -5.91489483,   1.16164148,   4.75325335],\n",
       "       [ -5.37707389,   1.82439084,   3.55268304],\n",
       "       [ -3.67060846,   1.75453358,   1.91607488],\n",
       "       [ -5.64465099,   1.76679316,   3.87785784],\n",
       "       [ -6.33674521,   1.41577   ,   4.9209752 ],\n",
       "       [ -5.14584631,   1.61662031,   3.52922601],\n",
       "       [ -4.6577294 ,   1.6677383 ,   2.9899911 ],\n",
       "       [ -6.88839685,   1.4853797 ,   5.40301715],\n",
       "       [ -6.49590167,   1.25597823,   5.23992344],\n",
       "       [ -5.38843608,   1.56478781,   3.82364828],\n",
       "       [ -4.79745728,   1.9349658 ,   2.86249148],\n",
       "       [ -5.00570842,   1.74601633,   3.2596921 ],\n",
       "       [ -5.30664393,   1.22400039,   4.08264355],\n",
       "       [ -4.3323219 ,   1.69350922,   2.63881268]])"
      ]
     },
     "execution_count": 6,
     "metadata": {},
     "output_type": "execute_result"
    }
   ],
   "source": [
    "from sklearn.linear_model import LogisticRegression\n",
    "model=LogisticRegression(max_iter=1000)\n",
    "model.fit(X_train, y_train)\n",
    "y_score=model.decision_function(X)\n",
    "y_score"
   ]
  },
  {
   "cell_type": "code",
   "execution_count": 7,
   "metadata": {},
   "outputs": [
    {
     "data": {
      "text/plain": [
       "array([[10,  0,  0],\n",
       "       [ 0, 10,  0],\n",
       "       [ 0,  0, 10]], dtype=int64)"
      ]
     },
     "execution_count": 7,
     "metadata": {},
     "output_type": "execute_result"
    }
   ],
   "source": [
    "from sklearn.metrics import confusion_matrix\n",
    "y_hat=model.predict(X_test)\n",
    "confusion_matrix(y_test, y_hat, labels=[0,1,2])"
   ]
  },
  {
   "cell_type": "code",
   "execution_count": 8,
   "metadata": {},
   "outputs": [
    {
     "name": "stdout",
     "output_type": "stream",
     "text": [
      "              precision    recall  f1-score   support\n",
      "\n",
      "           0       1.00      1.00      1.00        10\n",
      "           1       1.00      1.00      1.00        10\n",
      "           2       1.00      1.00      1.00        10\n",
      "\n",
      "    accuracy                           1.00        30\n",
      "   macro avg       1.00      1.00      1.00        30\n",
      "weighted avg       1.00      1.00      1.00        30\n",
      "\n"
     ]
    }
   ],
   "source": [
    "from sklearn.metrics import classification_report\n",
    "print(classification_report(y_test,y_hat, target_names=['0','1','2']))"
   ]
  },
  {
   "cell_type": "code",
   "execution_count": 9,
   "metadata": {},
   "outputs": [],
   "source": [
    "from sklearn.metrics import roc_curve"
   ]
  },
  {
   "cell_type": "code",
   "execution_count": 10,
   "metadata": {},
   "outputs": [],
   "source": [
    "from sklearn.preprocessing import label_binarize\n",
    "y=label_binarize(y, classes=[0,1,2])"
   ]
  },
  {
   "cell_type": "code",
   "execution_count": 11,
   "metadata": {},
   "outputs": [
    {
     "name": "stdout",
     "output_type": "stream",
     "text": [
      "{0: 1.0, 1: 0.46040000000000003, 2: 0.9967999999999999}\n"
     ]
    },
    {
     "data": {
      "image/png": "[encoded data removed]",
      "text/plain": [
       "<Figure size 432x288 with 1 Axes>"
      ]
     },
     "metadata": {
      "needs_background": "light"
     },
     "output_type": "display_data"
    },
    {
     "data": {
      "image/png": "[encoded data removed]",
      "text/plain": [
       "<Figure size 432x288 with 1 Axes>"
      ]
     },
     "metadata": {
      "needs_background": "light"
     },
     "output_type": "display_data"
    },
    {
     "data": {
      "image/png": "[encoded data removed]",
      "text/plain": [
       "<Figure size 432x288 with 1 Axes>"
      ]
     },
     "metadata": {
      "needs_background": "light"
     },
     "output_type": "display_data"
    }
   ],
   "source": [
    "from sklearn.metrics import roc_curve,auc\n",
    "import matplotlib.pyplot as plt\n",
    "\n",
    "n_classes=3\n",
    "\n",
    "fpr=dict()\n",
    "tpr=dict()\n",
    "roc_auc=dict()\n",
    "for i in range(n_classes):\n",
    "    fpr[i], tpr[i],_=roc_curve(y[:,i], y_score[:,i])\n",
    "    roc_auc[i]=auc(fpr[i],tpr[i])\n",
    "\n",
    "print(roc_auc)\n",
    "y_score = model.decision_function(X)\n",
    "for i in range(n_classes):\n",
    "    plt.figure()\n",
    "    plt.plot(fpr[i],tpr[i], label='ROC curve(area = %.3f)'%roc_auc[i])\n",
    "    plt.plot([0,1],[0,1],'k--')\n",
    "    plt.xlim([0.0,1.0])\n",
    "    plt.ylim([0.0,1.05])\n",
    "    plt.xlabel('FPR')\n",
    "    plt.ylabel('TPR')\n",
    "    plt.title('ROC')\n",
    "    plt.legend(loc=\"lower right\")\n",
    "    plt.show()"
   ]
  },
  {
   "cell_type": "code",
   "execution_count": null,
   "metadata": {},
   "outputs": [],
   "source": []
  }
 ],
 "metadata": {
  "interpreter": {
   "hash": "cef9e06bb236b2a8629b07e87a04b187b952a0f661eff5533360a155783f0c33"
  },
  "kernelspec": {
   "display_name": "Python 3.8.8 64-bit ('base': conda)",
   "language": "python",
   "name": "python3"
  },
  "language_info": {
   "codemirror_mode": {
    "name": "ipython",
    "version": 3
   },
   "file_extension": ".py",
   "mimetype": "text/x-python",
   "name": "python",
   "nbconvert_exporter": "python",
   "pygments_lexer": "ipython3",
   "version": "3.8.8"
  },
  "orig_nbformat": 4
 },
 "nbformat": 4,
 "nbformat_minor": 2
}
