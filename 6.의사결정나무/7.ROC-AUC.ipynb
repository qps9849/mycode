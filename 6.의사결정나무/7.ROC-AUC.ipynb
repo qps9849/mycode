{
 "cells": [
  {
   "cell_type": "code",
   "execution_count": 19,
   "metadata": {},
   "outputs": [
    {
     "data": {
      "text/html": [
       "<div>\n",
       "<style scoped>\n",
       "    .dataframe tbody tr th:only-of-type {\n",
       "        vertical-align: middle;\n",
       "    }\n",
       "\n",
       "    .dataframe tbody tr th {\n",
       "        vertical-align: top;\n",
       "    }\n",
       "\n",
       "    .dataframe thead th {\n",
       "        text-align: right;\n",
       "    }\n",
       "</style>\n",
       "<table border=\"1\" class=\"dataframe\">\n",
       "  <thead>\n",
       "    <tr style=\"text-align: right;\">\n",
       "      <th></th>\n",
       "      <th>cement</th>\n",
       "      <th>flag</th>\n",
       "      <th>ash</th>\n",
       "      <th>water</th>\n",
       "      <th>superplastic</th>\n",
       "      <th>coarseagg</th>\n",
       "      <th>findagg</th>\n",
       "      <th>age</th>\n",
       "      <th>strength</th>\n",
       "      <th>class</th>\n",
       "    </tr>\n",
       "  </thead>\n",
       "  <tbody>\n",
       "    <tr>\n",
       "      <th>0</th>\n",
       "      <td>164.2</td>\n",
       "      <td>0.0</td>\n",
       "      <td>200.1</td>\n",
       "      <td>181.2</td>\n",
       "      <td>12.6</td>\n",
       "      <td>849.3</td>\n",
       "      <td>846.0</td>\n",
       "      <td>28</td>\n",
       "      <td>15.09</td>\n",
       "      <td>0</td>\n",
       "    </tr>\n",
       "    <tr>\n",
       "      <th>1</th>\n",
       "      <td>164.0</td>\n",
       "      <td>0.0</td>\n",
       "      <td>200.0</td>\n",
       "      <td>181.0</td>\n",
       "      <td>13.0</td>\n",
       "      <td>849.0</td>\n",
       "      <td>846.0</td>\n",
       "      <td>28</td>\n",
       "      <td>15.09</td>\n",
       "      <td>0</td>\n",
       "    </tr>\n",
       "    <tr>\n",
       "      <th>2</th>\n",
       "      <td>158.0</td>\n",
       "      <td>0.0</td>\n",
       "      <td>195.0</td>\n",
       "      <td>220.0</td>\n",
       "      <td>11.0</td>\n",
       "      <td>898.0</td>\n",
       "      <td>713.0</td>\n",
       "      <td>28</td>\n",
       "      <td>8.54</td>\n",
       "      <td>0</td>\n",
       "    </tr>\n",
       "    <tr>\n",
       "      <th>3</th>\n",
       "      <td>144.0</td>\n",
       "      <td>15.0</td>\n",
       "      <td>195.0</td>\n",
       "      <td>176.0</td>\n",
       "      <td>6.0</td>\n",
       "      <td>1021.0</td>\n",
       "      <td>709.0</td>\n",
       "      <td>28</td>\n",
       "      <td>15.34</td>\n",
       "      <td>0</td>\n",
       "    </tr>\n",
       "    <tr>\n",
       "      <th>4</th>\n",
       "      <td>167.0</td>\n",
       "      <td>187.0</td>\n",
       "      <td>195.0</td>\n",
       "      <td>185.0</td>\n",
       "      <td>7.0</td>\n",
       "      <td>898.0</td>\n",
       "      <td>636.0</td>\n",
       "      <td>28</td>\n",
       "      <td>23.89</td>\n",
       "      <td>0</td>\n",
       "    </tr>\n",
       "  </tbody>\n",
       "</table>\n",
       "</div>"
      ],
      "text/plain": [
       "   cement   flag    ash  water  superplastic  coarseagg  findagg  age  \\\n",
       "0   164.2    0.0  200.1  181.2          12.6      849.3    846.0   28   \n",
       "1   164.0    0.0  200.0  181.0          13.0      849.0    846.0   28   \n",
       "2   158.0    0.0  195.0  220.0          11.0      898.0    713.0   28   \n",
       "3   144.0   15.0  195.0  176.0           6.0     1021.0    709.0   28   \n",
       "4   167.0  187.0  195.0  185.0           7.0      898.0    636.0   28   \n",
       "\n",
       "   strength  class  \n",
       "0     15.09      0  \n",
       "1     15.09      0  \n",
       "2      8.54      0  \n",
       "3     15.34      0  \n",
       "4     23.89      0  "
      ]
     },
     "execution_count": 19,
     "metadata": {},
     "output_type": "execute_result"
    }
   ],
   "source": [
    "import pandas as pd\n",
    "df=pd.read_csv(\"c:/data/concrete/concrete.csv\")\n",
    "df.head()"
   ]
  },
  {
   "cell_type": "code",
   "execution_count": 20,
   "metadata": {},
   "outputs": [
    {
     "name": "stdout",
     "output_type": "stream",
     "text": [
      "['flag', 'ash', 'water', 'superplastic', 'coarseagg', 'findagg', 'age', 'strength']\n"
     ]
    }
   ],
   "source": [
    "train_cols = ['flag', 'ash', 'water', 'superplastic','coarseagg', 'findagg', 'age','strength']\n",
    "print(train_cols)\n",
    "X=df[train_cols]\n",
    "y=df[\"class\"]"
   ]
  },
  {
   "cell_type": "code",
   "execution_count": 21,
   "metadata": {},
   "outputs": [],
   "source": [
    "from imblearn.under_sampling import RandomUnderSampler\n",
    "X_sample, y_sample=RandomUnderSampler(random_state=0).fit_resample(X,y)\n",
    "\n",
    "X_samp=pd.DataFrame(data=X_sample,columns=train_cols)\n",
    "y_samp=pd.DataFrame(data=y_sample,columns=['class'])\n",
    "df2=pd.concat([X_samp,y_samp],axis=1)"
   ]
  },
  {
   "cell_type": "code",
   "execution_count": 22,
   "metadata": {},
   "outputs": [
    {
     "data": {
      "text/plain": [
       "0    507\n",
       "1    507\n",
       "Name: class, dtype: int64"
      ]
     },
     "execution_count": 22,
     "metadata": {},
     "output_type": "execute_result"
    }
   ],
   "source": [
    "df2['class'].value_counts()"
   ]
  },
  {
   "cell_type": "code",
   "execution_count": 23,
   "metadata": {},
   "outputs": [],
   "source": [
    "from sklearn.model_selection import train_test_split\n",
    "\n",
    "X_train, X_test, y_train, y_test = train_test_split(X,y,test_size=0.2,stratify=y,random_state=0)"
   ]
  },
  {
   "cell_type": "code",
   "execution_count": 24,
   "metadata": {},
   "outputs": [
    {
     "data": {
      "text/plain": [
       "LogisticRegression(max_iter=1000, random_state=0)"
      ]
     },
     "execution_count": 24,
     "metadata": {},
     "output_type": "execute_result"
    }
   ],
   "source": [
    "from sklearn.linear_model import LogisticRegression\n",
    "model1=LogisticRegression(random_state=0, max_iter=1000)\n",
    "model1.fit(X_train, y_train)"
   ]
  },
  {
   "cell_type": "code",
   "execution_count": 25,
   "metadata": {},
   "outputs": [
    {
     "name": "stdout",
     "output_type": "stream",
     "text": [
      "학습용: 1.0\n",
      "검증용: 0.9854368932038835\n"
     ]
    }
   ],
   "source": [
    "print(\"학습용:\",model1.score(X_train, y_train)) \n",
    "print(\"검증용:\",model1.score(X_test, y_test)) "
   ]
  },
  {
   "cell_type": "code",
   "execution_count": 26,
   "metadata": {},
   "outputs": [
    {
     "data": {
      "text/plain": [
       "array([-68.80585358, -14.81967039, -77.39874665,   2.67248186,\n",
       "        19.21889868,  56.88913446,  31.87732286,  58.18831784,\n",
       "        18.60877701, -70.39950882, -18.7523628 ,  14.11722764,\n",
       "       -15.92391298,  73.11345164, -33.12975913,  92.48968118,\n",
       "       -12.59409515,  45.59848328,  -4.83088037, -83.80137891,\n",
       "        -9.00202331,   6.74578327,  53.81091496, -44.4750237 ,\n",
       "         6.76034326, -67.56782195, -57.13272004, -50.26178816,\n",
       "        42.58734166,  -8.04701805, 105.66418882,  17.77849219,\n",
       "         9.23318079,  68.04063787,  -4.46290341,  28.9996489 ,\n",
       "       -65.66258724,  11.49516186,   3.28585258,  30.5880155 ,\n",
       "       -13.53368091, 100.23748855,  82.95255413, -65.96729499,\n",
       "       -34.75382958, -61.89758046,   8.6105978 ,  20.24211492,\n",
       "       -28.2494478 , -67.33930964,  -0.8179203 ,  13.28872035,\n",
       "       -10.39032055,  11.05961387,  14.34057879, -87.30486231,\n",
       "        27.86989087,  76.58372175,  -3.59904236, 107.02903376,\n",
       "       -96.87039434, 121.88932784, -70.22151131,  75.01079309,\n",
       "       136.41947695, -60.84464162,  41.30188548,  -3.61099503,\n",
       "        34.82296969, -85.9609802 , -12.61525272,  88.77956354,\n",
       "        -8.95602969,   0.46266997,  -5.82792219, -71.92953423,\n",
       "       -38.59650403,  60.51826613, -69.24081739, -63.36107623,\n",
       "       -13.86782191,  10.39723273,  53.12334753,  50.51126107,\n",
       "       -44.20665581,  64.06916965, -33.27716472, -64.99040097,\n",
       "        11.71651145, -81.58080563, -57.61963194, -31.67748053,\n",
       "        -8.58798761, -57.90753277,  27.91092115,  12.23914718,\n",
       "        57.37979499,  12.08441461, -13.33138127, -83.7945098 ,\n",
       "        -0.75897923,  50.08157347,  74.26324459,  18.68679385,\n",
       "        13.97209678, -20.29528793, 139.45146398, -13.88138677,\n",
       "       -63.84700667, 115.56222625,  10.86059959,  17.11893167,\n",
       "       -25.98201143, -89.66651476, 122.6584388 , -10.83407513,\n",
       "        52.65251144,   4.85685789, -66.99990967, -25.876677  ,\n",
       "       -66.5949282 , -12.37236911,  14.29441562,  61.28115927,\n",
       "        57.90148384,  38.68336351,  -6.1395644 , -78.33618385,\n",
       "        58.42569702, -65.48955493,  -8.43648229,  30.45893375,\n",
       "       -70.13508095,  12.16934696, -65.36755877, -22.82782078,\n",
       "       128.89914316,  -4.73159543,  65.12560858, -38.60145679,\n",
       "        -3.44555421, -53.51928273,  47.91018986,  34.38534032,\n",
       "       -31.54054177,  -2.14247505, -50.44039282, -62.75985558,\n",
       "         0.7711449 ,  14.41795796,  22.37957195, -49.58732138,\n",
       "        -4.93997109,  10.97743439,  -5.85564921,   2.80274928,\n",
       "        66.05480268,  17.7579986 ,  21.44303423, -13.158118  ,\n",
       "         7.16852155, -70.34190472,  25.28881884, -45.74923092,\n",
       "       -24.05048285, -89.83814091,  10.16167521, -55.40715362,\n",
       "       -34.12881596, -91.21123082,  51.14826599,  -3.19259318,\n",
       "       -30.51690195,  40.19595891, -35.0897724 ,  97.97170706,\n",
       "        13.56640553, -24.51396281, 128.89914316,   5.35354348,\n",
       "        48.12262032, -31.49788859,  -7.37411067, 121.71458065,\n",
       "         9.97715887, -18.94686745, -65.60306911,  82.03050777,\n",
       "        45.21447342, -49.78951071,  12.4754889 ,   9.82701123,\n",
       "       -12.71703482,  -5.16799633,  -5.2551774 ,  47.45445771,\n",
       "       -38.15534901, -33.63024126,  -1.19520801,  36.50409139,\n",
       "       -39.92493772, -35.28882028,  99.96098162,  21.17481825,\n",
       "        97.205955  , -74.44185856])"
      ]
     },
     "execution_count": 26,
     "metadata": {},
     "output_type": "execute_result"
    }
   ],
   "source": [
    "model1.decision_function(X_test)"
   ]
  },
  {
   "cell_type": "code",
   "execution_count": 27,
   "metadata": {},
   "outputs": [
    {
     "data": {
      "text/plain": [
       "SVC(random_state=0)"
      ]
     },
     "execution_count": 27,
     "metadata": {},
     "output_type": "execute_result"
    }
   ],
   "source": [
    "from sklearn.svm import SVC\n",
    "model2=SVC(random_state=0)\n",
    "model2.fit(X_train, y_train)"
   ]
  },
  {
   "cell_type": "code",
   "execution_count": 28,
   "metadata": {},
   "outputs": [
    {
     "name": "stdout",
     "output_type": "stream",
     "text": [
      "학습용: 0.8410194174757282\n",
      "검증용: 0.8058252427184466\n"
     ]
    }
   ],
   "source": [
    "print(\"학습용:\",model2.score(X_train, y_train)) \n",
    "print(\"검증용:\",model2.score(X_test, y_test)) "
   ]
  },
  {
   "cell_type": "code",
   "execution_count": 29,
   "metadata": {},
   "outputs": [
    {
     "data": {
      "text/plain": [
       "array([-1.34693068e+00, -5.77033054e-01, -1.19073248e+00, -3.74141828e-01,\n",
       "       -3.31613634e-01,  4.33336564e-01,  2.45347364e-01,  2.36404180e-01,\n",
       "        1.78024849e-01, -1.12581678e+00, -5.49515624e-01,  4.32998953e-01,\n",
       "       -1.70292060e-02,  5.41544568e-01, -2.00770266e-01,  1.04200806e+00,\n",
       "       -2.66077175e-02,  1.12210120e-03, -1.34305147e-01, -6.71139486e-01,\n",
       "       -1.74867211e-01, -3.00953972e-01, -3.10671749e-01, -5.43861558e-01,\n",
       "        4.80339215e-02, -8.47147344e-01, -1.02784725e+00, -7.61739301e-01,\n",
       "        2.92520207e-01,  1.76888048e-01,  1.28033310e+00,  8.53501468e-01,\n",
       "        2.34367568e+00,  4.89602880e-01,  1.01211209e-01,  2.52745280e+00,\n",
       "       -9.60300059e-01,  2.03372086e-01,  3.08894789e-01,  3.19907064e+00,\n",
       "       -6.69461086e-01,  1.18320533e+00,  1.98316460e-01, -1.18109497e+00,\n",
       "       -5.19510714e-01, -1.02737153e+00,  3.90374991e-01,  6.41335344e-02,\n",
       "       -3.21125229e-01, -1.01629192e+00, -6.12157656e-01, -3.02051918e-01,\n",
       "       -3.84198476e-01, -2.28550147e-02,  1.81533083e-01, -1.08895012e+00,\n",
       "        2.80880218e-01,  2.17722060e-01, -5.62053531e-02,  1.05845452e+00,\n",
       "       -1.06319476e+00,  9.49192290e-01, -1.33018915e+00,  5.52857505e-01,\n",
       "        7.95384842e-01, -7.22847323e-01,  3.86859050e-01,  4.86685939e-02,\n",
       "       -5.19930392e-02, -1.16248119e+00,  8.08381697e-02,  4.16647805e-01,\n",
       "        1.45063290e-01, -1.83529832e-02, -6.72559765e-01, -1.29151311e+00,\n",
       "       -8.61937195e-01,  2.46683024e+00, -9.26114502e-01, -1.02110957e+00,\n",
       "       -1.53232329e-01, -3.56345363e-02,  4.50318822e-01,  4.50084902e-01,\n",
       "       -6.95552329e-01,  3.03200038e-01, -9.08067097e-01, -1.15947762e+00,\n",
       "        2.08538307e-01, -1.15664449e+00, -7.49347602e-01, -5.82662898e-01,\n",
       "       -6.90913160e-01, -1.00984328e+00,  2.83913797e-01,  2.38997389e-02,\n",
       "        4.07797258e-01,  1.78747163e-01, -1.68954681e-01, -1.58066453e+00,\n",
       "        3.02469092e-01, -2.44591442e-01,  6.30967733e-01,  1.95359301e-01,\n",
       "        4.13115492e-01, -4.87331166e-02,  1.25664049e+00,  1.48382204e-01,\n",
       "       -1.20139986e+00,  7.53677247e-01,  1.00801156e+00,  1.50237654e-01,\n",
       "        7.90931175e-01, -1.32078782e+00,  9.24648129e-01,  1.02469501e-01,\n",
       "       -6.16085178e-02, -1.44039467e-01, -1.29257344e+00, -5.39778685e-01,\n",
       "       -1.30680814e+00,  6.08876262e-02,  2.75986926e-01,  7.23577631e-01,\n",
       "        1.02198048e+00,  2.44221630e-01, -6.55133568e-02, -9.67090353e-01,\n",
       "        4.06132835e-01, -7.67047341e-01, -2.35820835e-01, -3.67920204e-01,\n",
       "       -1.37904267e+00, -2.88745200e-01, -8.05788663e-01, -5.51646073e-01,\n",
       "        1.07918222e+00, -6.52426524e-01,  1.72586864e-01, -8.69916106e-01,\n",
       "       -6.39226488e-01, -1.04146475e+00,  3.05157911e-01, -3.57103263e-01,\n",
       "       -4.40627277e-01, -5.03881633e-01, -8.07679546e-01, -6.55415712e-01,\n",
       "        4.83163248e-01,  5.49854997e-01,  3.03289085e-01, -5.14350395e-01,\n",
       "       -5.67038326e-01, -6.37030588e-01, -2.33999746e-01, -2.10370464e-01,\n",
       "        8.91856493e-01,  2.42234609e-02, -4.33623792e-02, -5.16407268e-01,\n",
       "       -9.68802047e-04, -1.32095620e+00,  1.81749340e+00, -6.77302237e-01,\n",
       "       -4.62791622e-01, -1.05886727e+00, -3.19983840e-01, -7.85137975e-01,\n",
       "       -1.01478874e+00, -8.98172135e-01, -8.39000456e-03, -4.84991817e-01,\n",
       "       -1.78521970e-01,  6.32676510e-01,  5.81088321e-01,  7.89599097e-01,\n",
       "       -2.93854026e-01, -8.75868044e-01,  1.07918222e+00,  9.12478880e-01,\n",
       "       -7.44491829e-02, -8.38855013e-01, -3.12065006e-02,  1.15153568e+00,\n",
       "        9.96266506e-03, -8.22856282e-01, -8.50136813e-01,  4.77576293e-01,\n",
       "        2.34063312e-01, -6.25954699e-01, -2.05989011e-01, -2.18922643e-01,\n",
       "       -6.77580764e-01, -3.80018077e-02, -7.04493241e-01, -2.49942346e-02,\n",
       "       -7.10962389e-01, -9.69361404e-01,  2.57862684e-01,  1.54384342e-01,\n",
       "       -9.37145677e-01, -3.41592386e-01,  1.24007830e+00, -3.85899863e-01,\n",
       "        3.67766434e-01, -7.79931240e-01])"
      ]
     },
     "execution_count": 29,
     "metadata": {},
     "output_type": "execute_result"
    }
   ],
   "source": [
    "model2.decision_function(X_test)"
   ]
  },
  {
   "cell_type": "code",
   "execution_count": 30,
   "metadata": {},
   "outputs": [],
   "source": [
    "import matplotlib.pyplot as plt\n",
    "from sklearn.metrics import roc_curve\n",
    "\n",
    "fpr1,tpr1,thresholds1=roc_curve(y,model1.decision_function(X))\n",
    "fpr2,tpr2,thresholds1=roc_curve(y,model2.decision_function(X))"
   ]
  },
  {
   "cell_type": "code",
   "execution_count": 31,
   "metadata": {},
   "outputs": [
    {
     "data": {
      "image/png": "[encoded data removed]",
      "text/plain": [
       "<Figure size 432x288 with 1 Axes>"
      ]
     },
     "metadata": {
      "needs_background": "light"
     },
     "output_type": "display_data"
    }
   ],
   "source": [
    "plt.plot(fpr1,tpr1,'o-',ms=2,label=\"LOGIT\")\n",
    "plt.plot(fpr2,tpr2,'o-',ms=2,label=\"SVM\")\n",
    "plt.legend()\n",
    "plt.plot([0,1],[0,1],'k--',label=\"random guess\")\n",
    "plt.xlabel('FPR')\n",
    "plt.ylabel('TPR')\n",
    "plt.title('ROC curve')\n",
    "plt.show()"
   ]
  },
  {
   "cell_type": "code",
   "execution_count": 32,
   "metadata": {},
   "outputs": [
    {
     "data": {
      "text/plain": [
       "(0.9999886861189994, 0.9225979687812309)"
      ]
     },
     "execution_count": 32,
     "metadata": {},
     "output_type": "execute_result"
    }
   ],
   "source": [
    "from sklearn.metrics import auc\n",
    "auc(fpr1, tpr1), auc(fpr2, tpr2)"
   ]
  },
  {
   "cell_type": "code",
   "execution_count": null,
   "metadata": {},
   "outputs": [],
   "source": []
  }
 ],
 "metadata": {
  "interpreter": {
   "hash": "cef9e06bb236b2a8629b07e87a04b187b952a0f661eff5533360a155783f0c33"
  },
  "kernelspec": {
   "display_name": "Python 3.8.8 64-bit ('base': conda)",
   "language": "python",
   "name": "python3"
  },
  "language_info": {
   "codemirror_mode": {
    "name": "ipython",
    "version": 3
   },
   "file_extension": ".py",
   "mimetype": "text/x-python",
   "name": "python",
   "nbconvert_exporter": "python",
   "pygments_lexer": "ipython3",
   "version": "3.8.8"
  },
  "orig_nbformat": 4
 },
 "nbformat": 4,
 "nbformat_minor": 2
}
