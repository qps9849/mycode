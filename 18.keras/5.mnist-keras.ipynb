{
 "cells": [
  {
   "cell_type": "code",
   "execution_count": 14,
   "metadata": {},
   "outputs": [],
   "source": [
    "from tensorflow.keras.datasets import mnist\n",
    "from keras.utils import np_utils\n",
    "from tensorflow.keras.models import Sequential\n",
    "from tensorflow.keras.layers import Dense\n",
    "\n",
    "(x_train, y_train), (x_test, y_test) = mnist.load_data()\n",
    "x_train=x_train.reshape(60000,784).astype('float32')/255.0\n",
    "x_test=x_test.reshape(10000,784).astype('float32')/255.0\n",
    "y_train=np_utils.to_categorical(y_train)\n",
    "y_test=np_utils.to_categorical(y_test)\n",
    "x_val=x_train[:12600]\n",
    "x_train=x_train[12600:]\n",
    "y_val=y_train[:12600]\n",
    "y_train=y_train[12600:]\n",
    "model=Sequential()\n",
    "model.add(Dense(units=512, input_dim=28*28,activation='relu'))\n",
    "model.add(Dense(units=10,activation='softmax'))\n",
    "model.compile(loss='categorical_crossentropy',optimizer='sgd', metrics=['accuracy'])"
   ]
  },
  {
   "cell_type": "code",
   "execution_count": 15,
   "metadata": {},
   "outputs": [
    {
     "name": "stdout",
     "output_type": "stream",
     "text": [
      "Epoch 1/5\n",
      "1482/1482 [==============================] - 4s 3ms/step - loss: 0.6776 - accuracy: 0.8363 - val_loss: 0.3794 - val_accuracy: 0.8991\n",
      "Epoch 2/5\n",
      "1482/1482 [==============================] - 4s 2ms/step - loss: 0.3477 - accuracy: 0.9039 - val_loss: 0.3065 - val_accuracy: 0.9159\n",
      "Epoch 3/5\n",
      "1482/1482 [==============================] - 4s 3ms/step - loss: 0.2962 - accuracy: 0.9170 - val_loss: 0.2740 - val_accuracy: 0.9244\n",
      "Epoch 4/5\n",
      "1482/1482 [==============================] - 4s 2ms/step - loss: 0.2643 - accuracy: 0.9262 - val_loss: 0.2485 - val_accuracy: 0.9317\n",
      "Epoch 5/5\n",
      "1482/1482 [==============================] - 4s 3ms/step - loss: 0.2410 - accuracy: 0.9328 - val_loss: 0.2305 - val_accuracy: 0.9358\n"
     ]
    }
   ],
   "source": [
    "hist=model.fit(x_train, y_train, epochs=5, batch_size=32,validation_data=(x_val, y_val))"
   ]
  },
  {
   "cell_type": "code",
   "execution_count": 16,
   "metadata": {},
   "outputs": [
    {
     "name": "stdout",
     "output_type": "stream",
     "text": [
      "loss_and_metrics : [0.21947963535785675, 0.9391000270843506]\n",
      "INFO:tensorflow:Assets written to: c:/data/mnist\\assets\n"
     ]
    }
   ],
   "source": [
    "import numpy as np\n",
    "loss_and_metrics=model.evaluate(x_test,y_test,batch_size=32,verbose=0)\n",
    "print('loss_and_metrics : '+str(loss_and_metrics))\n",
    "\n",
    "model.save('c:/data/mnist')"
   ]
  },
  {
   "cell_type": "code",
   "execution_count": 17,
   "metadata": {},
   "outputs": [
    {
     "name": "stderr",
     "output_type": "stream",
     "text": [
      "No handles with labels found to put in legend.\n"
     ]
    },
    {
     "data": {
      "image/png": "[encoded data removed]",
      "text/plain": [
       "<Figure size 432x288 with 2 Axes>"
      ]
     },
     "metadata": {
      "needs_background": "light"
     },
     "output_type": "display_data"
    }
   ],
   "source": [
    "import matplotlib.pyplot as plt\n",
    "fig,loss_ax=plt.subplots()\n",
    "acc_ax=loss_ax.twinx()\n",
    "loss_ax.plot(hist.history['loss'],'y', label='train loss')\n",
    "loss_ax.plot(hist.history['val_loss'],'r', label='val loss')\n",
    "loss_ax.plot(hist.history['accuracy'],'b', label='train acc')\n",
    "loss_ax.plot(hist.history['val_accuracy'],'g', label='val acc')\n",
    "loss_ax.set_xlabel('epoch')\n",
    "loss_ax.set_ylabel('loss')\n",
    "acc_ax.set_ylabel('accuracy')\n",
    "loss_ax.legend(loc='upper left')\n",
    "acc_ax.legend(loc='lower left')\n",
    "plt.show()"
   ]
  },
  {
   "cell_type": "code",
   "execution_count": 18,
   "metadata": {},
   "outputs": [
    {
     "name": "stdout",
     "output_type": "stream",
     "text": [
      "실제값: 4 ,예측값: 4\n",
      "실제값: 0 ,예측값: 0\n",
      "실제값: 1 ,예측값: 1\n",
      "실제값: 4 ,예측값: 4\n",
      "실제값: 0 ,예측값: 0\n",
      "실제값: 8 ,예측값: 8\n",
      "실제값: 5 ,예측값: 5\n",
      "실제값: 0 ,예측값: 0\n",
      "실제값: 2 ,예측값: 2\n",
      "실제값: 1 ,예측값: 1\n"
     ]
    }
   ],
   "source": [
    "from tensorflow.keras.models import load_model\n",
    "from numpy import argmax\n",
    "xhat_idx=np.random.choice(x_test.shape[0],50)\n",
    "xhat=x_test[xhat_idx]\n",
    "model=load_model('c:/data/mnist')\n",
    "yhat=model.predict(xhat)\n",
    "for i in range(10):\n",
    "    print('실제값:',argmax(y_test[xhat_idx[i]]),',예측값:',np.argmax(yhat[i]))"
   ]
  },
  {
   "cell_type": "code",
   "execution_count": null,
   "metadata": {},
   "outputs": [],
   "source": []
  }
 ],
 "metadata": {
  "interpreter": {
   "hash": "cef9e06bb236b2a8629b07e87a04b187b952a0f661eff5533360a155783f0c33"
  },
  "kernelspec": {
   "display_name": "Python 3.8.8 64-bit ('base': conda)",
   "language": "python",
   "name": "python3"
  },
  "language_info": {
   "codemirror_mode": {
    "name": "ipython",
    "version": 3
   },
   "file_extension": ".py",
   "mimetype": "text/x-python",
   "name": "python",
   "nbconvert_exporter": "python",
   "pygments_lexer": "ipython3",
   "version": "3.8.8"
  },
  "orig_nbformat": 4
 },
 "nbformat": 4,
 "nbformat_minor": 2
}
