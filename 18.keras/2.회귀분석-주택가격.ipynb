{
 "cells": [
  {
   "cell_type": "code",
   "execution_count": 1,
   "metadata": {},
   "outputs": [
    {
     "data": {
      "text/plain": [
       "'2.6.0'"
      ]
     },
     "execution_count": 1,
     "metadata": {},
     "output_type": "execute_result"
    }
   ],
   "source": [
    "from tensorflow.python import keras\n",
    "keras.__version__"
   ]
  },
  {
   "cell_type": "code",
   "execution_count": 2,
   "metadata": {},
   "outputs": [],
   "source": [
    "from tensorflow.keras.datasets import boston_housing\n",
    "(X_train,y_train),(X_test,y_test)=boston_housing.load_data()"
   ]
  },
  {
   "cell_type": "code",
   "execution_count": 3,
   "metadata": {},
   "outputs": [
    {
     "name": "stdout",
     "output_type": "stream",
     "text": [
      "(404, 13)\n",
      "13\n"
     ]
    }
   ],
   "source": [
    "print(X_train.shape)\n",
    "print(X_train.shape[1])"
   ]
  },
  {
   "cell_type": "code",
   "execution_count": 4,
   "metadata": {},
   "outputs": [
    {
     "data": {
      "text/plain": [
       "(102, 13)"
      ]
     },
     "execution_count": 4,
     "metadata": {},
     "output_type": "execute_result"
    }
   ],
   "source": [
    "X_test.shape"
   ]
  },
  {
   "cell_type": "code",
   "execution_count": 5,
   "metadata": {},
   "outputs": [
    {
     "data": {
      "text/plain": [
       "array([15.2, 42.3, 50. , 21.1, 17.7, 18.5, 11.3, 15.6, 15.6, 14.4])"
      ]
     },
     "execution_count": 5,
     "metadata": {},
     "output_type": "execute_result"
    }
   ],
   "source": [
    "y_train[0:10]"
   ]
  },
  {
   "cell_type": "code",
   "execution_count": 6,
   "metadata": {},
   "outputs": [
    {
     "data": {
      "text/plain": [
       "<AxesSubplot:>"
      ]
     },
     "execution_count": 6,
     "metadata": {},
     "output_type": "execute_result"
    },
    {
     "data": {
      "image/png": "[encoded data removed]",
      "text/plain": [
       "<Figure size 432x288 with 1 Axes>"
      ]
     },
     "metadata": {
      "needs_background": "light"
     },
     "output_type": "display_data"
    }
   ],
   "source": [
    "import pandas as pd\n",
    "pd.DataFrame(X_train).boxplot()"
   ]
  },
  {
   "cell_type": "code",
   "execution_count": 7,
   "metadata": {},
   "outputs": [
    {
     "data": {
      "text/plain": [
       "<AxesSubplot:>"
      ]
     },
     "execution_count": 7,
     "metadata": {},
     "output_type": "execute_result"
    },
    {
     "data": {
      "image/png": "[encoded data removed]",
      "text/plain": [
       "<Figure size 432x288 with 1 Axes>"
      ]
     },
     "metadata": {
      "needs_background": "light"
     },
     "output_type": "display_data"
    }
   ],
   "source": [
    "from sklearn.preprocessing import StandardScaler\n",
    "scaler=StandardScaler()\n",
    "scaler.fit(X_train)\n",
    "X_train_scaled=scaler.transform(X_train)\n",
    "X_test_scaled=scaler.transform(X_test)\n",
    "\n",
    "pd.DataFrame(X_train_scaled).boxplot()"
   ]
  },
  {
   "cell_type": "code",
   "execution_count": 8,
   "metadata": {},
   "outputs": [],
   "source": [
    "from tensorflow.keras import models\n",
    "from tensorflow.keras import layers\n",
    "def build_model():\n",
    "    model=models.Sequential()\n",
    "    model.add(layers.Dense(64,activation='relu',input_shape=(X_train.shape[1],)))\n",
    "    model.add(layers.Dense(64,activation='relu'))\n",
    "    model.add(layers.Dense(1))\n",
    "    model.compile(optimizer='rmsprop',loss='mse',metrics=['mae'])\n",
    "    return model"
   ]
  },
  {
   "cell_type": "code",
   "execution_count": 19,
   "metadata": {},
   "outputs": [
    {
     "name": "stdout",
     "output_type": "stream",
     "text": [
      "Epoch 1/100\n",
      "41/41 [==============================] - 0s 913us/step - loss: 345.7468 - mae: 11.3194\n",
      "Epoch 2/100\n",
      "41/41 [==============================] - 0s 606us/step - loss: 160.1613 - mae: 9.7582\n",
      "Epoch 3/100\n",
      "41/41 [==============================] - 0s 701us/step - loss: 141.5457 - mae: 9.3087\n",
      "Epoch 4/100\n",
      "41/41 [==============================] - 0s 633us/step - loss: 122.3275 - mae: 8.7706\n",
      "Epoch 5/100\n",
      "41/41 [==============================] - 0s 644us/step - loss: 136.2074 - mae: 9.2201\n",
      "Epoch 6/100\n",
      "41/41 [==============================] - 0s 693us/step - loss: 117.5565 - mae: 8.3399\n",
      "Epoch 7/100\n",
      "41/41 [==============================] - 0s 784us/step - loss: 85.9238 - mae: 7.2639\n",
      "Epoch 8/100\n",
      "41/41 [==============================] - 0s 806us/step - loss: 111.3487 - mae: 7.9639\n",
      "Epoch 9/100\n",
      "41/41 [==============================] - 0s 709us/step - loss: 101.9508 - mae: 7.4102\n",
      "Epoch 10/100\n",
      "41/41 [==============================] - 0s 699us/step - loss: 95.1513 - mae: 7.2382\n",
      "Epoch 11/100\n",
      "41/41 [==============================] - 0s 639us/step - loss: 89.9389 - mae: 7.1451\n",
      "Epoch 12/100\n",
      "41/41 [==============================] - 0s 676us/step - loss: 89.8749 - mae: 6.9775\n",
      "Epoch 13/100\n",
      "41/41 [==============================] - 0s 676us/step - loss: 87.6069 - mae: 7.0225\n",
      "Epoch 14/100\n",
      "41/41 [==============================] - 0s 974us/step - loss: 69.5579 - mae: 6.0141\n",
      "Epoch 15/100\n",
      "41/41 [==============================] - 0s 1ms/step - loss: 84.2972 - mae: 7.1199\n",
      "Epoch 16/100\n",
      "41/41 [==============================] - 0s 967us/step - loss: 86.2603 - mae: 7.0252\n",
      "Epoch 17/100\n",
      "41/41 [==============================] - 0s 801us/step - loss: 67.7751 - mae: 6.1661\n",
      "Epoch 18/100\n",
      "41/41 [==============================] - 0s 648us/step - loss: 76.1482 - mae: 6.5528\n",
      "Epoch 19/100\n",
      "41/41 [==============================] - 0s 593us/step - loss: 68.5625 - mae: 6.2475\n",
      "Epoch 20/100\n",
      "41/41 [==============================] - 0s 654us/step - loss: 71.4631 - mae: 6.4220\n",
      "Epoch 21/100\n",
      "41/41 [==============================] - 0s 630us/step - loss: 70.1251 - mae: 6.1214\n",
      "Epoch 22/100\n",
      "41/41 [==============================] - 0s 671us/step - loss: 62.7047 - mae: 5.8690\n",
      "Epoch 23/100\n",
      "41/41 [==============================] - 0s 605us/step - loss: 61.6444 - mae: 6.1636\n",
      "Epoch 24/100\n",
      "41/41 [==============================] - 0s 650us/step - loss: 65.5700 - mae: 6.0295\n",
      "Epoch 25/100\n",
      "41/41 [==============================] - 0s 582us/step - loss: 56.2445 - mae: 5.7701\n",
      "Epoch 26/100\n",
      "41/41 [==============================] - 0s 737us/step - loss: 57.9117 - mae: 5.6183\n",
      "Epoch 27/100\n",
      "41/41 [==============================] - 0s 609us/step - loss: 58.3072 - mae: 5.6979\n",
      "Epoch 28/100\n",
      "41/41 [==============================] - 0s 691us/step - loss: 58.1195 - mae: 5.6566\n",
      "Epoch 29/100\n",
      "41/41 [==============================] - 0s 618us/step - loss: 50.3095 - mae: 5.2273\n",
      "Epoch 30/100\n",
      "41/41 [==============================] - 0s 605us/step - loss: 51.2670 - mae: 5.5206\n",
      "Epoch 31/100\n",
      "41/41 [==============================] - 0s 613us/step - loss: 48.3100 - mae: 5.0805\n",
      "Epoch 32/100\n",
      "41/41 [==============================] - 0s 625us/step - loss: 54.3101 - mae: 5.3714\n",
      "Epoch 33/100\n",
      "41/41 [==============================] - 0s 781us/step - loss: 53.4627 - mae: 5.5232\n",
      "Epoch 34/100\n",
      "41/41 [==============================] - 0s 564us/step - loss: 44.6154 - mae: 5.0494\n",
      "Epoch 35/100\n",
      "41/41 [==============================] - 0s 642us/step - loss: 53.7228 - mae: 5.3604\n",
      "Epoch 36/100\n",
      "41/41 [==============================] - 0s 706us/step - loss: 44.4301 - mae: 4.7755\n",
      "Epoch 37/100\n",
      "41/41 [==============================] - 0s 632us/step - loss: 48.1071 - mae: 5.1113\n",
      "Epoch 38/100\n",
      "41/41 [==============================] - 0s 660us/step - loss: 45.8989 - mae: 4.9362\n",
      "Epoch 39/100\n",
      "41/41 [==============================] - 0s 589us/step - loss: 45.9661 - mae: 4.8908\n",
      "Epoch 40/100\n",
      "41/41 [==============================] - 0s 671us/step - loss: 39.2657 - mae: 4.7088\n",
      "Epoch 41/100\n",
      "41/41 [==============================] - 0s 558us/step - loss: 46.2009 - mae: 4.9904\n",
      "Epoch 42/100\n",
      "41/41 [==============================] - 0s 637us/step - loss: 40.9541 - mae: 4.8718\n",
      "Epoch 43/100\n",
      "41/41 [==============================] - 0s 590us/step - loss: 43.4147 - mae: 4.7252\n",
      "Epoch 44/100\n",
      "41/41 [==============================] - 0s 614us/step - loss: 39.4677 - mae: 4.5908\n",
      "Epoch 45/100\n",
      "41/41 [==============================] - 0s 657us/step - loss: 41.1513 - mae: 4.6669\n",
      "Epoch 46/100\n",
      "41/41 [==============================] - 0s 597us/step - loss: 37.2897 - mae: 4.3874\n",
      "Epoch 47/100\n",
      "41/41 [==============================] - 0s 580us/step - loss: 36.9241 - mae: 4.4277\n",
      "Epoch 48/100\n",
      "41/41 [==============================] - 0s 618us/step - loss: 33.5773 - mae: 4.2152\n",
      "Epoch 49/100\n",
      "41/41 [==============================] - 0s 577us/step - loss: 36.1264 - mae: 4.4717\n",
      "Epoch 50/100\n",
      "41/41 [==============================] - 0s 637us/step - loss: 37.9105 - mae: 4.3310\n",
      "Epoch 51/100\n",
      "41/41 [==============================] - 0s 603us/step - loss: 33.6217 - mae: 4.2326\n",
      "Epoch 52/100\n",
      "41/41 [==============================] - 0s 604us/step - loss: 34.1615 - mae: 4.3117\n",
      "Epoch 53/100\n",
      "41/41 [==============================] - 0s 628us/step - loss: 34.7290 - mae: 4.2201\n",
      "Epoch 54/100\n",
      "41/41 [==============================] - 0s 757us/step - loss: 33.4438 - mae: 4.2125\n",
      "Epoch 55/100\n",
      "41/41 [==============================] - 0s 656us/step - loss: 28.4974 - mae: 4.0094\n",
      "Epoch 56/100\n",
      "41/41 [==============================] - 0s 607us/step - loss: 32.1662 - mae: 4.0061\n",
      "Epoch 57/100\n",
      "41/41 [==============================] - 0s 577us/step - loss: 30.5508 - mae: 4.1133\n",
      "Epoch 58/100\n",
      "41/41 [==============================] - 0s 655us/step - loss: 32.1682 - mae: 4.1472\n",
      "Epoch 59/100\n",
      "41/41 [==============================] - 0s 641us/step - loss: 28.4373 - mae: 3.8982\n",
      "Epoch 60/100\n",
      "41/41 [==============================] - 0s 618us/step - loss: 31.0659 - mae: 4.0672\n",
      "Epoch 61/100\n",
      "41/41 [==============================] - 0s 638us/step - loss: 24.4928 - mae: 3.5510\n",
      "Epoch 62/100\n",
      "41/41 [==============================] - 0s 700us/step - loss: 30.6003 - mae: 3.9217\n",
      "Epoch 63/100\n",
      "41/41 [==============================] - 0s 617us/step - loss: 27.6209 - mae: 3.9201\n",
      "Epoch 64/100\n",
      "41/41 [==============================] - 0s 584us/step - loss: 27.6370 - mae: 3.8395\n",
      "Epoch 65/100\n",
      "41/41 [==============================] - 0s 617us/step - loss: 23.7748 - mae: 3.6825\n",
      "Epoch 66/100\n",
      "41/41 [==============================] - 0s 580us/step - loss: 24.4311 - mae: 3.7510\n",
      "Epoch 67/100\n",
      "41/41 [==============================] - 0s 615us/step - loss: 24.7779 - mae: 3.5733\n",
      "Epoch 68/100\n",
      "41/41 [==============================] - 0s 652us/step - loss: 24.0899 - mae: 3.5781\n",
      "Epoch 69/100\n",
      "41/41 [==============================] - 0s 639us/step - loss: 23.0221 - mae: 3.3870\n",
      "Epoch 70/100\n",
      "41/41 [==============================] - 0s 683us/step - loss: 29.8526 - mae: 3.7715\n",
      "Epoch 71/100\n",
      "41/41 [==============================] - 0s 559us/step - loss: 21.8213 - mae: 3.5166\n",
      "Epoch 72/100\n",
      "41/41 [==============================] - 0s 589us/step - loss: 23.1324 - mae: 3.5435\n",
      "Epoch 73/100\n",
      "41/41 [==============================] - 0s 640us/step - loss: 25.5070 - mae: 3.7253\n",
      "Epoch 74/100\n",
      "41/41 [==============================] - 0s 578us/step - loss: 24.7654 - mae: 3.5097\n",
      "Epoch 75/100\n",
      "41/41 [==============================] - 0s 654us/step - loss: 23.6736 - mae: 3.4643\n",
      "Epoch 76/100\n",
      "41/41 [==============================] - 0s 564us/step - loss: 23.8961 - mae: 3.4019\n",
      "Epoch 77/100\n",
      "41/41 [==============================] - 0s 614us/step - loss: 27.6929 - mae: 3.7223\n",
      "Epoch 78/100\n",
      "41/41 [==============================] - 0s 704us/step - loss: 20.3827 - mae: 3.3190\n",
      "Epoch 79/100\n",
      "41/41 [==============================] - 0s 615us/step - loss: 24.6890 - mae: 3.5352\n",
      "Epoch 80/100\n",
      "41/41 [==============================] - 0s 659us/step - loss: 20.9664 - mae: 3.3840\n",
      "Epoch 81/100\n",
      "41/41 [==============================] - 0s 591us/step - loss: 23.6547 - mae: 3.5730\n",
      "Epoch 82/100\n",
      "41/41 [==============================] - 0s 680us/step - loss: 25.4165 - mae: 3.6275\n",
      "Epoch 83/100\n",
      "41/41 [==============================] - 0s 633us/step - loss: 23.0369 - mae: 3.2991\n",
      "Epoch 84/100\n",
      "41/41 [==============================] - 0s 607us/step - loss: 24.1463 - mae: 3.4747\n",
      "Epoch 85/100\n",
      "41/41 [==============================] - 0s 618us/step - loss: 20.8670 - mae: 3.2127\n",
      "Epoch 86/100\n",
      "41/41 [==============================] - 0s 645us/step - loss: 20.8996 - mae: 3.3723\n",
      "Epoch 87/100\n",
      "41/41 [==============================] - 0s 588us/step - loss: 23.1983 - mae: 3.4607\n",
      "Epoch 88/100\n",
      "41/41 [==============================] - 0s 1ms/step - loss: 21.7143 - mae: 3.2844\n",
      "Epoch 89/100\n",
      "41/41 [==============================] - 0s 599us/step - loss: 19.7350 - mae: 3.2110\n",
      "Epoch 90/100\n",
      "41/41 [==============================] - 0s 646us/step - loss: 23.1583 - mae: 3.4763\n",
      "Epoch 91/100\n",
      "41/41 [==============================] - 0s 643us/step - loss: 17.4506 - mae: 3.1266\n",
      "Epoch 92/100\n",
      "41/41 [==============================] - 0s 570us/step - loss: 20.8883 - mae: 3.3012\n",
      "Epoch 93/100\n",
      "41/41 [==============================] - 0s 615us/step - loss: 21.9285 - mae: 3.2428\n",
      "Epoch 94/100\n",
      "41/41 [==============================] - 0s 584us/step - loss: 19.4556 - mae: 3.1509\n",
      "Epoch 95/100\n",
      "41/41 [==============================] - 0s 647us/step - loss: 19.3793 - mae: 3.1998\n",
      "Epoch 96/100\n",
      "41/41 [==============================] - 0s 597us/step - loss: 18.9222 - mae: 3.1942\n",
      "Epoch 97/100\n",
      "41/41 [==============================] - 0s 628us/step - loss: 21.3650 - mae: 3.2913\n",
      "Epoch 98/100\n",
      "41/41 [==============================] - 0s 687us/step - loss: 18.6196 - mae: 3.1154\n",
      "Epoch 99/100\n",
      "41/41 [==============================] - 0s 576us/step - loss: 21.7291 - mae: 3.2615\n",
      "Epoch 100/100\n",
      "41/41 [==============================] - 0s 601us/step - loss: 19.9825 - mae: 3.2011\n"
     ]
    }
   ],
   "source": [
    "model=build_model()\n",
    "hist=model.fit(X_train,y_train,epochs=100,batch_size=10,verbose=1)"
   ]
  },
  {
   "cell_type": "code",
   "execution_count": 20,
   "metadata": {},
   "outputs": [
    {
     "name": "stdout",
     "output_type": "stream",
     "text": [
      "4/4 [==============================] - 0s 2ms/step - loss: 36.6144 - mae: 4.5103\n",
      "36.61442184448242\n",
      "4.510293006896973\n"
     ]
    }
   ],
   "source": [
    "mse,mae=model.evaluate(X_test,y_test,verbose=1)\n",
    "print(mse)\n",
    "print(mae)"
   ]
  },
  {
   "cell_type": "code",
   "execution_count": 21,
   "metadata": {},
   "outputs": [
    {
     "data": {
      "image/png": "[encoded data removed]",
      "text/plain": [
       "<Figure size 432x288 with 1 Axes>"
      ]
     },
     "metadata": {
      "needs_background": "light"
     },
     "output_type": "display_data"
    }
   ],
   "source": [
    "import matplotlib.pyplot as plt\n",
    "plt.plot(hist.history[\"mae\"])\n",
    "plt.ylabel('mae')\n",
    "plt.xlabel('epoch')\n",
    "plt.show()"
   ]
  },
  {
   "cell_type": "code",
   "execution_count": 12,
   "metadata": {},
   "outputs": [
    {
     "name": "stdout",
     "output_type": "stream",
     "text": [
      "Model: \"sequential\"\n",
      "_________________________________________________________________\n",
      " Layer (type)                Output Shape              Param #   \n",
      "=================================================================\n",
      " dense (Dense)               (None, 64)                896       \n",
      "                                                                 \n",
      " dense_1 (Dense)             (None, 64)                4160      \n",
      "                                                                 \n",
      " dense_2 (Dense)             (None, 1)                 65        \n",
      "                                                                 \n",
      "=================================================================\n",
      "Total params: 5,121\n",
      "Trainable params: 5,121\n",
      "Non-trainable params: 0\n",
      "_________________________________________________________________\n"
     ]
    }
   ],
   "source": [
    "model.summary()"
   ]
  },
  {
   "cell_type": "code",
   "execution_count": null,
   "metadata": {},
   "outputs": [],
   "source": []
  }
 ],
 "metadata": {
  "interpreter": {
   "hash": "cef9e06bb236b2a8629b07e87a04b187b952a0f661eff5533360a155783f0c33"
  },
  "kernelspec": {
   "display_name": "Python 3.8.8 64-bit ('base': conda)",
   "language": "python",
   "name": "python3"
  },
  "language_info": {
   "codemirror_mode": {
    "name": "ipython",
    "version": 3
   },
   "file_extension": ".py",
   "mimetype": "text/x-python",
   "name": "python",
   "nbconvert_exporter": "python",
   "pygments_lexer": "ipython3",
   "version": "3.8.8"
  },
  "orig_nbformat": 4
 },
 "nbformat": 4,
 "nbformat_minor": 2
}
