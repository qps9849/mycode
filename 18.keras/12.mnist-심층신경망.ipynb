{
 "cells": [
  {
   "cell_type": "code",
   "execution_count": 1,
   "metadata": {},
   "outputs": [
    {
     "name": "stdout",
     "output_type": "stream",
     "text": [
      "[5 0 4 1 9]\n",
      "[[0. 0. 0. 0. 0. 1. 0. 0. 0. 0.]\n",
      " [1. 0. 0. 0. 0. 0. 0. 0. 0. 0.]\n",
      " [0. 0. 0. 0. 1. 0. 0. 0. 0. 0.]\n",
      " [0. 1. 0. 0. 0. 0. 0. 0. 0. 0.]\n",
      " [0. 0. 0. 0. 0. 0. 0. 0. 0. 1.]]\n"
     ]
    }
   ],
   "source": [
    "from tensorflow.keras import datasets\n",
    "from keras.utils import np_utils\n",
    "\n",
    "(X_train,y_train),(X_test,y_test)=datasets.mnist.load_data()\n",
    "print(y_train[:5])\n",
    "y_train=np_utils.to_categorical(y_train)\n",
    "print(y_train[:5])\n",
    "y_test=np_utils.to_categorical(y_test)\n",
    "L,W,H=X_train.shape\n",
    "X_train=X_train.reshape(-1,W*H)\n",
    "X_test=X_test.reshape(-1,W*H)\n",
    "X_train=X_train/255.0\n",
    "X_test=X_test/255.0"
   ]
  },
  {
   "cell_type": "code",
   "execution_count": 2,
   "metadata": {},
   "outputs": [],
   "source": [
    "from tensorflow.keras.layers import Dense, Dropout\n",
    "from tensorflow.keras.models import Sequential\n",
    "\n",
    "def make_model(input_number, layers, output_number):\n",
    "    model=Sequential()\n",
    "    model.add(Dense(layers[0], activation='relu', input_shape=(input_number,),name='Hidden-1'))\n",
    "    model.add(Dense(layers[1], activation='relu', name='Hidden-2'))\n",
    "    model.add(Dense(layers[2], activation='relu', name='Hidden-3'))\n",
    "    model.add(Dropout(0.2))\n",
    "    model.add(Dense(output_number,activation='softmax',name='output'))\n",
    "    model.compile(loss='categorical_crossentropy',optimizer='adam',metrics=['accuracy'])\n",
    "    return model"
   ]
  },
  {
   "cell_type": "code",
   "execution_count": 3,
   "metadata": {},
   "outputs": [
    {
     "name": "stdout",
     "output_type": "stream",
     "text": [
      "[128, 64, 32]\n"
     ]
    }
   ],
   "source": [
    "input_number=784\n",
    "hidden_layers=[128,64,32]\n",
    "print(hidden_layers)\n",
    "number_of_class=10\n",
    "output_number=number_of_class\n",
    "model=make_model(input_number,hidden_layers,output_number)"
   ]
  },
  {
   "cell_type": "code",
   "execution_count": 8,
   "metadata": {},
   "outputs": [
    {
     "name": "stdout",
     "output_type": "stream",
     "text": [
      "Epoch 1/50\n",
      "480/480 [==============================] - 1s 2ms/step - loss: 0.0691 - accuracy: 0.9801 - val_loss: 0.1021 - val_accuracy: 0.9709\n",
      "Epoch 2/50\n",
      "480/480 [==============================] - 1s 1ms/step - loss: 0.0576 - accuracy: 0.9823 - val_loss: 0.1000 - val_accuracy: 0.9719\n",
      "Epoch 3/50\n",
      "480/480 [==============================] - 1s 2ms/step - loss: 0.0479 - accuracy: 0.9855 - val_loss: 0.0987 - val_accuracy: 0.9740\n",
      "Epoch 4/50\n",
      "480/480 [==============================] - 1s 1ms/step - loss: 0.0428 - accuracy: 0.9874 - val_loss: 0.1106 - val_accuracy: 0.9735\n",
      "Epoch 5/50\n",
      "480/480 [==============================] - 1s 2ms/step - loss: 0.0374 - accuracy: 0.9883 - val_loss: 0.0920 - val_accuracy: 0.9762\n",
      "Epoch 6/50\n",
      "480/480 [==============================] - 1s 2ms/step - loss: 0.0330 - accuracy: 0.9896 - val_loss: 0.1030 - val_accuracy: 0.9758\n",
      "Epoch 7/50\n",
      "480/480 [==============================] - 1s 2ms/step - loss: 0.0282 - accuracy: 0.9910 - val_loss: 0.1139 - val_accuracy: 0.9747\n",
      "Epoch 8/50\n",
      "480/480 [==============================] - 1s 2ms/step - loss: 0.0258 - accuracy: 0.9922 - val_loss: 0.1201 - val_accuracy: 0.9760\n",
      "Epoch 9/50\n",
      "480/480 [==============================] - 1s 1ms/step - loss: 0.0256 - accuracy: 0.9918 - val_loss: 0.1169 - val_accuracy: 0.9744\n",
      "Epoch 10/50\n",
      "480/480 [==============================] - 1s 1ms/step - loss: 0.0225 - accuracy: 0.9927 - val_loss: 0.1088 - val_accuracy: 0.9758\n",
      "Epoch 11/50\n",
      "480/480 [==============================] - 1s 1ms/step - loss: 0.0200 - accuracy: 0.9938 - val_loss: 0.1147 - val_accuracy: 0.9761\n",
      "Epoch 12/50\n",
      "480/480 [==============================] - 1s 1ms/step - loss: 0.0202 - accuracy: 0.9938 - val_loss: 0.1098 - val_accuracy: 0.9759\n",
      "Epoch 13/50\n",
      "480/480 [==============================] - 1s 1ms/step - loss: 0.0158 - accuracy: 0.9946 - val_loss: 0.1306 - val_accuracy: 0.9743\n",
      "Epoch 14/50\n",
      "480/480 [==============================] - 1s 1ms/step - loss: 0.0186 - accuracy: 0.9943 - val_loss: 0.1204 - val_accuracy: 0.9763\n",
      "Epoch 15/50\n",
      "480/480 [==============================] - 1s 1ms/step - loss: 0.0147 - accuracy: 0.9957 - val_loss: 0.1158 - val_accuracy: 0.9777\n",
      "Epoch 16/50\n",
      "480/480 [==============================] - 1s 1ms/step - loss: 0.0150 - accuracy: 0.9948 - val_loss: 0.1347 - val_accuracy: 0.9771\n",
      "Epoch 17/50\n",
      "480/480 [==============================] - 1s 1ms/step - loss: 0.0136 - accuracy: 0.9955 - val_loss: 0.1340 - val_accuracy: 0.9766\n",
      "Epoch 18/50\n",
      "480/480 [==============================] - 1s 1ms/step - loss: 0.0138 - accuracy: 0.9958 - val_loss: 0.1342 - val_accuracy: 0.9751\n",
      "Epoch 19/50\n",
      "480/480 [==============================] - 1s 1ms/step - loss: 0.0137 - accuracy: 0.9957 - val_loss: 0.1475 - val_accuracy: 0.9752\n",
      "Epoch 20/50\n",
      "480/480 [==============================] - 1s 2ms/step - loss: 0.0156 - accuracy: 0.9950 - val_loss: 0.1264 - val_accuracy: 0.9762\n",
      "Epoch 21/50\n",
      "480/480 [==============================] - 1s 2ms/step - loss: 0.0097 - accuracy: 0.9970 - val_loss: 0.1365 - val_accuracy: 0.9762\n",
      "Epoch 22/50\n",
      "480/480 [==============================] - 1s 2ms/step - loss: 0.0105 - accuracy: 0.9968 - val_loss: 0.1407 - val_accuracy: 0.9769\n",
      "Epoch 23/50\n",
      "480/480 [==============================] - 1s 2ms/step - loss: 0.0119 - accuracy: 0.9963 - val_loss: 0.1511 - val_accuracy: 0.9766\n",
      "Epoch 24/50\n",
      "480/480 [==============================] - 1s 2ms/step - loss: 0.0092 - accuracy: 0.9970 - val_loss: 0.1377 - val_accuracy: 0.9772\n",
      "Epoch 25/50\n",
      "480/480 [==============================] - 1s 2ms/step - loss: 0.0078 - accuracy: 0.9977 - val_loss: 0.1691 - val_accuracy: 0.9738\n",
      "Epoch 26/50\n",
      "480/480 [==============================] - 1s 1ms/step - loss: 0.0117 - accuracy: 0.9962 - val_loss: 0.1549 - val_accuracy: 0.9750\n",
      "Epoch 27/50\n",
      "480/480 [==============================] - 1s 1ms/step - loss: 0.0102 - accuracy: 0.9968 - val_loss: 0.1556 - val_accuracy: 0.9762\n",
      "Epoch 28/50\n",
      "480/480 [==============================] - 1s 2ms/step - loss: 0.0084 - accuracy: 0.9974 - val_loss: 0.1494 - val_accuracy: 0.9772\n",
      "Epoch 29/50\n",
      "480/480 [==============================] - 1s 2ms/step - loss: 0.0077 - accuracy: 0.9975 - val_loss: 0.1805 - val_accuracy: 0.9732\n",
      "Epoch 30/50\n",
      "480/480 [==============================] - 1s 2ms/step - loss: 0.0133 - accuracy: 0.9963 - val_loss: 0.1422 - val_accuracy: 0.9751\n",
      "Epoch 31/50\n",
      "480/480 [==============================] - 1s 2ms/step - loss: 0.0070 - accuracy: 0.9983 - val_loss: 0.1858 - val_accuracy: 0.9739\n",
      "Epoch 32/50\n",
      "480/480 [==============================] - 1s 2ms/step - loss: 0.0102 - accuracy: 0.9970 - val_loss: 0.1713 - val_accuracy: 0.9740\n",
      "Epoch 33/50\n",
      "480/480 [==============================] - 1s 2ms/step - loss: 0.0061 - accuracy: 0.9983 - val_loss: 0.1802 - val_accuracy: 0.9747\n",
      "Epoch 34/50\n",
      "480/480 [==============================] - 1s 2ms/step - loss: 0.0088 - accuracy: 0.9971 - val_loss: 0.1727 - val_accuracy: 0.9760\n",
      "Epoch 35/50\n",
      "480/480 [==============================] - 1s 2ms/step - loss: 0.0065 - accuracy: 0.9980 - val_loss: 0.1736 - val_accuracy: 0.9743\n",
      "Epoch 36/50\n",
      "480/480 [==============================] - 1s 2ms/step - loss: 0.0086 - accuracy: 0.9973 - val_loss: 0.1626 - val_accuracy: 0.9772\n",
      "Epoch 37/50\n",
      "480/480 [==============================] - 1s 2ms/step - loss: 0.0061 - accuracy: 0.9982 - val_loss: 0.1750 - val_accuracy: 0.9763\n",
      "Epoch 38/50\n",
      "480/480 [==============================] - 1s 1ms/step - loss: 0.0076 - accuracy: 0.9977 - val_loss: 0.1830 - val_accuracy: 0.9740\n",
      "Epoch 39/50\n",
      "480/480 [==============================] - 1s 2ms/step - loss: 0.0079 - accuracy: 0.9978 - val_loss: 0.2030 - val_accuracy: 0.9743\n",
      "Epoch 40/50\n",
      "480/480 [==============================] - 1s 1ms/step - loss: 0.0111 - accuracy: 0.9969 - val_loss: 0.1532 - val_accuracy: 0.9778\n",
      "Epoch 41/50\n",
      "480/480 [==============================] - 1s 1ms/step - loss: 0.0058 - accuracy: 0.9984 - val_loss: 0.1618 - val_accuracy: 0.9771\n",
      "Epoch 42/50\n",
      "480/480 [==============================] - 1s 1ms/step - loss: 0.0071 - accuracy: 0.9980 - val_loss: 0.1913 - val_accuracy: 0.9759\n",
      "Epoch 43/50\n",
      "480/480 [==============================] - 1s 2ms/step - loss: 0.0060 - accuracy: 0.9980 - val_loss: 0.1808 - val_accuracy: 0.9763\n",
      "Epoch 44/50\n",
      "480/480 [==============================] - 1s 1ms/step - loss: 0.0045 - accuracy: 0.9985 - val_loss: 0.1985 - val_accuracy: 0.9742\n",
      "Epoch 45/50\n",
      "480/480 [==============================] - 1s 1ms/step - loss: 0.0094 - accuracy: 0.9975 - val_loss: 0.1672 - val_accuracy: 0.9762\n",
      "Epoch 46/50\n",
      "480/480 [==============================] - 1s 2ms/step - loss: 0.0029 - accuracy: 0.9990 - val_loss: 0.1860 - val_accuracy: 0.9772\n",
      "Epoch 47/50\n",
      "480/480 [==============================] - 1s 1ms/step - loss: 0.0102 - accuracy: 0.9973 - val_loss: 0.1754 - val_accuracy: 0.9762\n",
      "Epoch 48/50\n",
      "480/480 [==============================] - 1s 1ms/step - loss: 0.0064 - accuracy: 0.9981 - val_loss: 0.1806 - val_accuracy: 0.9764\n",
      "Epoch 49/50\n",
      "480/480 [==============================] - 1s 2ms/step - loss: 0.0049 - accuracy: 0.9984 - val_loss: 0.1814 - val_accuracy: 0.9793\n",
      "Epoch 50/50\n",
      "480/480 [==============================] - 1s 2ms/step - loss: 0.0099 - accuracy: 0.9970 - val_loss: 0.1717 - val_accuracy: 0.9776\n"
     ]
    }
   ],
   "source": [
    "hist=model.fit(X_train,y_train, epochs=50,batch_size=100,validation_split=0.2)"
   ]
  },
  {
   "cell_type": "code",
   "execution_count": 9,
   "metadata": {},
   "outputs": [
    {
     "name": "stdout",
     "output_type": "stream",
     "text": [
      "100/100 [==============================] - 0s 1ms/step - loss: 0.1605 - accuracy: 0.9788\n",
      "Loss,Accuracy: [0.16054025292396545, 0.9787999987602234]\n"
     ]
    }
   ],
   "source": [
    "performance_test=model.evaluate(X_test,y_test,batch_size=100)\n",
    "print('Loss,Accuracy:', performance_test)"
   ]
  },
  {
   "cell_type": "code",
   "execution_count": 10,
   "metadata": {},
   "outputs": [
    {
     "data": {
      "image/png": "[encoded data removed]",
      "text/plain": [
       "<Figure size 864x576 with 1 Axes>"
      ]
     },
     "metadata": {
      "needs_background": "light"
     },
     "output_type": "display_data"
    }
   ],
   "source": [
    "import matplotlib.pyplot as plt\n",
    "plt.figure(figsize=(12,8))\n",
    "plt.plot(hist.history['loss'])\n",
    "plt.plot(hist.history['accuracy']) \n",
    "plt.legend(['loss','accuracy'])\n",
    "plt.grid()\n",
    "plt.show()"
   ]
  },
  {
   "cell_type": "code",
   "execution_count": 11,
   "metadata": {},
   "outputs": [
    {
     "name": "stdout",
     "output_type": "stream",
     "text": [
      "Model: \"sequential\"\n",
      "_________________________________________________________________\n",
      " Layer (type)                Output Shape              Param #   \n",
      "=================================================================\n",
      " Hidden-1 (Dense)            (None, 128)               100480    \n",
      "                                                                 \n",
      " Hidden-2 (Dense)            (None, 64)                8256      \n",
      "                                                                 \n",
      " Hidden-3 (Dense)            (None, 32)                2080      \n",
      "                                                                 \n",
      " dropout (Dropout)           (None, 32)                0         \n",
      "                                                                 \n",
      " output (Dense)              (None, 10)                330       \n",
      "                                                                 \n",
      "=================================================================\n",
      "Total params: 111,146\n",
      "Trainable params: 111,146\n",
      "Non-trainable params: 0\n",
      "_________________________________________________________________\n"
     ]
    }
   ],
   "source": [
    "model.summary()"
   ]
  },
  {
   "cell_type": "code",
   "execution_count": null,
   "metadata": {},
   "outputs": [],
   "source": []
  }
 ],
 "metadata": {
  "interpreter": {
   "hash": "cef9e06bb236b2a8629b07e87a04b187b952a0f661eff5533360a155783f0c33"
  },
  "kernelspec": {
   "display_name": "Python 3.8.8 64-bit ('base': conda)",
   "language": "python",
   "name": "python3"
  },
  "language_info": {
   "codemirror_mode": {
    "name": "ipython",
    "version": 3
   },
   "file_extension": ".py",
   "mimetype": "text/x-python",
   "name": "python",
   "nbconvert_exporter": "python",
   "pygments_lexer": "ipython3",
   "version": "3.8.8"
  },
  "orig_nbformat": 4
 },
 "nbformat": 4,
 "nbformat_minor": 2
}
