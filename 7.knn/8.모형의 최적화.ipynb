{
 "cells": [
  {
   "cell_type": "code",
   "execution_count": 1,
   "metadata": {},
   "outputs": [
    {
     "data": {
      "text/html": [
       "<div>\n",
       "<style scoped>\n",
       "    .dataframe tbody tr th:only-of-type {\n",
       "        vertical-align: middle;\n",
       "    }\n",
       "\n",
       "    .dataframe tbody tr th {\n",
       "        vertical-align: top;\n",
       "    }\n",
       "\n",
       "    .dataframe thead th {\n",
       "        text-align: right;\n",
       "    }\n",
       "</style>\n",
       "<table border=\"1\" class=\"dataframe\">\n",
       "  <thead>\n",
       "    <tr style=\"text-align: right;\">\n",
       "      <th></th>\n",
       "      <th>id</th>\n",
       "      <th>player_name</th>\n",
       "      <th>birthday</th>\n",
       "      <th>preferred_foot</th>\n",
       "      <th>age</th>\n",
       "      <th>height</th>\n",
       "      <th>weight</th>\n",
       "      <th>potential</th>\n",
       "      <th>right_foot</th>\n",
       "      <th>left_foot</th>\n",
       "      <th>...</th>\n",
       "      <th>marking</th>\n",
       "      <th>standing_tackle</th>\n",
       "      <th>sliding_tackle</th>\n",
       "      <th>gk_diving</th>\n",
       "      <th>gk_handling</th>\n",
       "      <th>gk_kicking</th>\n",
       "      <th>gk_positioning</th>\n",
       "      <th>gk_reflexes</th>\n",
       "      <th>overall_rating</th>\n",
       "      <th>Label</th>\n",
       "    </tr>\n",
       "  </thead>\n",
       "  <tbody>\n",
       "    <tr>\n",
       "      <th>0</th>\n",
       "      <td>1</td>\n",
       "      <td>Aaron Appindangoye</td>\n",
       "      <td>1992-02-29</td>\n",
       "      <td>right</td>\n",
       "      <td>27</td>\n",
       "      <td>183</td>\n",
       "      <td>187</td>\n",
       "      <td>71</td>\n",
       "      <td>1</td>\n",
       "      <td>0</td>\n",
       "      <td>...</td>\n",
       "      <td>65</td>\n",
       "      <td>69</td>\n",
       "      <td>69</td>\n",
       "      <td>6</td>\n",
       "      <td>11</td>\n",
       "      <td>10</td>\n",
       "      <td>8</td>\n",
       "      <td>8</td>\n",
       "      <td>67</td>\n",
       "      <td>0</td>\n",
       "    </tr>\n",
       "    <tr>\n",
       "      <th>1</th>\n",
       "      <td>2</td>\n",
       "      <td>Aaron Cresswell</td>\n",
       "      <td>1989-12-15</td>\n",
       "      <td>right</td>\n",
       "      <td>30</td>\n",
       "      <td>170</td>\n",
       "      <td>146</td>\n",
       "      <td>71</td>\n",
       "      <td>1</td>\n",
       "      <td>0</td>\n",
       "      <td>...</td>\n",
       "      <td>65</td>\n",
       "      <td>69</td>\n",
       "      <td>69</td>\n",
       "      <td>6</td>\n",
       "      <td>11</td>\n",
       "      <td>10</td>\n",
       "      <td>8</td>\n",
       "      <td>8</td>\n",
       "      <td>67</td>\n",
       "      <td>0</td>\n",
       "    </tr>\n",
       "    <tr>\n",
       "      <th>2</th>\n",
       "      <td>3</td>\n",
       "      <td>Aaron Doran</td>\n",
       "      <td>1991-05-13</td>\n",
       "      <td>right</td>\n",
       "      <td>28</td>\n",
       "      <td>170</td>\n",
       "      <td>163</td>\n",
       "      <td>66</td>\n",
       "      <td>1</td>\n",
       "      <td>0</td>\n",
       "      <td>...</td>\n",
       "      <td>65</td>\n",
       "      <td>66</td>\n",
       "      <td>69</td>\n",
       "      <td>6</td>\n",
       "      <td>11</td>\n",
       "      <td>10</td>\n",
       "      <td>8</td>\n",
       "      <td>8</td>\n",
       "      <td>62</td>\n",
       "      <td>0</td>\n",
       "    </tr>\n",
       "    <tr>\n",
       "      <th>3</th>\n",
       "      <td>4</td>\n",
       "      <td>Aaron Galindo</td>\n",
       "      <td>1982-05-08</td>\n",
       "      <td>right</td>\n",
       "      <td>37</td>\n",
       "      <td>183</td>\n",
       "      <td>198</td>\n",
       "      <td>65</td>\n",
       "      <td>1</td>\n",
       "      <td>0</td>\n",
       "      <td>...</td>\n",
       "      <td>62</td>\n",
       "      <td>63</td>\n",
       "      <td>66</td>\n",
       "      <td>5</td>\n",
       "      <td>10</td>\n",
       "      <td>9</td>\n",
       "      <td>7</td>\n",
       "      <td>7</td>\n",
       "      <td>61</td>\n",
       "      <td>0</td>\n",
       "    </tr>\n",
       "    <tr>\n",
       "      <th>4</th>\n",
       "      <td>5</td>\n",
       "      <td>Aaron Hughes</td>\n",
       "      <td>1979-11-08</td>\n",
       "      <td>right</td>\n",
       "      <td>40</td>\n",
       "      <td>183</td>\n",
       "      <td>154</td>\n",
       "      <td>65</td>\n",
       "      <td>1</td>\n",
       "      <td>0</td>\n",
       "      <td>...</td>\n",
       "      <td>62</td>\n",
       "      <td>63</td>\n",
       "      <td>66</td>\n",
       "      <td>5</td>\n",
       "      <td>10</td>\n",
       "      <td>9</td>\n",
       "      <td>7</td>\n",
       "      <td>7</td>\n",
       "      <td>61</td>\n",
       "      <td>0</td>\n",
       "    </tr>\n",
       "  </tbody>\n",
       "</table>\n",
       "<p>5 rows × 45 columns</p>\n",
       "</div>"
      ],
      "text/plain": [
       "   id         player_name    birthday preferred_foot  age  height  weight  \\\n",
       "0   1  Aaron Appindangoye  1992-02-29          right   27     183     187   \n",
       "1   2     Aaron Cresswell  1989-12-15          right   30     170     146   \n",
       "2   3         Aaron Doran  1991-05-13          right   28     170     163   \n",
       "3   4       Aaron Galindo  1982-05-08          right   37     183     198   \n",
       "4   5        Aaron Hughes  1979-11-08          right   40     183     154   \n",
       "\n",
       "   potential  right_foot  left_foot  ...  marking  standing_tackle  \\\n",
       "0         71           1          0  ...       65               69   \n",
       "1         71           1          0  ...       65               69   \n",
       "2         66           1          0  ...       65               66   \n",
       "3         65           1          0  ...       62               63   \n",
       "4         65           1          0  ...       62               63   \n",
       "\n",
       "   sliding_tackle  gk_diving  gk_handling  gk_kicking  gk_positioning  \\\n",
       "0              69          6           11          10               8   \n",
       "1              69          6           11          10               8   \n",
       "2              69          6           11          10               8   \n",
       "3              66          5           10           9               7   \n",
       "4              66          5           10           9               7   \n",
       "\n",
       "   gk_reflexes  overall_rating  Label  \n",
       "0            8              67      0  \n",
       "1            8              67      0  \n",
       "2            8              62      0  \n",
       "3            7              61      0  \n",
       "4            7              61      0  \n",
       "\n",
       "[5 rows x 45 columns]"
      ]
     },
     "execution_count": 1,
     "metadata": {},
     "output_type": "execute_result"
    }
   ],
   "source": [
    "import pandas as pd\n",
    "df=pd.read_csv(\"c:/data/soccer/player.csv\")\n",
    "df.head()"
   ]
  },
  {
   "cell_type": "code",
   "execution_count": 2,
   "metadata": {},
   "outputs": [
    {
     "name": "stdout",
     "output_type": "stream",
     "text": [
      "Index(['age', 'height', 'weight', 'potential', 'right_foot', 'left_foot',\n",
      "       'crossing', 'finishing', 'heading_accuracy', 'short_passing', 'volleys',\n",
      "       'dribbling', 'curve', 'free_kick_accuracy', 'long_passing',\n",
      "       'ball_control', 'acceleration', 'sprint_speed', 'agility', 'reactions',\n",
      "       'balance', 'shot_power', 'jumping', 'stamina', 'strength', 'long_shots',\n",
      "       'aggression', 'interceptions', 'positioning', 'vision', 'penalties',\n",
      "       'marking', 'standing_tackle', 'sliding_tackle', 'gk_diving',\n",
      "       'gk_handling', 'gk_kicking', 'gk_positioning', 'gk_reflexes'],\n",
      "      dtype='object')\n"
     ]
    },
    {
     "data": {
      "text/plain": [
       "1    5705\n",
       "0    5230\n",
       "Name: Label, dtype: int64"
      ]
     },
     "execution_count": 2,
     "metadata": {},
     "output_type": "execute_result"
    }
   ],
   "source": [
    "train_cols=df.columns[4:43]\n",
    "print(train_cols)\n",
    "X=df[train_cols]\n",
    "y=df[\"Label\"]\n",
    "y.value_counts()"
   ]
  },
  {
   "cell_type": "code",
   "execution_count": 3,
   "metadata": {},
   "outputs": [
    {
     "data": {
      "text/plain": [
       "0    5230\n",
       "1    5230\n",
       "Name: Label, dtype: int64"
      ]
     },
     "execution_count": 3,
     "metadata": {},
     "output_type": "execute_result"
    }
   ],
   "source": [
    "from imblearn.under_sampling import RandomUnderSampler\n",
    "X_sample, y_sample=RandomUnderSampler(random_state=0).fit_resample(X,y)\n",
    "X_samp=pd.DataFrame(data=X_sample,columns=train_cols)\n",
    "y_samp=pd.DataFrame(data=y_sample,columns=['Label'])\n",
    "df_samp=pd.concat([X_samp,y_samp],axis=1)\n",
    "df_samp.Label.value_counts()"
   ]
  },
  {
   "cell_type": "code",
   "execution_count": 4,
   "metadata": {},
   "outputs": [],
   "source": [
    "X=df_samp[train_cols]\n",
    "y=df_samp[\"Label\"]"
   ]
  },
  {
   "cell_type": "code",
   "execution_count": 5,
   "metadata": {},
   "outputs": [],
   "source": [
    "from sklearn.model_selection import train_test_split\n",
    "X_train, X_test, y_train, y_test= train_test_split(X,y,test_size=0.2, random_state=0)"
   ]
  },
  {
   "cell_type": "code",
   "execution_count": 6,
   "metadata": {},
   "outputs": [],
   "source": [
    "from sklearn.model_selection import validation_curve\n",
    "from sklearn.neighbors import KNeighborsClassifier\n",
    "train_scores,test_scores=validation_curve(KNeighborsClassifier(),X,y,param_name=\"n_neighbors\",\n",
    "param_range=list(range(2,6)),cv=3,scoring=\"accuracy\",n_jobs=4)"
   ]
  },
  {
   "cell_type": "code",
   "execution_count": 7,
   "metadata": {},
   "outputs": [
    {
     "name": "stdout",
     "output_type": "stream",
     "text": [
      "[[0.97303886 0.97547684 0.97777459]\n",
      " [0.97533343 0.97748458 0.98092917]\n",
      " [0.9624265  0.96529471 0.96802409]\n",
      " [0.96443425 0.96414743 0.96601663]]\n",
      "[[0.87066246 0.868655   0.85570855]\n",
      " [0.87525093 0.86550043 0.85169248]\n",
      " [0.88442787 0.87467737 0.86574871]\n",
      " [0.88328076 0.86836822 0.86402754]]\n"
     ]
    }
   ],
   "source": [
    "print(train_scores)\n",
    "print(test_scores)"
   ]
  },
  {
   "cell_type": "code",
   "execution_count": 8,
   "metadata": {},
   "outputs": [
    {
     "data": {
      "image/png": "[encoded data removed]",
      "text/plain": [
       "<Figure size 1152x648 with 1 Axes>"
      ]
     },
     "metadata": {
      "needs_background": "light"
     },
     "output_type": "display_data"
    }
   ],
   "source": [
    "import matplotlib\n",
    "import matplotlib.pyplot as plt\n",
    "import numpy as np\n",
    "train_scores_mean = np.mean(train_scores, axis=1)\n",
    "test_scores_mean = np.mean(test_scores, axis=1)\n",
    "plt.rcParams['figure.figsize']=(16,9)\n",
    "plt.plot(list(range(2,6)), train_scores_mean, label=\"Train\", color=\"r\")\n",
    "plt.plot(list(range(2,6)), test_scores_mean,label=\"Test\", color=\"g\")\n",
    "plt.legend(loc=\"best\")\n",
    "plt.show()"
   ]
  },
  {
   "cell_type": "code",
   "execution_count": 12,
   "metadata": {},
   "outputs": [
    {
     "data": {
      "text/plain": [
       "GridSearchCV(cv=3,\n",
       "             estimator=Pipeline(steps=[('scl', StandardScaler()),\n",
       "                                       ('clf', KNeighborsClassifier())]),\n",
       "             n_jobs=4,\n",
       "             param_grid=[{'clf__n_neighbors': [2, 3, 4, 5], 'clf__p': [1, 2],\n",
       "                          'clf__weights': ['uniform', 'distance']}],\n",
       "             scoring='accuracy')"
      ]
     },
     "execution_count": 12,
     "metadata": {},
     "output_type": "execute_result"
    }
   ],
   "source": [
    "from sklearn.model_selection import GridSearchCV\n",
    "from sklearn.pipeline import Pipeline\n",
    "from sklearn.preprocessing import StandardScaler\n",
    "\n",
    "# pipe=Pipeline([('scl',StandardScaler()),('clf',KNeighborsClassifier())])\n",
    "# param_grid=[\n",
    "#     {'clf__weight': ['uniform','distance'],\n",
    "#     'clf__p': [1,2],\n",
    "#     'clf__n_neighbors': list(range(2,6))\n",
    "#     }\n",
    "# ]\n",
    "\n",
    "# gs=GridSearchCV(estimator=pipe, param_grid=param_grid, scoring='accuracy', cv=3,n_jobs=4)\n",
    "# gs.fit(X,y)\n",
    "\n",
    "pipe = Pipeline([('scl', StandardScaler()), ('clf', KNeighborsClassifier())])\n",
    "param_grid = [\n",
    "{'clf__weights': ['uniform','distance'],\n",
    "'clf__p': [1,2],\n",
    "'clf__n_neighbors': list(range(2,6))\n",
    "}\n",
    "]\n",
    "gs = GridSearchCV(estimator=pipe, param_grid=param_grid, scoring='accuracy', cv=3, n_jobs=4)\n",
    "gs.fit(X, y)\n"
   ]
  },
  {
   "cell_type": "code",
   "execution_count": 13,
   "metadata": {},
   "outputs": [
    {
     "data": {
      "text/plain": [
       "[{'clf__n_neighbors': 2, 'clf__p': 1, 'clf__weights': 'uniform'},\n",
       " {'clf__n_neighbors': 2, 'clf__p': 1, 'clf__weights': 'distance'},\n",
       " {'clf__n_neighbors': 2, 'clf__p': 2, 'clf__weights': 'uniform'},\n",
       " {'clf__n_neighbors': 2, 'clf__p': 2, 'clf__weights': 'distance'},\n",
       " {'clf__n_neighbors': 3, 'clf__p': 1, 'clf__weights': 'uniform'},\n",
       " {'clf__n_neighbors': 3, 'clf__p': 1, 'clf__weights': 'distance'},\n",
       " {'clf__n_neighbors': 3, 'clf__p': 2, 'clf__weights': 'uniform'},\n",
       " {'clf__n_neighbors': 3, 'clf__p': 2, 'clf__weights': 'distance'},\n",
       " {'clf__n_neighbors': 4, 'clf__p': 1, 'clf__weights': 'uniform'},\n",
       " {'clf__n_neighbors': 4, 'clf__p': 1, 'clf__weights': 'distance'},\n",
       " {'clf__n_neighbors': 4, 'clf__p': 2, 'clf__weights': 'uniform'},\n",
       " {'clf__n_neighbors': 4, 'clf__p': 2, 'clf__weights': 'distance'},\n",
       " {'clf__n_neighbors': 5, 'clf__p': 1, 'clf__weights': 'uniform'},\n",
       " {'clf__n_neighbors': 5, 'clf__p': 1, 'clf__weights': 'distance'},\n",
       " {'clf__n_neighbors': 5, 'clf__p': 2, 'clf__weights': 'uniform'},\n",
       " {'clf__n_neighbors': 5, 'clf__p': 2, 'clf__weights': 'distance'}]"
      ]
     },
     "execution_count": 13,
     "metadata": {},
     "output_type": "execute_result"
    }
   ],
   "source": [
    "gs.cv_results_[\"params\"]"
   ]
  },
  {
   "cell_type": "code",
   "execution_count": 14,
   "metadata": {},
   "outputs": [
    {
     "data": {
      "text/plain": [
       "array([0.85955909, 0.8288693 , 0.86615609, 0.84244523, 0.85353598,\n",
       "       0.85162376, 0.86338307, 0.86347863, 0.86969312, 0.85162355,\n",
       "       0.87447335, 0.8627138 , 0.86596455, 0.86405225, 0.87189193,\n",
       "       0.87131831])"
      ]
     },
     "execution_count": 14,
     "metadata": {},
     "output_type": "execute_result"
    }
   ],
   "source": [
    "gs.cv_results_[\"mean_test_score\"]"
   ]
  },
  {
   "cell_type": "code",
   "execution_count": 15,
   "metadata": {},
   "outputs": [
    {
     "name": "stdout",
     "output_type": "stream",
     "text": [
      "0.8744733532844969\n",
      "{'clf__n_neighbors': 4, 'clf__p': 2, 'clf__weights': 'uniform'}\n",
      "Pipeline(steps=[('scl', StandardScaler()),\n",
      "                ('clf', KNeighborsClassifier(n_neighbors=4))])\n"
     ]
    }
   ],
   "source": [
    "print(gs.best_score_)\n",
    "print(gs.best_params_)\n",
    "print(gs.best_estimator_)"
   ]
  },
  {
   "cell_type": "code",
   "execution_count": 20,
   "metadata": {},
   "outputs": [],
   "source": [
    "from sklearn.model_selection import cross_val_score\n",
    "p=Pipeline(memory=None,\n",
    "    steps=[('scl',StandardScaler()),\n",
    "    ('clf',KNeighborsClassifier(algorithm='auto',leaf_size=30, metric='minkowski',\n",
    "    metric_params=None, n_jobs=None, n_neighbors=4,p=2,weights='uniform'))],verbose=False)\n",
    "\n",
    "result=cross_val_score(p,X,y,cv=10)"
   ]
  },
  {
   "cell_type": "code",
   "execution_count": 21,
   "metadata": {},
   "outputs": [
    {
     "name": "stdout",
     "output_type": "stream",
     "text": [
      "[0.83556405 0.92734226 0.86998088 0.90057361 0.90344168 0.85181644\n",
      " 0.85372849 0.87858509 0.86806883 0.87380497]\n",
      "0.8762906309751435\n"
     ]
    }
   ],
   "source": [
    "print(result)\n",
    "print(np.mean(result))"
   ]
  },
  {
   "cell_type": "code",
   "execution_count": null,
   "metadata": {},
   "outputs": [],
   "source": []
  }
 ],
 "metadata": {
  "interpreter": {
   "hash": "cef9e06bb236b2a8629b07e87a04b187b952a0f661eff5533360a155783f0c33"
  },
  "kernelspec": {
   "display_name": "Python 3.8.8 64-bit ('base': conda)",
   "language": "python",
   "name": "python3"
  },
  "language_info": {
   "codemirror_mode": {
    "name": "ipython",
    "version": 3
   },
   "file_extension": ".py",
   "mimetype": "text/x-python",
   "name": "python",
   "nbconvert_exporter": "python",
   "pygments_lexer": "ipython3",
   "version": "3.8.8"
  },
  "orig_nbformat": 4
 },
 "nbformat": 4,
 "nbformat_minor": 2
}
