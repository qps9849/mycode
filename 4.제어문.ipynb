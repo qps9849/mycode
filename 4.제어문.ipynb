{
 "cells": [
  {
   "cell_type": "code",
   "execution_count": 2,
   "metadata": {},
   "outputs": [
    {
     "name": "stdout",
     "output_type": "stream",
     "text": [
      "기다리세요\n"
     ]
    }
   ],
   "source": [
    "color=input('색상을 입력하세요:')\n",
    "if color =='blue':\n",
    "    print('건너가세요')\n",
    "else:\n",
    "    print('기다리세요')"
   ]
  },
  {
   "cell_type": "code",
   "execution_count": 3,
   "metadata": {},
   "outputs": [
    {
     "name": "stdout",
     "output_type": "stream",
     "text": [
      "짝수입니다\n"
     ]
    }
   ],
   "source": [
    "num =100\n",
    "if num %2 ==0:\n",
    "    print(\"짝수입니다\")\n",
    "else:\n",
    "    print(\"홀수입니다\")"
   ]
  },
  {
   "cell_type": "code",
   "execution_count": 4,
   "metadata": {},
   "outputs": [
    {
     "name": "stdout",
     "output_type": "stream",
     "text": [
      "기다리세요\n"
     ]
    }
   ],
   "source": [
    "color=input('색상을 입력하세요:')\n",
    "if color == 'blue':\n",
    "    print('건너가세요.')\n",
    "elif color == 'red':\n",
    "    print('기다리세요')\n",
    "else:\n",
    "    print('잘못된 색상입니다.')"
   ]
  },
  {
   "cell_type": "code",
   "execution_count": 5,
   "metadata": {},
   "outputs": [
    {
     "name": "stdout",
     "output_type": "stream",
     "text": [
      "1\n",
      "2\n",
      "7\n",
      "4\n",
      "5\n"
     ]
    }
   ],
   "source": [
    "for i in [1,2,7,4,5]:\n",
    "    print(i)"
   ]
  },
  {
   "cell_type": "code",
   "execution_count": 6,
   "metadata": {},
   "outputs": [
    {
     "name": "stdout",
     "output_type": "stream",
     "text": [
      "1\n",
      "2\n",
      "3\n",
      "4\n",
      "5\n"
     ]
    }
   ],
   "source": [
    "numbers=[1,2,3,4,5]\n",
    "for i in numbers:\n",
    "    print(i)"
   ]
  },
  {
   "cell_type": "code",
   "execution_count": 7,
   "metadata": {},
   "outputs": [
    {
     "name": "stdout",
     "output_type": "stream",
     "text": [
      "<class 'range'>\n",
      "range(0, 10)\n"
     ]
    }
   ],
   "source": [
    "a=range(10)\n",
    "print(type(a))\n",
    "print(a)"
   ]
  },
  {
   "cell_type": "code",
   "execution_count": 8,
   "metadata": {},
   "outputs": [
    {
     "name": "stdout",
     "output_type": "stream",
     "text": [
      "[0, 1, 2, 3, 4, 5, 6, 7, 8, 9]\n"
     ]
    }
   ],
   "source": [
    "a=list(range(10))\n",
    "print(a)"
   ]
  },
  {
   "cell_type": "code",
   "execution_count": 9,
   "metadata": {},
   "outputs": [
    {
     "name": "stdout",
     "output_type": "stream",
     "text": [
      "[0, 1, 2, 3, 4, 5, 6, 7, 8, 9]\n"
     ]
    }
   ],
   "source": [
    "range(1,11)\n",
    "print(a)"
   ]
  },
  {
   "cell_type": "code",
   "execution_count": 10,
   "metadata": {},
   "outputs": [
    {
     "name": "stdout",
     "output_type": "stream",
     "text": [
      "[1, 3, 5, 7, 9]\n"
     ]
    }
   ],
   "source": [
    "a=list(range(1,11,2))\n",
    "print(a)"
   ]
  },
  {
   "cell_type": "code",
   "execution_count": 11,
   "metadata": {},
   "outputs": [
    {
     "name": "stdout",
     "output_type": "stream",
     "text": [
      "55\n"
     ]
    }
   ],
   "source": [
    "sum=0\n",
    "for i in range(1,11):\n",
    "    sum += i\n",
    "print(sum)"
   ]
  },
  {
   "cell_type": "code",
   "execution_count": 14,
   "metadata": {},
   "outputs": [
    {
     "name": "stdout",
     "output_type": "stream",
     "text": [
      "=== 2단 ===\n",
      "2 x 1 =  2\n",
      "2 x 2 =  4\n",
      "2 x 3 =  6\n",
      "2 x 4 =  8\n",
      "2 x 5 = 10\n",
      "2 x 6 = 12\n",
      "2 x 7 = 14\n",
      "2 x 8 = 16\n",
      "2 x 9 = 18\n",
      "\n",
      "=== 3단 ===\n",
      "3 x 1 =  3\n",
      "3 x 2 =  6\n",
      "3 x 3 =  9\n",
      "3 x 4 = 12\n",
      "3 x 5 = 15\n",
      "3 x 6 = 18\n",
      "3 x 7 = 21\n",
      "3 x 8 = 24\n",
      "3 x 9 = 27\n",
      "\n",
      "=== 4단 ===\n",
      "4 x 1 =  4\n",
      "4 x 2 =  8\n",
      "4 x 3 = 12\n",
      "4 x 4 = 16\n",
      "4 x 5 = 20\n",
      "4 x 6 = 24\n",
      "4 x 7 = 28\n",
      "4 x 8 = 32\n",
      "4 x 9 = 36\n",
      "\n"
     ]
    }
   ],
   "source": [
    "for x in range(2,5): #2~4\n",
    "    print(\"=== {0}단 ===\".format(x))\n",
    "    for y in range(1,10):\n",
    "        print(\"{0} x {1} = {2:2d}\".format(x,y,x*y))\n",
    "    print()"
   ]
  },
  {
   "cell_type": "code",
   "execution_count": 15,
   "metadata": {},
   "outputs": [
    {
     "name": "stdout",
     "output_type": "stream",
     "text": [
      "1+2=3\n",
      "3+4=7\n",
      "5+6=11\n"
     ]
    }
   ],
   "source": [
    "a=[(1,2),(3,4),(5,6)]\n",
    "for (first,last) in a:\n",
    "    print(\"{0}+{1}={2}\".format(first,last,first+last))"
   ]
  },
  {
   "cell_type": "code",
   "execution_count": 16,
   "metadata": {},
   "outputs": [
    {
     "name": "stdout",
     "output_type": "stream",
     "text": [
      "1번 학생 : 90점, 합격입니다\n",
      "2번 학생 : 25점, 불합격입니다\n",
      "3번 학생 : 67점, 합격입니다\n",
      "4번 학생 : 45점, 불합격입니다\n",
      "5번 학생 : 80점, 합격입니다\n"
     ]
    }
   ],
   "source": [
    "points = [90,25,67,45,80]\n",
    "number=0\n",
    "for point in points:\n",
    "    number=number +1\n",
    "    result=\"\"\n",
    "    if point >=60:\n",
    "        result=\"합격\"\n",
    "    else:\n",
    "        result=\"불합격\"\n",
    "    print(\"%d번 학생 : %d점, %s입니다\"%(number,point,result))"
   ]
  },
  {
   "cell_type": "code",
   "execution_count": 17,
   "metadata": {},
   "outputs": [
    {
     "name": "stdout",
     "output_type": "stream",
     "text": [
      "{2: 4, 4: 16, 6: 36}\n"
     ]
    }
   ],
   "source": [
    "a={x: x**2 for x in (2,4,6)}\n",
    "print(a)"
   ]
  },
  {
   "cell_type": "code",
   "execution_count": null,
   "metadata": {},
   "outputs": [],
   "source": [
    "coffee=10\n",
    "money=30000\n",
    "while money:\n",
    "    print(\"커피를 드립니다.\")\n",
    "    coffee=coffee - 1\n",
    "    money=money-3000\n",
    "    print(\"남은 커피는 %d개이고 잔액은 %d원입니다.\\n\"%(coffee,money))\n",
    "    if not coffee:\n",
    "        print(\"품절입니다\")\n",
    "        break\n",
    "    if not money:\n",
    "        print(\"잔액이 모자랍니다\")\n",
    "        break"
   ]
  },
  {
   "cell_type": "code",
   "execution_count": 23,
   "metadata": {},
   "outputs": [
    {
     "name": "stdout",
     "output_type": "stream",
     "text": [
      "1\n",
      "3\n",
      "5\n",
      "7\n",
      "9\n"
     ]
    }
   ],
   "source": [
    "a=0\n",
    "while a<10:\n",
    "    a=a+1\n",
    "    if a%2==0:\n",
    "        continue\n",
    "    print(a)"
   ]
  },
  {
   "cell_type": "code",
   "execution_count": 24,
   "metadata": {},
   "outputs": [],
   "source": [
    "while True:\n",
    "    s=input('내용을 입력하세요(종료하려면 x버튼을 누르세요):')\n",
    "    if s=='x':\n",
    "        break;"
   ]
  },
  {
   "cell_type": "code",
   "execution_count": 26,
   "metadata": {},
   "outputs": [
    {
     "name": "stdout",
     "output_type": "stream",
     "text": [
      "5 x 1 = 5\n",
      "5 x 2 = 10\n",
      "5 x 3 = 15\n",
      "5 x 4 = 20\n",
      "5 x 5 = 25\n",
      "5 x 6 = 30\n",
      "5 x 7 = 35\n",
      "5 x 8 = 40\n",
      "5 x 9 = 45\n",
      "3 x 1 = 3\n",
      "3 x 2 = 6\n",
      "3 x 3 = 9\n",
      "3 x 4 = 12\n",
      "3 x 5 = 15\n",
      "3 x 6 = 18\n",
      "3 x 7 = 21\n",
      "3 x 8 = 24\n",
      "3 x 9 = 27\n",
      "4 x 1 = 4\n",
      "4 x 2 = 8\n",
      "4 x 3 = 12\n",
      "4 x 4 = 16\n",
      "4 x 5 = 20\n",
      "4 x 6 = 24\n",
      "4 x 7 = 28\n",
      "4 x 8 = 32\n",
      "4 x 9 = 36\n",
      "1 x 1 = 1\n",
      "1 x 2 = 2\n",
      "1 x 3 = 3\n",
      "1 x 4 = 4\n",
      "1 x 5 = 5\n",
      "1 x 6 = 6\n",
      "1 x 7 = 7\n",
      "1 x 8 = 8\n",
      "1 x 9 = 9\n"
     ]
    }
   ],
   "source": [
    "while 1:\n",
    "    dan =int(input('단을 입력하세요(종료하려면 0을 입력하세요):'))\n",
    "    if dan==0:\n",
    "        break\n",
    "    for n in range(1,10):\n",
    "        print(dan,'x',n,'=',dan*n)"
   ]
  },
  {
   "cell_type": "code",
   "execution_count": 27,
   "metadata": {},
   "outputs": [
    {
     "name": "stdout",
     "output_type": "stream",
     "text": [
      "447\n",
      "100128\n"
     ]
    }
   ],
   "source": [
    "x=1\n",
    "total =0\n",
    "while 1:\n",
    "    total = total+x\n",
    "    if total >100000:\n",
    "        print(x)\n",
    "        print(total)\n",
    "        break\n",
    "    x=x+1"
   ]
  },
  {
   "cell_type": "code",
   "execution_count": 28,
   "metadata": {},
   "outputs": [
    {
     "name": "stdout",
     "output_type": "stream",
     "text": [
      "0.11142120051071636\n",
      "0.030347925143977994\n",
      "0.566917381574226\n",
      "0.3324163304533069\n",
      "0.17721223799683916\n",
      "9\n",
      "4\n",
      "6\n",
      "6\n",
      "2\n",
      "2.092182201236281\n",
      "71.24981612924815\n",
      "38.45558561728147\n",
      "73.57531127969395\n",
      "27.808395438206325\n"
     ]
    }
   ],
   "source": [
    "import random\n",
    "#실수 난수\n",
    "for i in range(5):\n",
    "    print(random.random())\n",
    "#정수 난수\n",
    "for i in range(5):\n",
    "    print(random.randint(1,10))\n",
    "#1~100사이의 실수 난수\n",
    "for i in range(5):\n",
    "    print(random.uniform(1,100))"
   ]
  },
  {
   "cell_type": "code",
   "execution_count": 29,
   "metadata": {},
   "outputs": [
    {
     "name": "stdout",
     "output_type": "stream",
     "text": [
      "군만두\n"
     ]
    }
   ],
   "source": [
    "food=[\"짜장면\",\"짬뽕\",\"탕수육\",\"군만두\"]\n",
    "f=random.choice(food)\n",
    "print(f)"
   ]
  },
  {
   "cell_type": "code",
   "execution_count": 30,
   "metadata": {},
   "outputs": [
    {
     "name": "stdout",
     "output_type": "stream",
     "text": [
      "['짜장면', '짬뽕', '탕수육', '군만두']\n",
      "['짜장면', '탕수육', '짬뽕', '군만두']\n"
     ]
    }
   ],
   "source": [
    "food=[\"짜장면\",\"짬뽕\",\"탕수육\",\"군만두\"]\n",
    "print(food)\n",
    "random.shuffle(food)\n",
    "print(food)"
   ]
  },
  {
   "cell_type": "code",
   "execution_count": 31,
   "metadata": {},
   "outputs": [
    {
     "name": "stdout",
     "output_type": "stream",
     "text": [
      "['짬뽕', '탕수육']\n"
     ]
    }
   ],
   "source": [
    "food=[\"짜장면\",\"짬뽕\",\"탕수육\",\"군만두\"]\n",
    "print(random.sample(food,2))"
   ]
  },
  {
   "cell_type": "code",
   "execution_count": 32,
   "metadata": {},
   "outputs": [
    {
     "name": "stdout",
     "output_type": "stream",
     "text": [
      "정답입니다\n"
     ]
    }
   ],
   "source": [
    "a=random.randint(1,9)\n",
    "b=random.randint(1,9)\n",
    "question= \"%d + %d = ? \"%(a,b)\n",
    "c=int(input(question))\n",
    "\n",
    "if c== a+b:\n",
    "    print(\"정답입니다\")\n",
    "else:\n",
    "    print(\"틀렸습니다\")"
   ]
  },
  {
   "cell_type": "code",
   "execution_count": 34,
   "metadata": {},
   "outputs": [
    {
     "name": "stdout",
     "output_type": "stream",
     "text": [
      "정답입니다.\n",
      "정답입니다.\n",
      "정답입니다.\n",
      "틀렸습니다.\n",
      "정답입니다.\n",
      "정답입니다.\n",
      "정답입니다.\n",
      "6개 맞췄습니다.\n"
     ]
    }
   ],
   "source": [
    "correct =0\n",
    "while True:\n",
    "    a=random.randint(1,9)\n",
    "    b=random.randint(1,9)\n",
    "    question = \"%d+%d=?(끝낼 때는 0)\"%(a,b)\n",
    "    c=int(input(question))\n",
    "\n",
    "    if c==0:\n",
    "        break\n",
    "    elif c== a+b:\n",
    "        print(\"정답입니다.\")\n",
    "        correct=correct+1\n",
    "    else:\n",
    "        print(\"틀렸습니다.\")\n",
    "    \n",
    "print(\"%d개 맞췄습니다.\"%correct)"
   ]
  },
  {
   "cell_type": "code",
   "execution_count": 37,
   "metadata": {},
   "outputs": [
    {
     "name": "stdout",
     "output_type": "stream",
     "text": [
      "정답입니다.\n",
      "틀렸습니다.\n",
      "정답입니다.\n",
      "정답입니다.\n",
      "정답입니다.\n",
      "정답입니다.\n",
      "5개 맞췄습니다.\n"
     ]
    }
   ],
   "source": [
    "correct=0\n",
    "while True:\n",
    "    a=random.randint(10,99)\n",
    "    b=random.randint(10,99)\n",
    "    op= random.randint(1,3)\n",
    "    \n",
    "    if op==1:\n",
    "        ans = a+b\n",
    "        mark =\"+\"\n",
    "    elif op ==2:\n",
    "        if(a<b):\n",
    "            a,b=b,a\n",
    "        ans= a-b\n",
    "        mark=\"-\"\n",
    "    else:\n",
    "        ans=a*b\n",
    "        mark=\"*\"\n",
    "\n",
    "    question =\"%d %s %d = ?(끝낼 때는 0)\"%(a,mark,b)\n",
    "    c=int(input(question))\n",
    "\n",
    "    if c==0:\n",
    "        break\n",
    "    elif c ==ans:\n",
    "        print(\"정답입니다.\")\n",
    "        correct=correct+1\n",
    "    else:\n",
    "        print(\"틀렸습니다.\")\n",
    "\n",
    "print(\"%d개 맞췄습니다.\"%correct)"
   ]
  },
  {
   "cell_type": "code",
   "execution_count": 38,
   "metadata": {},
   "outputs": [
    {
     "name": "stdout",
     "output_type": "stream",
     "text": [
      "더 큰 수를 입력하세요\n",
      "더 작은 수를 입력하세요\n",
      "더 작은 수를 입력하세요\n",
      "더 작은 수를 입력하세요\n",
      "더 작은 수를 입력하세요\n",
      "더 작은 수를 입력하세요\n",
      "더 큰 수를 입력하세요\n",
      "더 큰 수를 입력하세요\n",
      "더 큰 수를 입력하세요\n",
      "10번만에 맞췄습니다\n"
     ]
    }
   ],
   "source": [
    "secret = random.randint(1,100)\n",
    "count=0\n",
    "while True:\n",
    "    num=int(input(\"숫자를 입력하세요(끝낼 때 0):\"))\n",
    "    if num ==0:\n",
    "        break\n",
    "    count+=1\n",
    "    if num == secret:\n",
    "        print(\"%d번만에 맞췄습니다\" %count)\n",
    "        break\n",
    "    elif num > secret:\n",
    "        print(\"더 작은 수를 입력하세요\")\n",
    "    else:\n",
    "        print(\"더 큰 수를 입력하세요\")"
   ]
  }
 ],
 "metadata": {
  "interpreter": {
   "hash": "cef9e06bb236b2a8629b07e87a04b187b952a0f661eff5533360a155783f0c33"
  },
  "kernelspec": {
   "display_name": "Python 3.8.8 64-bit ('base': conda)",
   "language": "python",
   "name": "python3"
  },
  "language_info": {
   "codemirror_mode": {
    "name": "ipython",
    "version": 3
   },
   "file_extension": ".py",
   "mimetype": "text/x-python",
   "name": "python",
   "nbconvert_exporter": "python",
   "pygments_lexer": "ipython3",
   "version": "3.8.8"
  },
  "orig_nbformat": 4
 },
 "nbformat": 4,
 "nbformat_minor": 2
}
