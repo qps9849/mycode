{
 "cells": [
  {
   "cell_type": "code",
   "execution_count": 1,
   "metadata": {},
   "outputs": [],
   "source": [
    "import pandas as pd\n",
    "import matplotlib.pyplot as plt\n",
    "import seaborn as sns\n",
    "from scipy import stats"
   ]
  },
  {
   "cell_type": "code",
   "execution_count": 2,
   "metadata": {},
   "outputs": [
    {
     "data": {
      "text/html": [
       "<div>\n",
       "<style scoped>\n",
       "    .dataframe tbody tr th:only-of-type {\n",
       "        vertical-align: middle;\n",
       "    }\n",
       "\n",
       "    .dataframe tbody tr th {\n",
       "        vertical-align: top;\n",
       "    }\n",
       "\n",
       "    .dataframe thead th {\n",
       "        text-align: right;\n",
       "    }\n",
       "</style>\n",
       "<table border=\"1\" class=\"dataframe\">\n",
       "  <thead>\n",
       "    <tr style=\"text-align: right;\">\n",
       "      <th></th>\n",
       "      <th>Life expectancy at birth</th>\n",
       "      <th>Mean years of schooling</th>\n",
       "      <th>Expected years of schooling</th>\n",
       "      <th>GNI</th>\n",
       "      <th>Export</th>\n",
       "      <th>HDI</th>\n",
       "    </tr>\n",
       "  </thead>\n",
       "  <tbody>\n",
       "    <tr>\n",
       "      <th>0</th>\n",
       "      <td>48.4</td>\n",
       "      <td>3.5</td>\n",
       "      <td>8.2</td>\n",
       "      <td>280</td>\n",
       "      <td>85.119671</td>\n",
       "      <td>0.286</td>\n",
       "    </tr>\n",
       "    <tr>\n",
       "      <th>1</th>\n",
       "      <td>54.7</td>\n",
       "      <td>1.4</td>\n",
       "      <td>4.9</td>\n",
       "      <td>641</td>\n",
       "      <td>42.473864</td>\n",
       "      <td>0.295</td>\n",
       "    </tr>\n",
       "    <tr>\n",
       "      <th>2</th>\n",
       "      <td>50.4</td>\n",
       "      <td>2.7</td>\n",
       "      <td>10.5</td>\n",
       "      <td>368</td>\n",
       "      <td>42.473864</td>\n",
       "      <td>0.316</td>\n",
       "    </tr>\n",
       "    <tr>\n",
       "      <th>3</th>\n",
       "      <td>50.2</td>\n",
       "      <td>1.2</td>\n",
       "      <td>9.2</td>\n",
       "      <td>898</td>\n",
       "      <td>25.251291</td>\n",
       "      <td>0.322</td>\n",
       "    </tr>\n",
       "    <tr>\n",
       "      <th>4</th>\n",
       "      <td>49.6</td>\n",
       "      <td>1.5</td>\n",
       "      <td>7.2</td>\n",
       "      <td>1105</td>\n",
       "      <td>43.900000</td>\n",
       "      <td>0.328</td>\n",
       "    </tr>\n",
       "  </tbody>\n",
       "</table>\n",
       "</div>"
      ],
      "text/plain": [
       "   Life expectancy at birth  Mean years of schooling  \\\n",
       "0                      48.4                      3.5   \n",
       "1                      54.7                      1.4   \n",
       "2                      50.4                      2.7   \n",
       "3                      50.2                      1.2   \n",
       "4                      49.6                      1.5   \n",
       "\n",
       "   Expected years of schooling   GNI     Export    HDI  \n",
       "0                          8.2   280  85.119671  0.286  \n",
       "1                          4.9   641  42.473864  0.295  \n",
       "2                         10.5   368  42.473864  0.316  \n",
       "3                          9.2   898  25.251291  0.322  \n",
       "4                          7.2  1105  43.900000  0.328  "
      ]
     },
     "execution_count": 2,
     "metadata": {},
     "output_type": "execute_result"
    }
   ],
   "source": [
    "df=pd.read_csv(\"c:/data/hdi/hdi-data2.csv\")\n",
    "df.head()"
   ]
  },
  {
   "cell_type": "code",
   "execution_count": 3,
   "metadata": {},
   "outputs": [
    {
     "name": "stdout",
     "output_type": "stream",
     "text": [
      "Index(['Life expectancy at birth', 'Mean years of schooling',\n",
      "       'Expected years of schooling', 'GNI', 'Export'],\n",
      "      dtype='object')\n",
      "   Life expectancy at birth  Mean years of schooling  \\\n",
      "0                      48.4                      3.5   \n",
      "1                      54.7                      1.4   \n",
      "2                      50.4                      2.7   \n",
      "3                      50.2                      1.2   \n",
      "4                      49.6                      1.5   \n",
      "\n",
      "   Expected years of schooling   GNI     Export  \n",
      "0                          8.2   280  85.119671  \n",
      "1                          4.9   641  42.473864  \n",
      "2                         10.5   368  42.473864  \n",
      "3                          9.2   898  25.251291  \n",
      "4                          7.2  1105  43.900000  \n",
      "0    0.286\n",
      "1    0.295\n",
      "2    0.316\n",
      "3    0.322\n",
      "4    0.328\n",
      "Name: HDI, dtype: float64\n"
     ]
    }
   ],
   "source": [
    "train_cols=df.columns[0:5]\n",
    "print(train_cols)\n",
    "X=df[train_cols]\n",
    "y=df[\"HDI\"]\n",
    "print(df[train_cols].head())\n",
    "print(y.head())"
   ]
  },
  {
   "cell_type": "code",
   "execution_count": 4,
   "metadata": {},
   "outputs": [
    {
     "data": {
      "text/plain": [
       "LinregressResult(slope=0.016124893707708518, intercept=-0.4599942026967768, rvalue=0.901512974948751, pvalue=3.2847754562701845e-69, stderr=0.0005690863526153063, intercept_stderr=0.040001766674389996)"
      ]
     },
     "execution_count": 4,
     "metadata": {},
     "output_type": "execute_result"
    }
   ],
   "source": [
    "x2=df[\"Life expectancy at birth\"].values\n",
    "y2=df[\"HDI\"].values\n",
    "result=stats.linregress(x2,y2)\n",
    "result"
   ]
  },
  {
   "cell_type": "code",
   "execution_count": 5,
   "metadata": {},
   "outputs": [
    {
     "data": {
      "text/plain": [
       "Text(0, 0.5, 'HDI')"
      ]
     },
     "execution_count": 5,
     "metadata": {},
     "output_type": "execute_result"
    },
    {
     "data": {
      "image/png": "[encoded data removed]",
      "text/plain": [
       "<Figure size 432x288 with 1 Axes>"
      ]
     },
     "metadata": {
      "needs_background": "light"
     },
     "output_type": "display_data"
    }
   ],
   "source": [
    "slope, intercept, r_value, p_value, stderr=stats.linregress(x2,y2)\n",
    "plt.scatter(x2,y2)\n",
    "plt.plot(x2, slope*x2+intercept, c=\"red\")\n",
    "plt.xlabel(\"Life expectancy at birth\")\n",
    "plt.ylabel(\"HDI\")"
   ]
  },
  {
   "cell_type": "code",
   "execution_count": 6,
   "metadata": {},
   "outputs": [
    {
     "data": {
      "text/plain": [
       "LinregressResult(slope=0.05232467201381997, intercept=0.26456717569801413, rvalue=0.9005296673824346, pvalue=7.857605621581572e-69, stderr=0.0018574055433612318, intercept_stderr=0.015163787346592615)"
      ]
     },
     "execution_count": 6,
     "metadata": {},
     "output_type": "execute_result"
    }
   ],
   "source": [
    "x2=df[\"Mean years of schooling\"].values\n",
    "y2=df[\"HDI\"].values\n",
    "result=stats.linregress(x2,y2)\n",
    "result"
   ]
  },
  {
   "cell_type": "code",
   "execution_count": 7,
   "metadata": {},
   "outputs": [
    {
     "data": {
      "text/plain": [
       "Text(0, 0.5, 'HDI')"
      ]
     },
     "execution_count": 7,
     "metadata": {},
     "output_type": "execute_result"
    },
    {
     "data": {
      "image/png": "[encoded data removed]",
      "text/plain": [
       "<Figure size 432x288 with 1 Axes>"
      ]
     },
     "metadata": {
      "needs_background": "light"
     },
     "output_type": "display_data"
    }
   ],
   "source": [
    "slope, intercept, r_value, p_value, stderr=stats.linregress(x2,y2)\n",
    "plt.scatter(x2,y2)\n",
    "plt.plot(x2, slope*x2+intercept, c=\"red\")\n",
    "plt.xlabel(\"Expected years of schooling\")\n",
    "plt.ylabel(\"HDI\")"
   ]
  },
  {
   "cell_type": "code",
   "execution_count": 8,
   "metadata": {},
   "outputs": [
    {
     "data": {
      "text/plain": [
       "LinregressResult(slope=7.78929215199157e-06, intercept=0.5632858689341738, rvalue=0.7003465074525178, pvalue=6.793224486797103e-29, stderr=5.836836801269087e-07, intercept_stderr=0.011690300709804754)"
      ]
     },
     "execution_count": 8,
     "metadata": {},
     "output_type": "execute_result"
    }
   ],
   "source": [
    "x2=df[\"GNI\"].values\n",
    "y2=df[\"HDI\"].values\n",
    "result=stats.linregress(x2,y2)\n",
    "result"
   ]
  },
  {
   "cell_type": "code",
   "execution_count": 9,
   "metadata": {},
   "outputs": [
    {
     "data": {
      "text/plain": [
       "Text(0, 0.5, 'HDI')"
      ]
     },
     "execution_count": 9,
     "metadata": {},
     "output_type": "execute_result"
    },
    {
     "data": {
      "image/png": "[encoded data removed]",
      "text/plain": [
       "<Figure size 432x288 with 1 Axes>"
      ]
     },
     "metadata": {
      "needs_background": "light"
     },
     "output_type": "display_data"
    }
   ],
   "source": [
    "slope, intercept, r_value, p_value, stderr=stats.linregress(x2,y2)\n",
    "plt.scatter(x2,y2)\n",
    "plt.plot(x2, slope*x2+intercept, c=\"red\")\n",
    "plt.xlabel(\"GNI\")\n",
    "plt.ylabel(\"HDI\")"
   ]
  },
  {
   "cell_type": "code",
   "execution_count": 10,
   "metadata": {},
   "outputs": [
    {
     "data": {
      "text/plain": [
       "LinregressResult(slope=0.0014930000842694837, intercept=0.5994367855376995, rvalue=0.22835956515234113, pvalue=0.0016695578488607889, stderr=0.000467977534715247, intercept_stderr=0.023361771587009913)"
      ]
     },
     "execution_count": 10,
     "metadata": {},
     "output_type": "execute_result"
    }
   ],
   "source": [
    "x2=df[\"Export\"].values\n",
    "y2=df[\"HDI\"].values\n",
    "result=stats.linregress(x2,y2)\n",
    "result"
   ]
  },
  {
   "cell_type": "code",
   "execution_count": 11,
   "metadata": {},
   "outputs": [
    {
     "data": {
      "text/plain": [
       "Text(0, 0.5, 'HDI')"
      ]
     },
     "execution_count": 11,
     "metadata": {},
     "output_type": "execute_result"
    },
    {
     "data": {
      "image/png": "[encoded data removed]",
      "text/plain": [
       "<Figure size 432x288 with 1 Axes>"
      ]
     },
     "metadata": {
      "needs_background": "light"
     },
     "output_type": "display_data"
    }
   ],
   "source": [
    "slope, intercept, r_value, p_value, stderr=stats.linregress(x2,y2)\n",
    "plt.scatter(x2,y2)\n",
    "plt.plot(x2, slope*x2+intercept, c=\"red\")\n",
    "plt.xlabel(\"Export\")\n",
    "plt.ylabel(\"HDI\")"
   ]
  },
  {
   "cell_type": "code",
   "execution_count": 12,
   "metadata": {},
   "outputs": [
    {
     "name": "stdout",
     "output_type": "stream",
     "text": [
      "회귀계수\n",
      " Life expectancy at birth       0.004653\n",
      "Mean years of schooling        0.022120\n",
      "Expected years of schooling    0.011457\n",
      "GNI                            0.000003\n",
      "Export                        -0.000128\n",
      "dtype: float64\n",
      "R-squared\n",
      " 0.9983302267104234\n",
      "P values\n",
      " Life expectancy at birth       4.656765e-43\n",
      "Mean years of schooling        2.521389e-31\n",
      "Expected years of schooling    2.263664e-10\n",
      "GNI                            1.533275e-28\n",
      "Export                         1.509747e-01\n",
      "dtype: float64\n",
      "                                 OLS Regression Results                                \n",
      "=======================================================================================\n",
      "Dep. Variable:                    HDI   R-squared (uncentered):                   0.998\n",
      "Model:                            OLS   Adj. R-squared (uncentered):              0.998\n",
      "Method:                 Least Squares   F-statistic:                          1.722e+04\n",
      "Date:                Mon, 06 Dec 2021   Prob (F-statistic):                   5.06e-198\n",
      "Time:                        15:12:27   Log-Likelihood:                          320.29\n",
      "No. Observations:                 149   AIC:                                     -630.6\n",
      "Df Residuals:                     144   BIC:                                     -615.6\n",
      "Df Model:                           5                                                  \n",
      "Covariance Type:            nonrobust                                                  \n",
      "===============================================================================================\n",
      "                                  coef    std err          t      P>|t|      [0.025      0.975]\n",
      "-----------------------------------------------------------------------------------------------\n",
      "Life expectancy at birth        0.0047      0.000     19.852      0.000       0.004       0.005\n",
      "Mean years of schooling         0.0221      0.001     15.040      0.000       0.019       0.025\n",
      "Expected years of schooling     0.0115      0.002      6.825      0.000       0.008       0.015\n",
      "GNI                          2.847e-06   2.04e-07     13.957      0.000    2.44e-06    3.25e-06\n",
      "Export                         -0.0001   8.86e-05     -1.444      0.151      -0.000    4.72e-05\n",
      "==============================================================================\n",
      "Omnibus:                       43.417   Durbin-Watson:                   2.086\n",
      "Prob(Omnibus):                  0.000   Jarque-Bera (JB):               97.013\n",
      "Skew:                          -1.241   Prob(JB):                     8.59e-22\n",
      "Kurtosis:                       6.076   Cond. No.                     1.70e+04\n",
      "==============================================================================\n",
      "\n",
      "Notes:\n",
      "[1] R² is computed without centering (uncentered) since the model does not contain a constant.\n",
      "[2] Standard Errors assume that the covariance matrix of the errors is correctly specified.\n",
      "[3] The condition number is large, 1.7e+04. This might indicate that there are\n",
      "strong multicollinearity or other numerical problems.\n"
     ]
    },
    {
     "data": {
      "text/plain": [
       "0.9258621508415219"
      ]
     },
     "execution_count": 12,
     "metadata": {},
     "output_type": "execute_result"
    }
   ],
   "source": [
    "from sklearn.model_selection import train_test_split\n",
    "X_train, X_test, y_train, y_test = train_test_split(X, y, test_size=0.2, random_state=10)\n",
    "\n",
    "import statsmodels.api as sm\n",
    "model = sm.OLS(y_train, X_train)\n",
    "result = model.fit()\n",
    "\n",
    "print(\"회귀계수\\n\",result.params) \n",
    "print(\"R-squared\\n\",result.rsquared)\n",
    "print(\"P values\\n\",result.pvalues)\n",
    "print(result.summary())\n",
    "\n",
    "from sklearn.metrics import r2_score\n",
    "pred=result.predict(X_test)\n",
    "rsquared=r2_score(y_test, pred)\n",
    "rsquared"
   ]
  },
  {
   "cell_type": "code",
   "execution_count": 13,
   "metadata": {},
   "outputs": [],
   "source": [
    "from sklearn.linear_model import LinearRegression\n",
    "model = LinearRegression().fit(X_train, y_train)"
   ]
  },
  {
   "cell_type": "code",
   "execution_count": 14,
   "metadata": {},
   "outputs": [
    {
     "name": "stdout",
     "output_type": "stream",
     "text": [
      "0.9795845422991336\n",
      "0.9432099785667011\n"
     ]
    }
   ],
   "source": [
    "print(model.score(X_train, y_train))\n",
    "print(model.score(X_test, y_test)) "
   ]
  },
  {
   "cell_type": "code",
   "execution_count": null,
   "metadata": {},
   "outputs": [],
   "source": []
  }
 ],
 "metadata": {
  "interpreter": {
   "hash": "cef9e06bb236b2a8629b07e87a04b187b952a0f661eff5533360a155783f0c33"
  },
  "kernelspec": {
   "display_name": "Python 3.8.8 64-bit ('base': conda)",
   "language": "python",
   "name": "python3"
  },
  "language_info": {
   "codemirror_mode": {
    "name": "ipython",
    "version": 3
   },
   "file_extension": ".py",
   "mimetype": "text/x-python",
   "name": "python",
   "nbconvert_exporter": "python",
   "pygments_lexer": "ipython3",
   "version": "3.8.8"
  },
  "orig_nbformat": 4
 },
 "nbformat": 4,
 "nbformat_minor": 2
}
