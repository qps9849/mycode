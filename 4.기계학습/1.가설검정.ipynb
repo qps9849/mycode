{
 "cells": [
  {
   "cell_type": "code",
   "execution_count": 1,
   "metadata": {},
   "outputs": [
    {
     "name": "stdout",
     "output_type": "stream",
     "text": [
      "4.333333333333333\n"
     ]
    }
   ],
   "source": [
    "import numpy as np\n",
    "from scipy import stats\n",
    "\n",
    "data=np.array([4,5,1,2,7,2,6,9,3])\n",
    "a=np.mean(data)\n",
    "print(a)"
   ]
  },
  {
   "cell_type": "code",
   "execution_count": 2,
   "metadata": {},
   "outputs": [
    {
     "name": "stdout",
     "output_type": "stream",
     "text": [
      "4.0\n"
     ]
    }
   ],
   "source": [
    "b=np.median(data)\n",
    "print(b)"
   ]
  },
  {
   "cell_type": "code",
   "execution_count": 3,
   "metadata": {},
   "outputs": [
    {
     "name": "stdout",
     "output_type": "stream",
     "text": [
      "2\n"
     ]
    }
   ],
   "source": [
    "c=stats.mode(data)\n",
    "print(c[0][0])"
   ]
  },
  {
   "cell_type": "code",
   "execution_count": 4,
   "metadata": {},
   "outputs": [
    {
     "data": {
      "text/plain": [
       "374"
      ]
     },
     "execution_count": 4,
     "metadata": {},
     "output_type": "execute_result"
    }
   ],
   "source": [
    "from statistics import variance,stdev\n",
    "\n",
    "points=np.array([20,80,90,95,87,89,95,99,97,100,60,70,77,88,89,89,90])\n",
    "\n",
    "a=variance(points)\n",
    "a"
   ]
  },
  {
   "cell_type": "code",
   "execution_count": 5,
   "metadata": {},
   "outputs": [
    {
     "data": {
      "text/plain": [
       "19.339079605813716"
      ]
     },
     "execution_count": 5,
     "metadata": {},
     "output_type": "execute_result"
    }
   ],
   "source": [
    "b=stdev(points)\n",
    "b"
   ]
  },
  {
   "cell_type": "code",
   "execution_count": 6,
   "metadata": {},
   "outputs": [
    {
     "data": {
      "text/plain": [
       "80"
      ]
     },
     "execution_count": 6,
     "metadata": {},
     "output_type": "execute_result"
    }
   ],
   "source": [
    "c=np.max(points)-np.min(points)\n",
    "c"
   ]
  },
  {
   "cell_type": "code",
   "execution_count": 8,
   "metadata": {},
   "outputs": [
    {
     "name": "stdout",
     "output_type": "stream",
     "text": [
      "100\n",
      "20\n",
      "80\n"
     ]
    }
   ],
   "source": [
    "a=np.max(points)\n",
    "b=np.min(points)\n",
    "c=a-b\n",
    "print(a)\n",
    "print(b)\n",
    "print(c)"
   ]
  },
  {
   "cell_type": "code",
   "execution_count": 10,
   "metadata": {},
   "outputs": [
    {
     "name": "stdout",
     "output_type": "stream",
     "text": [
      "20% 77.6\n",
      "80% 95.0\n",
      "100% 100.0\n"
     ]
    }
   ],
   "source": [
    "for val in [20,80,100]:\n",
    "    d=np.percentile(points,val)\n",
    "    print(str(val)+\"%\",d)"
   ]
  },
  {
   "cell_type": "code",
   "execution_count": 11,
   "metadata": {},
   "outputs": [
    {
     "name": "stdout",
     "output_type": "stream",
     "text": [
      "80.0\n",
      "89.0\n",
      "95.0\n",
      "15.0\n"
     ]
    }
   ],
   "source": [
    "a,b,c=np.percentile(points,[25,50,75])\n",
    "print(a)\n",
    "print(b)\n",
    "print(c)\n",
    "print(c-a)"
   ]
  },
  {
   "cell_type": "code",
   "execution_count": 13,
   "metadata": {},
   "outputs": [
    {
     "data": {
      "text/plain": [
       "Power_divergenceResult(statistic=14.200000000000001, pvalue=0.014387678176921308)"
      ]
     },
     "execution_count": 13,
     "metadata": {},
     "output_type": "execute_result"
    }
   ],
   "source": [
    "import pandas as pd\n",
    "from scipy import stats\n",
    "data1=[4,6,17,16,8,9]\n",
    "data2=[10,10,10,10,10,10]\n",
    "chis=stats.chisquare(data1,data2)\n",
    "chis"
   ]
  },
  {
   "cell_type": "code",
   "execution_count": 14,
   "metadata": {},
   "outputs": [
    {
     "name": "stdout",
     "output_type": "stream",
     "text": [
      "Exer   Freq  None  Some\n",
      "Smoke                  \n",
      "Heavy     7     1     3\n",
      "Never    87    18    84\n",
      "Occas    12     3     4\n",
      "Regul     9     1     7\n"
     ]
    }
   ],
   "source": [
    "import pandas as pd\n",
    "from scipy import stats\n",
    " \n",
    "survey=pd.read_csv('c:/data/smoke/survey.csv')\n",
    "data=pd.crosstab(survey.Smoke, survey.Exer)\n",
    "print(data)"
   ]
  },
  {
   "cell_type": "code",
   "execution_count": 15,
   "metadata": {},
   "outputs": [
    {
     "name": "stdout",
     "output_type": "stream",
     "text": [
      "5.488545890584232\n",
      "0.48284216946545633\n"
     ]
    }
   ],
   "source": [
    "result=stats.chi2_contingency(observed=data)\n",
    "print(result[0])\n",
    "print(result[1])"
   ]
  },
  {
   "cell_type": "code",
   "execution_count": 17,
   "metadata": {},
   "outputs": [
    {
     "data": {
      "text/plain": [
       "[188.1217268183162,\n",
       " 176.94121793174963,\n",
       " 177.35914123868272,\n",
       " 174.63515688921916,\n",
       " 184.32703814662338,\n",
       " 168.49230651559859,\n",
       " 188.7240588210824,\n",
       " 176.19396549552448,\n",
       " 181.5951954802855,\n",
       " 178.75314812261294,\n",
       " 187.31053968522488,\n",
       " 169.69929645251173,\n",
       " 178.38791397993245,\n",
       " 178.07972822665792,\n",
       " 185.6688472116772,\n",
       " 174.50054366342985,\n",
       " 179.13785896224783,\n",
       " 175.61070791039313,\n",
       " 180.21106873357797,\n",
       " 182.9140760685791]"
      ]
     },
     "execution_count": 17,
     "metadata": {},
     "output_type": "execute_result"
    }
   ],
   "source": [
    "np.random.seed(1)\n",
    "heights=[180+np.random.normal(0,5) for a in range(20)]\n",
    "heights"
   ]
  },
  {
   "cell_type": "code",
   "execution_count": 18,
   "metadata": {},
   "outputs": [
    {
     "name": "stdout",
     "output_type": "stream",
     "text": [
      "검정통계량 : 3.435 , p-value : 0.003\n"
     ]
    }
   ],
   "source": [
    "result=stats.ttest_1samp(heights,175)\n",
    "print(\"검정통계량 : %.3f , p-value : %.3f\" % result)"
   ]
  },
  {
   "cell_type": "code",
   "execution_count": 19,
   "metadata": {},
   "outputs": [
    {
     "name": "stdout",
     "output_type": "stream",
     "text": [
      "[164.4969041139354, 175.72361854919808, 174.50795360296397, 172.51247169450934, 174.50427974632206, 166.58136070412834, 169.38554887240676, 165.32115282870467, 168.66055960186992, 172.65177733369092, 166.54169624137344, 168.0162323657201, 166.564136499402, 165.77397179250642, 166.6437693458159, 169.9366770054055, 164.4134482568236, 171.17207848908546, 178.29901088554936, 173.71022080288668]\n",
      "[173.08164447638384, 166.12371035915163, 167.52841706249163, 191.92454601027748, 175.50807754776028, 168.63004353430648, 176.90915484667465, 196.00255136478842, 176.20158952481628, 181.17203109707418, 178.00170319955828, 171.47750153506482, 163.5748180197786, 171.50657277587123, 172.91105766625222, 180.86623191182198, 183.38983413874504, 184.31102081303558, 177.85587325254258, 183.8514116427073]\n",
      "group1의 평균 169.77084343661494\n",
      "group2의 평균 177.04138953895512\n"
     ]
    }
   ],
   "source": [
    "group1=[170+np.random.normal(0,5) for a in range(20)]\n",
    "group2=[175+np.random.normal(0,10) for a in range(20)]\n",
    "print(group1)\n",
    "print(group2)\n",
    "print(\"group1의 평균\",np.mean(group1))\n",
    "print(\"group2의 평균\",np.mean(group2))"
   ]
  },
  {
   "cell_type": "code",
   "execution_count": 20,
   "metadata": {},
   "outputs": [
    {
     "name": "stdout",
     "output_type": "stream",
     "text": [
      " : -3.503 , p-value : 0.001.\n",
      " : -3.503 , p-value : 0.002.\n"
     ]
    }
   ],
   "source": [
    "result1=stats.ttest_ind(group1,group2)\n",
    "print(\" : %.3f , p-value : %.3f.\" %result1)\n",
    "result2 = stats.ttest_ind(group1, group2, equal_var=False)\n",
    "print(\" : %.3f , p-value : %.3f.\" %result2)"
   ]
  },
  {
   "cell_type": "code",
   "execution_count": 21,
   "metadata": {},
   "outputs": [
    {
     "name": "stdout",
     "output_type": "stream",
     "text": [
      "[68.1217268183162, 56.94121793174962, 57.359141238682724, 54.63515688921915, 64.3270381466234, 48.492306515598585, 68.7240588210824, 56.19396549552449, 61.59519548028549, 58.75314812261295, 67.31053968522487, 49.69929645251173, 58.38791397993246, 58.07972822665792, 65.66884721167719, 54.500543663429845, 59.13785896224782, 55.61070791039314, 60.21106873357797, 62.914076068579114]\n",
      "[65.94098797171107, 57.67544499710449, 57.819839215935254, 54.63788246116392, 64.84275566541605, 47.34427263203588, 67.86790793112998, 54.58033393455883, 60.64923115285458, 58.78881770728494, 65.70631311881824, 48.80793606499072, 57.001583230054315, 56.517144665313666, 64.13055954741337, 53.94173367626836, 57.224973536332286, 55.315321289307555, 61.60772730564428, 63.218635763189475]\n"
     ]
    }
   ],
   "source": [
    "np.random.seed(1)\n",
    "before=[60+np.random.normal(0,5) for _ in range(20)]\n",
    "print(before)\n",
    "after=[w*np.random.normal(0.99,0.02) for w in before]\n",
    "print(after)"
   ]
  },
  {
   "cell_type": "code",
   "execution_count": 22,
   "metadata": {},
   "outputs": [
    {
     "name": "stdout",
     "output_type": "stream",
     "text": [
      " : 2.915 , p-value : 0.009\n"
     ]
    }
   ],
   "source": [
    "result=stats.ttest_rel(before,after)\n",
    "print(\" : %.3f , p-value : %.3f\" % result)"
   ]
  },
  {
   "cell_type": "code",
   "execution_count": 24,
   "metadata": {},
   "outputs": [
    {
     "name": "stdout",
     "output_type": "stream",
     "text": [
      "a 평균: 79.0\n",
      "b 평균: 65.375\n",
      "c 평균: 64.375\n",
      "d 평균: 69.5\n"
     ]
    }
   ],
   "source": [
    "import matplotlib.pyplot as plt\n",
    "a=[66,74,82,75,73,97,87,78]\n",
    "b=[72,51,59,62,74,64,78,63]\n",
    "c=[61,60,57,60,81,55,70,71]\n",
    "d=[63,61,76,84,58,65,69,80]\n",
    "\n",
    "print(\"a 평균:\",np.mean(a))\n",
    "print(\"b 평균:\",np.mean(b))\n",
    "print(\"c 평균:\",np.mean(c))\n",
    "print(\"d 평균:\",np.mean(d))"
   ]
  },
  {
   "cell_type": "code",
   "execution_count": 26,
   "metadata": {},
   "outputs": [
    {
     "data": {
      "image/png": "[encoded data removed]",
      "text/plain": [
       "<Figure size 432x288 with 1 Axes>"
      ]
     },
     "metadata": {
      "needs_background": "light"
     },
     "output_type": "display_data"
    }
   ],
   "source": [
    "plot_data=[a,b,c,d]\n",
    "ax=plt.boxplot(plot_data)\n",
    "plt.show()"
   ]
  },
  {
   "cell_type": "code",
   "execution_count": 27,
   "metadata": {},
   "outputs": [
    {
     "name": "stdout",
     "output_type": "stream",
     "text": [
      "4.2210931159803815 0.013933707427484199\n"
     ]
    }
   ],
   "source": [
    "f, p = stats.f_oneway(a, b, c, d)\n",
    "print(f, p)"
   ]
  },
  {
   "cell_type": "code",
   "execution_count": 28,
   "metadata": {},
   "outputs": [
    {
     "name": "stdout",
     "output_type": "stream",
     "text": [
      "   fertilizer1  fertilizer2  fertilizer3\n",
      "0           72           54           48\n",
      "1           62           56           62\n",
      "2           90           58           92\n",
      "3           42           36           96\n",
      "4           84           72           92\n",
      "5           64           34           80\n"
     ]
    }
   ],
   "source": [
    "data=pd.read_csv(\"c:/data/anova/fertilizers.csv\")\n",
    "print(data)\n"
   ]
  },
  {
   "cell_type": "code",
   "execution_count": 29,
   "metadata": {},
   "outputs": [
    {
     "name": "stdout",
     "output_type": "stream",
     "text": [
      "F_onewayResult(statistic=3.7551268418654105, pvalue=0.04762461989261837)\n",
      "3.7551268418654105\n",
      "0.04762461989261837\n"
     ]
    }
   ],
   "source": [
    "result=stats.f_oneway(data[\"fertilizer1\"],data[\"fertilizer2\"],data[\"fertilizer3\"])\n",
    "print(result)\n",
    "print(result[0])\n",
    "print(result[1])"
   ]
  },
  {
   "cell_type": "code",
   "execution_count": null,
   "metadata": {},
   "outputs": [],
   "source": []
  }
 ],
 "metadata": {
  "interpreter": {
   "hash": "cef9e06bb236b2a8629b07e87a04b187b952a0f661eff5533360a155783f0c33"
  },
  "kernelspec": {
   "display_name": "Python 3.8.8 64-bit ('base': conda)",
   "language": "python",
   "name": "python3"
  },
  "language_info": {
   "codemirror_mode": {
    "name": "ipython",
    "version": 3
   },
   "file_extension": ".py",
   "mimetype": "text/x-python",
   "name": "python",
   "nbconvert_exporter": "python",
   "pygments_lexer": "ipython3",
   "version": "3.8.8"
  },
  "orig_nbformat": 4
 },
 "nbformat": 4,
 "nbformat_minor": 2
}
