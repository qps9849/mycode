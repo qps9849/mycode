{
 "cells": [
  {
   "cell_type": "code",
   "execution_count": 1,
   "metadata": {},
   "outputs": [],
   "source": [
    "import joblib\n",
    "model=joblib.load('c:/data/titanic/titanic_logit.model')"
   ]
  },
  {
   "cell_type": "code",
   "execution_count": 2,
   "metadata": {},
   "outputs": [
    {
     "name": "stdout",
     "output_type": "stream",
     "text": [
      "[0]\n",
      "[1]\n",
      "[1]\n",
      "[[0.83143517 0.16856483]]\n",
      "0.1685648298172236\n"
     ]
    }
   ],
   "source": [
    "import numpy as np\n",
    "\n",
    "#person1 = np.array([0, 0, 1, 1, 0, 19, 1, 0, 50]).reshape(1,9)\n",
    "person1 = [[0, 0, 1, 1, 0, 19, 1, 0, 50]]\n",
    "person2 = np.array([1, 0, 0, 0, 1, 17, 0, 2, 30]).reshape(1,9)\n",
    "person3 = np.array([0, 1, 0, 0, 1, 40, 2, 0, 70]).reshape(1,9)\n",
    "print(model.predict(person1))\n",
    "print(model.predict(person2))\n",
    "print(model.predict(person3))\n",
    "rate=model.predict_proba(person1)\n",
    "print(rate)\n",
    "print(rate[0][-1])"
   ]
  },
  {
   "cell_type": "code",
   "execution_count": null,
   "metadata": {},
   "outputs": [],
   "source": []
  }
 ],
 "metadata": {
  "interpreter": {
   "hash": "cef9e06bb236b2a8629b07e87a04b187b952a0f661eff5533360a155783f0c33"
  },
  "kernelspec": {
   "display_name": "Python 3.8.8 64-bit ('base': conda)",
   "language": "python",
   "name": "python3"
  },
  "language_info": {
   "codemirror_mode": {
    "name": "ipython",
    "version": 3
   },
   "file_extension": ".py",
   "mimetype": "text/x-python",
   "name": "python",
   "nbconvert_exporter": "python",
   "pygments_lexer": "ipython3",
   "version": "3.8.8"
  },
  "orig_nbformat": 4
 },
 "nbformat": 4,
 "nbformat_minor": 2
}
