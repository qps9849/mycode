{
 "cells": [
  {
   "cell_type": "code",
   "execution_count": 1,
   "metadata": {},
   "outputs": [
    {
     "name": "stdout",
     "output_type": "stream",
     "text": [
      "(2008, 1, 3, 4, 2003, 1955, 2211, 2225, 'WN', 335, 'N712SW', 128, 150, 116, -14, 8, 'IAD', 'TPA', 810, 4, 8, 0, '', '0', 'NA', 'NA', 'NA', 'NA', 'NA')\n",
      "(2008, 1, 3, 4, 754, 735, 1002, 1000, 'WN', 3231, 'N772SW', 128, 145, 113, 2, 19, 'IAD', 'TPA', 810, 5, 10, 0, '', '0', 'NA', 'NA', 'NA', 'NA', 'NA')\n",
      "(2008, 1, 3, 4, 628, 620, 804, 750, 'WN', 448, 'N428WN', 96, 90, 76, 14, 8, 'IND', 'BWI', 515, 3, 17, 0, '', '0', 'NA', 'NA', 'NA', 'NA', 'NA')\n",
      "(2008, 1, 3, 4, 926, 930, 1054, 1100, 'WN', 1746, 'N612SW', 88, 90, 78, -6, -4, 'IND', 'BWI', 515, 3, 7, 0, '', '0', 'NA', 'NA', 'NA', 'NA', 'NA')\n",
      "(2008, 1, 3, 4, 1829, 1755, 1959, 1925, 'WN', 3920, 'N464WN', 90, 90, 77, 34, 34, 'IND', 'BWI', 515, 3, 10, 0, '', '0', 2, 0, 0, 0, 32)\n"
     ]
    }
   ],
   "source": [
    "import sqlite3\n",
    "conn=sqlite3.connect('c:/data/db/ontime.db')\n",
    "cursor=conn.cursor()\n",
    "cursor.execute('select * from ontime limit 5')\n",
    "rows = cursor.fetchall()\n",
    "for row in rows:\n",
    "    print(row)\n",
    "conn.close()"
   ]
  },
  {
   "cell_type": "code",
   "execution_count": 2,
   "metadata": {},
   "outputs": [
    {
     "name": "stdout",
     "output_type": "stream",
     "text": [
      "('9E', 6.5856228642909445)\n",
      "('AA', 12.899916513056201)\n",
      "('AQ', -1.3902564102564103)\n",
      "('AS', 6.752723325965242)\n",
      "('B6', 12.447679903718171)\n",
      "('CO', 13.023581444438861)\n",
      "('DL', 7.887967410954327)\n",
      "('EV', 11.711389111645728)\n",
      "('F9', 5.901056786616821)\n",
      "('FL', 9.183920300820837)\n",
      "('HA', 0.4510561899524472)\n",
      "('MQ', 10.29978622071234)\n",
      "('NW', 6.409786223004613)\n",
      "('OH', 11.16054087152783)\n",
      "('OO', 7.2952999070807305)\n",
      "('UA', 13.784372045426737)\n",
      "('US', 5.635456327203702)\n",
      "('WN', 10.276262862449386)\n",
      "('XE', 11.093709113241301)\n",
      "('YV', 11.572015847487545)\n"
     ]
    }
   ],
   "source": [
    "conn=sqlite3.connect('c:/data/db/ontime.db')\n",
    "cursor=conn.cursor()\n",
    "cursor.execute('''select uniquecarrier,avg(depdelay)\n",
    "from ontime\n",
    "group by uniquecarrier''')\n",
    "rows=cursor.fetchall()\n",
    "for row in rows:\n",
    "    print(row)\n",
    "conn.close()"
   ]
  },
  {
   "cell_type": "code",
   "execution_count": 4,
   "metadata": {},
   "outputs": [
    {
     "name": "stdout",
     "output_type": "stream",
     "text": [
      "('9E', 3.987490846961191)\n",
      "('AA', 12.202853434950445)\n",
      "('AQ', -2.8708974358974357)\n",
      "('AS', 4.721360405553864)\n",
      "('B6', 10.859381613638567)\n",
      "('CO', 10.809820575966226)\n",
      "('DL', 7.716164635751918)\n",
      "('EV', 10.00033146217589)\n",
      "('F9', 6.084135669681085)\n",
      "('FL', 8.988157472371256)\n",
      "('HA', 1.2518519716624075)\n",
      "('MQ', 9.496970610952266)\n",
      "('NW', 7.293465879672776)\n",
      "('OH', 11.404110178283158)\n",
      "('OO', 6.43893863978179)\n",
      "('UA', 11.001550560048052)\n",
      "('US', 2.800998260539828)\n",
      "('WN', 5.115703380225903)\n",
      "('XE', 10.320298523403915)\n",
      "('YV', 11.322566979170753)\n"
     ]
    }
   ],
   "source": [
    "conn=sqlite3.connect('c:/data/db/ontime.db')\n",
    "cursor=conn.cursor()\n",
    "cursor.execute('''select uniquecarrier,avg(arrdelay)\n",
    "from ontime\n",
    "group by uniquecarrier''')\n",
    "rows=cursor.fetchall()\n",
    "for row in rows:\n",
    "    print(row)\n",
    "conn.close()"
   ]
  },
  {
   "cell_type": "code",
   "execution_count": 5,
   "metadata": {},
   "outputs": [
    {
     "name": "stdout",
     "output_type": "stream",
     "text": [
      "(1, 265256)\n",
      "(2, 273361)\n",
      "(3, 288152)\n",
      "(4, 231219)\n",
      "(5, 226843)\n",
      "(6, 281945)\n",
      "(7, 264230)\n",
      "(8, 241184)\n",
      "(9, 156974)\n",
      "(10, 165590)\n",
      "(11, 161485)\n",
      "(12, 280981)\n"
     ]
    }
   ],
   "source": [
    "conn=sqlite3.connect('c:/data/db/ontime.db')\n",
    "cursor=conn.cursor()\n",
    "cursor.execute('''\n",
    "select month, count(*) from ontime\n",
    "where year=2008 and depdelay > 0\n",
    "group by month\n",
    "''')\n",
    "rows =cursor.fetchall()\n",
    "for row in rows:\n",
    "    print(row)\n",
    "conn.close()"
   ]
  },
  {
   "cell_type": "code",
   "execution_count": 6,
   "metadata": {},
   "outputs": [
    {
     "name": "stdout",
     "output_type": "stream",
     "text": [
      "[1, 2, 3, 4, 5, 6, 7, 8, 9, 10, 11, 12]\n",
      "[265256, 273361, 288152, 231219, 226843, 281945, 264230, 241184, 156974, 165590, 161485, 280981]\n"
     ]
    }
   ],
   "source": [
    "x=list(range(1,13))\n",
    "y=[]\n",
    "for row in rows:\n",
    "    y.append(row[1])\n",
    "print(x)\n",
    "print(y)"
   ]
  },
  {
   "cell_type": "code",
   "execution_count": 7,
   "metadata": {},
   "outputs": [
    {
     "data": {
      "text/plain": [
       "<BarContainer object of 12 artists>"
      ]
     },
     "execution_count": 7,
     "metadata": {},
     "output_type": "execute_result"
    },
    {
     "data": {
      "image/png": "[encoded data removed]",
      "text/plain": [
       "<Figure size 432x288 with 1 Axes>"
      ]
     },
     "metadata": {
      "needs_background": "light"
     },
     "output_type": "display_data"
    }
   ],
   "source": [
    "%matplotlib inline\n",
    "import matplotlib.pyplot as plt\n",
    "\n",
    "plt.plot(x,y)\n",
    "plt.bar(x,y)"
   ]
  },
  {
   "cell_type": "code",
   "execution_count": 8,
   "metadata": {},
   "outputs": [
    {
     "name": "stdout",
     "output_type": "stream",
     "text": [
      "(1, 8.030254747872275)\n",
      "(2, 7.29232332960935)\n",
      "(3, 6.379804071503802)\n",
      "(4, 8.246549198623555)\n",
      "(5, 10.675214410055972)\n",
      "(6, 5.682499626837823)\n",
      "(7, 9.294087238339747)\n"
     ]
    }
   ],
   "source": [
    "conn=sqlite3.connect('c:/data/db/ontime.db')\n",
    "cursor=conn.cursor()\n",
    "cursor.execute('''\n",
    "select dayofweek, avg(arrdelay)\n",
    "from ontime\n",
    "group by dayofweek\n",
    "''')\n",
    "rows=cursor.fetchall()\n",
    "for row in rows:\n",
    "    print(row)\n",
    "conn.close()"
   ]
  },
  {
   "cell_type": "code",
   "execution_count": 9,
   "metadata": {},
   "outputs": [
    {
     "name": "stdout",
     "output_type": "stream",
     "text": [
      "['월', '화', '수', '목', '금', '토', '일']\n",
      "[8.030254747872275, 7.29232332960935, 6.379804071503802, 8.246549198623555, 10.675214410055972, 5.682499626837823, 9.294087238339747]\n"
     ]
    }
   ],
   "source": [
    "x=['월','화','수','목','금','토','일']\n",
    "y=[]\n",
    "for row in rows:\n",
    "    y.append(row[1])\n",
    "print(x)\n",
    "print(y)"
   ]
  },
  {
   "cell_type": "code",
   "execution_count": 10,
   "metadata": {},
   "outputs": [
    {
     "data": {
      "text/plain": [
       "([0, 1, 2, 3, 4, 5, 6],\n",
       " [Text(0, 0, ''),\n",
       "  Text(0, 0, ''),\n",
       "  Text(0, 0, ''),\n",
       "  Text(0, 0, ''),\n",
       "  Text(0, 0, ''),\n",
       "  Text(0, 0, ''),\n",
       "  Text(0, 0, '')])"
      ]
     },
     "execution_count": 10,
     "metadata": {},
     "output_type": "execute_result"
    },
    {
     "data": {
      "image/png": "[encoded data removed]",
      "text/plain": [
       "<Figure size 432x288 with 1 Axes>"
      ]
     },
     "metadata": {
      "needs_background": "light"
     },
     "output_type": "display_data"
    }
   ],
   "source": [
    "import pandas as pd\n",
    "import matplotlib.pyplot as plt\n",
    "%matplotlib inline\n",
    "\n",
    "from matplotlib import rc,font_manager\n",
    "font_name=font_manager.FontProperties(fname='c:/windows/fonts/gulim.ttc').get_name()\n",
    "rc('font',family=font_name)\n",
    "plt.plot(x,y)\n",
    "plt.bar(x,y)\n",
    "plt.xticks(rotation=0)"
   ]
  },
  {
   "cell_type": "code",
   "execution_count": 12,
   "metadata": {},
   "outputs": [
    {
     "name": "stdout",
     "output_type": "stream",
     "text": [
      "(2202, -28.0)\n"
     ]
    }
   ],
   "source": [
    "conn=sqlite3.connect('c:/data/db/ontime.db')\n",
    "cursor=conn.cursor()\n",
    "cursor.execute('''\n",
    "select CRSDepTime, avg(arrdelay) arrdelay from ontime\n",
    "where month=10 and dayofweek=1\n",
    "group by CRSDepTime\n",
    "order by avg(arrdelay)\n",
    "limit 1\n",
    "''')\n",
    "rows=cursor.fetchall()\n",
    "for row in rows:\n",
    "    print(row)\n",
    "conn.close()"
   ]
  },
  {
   "cell_type": "code",
   "execution_count": null,
   "metadata": {},
   "outputs": [],
   "source": []
  }
 ],
 "metadata": {
  "interpreter": {
   "hash": "cef9e06bb236b2a8629b07e87a04b187b952a0f661eff5533360a155783f0c33"
  },
  "kernelspec": {
   "display_name": "Python 3.8.8 64-bit ('base': conda)",
   "language": "python",
   "name": "python3"
  },
  "language_info": {
   "codemirror_mode": {
    "name": "ipython",
    "version": 3
   },
   "file_extension": ".py",
   "mimetype": "text/x-python",
   "name": "python",
   "nbconvert_exporter": "python",
   "pygments_lexer": "ipython3",
   "version": "3.8.8"
  },
  "orig_nbformat": 4
 },
 "nbformat": 4,
 "nbformat_minor": 2
}
