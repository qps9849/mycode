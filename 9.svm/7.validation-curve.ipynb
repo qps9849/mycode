{
 "cells": [
  {
   "cell_type": "code",
   "execution_count": 24,
   "metadata": {},
   "outputs": [
    {
     "data": {
      "text/plain": [
       "Index(['weekend', 'num.child', 'distance', 'rides', 'games', 'wait', 'clean',\n",
       "       'overall'],\n",
       "      dtype='object')"
      ]
     },
     "execution_count": 24,
     "metadata": {},
     "output_type": "execute_result"
    }
   ],
   "source": [
    "import pandas as pd\n",
    "\n",
    "df=pd.read_csv('c:/data/rides/rides2.csv')\n",
    "df.columns"
   ]
  },
  {
   "cell_type": "code",
   "execution_count": 25,
   "metadata": {},
   "outputs": [
    {
     "data": {
      "text/plain": [
       "1    255\n",
       "0    245\n",
       "Name: overall, dtype: int64"
      ]
     },
     "execution_count": 25,
     "metadata": {},
     "output_type": "execute_result"
    }
   ],
   "source": [
    "cols=df.columns[:-1]\n",
    "X=df[cols]\n",
    "y=df['overall']\n",
    "y.value_counts()"
   ]
  },
  {
   "cell_type": "code",
   "execution_count": 26,
   "metadata": {},
   "outputs": [],
   "source": [
    "from imblearn.under_sampling import RandomUnderSampler\n",
    "X_sample, y_sample=RandomUnderSampler(random_state=0).fit_resample(X,y)\n",
    "X_samp = pd.DataFrame(data=X_sample,columns=cols )\n",
    "y_samp = pd.DataFrame(data=y_sample,columns=['overall'])\n",
    "df_samp=pd.concat([X_samp,y_samp],axis=1)"
   ]
  },
  {
   "cell_type": "code",
   "execution_count": 27,
   "metadata": {},
   "outputs": [
    {
     "data": {
      "text/plain": [
       "0    245\n",
       "1    245\n",
       "Name: overall, dtype: int64"
      ]
     },
     "execution_count": 27,
     "metadata": {},
     "output_type": "execute_result"
    }
   ],
   "source": [
    "X=df_samp[cols]\n",
    "y=df_samp['overall']\n",
    "y.value_counts()"
   ]
  },
  {
   "cell_type": "code",
   "execution_count": 28,
   "metadata": {},
   "outputs": [
    {
     "data": {
      "text/plain": [
       "<AxesSubplot:>"
      ]
     },
     "execution_count": 28,
     "metadata": {},
     "output_type": "execute_result"
    },
    {
     "data": {
      "image/png": "[encoded data removed]",
      "text/plain": [
       "<Figure size 432x288 with 1 Axes>"
      ]
     },
     "metadata": {
      "needs_background": "light"
     },
     "output_type": "display_data"
    }
   ],
   "source": [
    "X.boxplot()"
   ]
  },
  {
   "cell_type": "code",
   "execution_count": 29,
   "metadata": {},
   "outputs": [
    {
     "data": {
      "text/html": [
       "<div>\n",
       "<style scoped>\n",
       "    .dataframe tbody tr th:only-of-type {\n",
       "        vertical-align: middle;\n",
       "    }\n",
       "\n",
       "    .dataframe tbody tr th {\n",
       "        vertical-align: top;\n",
       "    }\n",
       "\n",
       "    .dataframe thead th {\n",
       "        text-align: right;\n",
       "    }\n",
       "</style>\n",
       "<table border=\"1\" class=\"dataframe\">\n",
       "  <thead>\n",
       "    <tr style=\"text-align: right;\">\n",
       "      <th></th>\n",
       "      <th>weekend</th>\n",
       "      <th>num.child</th>\n",
       "      <th>distance</th>\n",
       "      <th>rides</th>\n",
       "      <th>games</th>\n",
       "      <th>wait</th>\n",
       "      <th>clean</th>\n",
       "    </tr>\n",
       "  </thead>\n",
       "  <tbody>\n",
       "    <tr>\n",
       "      <th>0</th>\n",
       "      <td>1.033204</td>\n",
       "      <td>-1.159150</td>\n",
       "      <td>2.715919</td>\n",
       "      <td>0.222582</td>\n",
       "      <td>-0.684357</td>\n",
       "      <td>-0.907906</td>\n",
       "      <td>0.232027</td>\n",
       "    </tr>\n",
       "    <tr>\n",
       "      <th>1</th>\n",
       "      <td>1.033204</td>\n",
       "      <td>-1.159150</td>\n",
       "      <td>-0.147105</td>\n",
       "      <td>0.405270</td>\n",
       "      <td>-0.807778</td>\n",
       "      <td>-0.351234</td>\n",
       "      <td>0.232027</td>\n",
       "    </tr>\n",
       "    <tr>\n",
       "      <th>2</th>\n",
       "      <td>-0.967863</td>\n",
       "      <td>2.174087</td>\n",
       "      <td>-0.251336</td>\n",
       "      <td>-0.873549</td>\n",
       "      <td>0.056169</td>\n",
       "      <td>-2.021251</td>\n",
       "      <td>-1.724830</td>\n",
       "    </tr>\n",
       "    <tr>\n",
       "      <th>3</th>\n",
       "      <td>1.033204</td>\n",
       "      <td>-0.492503</td>\n",
       "      <td>-0.123242</td>\n",
       "      <td>-1.604302</td>\n",
       "      <td>-0.684357</td>\n",
       "      <td>-1.093464</td>\n",
       "      <td>-0.550716</td>\n",
       "    </tr>\n",
       "    <tr>\n",
       "      <th>4</th>\n",
       "      <td>-0.967863</td>\n",
       "      <td>-1.159150</td>\n",
       "      <td>-0.618469</td>\n",
       "      <td>-0.690860</td>\n",
       "      <td>-1.054620</td>\n",
       "      <td>0.019881</td>\n",
       "      <td>-0.942087</td>\n",
       "    </tr>\n",
       "    <tr>\n",
       "      <th>...</th>\n",
       "      <td>...</td>\n",
       "      <td>...</td>\n",
       "      <td>...</td>\n",
       "      <td>...</td>\n",
       "      <td>...</td>\n",
       "      <td>...</td>\n",
       "      <td>...</td>\n",
       "    </tr>\n",
       "    <tr>\n",
       "      <th>485</th>\n",
       "      <td>1.033204</td>\n",
       "      <td>0.174145</td>\n",
       "      <td>0.343347</td>\n",
       "      <td>1.866777</td>\n",
       "      <td>1.166959</td>\n",
       "      <td>0.390996</td>\n",
       "      <td>1.797513</td>\n",
       "    </tr>\n",
       "    <tr>\n",
       "      <th>486</th>\n",
       "      <td>1.033204</td>\n",
       "      <td>0.174145</td>\n",
       "      <td>-0.285608</td>\n",
       "      <td>-0.325484</td>\n",
       "      <td>-0.314094</td>\n",
       "      <td>1.226005</td>\n",
       "      <td>-0.159344</td>\n",
       "    </tr>\n",
       "    <tr>\n",
       "      <th>487</th>\n",
       "      <td>-0.967863</td>\n",
       "      <td>0.840792</td>\n",
       "      <td>-0.733693</td>\n",
       "      <td>2.049465</td>\n",
       "      <td>0.673275</td>\n",
       "      <td>-1.279021</td>\n",
       "      <td>1.601828</td>\n",
       "    </tr>\n",
       "    <tr>\n",
       "      <th>488</th>\n",
       "      <td>1.033204</td>\n",
       "      <td>1.507440</td>\n",
       "      <td>-0.195983</td>\n",
       "      <td>1.684088</td>\n",
       "      <td>2.154327</td>\n",
       "      <td>1.318783</td>\n",
       "      <td>1.601828</td>\n",
       "    </tr>\n",
       "    <tr>\n",
       "      <th>489</th>\n",
       "      <td>-0.967863</td>\n",
       "      <td>1.507440</td>\n",
       "      <td>-0.012909</td>\n",
       "      <td>0.405270</td>\n",
       "      <td>-0.684357</td>\n",
       "      <td>-0.722349</td>\n",
       "      <td>0.036342</td>\n",
       "    </tr>\n",
       "  </tbody>\n",
       "</table>\n",
       "<p>490 rows × 7 columns</p>\n",
       "</div>"
      ],
      "text/plain": [
       "      weekend  num.child  distance     rides     games      wait     clean\n",
       "0    1.033204  -1.159150  2.715919  0.222582 -0.684357 -0.907906  0.232027\n",
       "1    1.033204  -1.159150 -0.147105  0.405270 -0.807778 -0.351234  0.232027\n",
       "2   -0.967863   2.174087 -0.251336 -0.873549  0.056169 -2.021251 -1.724830\n",
       "3    1.033204  -0.492503 -0.123242 -1.604302 -0.684357 -1.093464 -0.550716\n",
       "4   -0.967863  -1.159150 -0.618469 -0.690860 -1.054620  0.019881 -0.942087\n",
       "..        ...        ...       ...       ...       ...       ...       ...\n",
       "485  1.033204   0.174145  0.343347  1.866777  1.166959  0.390996  1.797513\n",
       "486  1.033204   0.174145 -0.285608 -0.325484 -0.314094  1.226005 -0.159344\n",
       "487 -0.967863   0.840792 -0.733693  2.049465  0.673275 -1.279021  1.601828\n",
       "488  1.033204   1.507440 -0.195983  1.684088  2.154327  1.318783  1.601828\n",
       "489 -0.967863   1.507440 -0.012909  0.405270 -0.684357 -0.722349  0.036342\n",
       "\n",
       "[490 rows x 7 columns]"
      ]
     },
     "execution_count": 29,
     "metadata": {},
     "output_type": "execute_result"
    }
   ],
   "source": [
    "from sklearn.preprocessing import StandardScaler\n",
    "ss=StandardScaler()\n",
    "ss.fit(X)\n",
    "df_ss=pd.DataFrame(ss.transform(X),columns=X.columns)\n",
    "df_ss"
   ]
  },
  {
   "cell_type": "code",
   "execution_count": 30,
   "metadata": {},
   "outputs": [
    {
     "data": {
      "text/plain": [
       "<AxesSubplot:>"
      ]
     },
     "execution_count": 30,
     "metadata": {},
     "output_type": "execute_result"
    },
    {
     "data": {
      "image/png": "[encoded data removed]",
      "text/plain": [
       "<Figure size 432x288 with 1 Axes>"
      ]
     },
     "metadata": {
      "needs_background": "light"
     },
     "output_type": "display_data"
    }
   ],
   "source": [
    "df_ss.boxplot()"
   ]
  },
  {
   "cell_type": "code",
   "execution_count": 31,
   "metadata": {},
   "outputs": [],
   "source": [
    "X=df_ss[cols]"
   ]
  },
  {
   "cell_type": "code",
   "execution_count": 32,
   "metadata": {},
   "outputs": [],
   "source": [
    "import numpy as np\n",
    "from sklearn.svm import SVC\n",
    "from sklearn.model_selection import validation_curve\n",
    "\n",
    "param_range=np.logspace(-6,3,10)\n",
    "train_scores, test_scores=validation_curve(SVC(),X,y,param_name=\"gamma\",param_range=param_range,\n",
    "scoring=\"accuracy\", n_jobs=-1)\n",
    "train_scores_mean=np.mean(train_scores,axis=1)\n",
    "test_scores_mean=np.mean(test_scores,axis=1)"
   ]
  },
  {
   "cell_type": "code",
   "execution_count": 33,
   "metadata": {},
   "outputs": [
    {
     "name": "stdout",
     "output_type": "stream",
     "text": [
      "0.7938775510204081\n",
      "0.1\n"
     ]
    }
   ],
   "source": [
    "print(np.max(test_scores_mean))\n",
    "print(param_range[np.argmax(test_scores_mean)])"
   ]
  },
  {
   "cell_type": "code",
   "execution_count": 34,
   "metadata": {},
   "outputs": [
    {
     "data": {
      "image/png": "[encoded data removed]",
      "text/plain": [
       "<Figure size 936x936 with 1 Axes>"
      ]
     },
     "metadata": {
      "needs_background": "light"
     },
     "output_type": "display_data"
    }
   ],
   "source": [
    "import matplotlib.pyplot as plt\n",
    "plt.figure(figsize=(13, 13))\n",
    "plt.xlabel('gamma')\n",
    "plt.ylabel(\"score\")\n",
    "plt.ylim(0.4, 1.1)\n",
    "plt.semilogx(param_range, train_scores_mean, label=\"Train\")\n",
    "plt.semilogx(param_range, test_scores_mean, label=\"Test\")\n",
    "plt.legend(loc=\"best\")\n",
    "plt.show()"
   ]
  },
  {
   "cell_type": "code",
   "execution_count": null,
   "metadata": {},
   "outputs": [],
   "source": []
  }
 ],
 "metadata": {
  "interpreter": {
   "hash": "cef9e06bb236b2a8629b07e87a04b187b952a0f661eff5533360a155783f0c33"
  },
  "kernelspec": {
   "display_name": "Python 3.8.8 64-bit ('base': conda)",
   "language": "python",
   "name": "python3"
  },
  "language_info": {
   "codemirror_mode": {
    "name": "ipython",
    "version": 3
   },
   "file_extension": ".py",
   "mimetype": "text/x-python",
   "name": "python",
   "nbconvert_exporter": "python",
   "pygments_lexer": "ipython3",
   "version": "3.8.8"
  },
  "orig_nbformat": 4
 },
 "nbformat": 4,
 "nbformat_minor": 2
}
