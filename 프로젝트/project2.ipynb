{
 "cells": [
  {
   "cell_type": "code",
   "execution_count": 1,
   "metadata": {},
   "outputs": [
    {
     "data": {
      "text/html": [
       "<div>\n",
       "<style scoped>\n",
       "    .dataframe tbody tr th:only-of-type {\n",
       "        vertical-align: middle;\n",
       "    }\n",
       "\n",
       "    .dataframe tbody tr th {\n",
       "        vertical-align: top;\n",
       "    }\n",
       "\n",
       "    .dataframe thead th {\n",
       "        text-align: right;\n",
       "    }\n",
       "</style>\n",
       "<table border=\"1\" class=\"dataframe\">\n",
       "  <thead>\n",
       "    <tr style=\"text-align: right;\">\n",
       "      <th></th>\n",
       "      <th>imdb_title_id</th>\n",
       "      <th>title</th>\n",
       "      <th>original_title</th>\n",
       "      <th>year</th>\n",
       "      <th>genre</th>\n",
       "      <th>country</th>\n",
       "      <th>language</th>\n",
       "      <th>director</th>\n",
       "      <th>writer</th>\n",
       "      <th>production_company</th>\n",
       "      <th>...</th>\n",
       "      <th>votes_4</th>\n",
       "      <th>votes_3</th>\n",
       "      <th>votes_2</th>\n",
       "      <th>votes_1</th>\n",
       "      <th>man_vote</th>\n",
       "      <th>males_avg_vote</th>\n",
       "      <th>males_votes</th>\n",
       "      <th>woman_vote</th>\n",
       "      <th>females_avg_vote</th>\n",
       "      <th>females_votes</th>\n",
       "    </tr>\n",
       "  </thead>\n",
       "  <tbody>\n",
       "    <tr>\n",
       "      <th>0</th>\n",
       "      <td>tt0017136</td>\n",
       "      <td>Metropolis</td>\n",
       "      <td>Metropolis</td>\n",
       "      <td>1927</td>\n",
       "      <td>Drama, Sci-Fi</td>\n",
       "      <td>Germany</td>\n",
       "      <td>German</td>\n",
       "      <td>Fritz Lang</td>\n",
       "      <td>Thea von Harbou, Thea von Harbou</td>\n",
       "      <td>Universum Film (UFA)</td>\n",
       "      <td>...</td>\n",
       "      <td>2436</td>\n",
       "      <td>1377</td>\n",
       "      <td>1089</td>\n",
       "      <td>3461</td>\n",
       "      <td>1</td>\n",
       "      <td>8.3</td>\n",
       "      <td>97888</td>\n",
       "      <td>1</td>\n",
       "      <td>8.3</td>\n",
       "      <td>19563</td>\n",
       "    </tr>\n",
       "    <tr>\n",
       "      <th>1</th>\n",
       "      <td>tt0021749</td>\n",
       "      <td>Luci della citt?</td>\n",
       "      <td>City Lights</td>\n",
       "      <td>1931</td>\n",
       "      <td>Comedy, Drama, Romance</td>\n",
       "      <td>USA</td>\n",
       "      <td>English</td>\n",
       "      <td>Charles Chaplin</td>\n",
       "      <td>Charles Chaplin</td>\n",
       "      <td>Charles Chaplin Productions</td>\n",
       "      <td>...</td>\n",
       "      <td>1823</td>\n",
       "      <td>940</td>\n",
       "      <td>780</td>\n",
       "      <td>2919</td>\n",
       "      <td>1</td>\n",
       "      <td>8.5</td>\n",
       "      <td>104102</td>\n",
       "      <td>1</td>\n",
       "      <td>8.5</td>\n",
       "      <td>17885</td>\n",
       "    </tr>\n",
       "    <tr>\n",
       "      <th>2</th>\n",
       "      <td>tt0027977</td>\n",
       "      <td>Tempi moderni</td>\n",
       "      <td>Modern Times</td>\n",
       "      <td>1936</td>\n",
       "      <td>Comedy, Drama, Family</td>\n",
       "      <td>USA</td>\n",
       "      <td>English</td>\n",
       "      <td>Charles Chaplin</td>\n",
       "      <td>Charles Chaplin</td>\n",
       "      <td>Charles Chaplin Productions</td>\n",
       "      <td>...</td>\n",
       "      <td>1847</td>\n",
       "      <td>1026</td>\n",
       "      <td>774</td>\n",
       "      <td>3348</td>\n",
       "      <td>1</td>\n",
       "      <td>8.5</td>\n",
       "      <td>134064</td>\n",
       "      <td>1</td>\n",
       "      <td>8.5</td>\n",
       "      <td>23678</td>\n",
       "    </tr>\n",
       "    <tr>\n",
       "      <th>3</th>\n",
       "      <td>tt0029453</td>\n",
       "      <td>Il bandito della Casbah</td>\n",
       "      <td>P?p? le Moko</td>\n",
       "      <td>1937</td>\n",
       "      <td>Crime, Drama, Romance</td>\n",
       "      <td>France</td>\n",
       "      <td>French, Arabic</td>\n",
       "      <td>Julien Duvivier</td>\n",
       "      <td>Henri La Barthe, Henri La Barthe</td>\n",
       "      <td>Paris Film</td>\n",
       "      <td>...</td>\n",
       "      <td>57</td>\n",
       "      <td>35</td>\n",
       "      <td>27</td>\n",
       "      <td>357</td>\n",
       "      <td>1</td>\n",
       "      <td>7.7</td>\n",
       "      <td>4354</td>\n",
       "      <td>1</td>\n",
       "      <td>7.7</td>\n",
       "      <td>713</td>\n",
       "    </tr>\n",
       "    <tr>\n",
       "      <th>4</th>\n",
       "      <td>tt0029583</td>\n",
       "      <td>Biancaneve e i sette nani</td>\n",
       "      <td>Snow White and the Seven Dwarfs</td>\n",
       "      <td>1937</td>\n",
       "      <td>Animation, Family, Fantasy</td>\n",
       "      <td>USA</td>\n",
       "      <td>English</td>\n",
       "      <td>William Cottrell, David Hand</td>\n",
       "      <td>Jacob Grimm, Wilhelm Grimm</td>\n",
       "      <td>Walt Disney Productions</td>\n",
       "      <td>...</td>\n",
       "      <td>2533</td>\n",
       "      <td>1318</td>\n",
       "      <td>668</td>\n",
       "      <td>1122</td>\n",
       "      <td>1</td>\n",
       "      <td>7.6</td>\n",
       "      <td>90045</td>\n",
       "      <td>1</td>\n",
       "      <td>7.6</td>\n",
       "      <td>45066</td>\n",
       "    </tr>\n",
       "  </tbody>\n",
       "</table>\n",
       "<p>5 rows × 35 columns</p>\n",
       "</div>"
      ],
      "text/plain": [
       "  imdb_title_id                      title                   original_title  \\\n",
       "0     tt0017136                 Metropolis                       Metropolis   \n",
       "1     tt0021749           Luci della citt?                      City Lights   \n",
       "2     tt0027977              Tempi moderni                     Modern Times   \n",
       "3     tt0029453    Il bandito della Casbah                     P?p? le Moko   \n",
       "4     tt0029583  Biancaneve e i sette nani  Snow White and the Seven Dwarfs   \n",
       "\n",
       "   year                       genre  country        language  \\\n",
       "0  1927               Drama, Sci-Fi  Germany          German   \n",
       "1  1931      Comedy, Drama, Romance      USA         English   \n",
       "2  1936       Comedy, Drama, Family      USA         English   \n",
       "3  1937       Crime, Drama, Romance   France  French, Arabic   \n",
       "4  1937  Animation, Family, Fantasy      USA         English   \n",
       "\n",
       "                       director                            writer  \\\n",
       "0                    Fritz Lang  Thea von Harbou, Thea von Harbou   \n",
       "1               Charles Chaplin                   Charles Chaplin   \n",
       "2               Charles Chaplin                   Charles Chaplin   \n",
       "3               Julien Duvivier  Henri La Barthe, Henri La Barthe   \n",
       "4  William Cottrell, David Hand        Jacob Grimm, Wilhelm Grimm   \n",
       "\n",
       "            production_company  ... votes_4 votes_3 votes_2  votes_1  \\\n",
       "0         Universum Film (UFA)  ...    2436    1377    1089     3461   \n",
       "1  Charles Chaplin Productions  ...    1823     940     780     2919   \n",
       "2  Charles Chaplin Productions  ...    1847    1026     774     3348   \n",
       "3                   Paris Film  ...      57      35      27      357   \n",
       "4      Walt Disney Productions  ...    2533    1318     668     1122   \n",
       "\n",
       "   man_vote  males_avg_vote  males_votes  woman_vote  females_avg_vote  \\\n",
       "0         1             8.3        97888           1               8.3   \n",
       "1         1             8.5       104102           1               8.5   \n",
       "2         1             8.5       134064           1               8.5   \n",
       "3         1             7.7         4354           1               7.7   \n",
       "4         1             7.6        90045           1               7.6   \n",
       "\n",
       "   females_votes  \n",
       "0          19563  \n",
       "1          17885  \n",
       "2          23678  \n",
       "3            713  \n",
       "4          45066  \n",
       "\n",
       "[5 rows x 35 columns]"
      ]
     },
     "execution_count": 1,
     "metadata": {},
     "output_type": "execute_result"
    }
   ],
   "source": [
    "import pandas as pd \n",
    "df=pd.read_csv('c:/data/project/netflix/sample.csv',encoding = 'CP949')\n",
    "df.head()"
   ]
  },
  {
   "cell_type": "code",
   "execution_count": 2,
   "metadata": {},
   "outputs": [
    {
     "data": {
      "text/plain": [
       "0        #VALUE!\n",
       "1        1500000\n",
       "2        1500000\n",
       "3          60000\n",
       "4        1499000\n",
       "          ...   \n",
       "4861     3000000\n",
       "4862    10000000\n",
       "4863     5000000\n",
       "4864    11100000\n",
       "4865    12000000\n",
       "Name: budget($), Length: 4866, dtype: object"
      ]
     },
     "execution_count": 2,
     "metadata": {},
     "output_type": "execute_result"
    }
   ],
   "source": [
    "df['budget($)']"
   ]
  },
  {
   "cell_type": "code",
   "execution_count": 3,
   "metadata": {},
   "outputs": [
    {
     "name": "stdout",
     "output_type": "stream",
     "text": [
      "0        #VALUE!\n",
      "1        1500000\n",
      "2        1500000\n",
      "3          60000\n",
      "4        1499000\n",
      "          ...   \n",
      "4861     3000000\n",
      "4862    10000000\n",
      "4863     5000000\n",
      "4864    11100000\n",
      "4865    12000000\n",
      "Name: budget($), Length: 4866, dtype: object\n"
     ]
    }
   ],
   "source": [
    "print(str(df['budget($)']))"
   ]
  },
  {
   "cell_type": "code",
   "execution_count": 4,
   "metadata": {},
   "outputs": [
    {
     "name": "stdout",
     "output_type": "stream",
     "text": [
      "0         1349711\n",
      "1           46008\n",
      "2          457688\n",
      "3          155895\n",
      "4       184925486\n",
      "          ...    \n",
      "4861     10691091\n",
      "4862     25659965\n",
      "4863      9341824\n",
      "4864    193176979\n",
      "4865     13681524\n",
      "Name: world_income($), Length: 4866, dtype: int64\n"
     ]
    }
   ],
   "source": [
    "\n",
    "print(df['world_income($)'])"
   ]
  },
  {
   "cell_type": "code",
   "execution_count": 5,
   "metadata": {},
   "outputs": [
    {
     "name": "stdout",
     "output_type": "stream",
     "text": [
      "[  1349711     46008    457688 ...   9341824 193176979  13681524]\n",
      "[98 99 96 ... 39 72 41]\n"
     ]
    }
   ],
   "source": [
    "x2=df[\"world_income($)\"].values\n",
    "print(x2)\n",
    "y2=df[\"metascore\"].values\n",
    "print(y2)"
   ]
  },
  {
   "cell_type": "code",
   "execution_count": 6,
   "metadata": {},
   "outputs": [
    {
     "data": {
      "text/plain": [
       "LinregressResult(slope=1.0598059102645925e-08, intercept=54.727559977985635, rvalue=0.11330467454585867, pvalue=2.2401459893336376e-15, stderr=1.3325267990737037e-09)"
      ]
     },
     "execution_count": 6,
     "metadata": {},
     "output_type": "execute_result"
    }
   ],
   "source": [
    "from scipy import stats\n",
    "\n",
    "result= stats.linregress(x2,y2)\n",
    "result"
   ]
  },
  {
   "cell_type": "code",
   "execution_count": 7,
   "metadata": {},
   "outputs": [
    {
     "data": {
      "text/plain": [
       "Text(0, 0.5, 'metascore')"
      ]
     },
     "execution_count": 7,
     "metadata": {},
     "output_type": "execute_result"
    },
    {
     "data": {
      "image/png": "[encoded data removed]",
      "text/plain": [
       "<Figure size 432x288 with 1 Axes>"
      ]
     },
     "metadata": {
      "needs_background": "light"
     },
     "output_type": "display_data"
    }
   ],
   "source": [
    "import matplotlib.pyplot as plt\n",
    "slope, intercept, r_value, p_value, stderr = stats.linregress(x2,y2)\n",
    "plt.scatter(x2,y2)\n",
    "\n",
    "plt.xlabel(\"income\")\n",
    "plt.ylabel(\"metascore\")"
   ]
  },
  {
   "cell_type": "code",
   "execution_count": null,
   "metadata": {},
   "outputs": [],
   "source": []
  }
 ],
 "metadata": {
  "interpreter": {
   "hash": "cef9e06bb236b2a8629b07e87a04b187b952a0f661eff5533360a155783f0c33"
  },
  "kernelspec": {
   "display_name": "Python 3.8.8 64-bit ('base': conda)",
   "language": "python",
   "name": "python3"
  },
  "language_info": {
   "codemirror_mode": {
    "name": "ipython",
    "version": 3
   },
   "file_extension": ".py",
   "mimetype": "text/x-python",
   "name": "python",
   "nbconvert_exporter": "python",
   "pygments_lexer": "ipython3",
   "version": "3.8.8"
  },
  "orig_nbformat": 4
 },
 "nbformat": 4,
 "nbformat_minor": 2
}
