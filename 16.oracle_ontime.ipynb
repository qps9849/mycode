{
 "cells": [
  {
   "cell_type": "code",
   "execution_count": 1,
   "metadata": {},
   "outputs": [
    {
     "name": "stdout",
     "output_type": "stream",
     "text": [
      "(2008, 1, 3, 4, '731', 730, '848', 855, 'WN', '2387', 'N776WN', '77', '85', '66', '-7', '1', 'LAS', 'SJC', '386', '4', '7', '0', None, '0', 'NA', 'NA', 'NA', 'NA', 'NA')\n",
      "(2008, 1, 3, 4, '1734', 1655, '1857', 1820, 'WN', '3844', 'N446WN', '83', '85', '66', '37', '39', 'LAS', 'SJC', '386', '5', '12', '0', None, '0', '9', '0', '0', '0', '28')\n",
      "(2008, 1, 3, 4, '1139', 1100, '1408', 1320, 'WN', '161', 'N455WN', '89', '80', '54', '48', '39', 'LAS', 'SLC', '368', '6', '29', '0', None, '0', '39', '0', '9', '0', '0')\n",
      "(2008, 1, 3, 4, '2104', 1905, '2314', 2120, 'WN', '415', 'N395SW', '70', '75', '58', '114', '119', 'LAS', 'SLC', '368', '2', '10', '0', None, '0', '25', '0', '0', '0', '89')\n"
     ]
    }
   ],
   "source": [
    "import cx_Oracle\n",
    "conn=cx_Oracle.connect(\"hr/hr@localhost:1521/xe\")\n",
    "cursor=conn.cursor()\n",
    "cursor.execute('select * from ontime where rownum < 5')\n",
    "rows=cursor.fetchall()\n",
    "for row in rows:\n",
    "    print(row)\n",
    "cursor.close()\n",
    "conn.close()"
   ]
  },
  {
   "cell_type": "code",
   "execution_count": 2,
   "metadata": {},
   "outputs": [
    {
     "name": "stdout",
     "output_type": "stream",
     "text": [
      "('WN', 10.276262862449386)\n",
      "('OO', 7.2952999070807305)\n",
      "('DL', 7.887967410954327)\n",
      "('B6', 12.447679903718171)\n",
      "('CO', 13.023581444438861)\n",
      "('HA', 0.4510561899524472)\n",
      "('OH', 11.16054087152783)\n",
      "('AQ', -1.3902564102564103)\n",
      "('9E', 6.5856228642909445)\n",
      "('NW', 6.409786223004613)\n",
      "('AA', 12.899916513056201)\n",
      "('AS', 6.752723325965242)\n",
      "('UA', 13.784372045426737)\n",
      "('FL', 9.183920300820837)\n",
      "('MQ', 10.29978622071234)\n",
      "('EV', 11.711389111645728)\n",
      "('YV', 11.572015847487545)\n",
      "('XE', 11.093709113241301)\n",
      "('US', 5.635456327203702)\n",
      "('F9', 5.901056786616821)\n"
     ]
    }
   ],
   "source": [
    "import cx_Oracle\n",
    "conn=cx_Oracle.connect(\"hr/hr@localhost:1521/xe\")\n",
    "cursor=conn.cursor()\n",
    "cursor.execute('''\n",
    "select uniquecarrier,avg(depdelay) \n",
    "from ontime \n",
    "group by uniquecarrier''')\n",
    "rows=cursor.fetchall()\n",
    "for row in rows:\n",
    "    print(row)\n",
    "cursor.close()\n",
    "conn.close()"
   ]
  },
  {
   "cell_type": "code",
   "execution_count": 3,
   "metadata": {},
   "outputs": [
    {
     "name": "stdout",
     "output_type": "stream",
     "text": [
      "('WN', 5.115703380225903)\n",
      "('OO', 6.43893863978179)\n",
      "('DL', 7.716164635751918)\n",
      "('B6', 10.859381613638567)\n",
      "('CO', 10.809820575966226)\n",
      "('HA', 1.2518519716624075)\n",
      "('OH', 11.404110178283158)\n",
      "('AQ', -2.8708974358974357)\n",
      "('9E', 3.987490846961191)\n",
      "('NW', 7.293465879672776)\n",
      "('AA', 12.202853434950445)\n",
      "('AS', 4.721360405553864)\n",
      "('UA', 11.001550560048052)\n",
      "('FL', 8.988157472371256)\n",
      "('MQ', 9.496970610952266)\n",
      "('EV', 10.00033146217589)\n",
      "('YV', 11.322566979170753)\n",
      "('XE', 10.320298523403915)\n",
      "('US', 2.800998260539828)\n",
      "('F9', 6.084135669681085)\n"
     ]
    }
   ],
   "source": [
    "import cx_Oracle\n",
    "conn=cx_Oracle.connect(\"hr/hr@localhost:1521/xe\")\n",
    "cursor=conn.cursor()\n",
    "cursor.execute('''\n",
    "select uniquecarrier,avg(arrdelay) \n",
    "from ontime \n",
    "group by uniquecarrier''')\n",
    "rows=cursor.fetchall()\n",
    "for row in rows:\n",
    "    print(row)\n",
    "cursor.close()\n",
    "conn.close()"
   ]
  },
  {
   "cell_type": "code",
   "execution_count": 13,
   "metadata": {},
   "outputs": [
    {
     "name": "stdout",
     "output_type": "stream",
     "text": [
      "(5, 254673)\n",
      "(8, 239737)\n",
      "(7, 264630)\n",
      "(6, 295897)\n",
      "(11, 181506)\n",
      "(3, 294556)\n",
      "(1, 279427)\n",
      "(9, 169959)\n",
      "(10, 183582)\n",
      "(2, 278902)\n",
      "(4, 256142)\n",
      "(12, 280493)\n"
     ]
    }
   ],
   "source": [
    "import cx_Oracle\n",
    "conn=cx_Oracle.connect(\"hr/hr@localhost:1521/xe\")\n",
    "cursor=conn.cursor()\n",
    "cursor.execute('''\n",
    "select month,count(*) \n",
    "from ontime \n",
    "where arrdelay > 0\n",
    "group by month''')\n",
    "rows=cursor.fetchall()\n",
    "for row in rows:\n",
    "    print(row)\n",
    "cursor.close()\n",
    "conn.close()"
   ]
  },
  {
   "cell_type": "code",
   "execution_count": 14,
   "metadata": {},
   "outputs": [
    {
     "name": "stdout",
     "output_type": "stream",
     "text": [
      "[1, 2, 3, 4, 5, 6, 7, 8, 9, 10, 11, 12]\n",
      "[254673, 239737, 264630, 295897, 181506, 294556, 279427, 169959, 183582, 278902, 256142, 280493]\n"
     ]
    }
   ],
   "source": [
    "x=list(range(1,13))\n",
    "y=[]\n",
    "for row in rows:\n",
    "    y.append(row[1])\n",
    "print(x)\n",
    "print(y)"
   ]
  },
  {
   "cell_type": "code",
   "execution_count": 15,
   "metadata": {},
   "outputs": [
    {
     "data": {
      "image/png": "[encoded data removed]",
      "text/plain": [
       "<Figure size 432x288 with 1 Axes>"
      ]
     },
     "metadata": {
      "needs_background": "light"
     },
     "output_type": "display_data"
    }
   ],
   "source": [
    "import pandas as pd\n",
    "%matplotlib inline\n",
    "import matplotlib.pyplot as plt\n",
    "\n",
    "plt.plot(x,y)\n",
    "plt.bar(x,y)\n",
    "plt.show()"
   ]
  },
  {
   "cell_type": "code",
   "execution_count": 16,
   "metadata": {},
   "outputs": [
    {
     "name": "stdout",
     "output_type": "stream",
     "text": [
      "(1, 8.030254747872275)\n",
      "(2, 7.29232332960935)\n",
      "(3, 6.379804071503802)\n",
      "(4, 8.246549198623555)\n",
      "(5, 10.675214410055972)\n",
      "(6, 5.682499626837823)\n",
      "(7, 9.294087238339747)\n"
     ]
    }
   ],
   "source": [
    "import cx_Oracle\n",
    "conn=cx_Oracle.connect(\"hr/hr@localhost:1521/xe\")\n",
    "cursor=conn.cursor()\n",
    "cursor.execute('''\n",
    "select dayofweek,avg(arrdelay) \n",
    "from ontime \n",
    "group by dayofweek\n",
    "order by dayofweek''')\n",
    "rows=cursor.fetchall()\n",
    "for row in rows:\n",
    "    print(row)\n",
    "cursor.close()\n",
    "conn.close()"
   ]
  },
  {
   "cell_type": "code",
   "execution_count": 17,
   "metadata": {},
   "outputs": [
    {
     "name": "stdout",
     "output_type": "stream",
     "text": [
      "['월', '화', '수', '목', '금', '토', '일']\n",
      "[8.030254747872275, 7.29232332960935, 6.379804071503802, 8.246549198623555, 10.675214410055972, 5.682499626837823, 9.294087238339747]\n"
     ]
    }
   ],
   "source": [
    "x=['월','화','수','목','금','토','일']\n",
    "y=[]\n",
    "for row in rows:\n",
    "    y.append(row[1])\n",
    "print(x)\n",
    "print(y)"
   ]
  },
  {
   "cell_type": "code",
   "execution_count": 18,
   "metadata": {},
   "outputs": [
    {
     "data": {
      "text/plain": [
       "<BarContainer object of 7 artists>"
      ]
     },
     "execution_count": 18,
     "metadata": {},
     "output_type": "execute_result"
    },
    {
     "data": {
      "image/png": "[encoded data removed]",
      "text/plain": [
       "<Figure size 432x288 with 1 Axes>"
      ]
     },
     "metadata": {
      "needs_background": "light"
     },
     "output_type": "display_data"
    }
   ],
   "source": [
    "import pandas as pd\n",
    "import matplotlib.pyplot as plt\n",
    "%matplotlib inline\n",
    "from matplotlib import rc,font_manager\n",
    "font_name=font_manager.FontProperties(fname='c:/windows/fonts/gulim.ttc').get_name()\n",
    "rc('font',family=font_name)\n",
    "\n",
    "plt.plot(x,y)\n",
    "plt.bar(x,y)"
   ]
  },
  {
   "cell_type": "code",
   "execution_count": 19,
   "metadata": {},
   "outputs": [
    {
     "name": "stdout",
     "output_type": "stream",
     "text": [
      "(1, 2202, -28)\n",
      "(2, 2216, -22.25)\n",
      "(3, 1807, -20)\n",
      "(4, 2154, -17.666666666666668)\n",
      "(5, 1948, -16)\n"
     ]
    }
   ],
   "source": [
    "import cx_Oracle\n",
    "conn=cx_Oracle.connect(\"hr/hr@localhost:1521/xe\")\n",
    "cursor=conn.cursor()\n",
    "cursor.execute('''\n",
    "select *\n",
    "from(\n",
    "    select rownum as rn,A.*\n",
    "    from(\n",
    "        select CRSDepTime, avg(arrdelay) arrdelay\n",
    "        from ontime\n",
    "        where month=10 and dayofweek=1\n",
    "        group by CRSDepTime\n",
    "        order by arrdelay\n",
    "    ) A\n",
    ")where rn between 1 and 5 \n",
    "''')\n",
    "rows=cursor.fetchall()\n",
    "for row in rows:\n",
    "    print(row)\n",
    "    \n",
    "cursor.close()\n",
    "conn.close()"
   ]
  },
  {
   "cell_type": "code",
   "execution_count": null,
   "metadata": {},
   "outputs": [],
   "source": []
  }
 ],
 "metadata": {
  "interpreter": {
   "hash": "cef9e06bb236b2a8629b07e87a04b187b952a0f661eff5533360a155783f0c33"
  },
  "kernelspec": {
   "display_name": "Python 3.8.8 64-bit ('base': conda)",
   "language": "python",
   "name": "python3"
  },
  "language_info": {
   "codemirror_mode": {
    "name": "ipython",
    "version": 3
   },
   "file_extension": ".py",
   "mimetype": "text/x-python",
   "name": "python",
   "nbconvert_exporter": "python",
   "pygments_lexer": "ipython3",
   "version": "3.8.8"
  },
  "orig_nbformat": 4
 },
 "nbformat": 4,
 "nbformat_minor": 2
}
