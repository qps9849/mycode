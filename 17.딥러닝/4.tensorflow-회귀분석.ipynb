{
 "cells": [
  {
   "cell_type": "code",
   "execution_count": 14,
   "metadata": {},
   "outputs": [],
   "source": [
    "import tensorflow.compat.v1 as tf\n",
    "tf.disable_v2_behavior()\n",
    "learning_rate=0.01\n",
    "epochs=1000\n",
    "step_display=10"
   ]
  },
  {
   "cell_type": "code",
   "execution_count": 15,
   "metadata": {},
   "outputs": [],
   "source": [
    "x=[3.52,2.58,3.31,4.07,4.62,3.98,4.29,4.83,3.71,4.61,3.90,3.20]\n",
    "y=[2.48,2.27,2.47,2.77,2.98,3.05,3.18,3.46,3.03,3.25,2.67,2.53]"
   ]
  },
  {
   "cell_type": "code",
   "execution_count": 16,
   "metadata": {},
   "outputs": [],
   "source": [
    "weight=tf.Variable(tf.random_uniform([1],-1.0,1.0),name=\"weight\")\n",
    "bias=tf.Variable(tf.random_uniform([1],-1.0,1.0),name=\"bias\")"
   ]
  },
  {
   "cell_type": "code",
   "execution_count": 17,
   "metadata": {},
   "outputs": [],
   "source": [
    "X=tf.placeholder(dtype=tf.float32,name=\"X\")\n",
    "Y=tf.placeholder(dtype=tf.float32,name=\"Y\")"
   ]
  },
  {
   "cell_type": "code",
   "execution_count": 18,
   "metadata": {},
   "outputs": [],
   "source": [
    "y_pred=tf.add(tf.multiply(weight, X), bias)\n",
    "cost=tf.reduce_mean(tf.square(y_pred - Y))\n",
    "optimizer=tf.train.AdamOptimizer(learning_rate).minimize(cost)"
   ]
  },
  {
   "cell_type": "code",
   "execution_count": 19,
   "metadata": {},
   "outputs": [],
   "source": [
    "init = tf.global_variables_initializer()\n",
    "sess=tf.Session()\n",
    "sess.run(init)"
   ]
  },
  {
   "cell_type": "code",
   "execution_count": 20,
   "metadata": {},
   "outputs": [
    {
     "name": "stdout",
     "output_type": "stream",
     "text": [
      "Epoch:10, cost:1.3140538930892944, weight:[0.55926275], bias:[-0.41542774]\n",
      "Epoch:20, cost:0.5065456032752991, weight:[0.64947563], bias:[-0.32494634]\n",
      "Epoch:30, cost:0.14926737546920776, weight:[0.7216435], bias:[-0.2518921]\n",
      "Epoch:40, cost:0.06080840900540352, weight:[0.7683465], bias:[-0.20328625]\n",
      "Epoch:50, cost:0.060829561203718185, weight:[0.7890386], bias:[-0.17954518]\n",
      "Epoch:60, cost:0.06330642104148865, weight:[0.7907319], bias:[-0.1738729]\n",
      "Epoch:70, cost:0.05943216383457184, weight:[0.7835481], bias:[-0.17648505]\n",
      "Epoch:80, cost:0.0569530613720417, weight:[0.7756202], bias:[-0.17950444]\n",
      "Epoch:90, cost:0.05654140189290047, weight:[0.7707675], bias:[-0.17923546]\n",
      "Epoch:100, cost:0.056370969861745834, weight:[0.76907563], bias:[-0.17561346]\n",
      "Epoch:110, cost:0.0560508668422699, weight:[0.7689112], bias:[-0.1702446]\n",
      "Epoch:120, cost:0.055755507200956345, weight:[0.7687456], bias:[-0.16462973]\n",
      "Epoch:130, cost:0.05548647418618202, weight:[0.7679432], bias:[-0.1593994]\n",
      "Epoch:140, cost:0.05520631745457649, weight:[0.7666131], bias:[-0.154459]\n",
      "Epoch:150, cost:0.05491659417748451, weight:[0.7651047], bias:[-0.14947937]\n",
      "Epoch:160, cost:0.0546208918094635, weight:[0.76364326], bias:[-0.14425126]\n",
      "Epoch:170, cost:0.054318130016326904, weight:[0.762256], bias:[-0.13875711]\n",
      "Epoch:180, cost:0.05400867387652397, weight:[0.7608746], bias:[-0.13307208]\n",
      "Epoch:190, cost:0.053693145513534546, weight:[0.7594424], bias:[-0.12725897]\n",
      "Epoch:200, cost:0.05337188020348549, weight:[0.75795007], bias:[-0.12133425]\n",
      "Epoch:210, cost:0.0530453622341156, weight:[0.7564148], bias:[-0.11528832]\n",
      "Epoch:220, cost:0.05271400883793831, weight:[0.7548517], bias:[-0.10911326]\n",
      "Epoch:230, cost:0.05237819626927376, weight:[0.7532641], bias:[-0.10281222]\n",
      "Epoch:240, cost:0.05203831195831299, weight:[0.7516493], bias:[-0.09639411]\n",
      "Epoch:250, cost:0.05169474706053734, weight:[0.7500053], bias:[-0.08986665]\n",
      "Epoch:260, cost:0.051347821950912476, weight:[0.74833333], bias:[-0.08323438]\n",
      "Epoch:270, cost:0.05099785700440407, weight:[0.74663556], bias:[-0.07650068]\n",
      "Epoch:280, cost:0.050645217299461365, weight:[0.7449136], bias:[-0.06966919]\n",
      "Epoch:290, cost:0.050290223211050034, weight:[0.74316853], bias:[-0.06274422]\n",
      "Epoch:300, cost:0.04993318393826485, weight:[0.7414009], bias:[-0.05573011]\n",
      "Epoch:310, cost:0.04957433044910431, weight:[0.7396116], bias:[-0.04863084]\n",
      "Epoch:320, cost:0.04921402409672737, weight:[0.7378018], bias:[-0.04145008]\n",
      "Epoch:330, cost:0.04885252192616463, weight:[0.73597234], bias:[-0.03419143]\n",
      "Epoch:340, cost:0.048490047454833984, weight:[0.7341243], bias:[-0.02685853]\n",
      "Epoch:350, cost:0.048126932233572006, weight:[0.7322584], bias:[-0.01945497]\n",
      "Epoch:360, cost:0.04776335135102272, weight:[0.7303754], bias:[-0.01198413]\n",
      "Epoch:370, cost:0.04739958047866821, weight:[0.7284764], bias:[-0.00444928]\n",
      "Epoch:380, cost:0.047035858035087585, weight:[0.7265622], bias:[0.00314622]\n",
      "Epoch:390, cost:0.04667240381240845, weight:[0.7246334], bias:[0.01079912]\n",
      "Epoch:400, cost:0.046309422701597214, weight:[0.72269094], bias:[0.01850635]\n",
      "Epoch:410, cost:0.045947134494781494, weight:[0.72073555], bias:[0.0262648]\n",
      "Epoch:420, cost:0.045585718005895615, weight:[0.718768], bias:[0.0340715]\n",
      "Epoch:430, cost:0.04522540047764778, weight:[0.7167892], bias:[0.04192347]\n",
      "Epoch:440, cost:0.044866353273391724, weight:[0.7147996], bias:[0.04981773]\n",
      "Epoch:450, cost:0.04450876638293266, weight:[0.7128001], bias:[0.05775145]\n",
      "Epoch:460, cost:0.04415281489491463, weight:[0.7107914], bias:[0.06572183]\n",
      "Epoch:470, cost:0.04379865154623985, weight:[0.70877403], bias:[0.0737261]\n",
      "Epoch:480, cost:0.04344642534852028, weight:[0.70674884], bias:[0.08176167]\n",
      "Epoch:490, cost:0.043096352368593216, weight:[0.70471644], bias:[0.08982588]\n",
      "Epoch:500, cost:0.04274851456284523, weight:[0.70267767], bias:[0.09791607]\n",
      "Epoch:510, cost:0.04240306094288826, weight:[0.70063275], bias:[0.10602961]\n",
      "Epoch:520, cost:0.04206015542149544, weight:[0.6985826], bias:[0.11416411]\n",
      "Epoch:530, cost:0.04171993210911751, weight:[0.69652784], bias:[0.12231716]\n",
      "Epoch:540, cost:0.041382476687431335, weight:[0.69446903], bias:[0.13048622]\n",
      "Epoch:550, cost:0.041047945618629456, weight:[0.6924068], bias:[0.13866892]\n",
      "Epoch:560, cost:0.04071640223264694, weight:[0.69034165], bias:[0.14686295]\n",
      "Epoch:570, cost:0.04038799926638603, weight:[0.68827426], bias:[0.15506609]\n",
      "Epoch:580, cost:0.04006281867623329, weight:[0.68620527], bias:[0.16327596]\n",
      "Epoch:590, cost:0.03974097594618797, weight:[0.68413496], bias:[0.17149033]\n",
      "Epoch:600, cost:0.039422523230314255, weight:[0.6820642], bias:[0.1797071]\n",
      "Epoch:610, cost:0.039107564836740494, weight:[0.67999333], bias:[0.1879241]\n",
      "Epoch:620, cost:0.03879619762301445, weight:[0.6779229], bias:[0.19613925]\n",
      "Epoch:630, cost:0.0384884774684906, weight:[0.67585343], bias:[0.2043505]\n",
      "Epoch:640, cost:0.03818446025252342, weight:[0.6737855], bias:[0.21255587]\n",
      "Epoch:650, cost:0.03788423910737038, weight:[0.6717196], bias:[0.22075331]\n",
      "Epoch:660, cost:0.037587881088256836, weight:[0.6696561], bias:[0.22894087]\n",
      "Epoch:670, cost:0.0372953936457634, weight:[0.6675956], bias:[0.23711668]\n",
      "Epoch:680, cost:0.03700687363743782, weight:[0.6655386], bias:[0.24527887]\n",
      "Epoch:690, cost:0.036722347140312195, weight:[0.66348547], bias:[0.25342554]\n",
      "Epoch:700, cost:0.0364418625831604, weight:[0.6614367], bias:[0.26155493]\n",
      "Epoch:710, cost:0.036165472120046616, weight:[0.6593927], bias:[0.26966524]\n",
      "Epoch:720, cost:0.03589317947626114, weight:[0.65735394], bias:[0.2777548]\n",
      "Epoch:730, cost:0.03562502935528755, weight:[0.6553208], bias:[0.28582194]\n",
      "Epoch:740, cost:0.03536105528473854, weight:[0.6532939], bias:[0.29386494]\n",
      "Epoch:750, cost:0.035101260989904404, weight:[0.6512733], bias:[0.30188215]\n",
      "Epoch:760, cost:0.03484569862484932, weight:[0.64925975], bias:[0.30987218]\n",
      "Epoch:770, cost:0.03459435701370239, weight:[0.64725333], bias:[0.31783327]\n",
      "Epoch:780, cost:0.034347232431173325, weight:[0.6452546], bias:[0.32576403]\n",
      "Epoch:790, cost:0.0341043584048748, weight:[0.643264], bias:[0.33366296]\n",
      "Epoch:800, cost:0.033865731209516525, weight:[0.6412817], bias:[0.3415285]\n",
      "Epoch:810, cost:0.03363136574625969, weight:[0.6393082], bias:[0.34935927]\n",
      "Epoch:820, cost:0.0334012396633625, weight:[0.6373437], bias:[0.35715395]\n",
      "Epoch:830, cost:0.033175352960824966, weight:[0.6353888], bias:[0.36491123]\n",
      "Epoch:840, cost:0.03295369818806648, weight:[0.6334436], bias:[0.37262973]\n",
      "Epoch:850, cost:0.03273627161979675, weight:[0.6315084], bias:[0.3803082]\n",
      "Epoch:860, cost:0.03252306208014488, weight:[0.6295837], bias:[0.38794544]\n",
      "Epoch:870, cost:0.032314036041498184, weight:[0.6276697], bias:[0.39554015]\n",
      "Epoch:880, cost:0.032109204679727554, weight:[0.6257667], bias:[0.4030912]\n",
      "Epoch:890, cost:0.03190852329134941, weight:[0.62387496], bias:[0.41059747]\n",
      "Epoch:900, cost:0.03171196207404137, weight:[0.62199485], bias:[0.4180578]\n",
      "Epoch:910, cost:0.03151952847838402, weight:[0.62012666], bias:[0.4254711]\n",
      "Epoch:920, cost:0.031331177800893784, weight:[0.6182706], bias:[0.4328362]\n",
      "Epoch:930, cost:0.031146854162216187, weight:[0.6164265], bias:[0.4401522]\n",
      "Epoch:940, cost:0.030966565012931824, weight:[0.6145954], bias:[0.44741842]\n",
      "Epoch:950, cost:0.030790263786911964, weight:[0.6127771], bias:[0.45463365]\n",
      "Epoch:960, cost:0.030617892742156982, weight:[0.6109718], bias:[0.46179688]\n",
      "Epoch:970, cost:0.030449436977505684, weight:[0.60917985], bias:[0.46890733]\n",
      "Epoch:980, cost:0.030284861102700233, weight:[0.60740143], bias:[0.47596416]\n",
      "Epoch:990, cost:0.030124112963676453, weight:[0.6056367], bias:[0.48296648]\n",
      "Epoch:1000, cost:0.029967157170176506, weight:[0.60388595], bias:[0.48991355]\n"
     ]
    }
   ],
   "source": [
    "for epoch in range(epochs):\n",
    "    _,cost_val=sess.run([optimizer,cost], feed_dict={X:x,Y:y})\n",
    "    if (epoch+1) % step_display == 0:\n",
    "        print(\"Epoch:{0}, cost:{1}, weight:{2}, bias:{3}\".format(epoch+1,cost_val,sess.run(weight),sess.run(bias)))"
   ]
  },
  {
   "cell_type": "code",
   "execution_count": 21,
   "metadata": {},
   "outputs": [
    {
     "name": "stdout",
     "output_type": "stream",
     "text": [
      "최종 cost: 0.029967157\n",
      "정확도: 99.97003284282982\n",
      "최종 가중치: [0.60388595]\n",
      "최종 절편: [0.48991355]\n"
     ]
    }
   ],
   "source": [
    "training_cost=sess.run(cost, feed_dict={X:x,Y:y})\n",
    "print(\"최종 cost:\",cost_val)\n",
    "print(\"정확도:\",100-cost_val)\n",
    "print(\"최종 가중치:\",sess.run(weight))\n",
    "print(\"최종 절편:\",sess.run(bias))"
   ]
  },
  {
   "cell_type": "code",
   "execution_count": 22,
   "metadata": {},
   "outputs": [
    {
     "name": "stdout",
     "output_type": "stream",
     "text": [
      "X: 5,Y: [3.5093431]\n",
      "X: 2.5,Y: [1.9996284]\n"
     ]
    }
   ],
   "source": [
    "print(\"X: 5,Y:\",sess.run(y_pred,feed_dict={X:5}))\n",
    "print(\"X: 2.5,Y:\",sess.run(y_pred,feed_dict={X:2.5}))"
   ]
  },
  {
   "cell_type": "code",
   "execution_count": 12,
   "metadata": {},
   "outputs": [
    {
     "data": {
      "image/png": "[encoded data removed]",
      "text/plain": [
       "<Figure size 432x288 with 1 Axes>"
      ]
     },
     "metadata": {
      "needs_background": "light"
     },
     "output_type": "display_data"
    }
   ],
   "source": [
    "import matplotlib.pyplot as plt\n",
    "from matplotlib import font_manager,rc\n",
    "font_name=font_manager.FontProperties(fname=\"c:/Windows/Fonts/malgun.ttf\").get_name()\n",
    "rc('font', family=font_name)\n",
    "\n",
    "plt.plot(x,y,'ro')\n",
    "plt.plot(x,sess.run(weight)*x+sess.run(bias))\n",
    "plt.xlabel(\"전기생산량\")\n",
    "plt.ylabel(\"전기사용량\")\n",
    "plt.show()"
   ]
  },
  {
   "cell_type": "code",
   "execution_count": 13,
   "metadata": {},
   "outputs": [],
   "source": [
    "sess.close()"
   ]
  },
  {
   "cell_type": "code",
   "execution_count": null,
   "metadata": {},
   "outputs": [],
   "source": []
  }
 ],
 "metadata": {
  "interpreter": {
   "hash": "cef9e06bb236b2a8629b07e87a04b187b952a0f661eff5533360a155783f0c33"
  },
  "kernelspec": {
   "display_name": "Python 3.8.8 64-bit ('base': conda)",
   "language": "python",
   "name": "python3"
  },
  "language_info": {
   "codemirror_mode": {
    "name": "ipython",
    "version": 3
   },
   "file_extension": ".py",
   "mimetype": "text/x-python",
   "name": "python",
   "nbconvert_exporter": "python",
   "pygments_lexer": "ipython3",
   "version": "3.8.8"
  },
  "orig_nbformat": 4
 },
 "nbformat": 4,
 "nbformat_minor": 2
}
