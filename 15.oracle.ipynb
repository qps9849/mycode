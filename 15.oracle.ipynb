{
 "cells": [
  {
   "cell_type": "code",
   "execution_count": 4,
   "metadata": {},
   "outputs": [
    {
     "name": "stdout",
     "output_type": "stream",
     "text": [
      "상품수: 0\n"
     ]
    }
   ],
   "source": [
    "import cx_Oracle\n",
    "conn=cx_Oracle.connect('hr/hr@localhost:1521/xe')\n",
    "cursor=conn.cursor()\n"
   ]
  },
  {
   "cell_type": "code",
   "execution_count": 7,
   "metadata": {},
   "outputs": [],
   "source": [
    "sql=\"delete from product\"\n",
    "cursor.execute(sql)"
   ]
  },
  {
   "cell_type": "code",
   "execution_count": 10,
   "metadata": {},
   "outputs": [
    {
     "name": "stdout",
     "output_type": "stream",
     "text": [
      "상품개수: 6\n"
     ]
    }
   ],
   "source": [
    "items=[(1,'레몬',1500,'레몬에 포함된 구연산은 피로회복에 좋습니다. 비타민 C도 풍부합니다.','lemon.jpg'), \n",
    "(2,'오렌지',2000,'비타민 C가 풍부합니다. 생과일 주스로 마시면 좋습니다.','orange.jpg'),\n",
    "(3,'키위',3000,'비타민 C가 매우 풍부합니다. 다이어트나 미용에 좋습니다.','kiwi.jpg'),\n",
    "(4,'포도',5000,'폴리페놀을 다량 함유하고 있어 항산화 작용을 합니다.','grape.jpg'),\n",
    "(5,'딸기',8000,'비타민 C나 플라보노이드를 다량 함유하고 있습니다.','strawberry.jpg'),\n",
    "(6,'귤',7000,'시네피린을 함유하고 있어 감기 예방에 좋다고 합니다.','tangerine.jpg')\n",
    "]\n",
    "\n",
    "for row in items:\n",
    "    sql = \"insert into product values (:1,:2,:3,:4,:5)\"\n",
    "    cursor.execute(sql, row)\n",
    "sql=\"select count(*) from product\"\n",
    "cursor.execute(sql)\n",
    "count=cursor.fetchone()\n",
    "print('상품개수:',count[0])"
   ]
  },
  {
   "cell_type": "code",
   "execution_count": 11,
   "metadata": {},
   "outputs": [
    {
     "name": "stdout",
     "output_type": "stream",
     "text": [
      "상품수: 6\n"
     ]
    }
   ],
   "source": [
    "sql='select count(*) from product'\n",
    "cursor.execute(sql)\n",
    "count=cursor.fetchone()\n",
    "print('상품수:',count[0])"
   ]
  },
  {
   "cell_type": "code",
   "execution_count": 6,
   "metadata": {},
   "outputs": [
    {
     "name": "stdout",
     "output_type": "stream",
     "text": [
      "(1, '레몬', 1500, <cx_Oracle.LOB object at 0x000001BF77297390>, 'lemon.jpg')\n",
      "레몬에 포함된 구연산은 피로회복에 좋습니다. 비타민 C도 풍부합니다.\n",
      "(2, '오렌지', 2000, <cx_Oracle.LOB object at 0x000001BF77290C60>, 'orange.jpg')\n",
      "비타민 C가 풍부합니다. 생과일 주스로 마시면 좋습니다.\n",
      "(3, '키위', 3000, <cx_Oracle.LOB object at 0x000001BF77290D50>, 'kiwi.jpg')\n",
      "비타민 C가 매우 풍부합니다. 다이어트나 미용에 좋습니다.\n",
      "(4, '포도', 5000, <cx_Oracle.LOB object at 0x000001BF77290C60>, 'grape.jpg')\n",
      "폴리페놀을 다량 함유하고 있어 항산화 작용을 합니다.\n",
      "(5, '딸기', 8000, <cx_Oracle.LOB object at 0x000001BF77290D50>, 'strawberry.jpg')\n",
      "비타민 C나 플라보노이드를 다량 함유하고 있습니다.\n",
      "(6, '귤', 7000, <cx_Oracle.LOB object at 0x000001BF77297390>, 'tangerine.jpg')\n",
      "시네피린을 함유하고 있어 감기 예방에 좋다고 합니다.\n"
     ]
    }
   ],
   "source": [
    "sql='select * from product'\n",
    "cursor.execute(sql)\n",
    "for row in cursor:\n",
    "    description=row[3].read()\n",
    "    print(row)\n",
    "    print(description)"
   ]
  },
  {
   "cell_type": "code",
   "execution_count": 12,
   "metadata": {},
   "outputs": [],
   "source": [
    "sql =\"delete from product where product_id=6\"\n",
    "cursor.execute(sql)"
   ]
  },
  {
   "cell_type": "code",
   "execution_count": 13,
   "metadata": {},
   "outputs": [],
   "source": [
    "sql=\"delete from product\"\n",
    "cursor.execute(sql)"
   ]
  },
  {
   "cell_type": "code",
   "execution_count": 14,
   "metadata": {},
   "outputs": [],
   "source": [
    "sql=\"insert into product values (:1,:2,:3,:4,:5)\"\n",
    "cursor.bindarraysize=len(items)\n",
    "cursor.executemany(sql,items)"
   ]
  },
  {
   "cell_type": "code",
   "execution_count": 15,
   "metadata": {},
   "outputs": [
    {
     "name": "stdout",
     "output_type": "stream",
     "text": [
      "\n",
      "레코드셋: [(1, '레몬', 1500, <cx_Oracle.LOB object at 0x000001BF772904B0>, 'lemon.jpg'), (2, '오렌지', 2000, <cx_Oracle.LOB object at 0x000001BF771854E0>, 'orange.jpg'), (3, '키위', 3000, <cx_Oracle.LOB object at 0x000001BF771852A0>, 'kiwi.jpg'), (4, '포도', 5000, <cx_Oracle.LOB object at 0x000001BF7C4A7990>, 'grape.jpg'), (5, '딸기', 8000, <cx_Oracle.LOB object at 0x000001BF7C4A7DE0>, 'strawberry.jpg'), (6, '귤', 7000, <cx_Oracle.LOB object at 0x000001BF7C4A7BA0>, 'tangerine.jpg')]\n",
      "(1, '레몬', 1500, <cx_Oracle.LOB object at 0x000001BF772904B0>, 'lemon.jpg')\n",
      "(2, '오렌지', 2000, <cx_Oracle.LOB object at 0x000001BF771854E0>, 'orange.jpg')\n",
      "(3, '키위', 3000, <cx_Oracle.LOB object at 0x000001BF771852A0>, 'kiwi.jpg')\n",
      "(4, '포도', 5000, <cx_Oracle.LOB object at 0x000001BF7C4A7990>, 'grape.jpg')\n",
      "(5, '딸기', 8000, <cx_Oracle.LOB object at 0x000001BF7C4A7DE0>, 'strawberry.jpg')\n",
      "(6, '귤', 7000, <cx_Oracle.LOB object at 0x000001BF7C4A7BA0>, 'tangerine.jpg')\n"
     ]
    }
   ],
   "source": [
    "sql=\"select * from product\"\n",
    "cursor.execute(sql)\n",
    "rs=cursor.fetchall()\n",
    "print('\\n레코드셋:',rs)\n",
    "for row in rs:\n",
    "    print(row)\n",
    "\n",
    "conn.commit()\n",
    "cursor.close()\n",
    "conn.close()"
   ]
  },
  {
   "cell_type": "code",
   "execution_count": 16,
   "metadata": {},
   "outputs": [
    {
     "name": "stdout",
     "output_type": "stream",
     "text": [
      "(101, '컴퓨터공학', 7)\n",
      "(102, '데이터사이언스', 4)\n",
      "(103, '소프트웨어공학', 1)\n",
      "(201, '전자공학', 4)\n",
      "(202, '기계공학', 2)\n",
      "(301, '문헌정보학', 2)\n"
     ]
    }
   ],
   "source": [
    "import cx_Oracle\n",
    "conn=cx_Oracle.connect('hr/hr@localhost:1521/xe')\n",
    "cursor=conn.cursor()\n",
    "sql='''\n",
    "select s.majorno,mname,count(*)\n",
    "from stud s, major m\n",
    "where s.majorno=m.majorno\n",
    "group by s.majorno,mname\n",
    "order by s.majorno\n",
    "'''\n",
    "cursor.execute(sql)\n",
    "rows=cursor.fetchall()\n",
    "for row in rows:\n",
    "    print(row)\n",
    "cursor.close()\n",
    "conn.close()"
   ]
  },
  {
   "cell_type": "code",
   "execution_count": 17,
   "metadata": {},
   "outputs": [
    {
     "name": "stdout",
     "output_type": "stream",
     "text": [
      "[1, 2, 3, 4, 5, 6]\n",
      "['컴퓨터공학', '데이터사이언스', '소프트웨어공학', '전자공학', '기계공학', '문헌정보학']\n",
      "[7, 4, 1, 4, 2, 2]\n"
     ]
    }
   ],
   "source": [
    "x=list(range(1,7))\n",
    "names=[]\n",
    "y=[]\n",
    "for row in rows:\n",
    "    names.append(row[1])\n",
    "    y.append(row[2])\n",
    "print(x)\n",
    "print(names)\n",
    "print(y)"
   ]
  },
  {
   "cell_type": "code",
   "execution_count": 18,
   "metadata": {},
   "outputs": [
    {
     "data": {
      "text/plain": [
       "<matplotlib.legend.Legend at 0x1bf7ec23250>"
      ]
     },
     "execution_count": 18,
     "metadata": {},
     "output_type": "execute_result"
    },
    {
     "data": {
      "image/png": "[encoded data removed]",
      "text/plain": [
       "<Figure size 1152x648 with 1 Axes>"
      ]
     },
     "metadata": {},
     "output_type": "display_data"
    }
   ],
   "source": [
    "import matplotlib.pyplot as plt\n",
    "%matplotlib inline\n",
    "from matplotlib import rc,font_manager\n",
    "font_name=font_manager.FontProperties(\n",
    "    fname='c:/windows/fonts/gulim.ttc').get_name()\n",
    "rc('font',family=font_name)\n",
    "plt.rcParams['figure.figsize']=(16,9)\n",
    "plt.title('학과별 학생수',fontsize=20)\n",
    "plt.pie(y,labels=names,autopct='%.1f%%')\n",
    "plt.legend(names,bbox_to_anchor=[1,1.2])"
   ]
  },
  {
   "cell_type": "code",
   "execution_count": 1,
   "metadata": {},
   "outputs": [
    {
     "data": {
      "text/html": [
       "<div>\n",
       "<style scoped>\n",
       "    .dataframe tbody tr th:only-of-type {\n",
       "        vertical-align: middle;\n",
       "    }\n",
       "\n",
       "    .dataframe tbody tr th {\n",
       "        vertical-align: top;\n",
       "    }\n",
       "\n",
       "    .dataframe thead th {\n",
       "        text-align: right;\n",
       "    }\n",
       "</style>\n",
       "<table border=\"1\" class=\"dataframe\">\n",
       "  <thead>\n",
       "    <tr style=\"text-align: right;\">\n",
       "      <th></th>\n",
       "      <th>SepalLength</th>\n",
       "      <th>SepalWidth</th>\n",
       "      <th>PetalLength</th>\n",
       "      <th>PetalWidth</th>\n",
       "      <th>Name</th>\n",
       "      <th>Species</th>\n",
       "    </tr>\n",
       "  </thead>\n",
       "  <tbody>\n",
       "    <tr>\n",
       "      <th>0</th>\n",
       "      <td>5.1</td>\n",
       "      <td>3.5</td>\n",
       "      <td>1.4</td>\n",
       "      <td>0.2</td>\n",
       "      <td>setosa</td>\n",
       "      <td>0</td>\n",
       "    </tr>\n",
       "    <tr>\n",
       "      <th>1</th>\n",
       "      <td>4.9</td>\n",
       "      <td>3.0</td>\n",
       "      <td>1.4</td>\n",
       "      <td>0.2</td>\n",
       "      <td>setosa</td>\n",
       "      <td>0</td>\n",
       "    </tr>\n",
       "    <tr>\n",
       "      <th>2</th>\n",
       "      <td>4.7</td>\n",
       "      <td>3.2</td>\n",
       "      <td>1.3</td>\n",
       "      <td>0.2</td>\n",
       "      <td>setosa</td>\n",
       "      <td>0</td>\n",
       "    </tr>\n",
       "    <tr>\n",
       "      <th>3</th>\n",
       "      <td>4.6</td>\n",
       "      <td>3.1</td>\n",
       "      <td>1.5</td>\n",
       "      <td>0.2</td>\n",
       "      <td>setosa</td>\n",
       "      <td>0</td>\n",
       "    </tr>\n",
       "    <tr>\n",
       "      <th>4</th>\n",
       "      <td>5.0</td>\n",
       "      <td>3.6</td>\n",
       "      <td>1.4</td>\n",
       "      <td>0.2</td>\n",
       "      <td>setosa</td>\n",
       "      <td>0</td>\n",
       "    </tr>\n",
       "  </tbody>\n",
       "</table>\n",
       "</div>"
      ],
      "text/plain": [
       "   SepalLength  SepalWidth  PetalLength  PetalWidth    Name  Species\n",
       "0          5.1         3.5          1.4         0.2  setosa        0\n",
       "1          4.9         3.0          1.4         0.2  setosa        0\n",
       "2          4.7         3.2          1.3         0.2  setosa        0\n",
       "3          4.6         3.1          1.5         0.2  setosa        0\n",
       "4          5.0         3.6          1.4         0.2  setosa        0"
      ]
     },
     "execution_count": 1,
     "metadata": {},
     "output_type": "execute_result"
    }
   ],
   "source": [
    "import pandas as pd\n",
    "df=pd.read_csv('c:/data/iris/iris.csv')\n",
    "df.head()"
   ]
  },
  {
   "cell_type": "code",
   "execution_count": 22,
   "metadata": {},
   "outputs": [],
   "source": [
    "from sqlalchemy import create_engine\n",
    "engine=create_engine('oracle+cx_oracle://hr:hr@xe')\n",
    "conn=engine.connect()\n",
    "df.to_sql(name='iris', con=engine, if_exists='replace',index=False)"
   ]
  },
  {
   "cell_type": "code",
   "execution_count": null,
   "metadata": {},
   "outputs": [],
   "source": []
  }
 ],
 "metadata": {
  "interpreter": {
   "hash": "cef9e06bb236b2a8629b07e87a04b187b952a0f661eff5533360a155783f0c33"
  },
  "kernelspec": {
   "display_name": "Python 3.8.8 64-bit ('base': conda)",
   "language": "python",
   "name": "python3"
  },
  "language_info": {
   "codemirror_mode": {
    "name": "ipython",
    "version": 3
   },
   "file_extension": ".py",
   "mimetype": "text/x-python",
   "name": "python",
   "nbconvert_exporter": "python",
   "pygments_lexer": "ipython3",
   "version": "3.8.8"
  },
  "orig_nbformat": 4
 },
 "nbformat": 4,
 "nbformat_minor": 2
}
