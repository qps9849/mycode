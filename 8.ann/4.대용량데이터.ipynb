{
 "cells": [
  {
   "cell_type": "code",
   "execution_count": 29,
   "metadata": {},
   "outputs": [],
   "source": [
    "from sklearn import datasets\n",
    "import numpy as np\n",
    "\n",
    "iris=datasets.load_iris()\n",
    "X=iris.data[:,:4]\n",
    "y=iris.target\n",
    "\n",
    "idx=np.arange(X.shape[0])\n",
    "np.random.seed(0)\n",
    "np.random.shuffle(idx)\n",
    "X=X[idx]\n",
    "y=y[idx]"
   ]
  },
  {
   "cell_type": "code",
   "execution_count": 30,
   "metadata": {},
   "outputs": [
    {
     "data": {
      "text/plain": [
       "array([[5.8, 2.8, 5.1, 2.4],\n",
       "       [6. , 2.2, 4. , 1. ],\n",
       "       [5.5, 4.2, 1.4, 0.2],\n",
       "       [7.3, 2.9, 6.3, 1.8],\n",
       "       [5. , 3.4, 1.5, 0.2]])"
      ]
     },
     "execution_count": 30,
     "metadata": {},
     "output_type": "execute_result"
    }
   ],
   "source": [
    "X[:5]"
   ]
  },
  {
   "cell_type": "code",
   "execution_count": 31,
   "metadata": {},
   "outputs": [],
   "source": [
    "from sklearn.preprocessing import StandardScaler\n",
    "scaler=StandardScaler()\n",
    "scaler.fit(X)\n",
    "X=scaler.transform(X)"
   ]
  },
  {
   "cell_type": "code",
   "execution_count": 32,
   "metadata": {},
   "outputs": [
    {
     "data": {
      "text/plain": [
       "GridSearchCV(cv=3, estimator=MLPClassifier(max_iter=5000, random_state=0),\n",
       "             param_grid={'activation': ['tanh', 'relu'],\n",
       "                         'alpha': [0.0001, 0.01],\n",
       "                         'hidden_layer_sizes': [(10,), (10,), (100,), (10, 10),\n",
       "                                                (50, 50), (100, 100)]})"
      ]
     },
     "execution_count": 32,
     "metadata": {},
     "output_type": "execute_result"
    }
   ],
   "source": [
    "from sklearn.model_selection import GridSearchCV\n",
    "from sklearn.neural_network import MLPClassifier\n",
    "params={\n",
    "    'hidden_layer_sizes':[(10,),(10,),(100,),(10,10),(50,50,),(100,100)],\n",
    "    'activation':['tanh', 'relu'],\n",
    "    'alpha':[0.0001,0.01],\n",
    "}\n",
    "model=MLPClassifier(random_state=0, max_iter=5000)\n",
    "clf=GridSearchCV(model, param_grid=params,cv=3)\n",
    "clf.fit(X,y)"
   ]
  },
  {
   "cell_type": "code",
   "execution_count": 33,
   "metadata": {},
   "outputs": [
    {
     "name": "stdout",
     "output_type": "stream",
     "text": [
      "0.9733333333333333\n",
      "MLPClassifier(activation='tanh', max_iter=5000, random_state=0)\n"
     ]
    }
   ],
   "source": [
    "print(clf.best_score_)\n",
    "print(clf.best_estimator_)"
   ]
  },
  {
   "cell_type": "code",
   "execution_count": 34,
   "metadata": {},
   "outputs": [],
   "source": [
    "from sklearn.model_selection import train_test_split\n",
    "X_train, X_test, y_train, y_test = train_test_split(X, y, test_size=0.2, stratify=y, random_state=0)"
   ]
  },
  {
   "cell_type": "code",
   "execution_count": 35,
   "metadata": {},
   "outputs": [],
   "source": [
    "scaler = StandardScaler()\n",
    "scaler.fit(X_train)\n",
    "X_train = scaler.transform(X_train)\n",
    "X_test=scaler.transform(X_test)"
   ]
  },
  {
   "cell_type": "code",
   "execution_count": 36,
   "metadata": {},
   "outputs": [
    {
     "name": "stdout",
     "output_type": "stream",
     "text": [
      "0\n",
      "1\n",
      "2\n",
      "3\n",
      "4\n",
      "5\n"
     ]
    }
   ],
   "source": [
    "def make_numbers(n):\n",
    "    while n < 6:\n",
    "        yield n\n",
    "        n += 1\n",
    "for i in make_numbers(0):\n",
    "    print(i)"
   ]
  },
  {
   "cell_type": "code",
   "execution_count": 37,
   "metadata": {},
   "outputs": [
    {
     "name": "stdout",
     "output_type": "stream",
     "text": [
      "904\n",
      "9016\n",
      "112\n",
      "112\n"
     ]
    }
   ],
   "source": [
    "import sys\n",
    "\n",
    "a=[i for i in range(100)]\n",
    "print(sys.getsizeof(a))\n",
    "b=[i for i in range(1000)]\n",
    "print(sys.getsizeof(b))\n",
    "c=(i for i in range(100))\n",
    "print(sys.getsizeof(c))\n",
    "d=(i for i in range(1000))\n",
    "print(sys.getsizeof(d))\n",
    "\n"
   ]
  },
  {
   "cell_type": "code",
   "execution_count": 38,
   "metadata": {},
   "outputs": [
    {
     "name": "stdout",
     "output_type": "stream",
     "text": [
      "1초 멈춤\n",
      "1초 멈춤\n",
      "1초 멈춤\n",
      "1초 멈춤\n",
      "1초 멈춤\n",
      "0\n",
      "1\n",
      "2\n",
      "3\n",
      "4\n"
     ]
    }
   ],
   "source": [
    "import time\n",
    "\n",
    "def func_sleep(x):\n",
    "    print('1초 멈춤')\n",
    "    time.sleep(1)\n",
    "    return x\n",
    "\n",
    "items1=[func_sleep(x) for x in range(5)]\n",
    "items2=(func_sleep(y) for y in range(5))\n",
    "\n",
    "for i in items1:\n",
    "    print(i)"
   ]
  },
  {
   "cell_type": "code",
   "execution_count": 39,
   "metadata": {},
   "outputs": [
    {
     "name": "stdout",
     "output_type": "stream",
     "text": [
      "1초 멈춤\n",
      "0\n",
      "1초 멈춤\n",
      "1\n",
      "1초 멈춤\n",
      "2\n",
      "1초 멈춤\n",
      "3\n",
      "1초 멈춤\n",
      "4\n"
     ]
    }
   ],
   "source": [
    "for i in items2:\n",
    "    print(i)\n"
   ]
  },
  {
   "cell_type": "code",
   "execution_count": 40,
   "metadata": {},
   "outputs": [
    {
     "name": "stdout",
     "output_type": "stream",
     "text": [
      "메모리 사용량: 120\n",
      "메모리 사용량: 112\n"
     ]
    }
   ],
   "source": [
    "print('메모리 사용량:',sys.getsizeof(items1)) \n",
    "print('메모리 사용량:',sys.getsizeof(items2)) "
   ]
  },
  {
   "cell_type": "code",
   "execution_count": 41,
   "metadata": {},
   "outputs": [],
   "source": [
    "def batch(x1,y1,n):\n",
    "    x_size=len(x1)\n",
    "    for idx in range(0, x_size, n):\n",
    "        yield x1[idx:min(idx + n, x_size)], y1[idx:min(idx + n, x_size)]"
   ]
  },
  {
   "cell_type": "code",
   "execution_count": 42,
   "metadata": {},
   "outputs": [],
   "source": [
    "clf = MLPClassifier(activation='tanh', alpha=0.0001, batch_size='auto', beta_1=0.9,\n",
    "beta_2=0.999, early_stopping=False, epsilon=1e-08, hidden_layer_sizes=(100, 100), \n",
    "learning_rate='constant', learning_rate_init=0.001, max_fun=15000, max_iter=5000,\n",
    "momentum=0.9, n_iter_no_change=10, nesterovs_momentum=True, power_t=0.5, \n",
    "random_state=0, shuffle=True, solver='adam', tol=0.0001, validation_fraction=0.1, \n",
    "verbose=False, warm_start=False)"
   ]
  },
  {
   "cell_type": "code",
   "execution_count": 43,
   "metadata": {},
   "outputs": [
    {
     "name": "stdout",
     "output_type": "stream",
     "text": [
      "0.9666666666666667\n"
     ]
    }
   ],
   "source": [
    "from sklearn.metrics import accuracy_score\n",
    "clf.fit(X_train, y_train)\n",
    "\n",
    "pred=clf.predict(X_test)\n",
    "print(accuracy_score(y_test, pred))"
   ]
  },
  {
   "cell_type": "code",
   "execution_count": 44,
   "metadata": {},
   "outputs": [
    {
     "name": "stdout",
     "output_type": "stream",
     "text": [
      "0\n",
      "학습용: 0.48333333333333334\n",
      "검증용: 0.5\n",
      "1\n",
      "학습용: 0.525\n",
      "검증용: 0.5333333333333333\n",
      "2\n",
      "학습용: 0.6416666666666667\n",
      "검증용: 0.6333333333333333\n",
      "3\n",
      "학습용: 0.725\n",
      "검증용: 0.7\n",
      "4\n",
      "학습용: 0.7833333333333333\n",
      "검증용: 0.7333333333333333\n",
      "5\n",
      "학습용: 0.825\n",
      "검증용: 0.7666666666666667\n",
      "6\n",
      "학습용: 0.8416666666666667\n",
      "검증용: 0.7666666666666667\n",
      "7\n",
      "학습용: 0.8333333333333334\n",
      "검증용: 0.8\n",
      "8\n",
      "학습용: 0.85\n",
      "검증용: 0.8\n",
      "9\n",
      "학습용: 0.8583333333333333\n",
      "검증용: 0.8\n",
      "10\n",
      "학습용: 0.8583333333333333\n",
      "검증용: 0.8\n",
      "11\n",
      "학습용: 0.8583333333333333\n",
      "검증용: 0.8\n"
     ]
    }
   ],
   "source": [
    "clf2=MLPClassifier(random_state=0)\n",
    "\n",
    "points_tr=[]\n",
    "points_te=[]\n",
    "samp=batch(X_train,y_train,10)\n",
    "for idx,(chunk_X,chunk_y) in enumerate(samp):\n",
    "    print(idx)\n",
    "    clf2.partial_fit(chunk_X, chunk_y, classes=[0,1,2])\n",
    "    pred = clf2.predict(X_train)\n",
    "    point=accuracy_score(y_train, pred)\n",
    "    points_tr.append(point)\n",
    "    print('학습용:',point)\n",
    "    pred = clf2.predict(X_test)\n",
    "    point=accuracy_score(y_test, pred)\n",
    "    points_te.append(point)\n",
    "    print('검증용:',point)\n",
    "    "
   ]
  },
  {
   "cell_type": "code",
   "execution_count": 45,
   "metadata": {},
   "outputs": [
    {
     "data": {
      "text/plain": [
       "<matplotlib.legend.Legend at 0x28e4c3cd430>"
      ]
     },
     "execution_count": 45,
     "metadata": {},
     "output_type": "execute_result"
    },
    {
     "data": {
      "image/png": "[encoded data removed]",
      "text/plain": [
       "<Figure size 432x288 with 1 Axes>"
      ]
     },
     "metadata": {
      "needs_background": "light"
     },
     "output_type": "display_data"
    }
   ],
   "source": [
    "import matplotlib.pyplot as plt\n",
    "plt.rcParams['font.size']=15\n",
    "plt.plot(range(1,13),points_tr, label=\"Train\")\n",
    "plt.plot(range(1,13),points_te, label=\"Test\")\n",
    "plt.ylabel(\"Accuracy\")\n",
    "plt.xlabel(\"samples\")\n",
    "plt.legend()"
   ]
  },
  {
   "cell_type": "code",
   "execution_count": null,
   "metadata": {},
   "outputs": [],
   "source": []
  }
 ],
 "metadata": {
  "interpreter": {
   "hash": "cef9e06bb236b2a8629b07e87a04b187b952a0f661eff5533360a155783f0c33"
  },
  "kernelspec": {
   "display_name": "Python 3.8.8 64-bit ('base': conda)",
   "language": "python",
   "name": "python3"
  },
  "language_info": {
   "codemirror_mode": {
    "name": "ipython",
    "version": 3
   },
   "file_extension": ".py",
   "mimetype": "text/x-python",
   "name": "python",
   "nbconvert_exporter": "python",
   "pygments_lexer": "ipython3",
   "version": "3.8.8"
  },
  "orig_nbformat": 4
 },
 "nbformat": 4,
 "nbformat_minor": 2
}
