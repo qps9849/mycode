{
 "cells": [
  {
   "cell_type": "code",
   "execution_count": 1,
   "metadata": {},
   "outputs": [
    {
     "name": "stdout",
     "output_type": "stream",
     "text": [
      "결과: a\n"
     ]
    }
   ],
   "source": [
    "a=input(\"입력하세요:\")\n",
    "print(\"결과:\",a)"
   ]
  },
  {
   "cell_type": "code",
   "execution_count": 2,
   "metadata": {},
   "outputs": [
    {
     "name": "stdout",
     "output_type": "stream",
     "text": [
      "<class 'str'>\n",
      "<class 'int'>\n"
     ]
    }
   ],
   "source": [
    "dan=input(\"단을 입력하세요:\")\n",
    "print(type(dan))\n",
    "dan = eval(input(\"단을 입력하세요:\"))\n",
    "print(type(dan))"
   ]
  },
  {
   "cell_type": "code",
   "execution_count": 3,
   "metadata": {},
   "outputs": [
    {
     "name": "stdout",
     "output_type": "stream",
     "text": [
      "5 x 1 = 5\n",
      "5 x 2 = 5\n",
      "5 x 3 = 5\n",
      "5 x 4 = 5\n",
      "5 x 5 = 5\n",
      "5 x 6 = 5\n",
      "5 x 7 = 5\n",
      "5 x 8 = 5\n",
      "5 x 9 = 5\n"
     ]
    }
   ],
   "source": [
    "dan=eval(input(\"단을 입력하세요:\"))\n",
    "for i in range(1,10):\n",
    "    print(dan,'x',i,'=',dan*1)"
   ]
  },
  {
   "cell_type": "code",
   "execution_count": 4,
   "metadata": {},
   "outputs": [
    {
     "name": "stdout",
     "output_type": "stream",
     "text": [
      "--IP=127.0.0.1--STDIN=9008--CONTROL=9006--HB=9005--SESSION.SIGNATURE_SCHEME=\"HMAC-SHA256\"--SESSION.KEY=B\"517F4E08-55FF-42EE-A01A-DA50638F754C\"--SHELL=9007--TRANSPORT=\"TCP\"--IOPUB=9009--F=C:\\USERS\\QPS98\\APPDATA\\LOCAL\\TEMP\\TMP-34068VKDIQUVOIKGY.JSON"
     ]
    }
   ],
   "source": [
    "import sys\n",
    "args = sys.argv[1:]\n",
    "for i in args:\n",
    "    print(i.upper(), end='')"
   ]
  },
  {
   "cell_type": "code",
   "execution_count": 5,
   "metadata": {},
   "outputs": [
    {
     "name": "stdout",
     "output_type": "stream",
     "text": [
      "Hello, Kim.\n"
     ]
    }
   ],
   "source": [
    "print('Hello, {0}.'.format('Kim'))"
   ]
  },
  {
   "cell_type": "code",
   "execution_count": 7,
   "metadata": {},
   "outputs": [
    {
     "name": "stdout",
     "output_type": "stream",
     "text": [
      "Hello, park.\n"
     ]
    }
   ],
   "source": [
    "name=input(\"이름을 입력하세요:\")\n",
    "print('Hello, {0}.'.format(name))"
   ]
  },
  {
   "cell_type": "code",
   "execution_count": 8,
   "metadata": {},
   "outputs": [
    {
     "name": "stdout",
     "output_type": "stream",
     "text": [
      "lee님의 직업은 teacher입니다.\n"
     ]
    }
   ],
   "source": [
    "name=input(\"이름을 입력하세요:\")\n",
    "job=input(\"직업을 입력하세요:\")\n",
    "print(\"{0}님의 직업은 {1}입니다.\".format(name,job))"
   ]
  },
  {
   "cell_type": "code",
   "execution_count": 9,
   "metadata": {},
   "outputs": [
    {
     "name": "stdout",
     "output_type": "stream",
     "text": [
      "님의 직업은 입니다.\n"
     ]
    }
   ],
   "source": [
    "name=input(\"이름을 입력하세요:\")\n",
    "job=input(\"직업을 입력하세요:\")\n",
    "print(\"{1}님의 직업은 {0}입니다.\".format(job,name))"
   ]
  },
  {
   "cell_type": "code",
   "execution_count": 10,
   "metadata": {},
   "outputs": [
    {
     "name": "stdout",
     "output_type": "stream",
     "text": [
      "a님의 직업은 b입니다.\n"
     ]
    }
   ],
   "source": [
    "name=input(\"이름을 입력하세요:\")\n",
    "job=input(\"직업을 입력하세요:\")\n",
    "print(\"{n}님의 직업은 {j}입니다.\".format(n=name,j=job))"
   ]
  },
  {
   "cell_type": "code",
   "execution_count": 11,
   "metadata": {},
   "outputs": [
    {
     "name": "stdout",
     "output_type": "stream",
     "text": [
      "원주율:3.141593\n",
      "원주율:3.14\n"
     ]
    }
   ],
   "source": [
    "import math\n",
    "print('원주율:{0:f}'.format(math.pi))\n",
    "print('원주율:{0:.2f}'.format(math.pi))"
   ]
  },
  {
   "cell_type": "code",
   "execution_count": 13,
   "metadata": {},
   "outputs": [
    {
     "name": "stdout",
     "output_type": "stream",
     "text": [
      "10진수 : 10, 16진수(소문자) : a, 16진수(대문자) : A,8진수:12,2진수:1010\n",
      "10진수 : 10, 16진수(소문자) : 0xa, 16진수(대문자) : 0XA,8진수:0o12,2진수:0b1010\n"
     ]
    }
   ],
   "source": [
    "num=10\n",
    "a='10진수 : {0:d}, 16진수(소문자) : {0:x}, 16진수(대문자) : {0:X},8진수:{0:o},2진수:{0:b}'.format(num)\n",
    "print(a)\n",
    "a='10진수 : {0:d}, 16진수(소문자) : {0:#x}, 16진수(대문자) : {0:#X},8진수:{0:#o},2진수:{0:#b}'.format(num)\n",
    "print(a)"
   ]
  },
  {
   "cell_type": "code",
   "execution_count": 14,
   "metadata": {},
   "outputs": [
    {
     "name": "stdout",
     "output_type": "stream",
     "text": [
      "1,234,567,890\n",
      "98%\n",
      "98.15%\n"
     ]
    }
   ],
   "source": [
    "num=1234567890\n",
    "print('{0:,}'.format(num))\n",
    "\n",
    "num=0.9815\n",
    "print('{0:.0%}'.format(num))\n",
    "print('{0:.2%}'.format(num))"
   ]
  },
  {
   "cell_type": "code",
   "execution_count": null,
   "metadata": {},
   "outputs": [],
   "source": []
  }
 ],
 "metadata": {
  "interpreter": {
   "hash": "cef9e06bb236b2a8629b07e87a04b187b952a0f661eff5533360a155783f0c33"
  },
  "kernelspec": {
   "display_name": "Python 3.8.8 64-bit ('base': conda)",
   "language": "python",
   "name": "python3"
  },
  "language_info": {
   "codemirror_mode": {
    "name": "ipython",
    "version": 3
   },
   "file_extension": ".py",
   "mimetype": "text/x-python",
   "name": "python",
   "nbconvert_exporter": "python",
   "pygments_lexer": "ipython3",
   "version": "3.8.8"
  },
  "orig_nbformat": 4
 },
 "nbformat": 4,
 "nbformat_minor": 2
}
