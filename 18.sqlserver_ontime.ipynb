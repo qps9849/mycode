{
 "cells": [
  {
   "cell_type": "code",
   "execution_count": 2,
   "metadata": {},
   "outputs": [],
   "source": [
    "import pymssql\n",
    "conn=pymssql.connect(host=r'(local)',database='web',user='sa',password='1234',charset='utf8')\n",
    "cursor=conn.cursor()"
   ]
  },
  {
   "cell_type": "code",
   "execution_count": 3,
   "metadata": {},
   "outputs": [
    {
     "name": "stdout",
     "output_type": "stream",
     "text": [
      "('2008', '1', '3', '4', '2003', '1955', '2211', '2225', 'WN', '335', 'N712SW', '128', '150', '116', '-14', '8', 'IAD', 'TPA', '810', '4', '8', '0', '', '0', 'NA', 'NA', 'NA', 'NA', 'NA')\n",
      "('2008', '1', '3', '4', '754', '735', '1002', '1000', 'WN', '3231', 'N772SW', '128', '145', '113', '2', '19', 'IAD', 'TPA', '810', '5', '10', '0', '', '0', 'NA', 'NA', 'NA', 'NA', 'NA')\n",
      "('2008', '1', '3', '4', '628', '620', '804', '750', 'WN', '448', 'N428WN', '96', '90', '76', '14', '8', 'IND', 'BWI', '515', '3', '17', '0', '', '0', 'NA', 'NA', 'NA', 'NA', 'NA')\n",
      "('2008', '1', '3', '4', '926', '930', '1054', '1100', 'WN', '1746', 'N612SW', '88', '90', '78', '-6', '-4', 'IND', 'BWI', '515', '3', '7', '0', '', '0', 'NA', 'NA', 'NA', 'NA', 'NA')\n",
      "('2008', '1', '3', '4', '1829', '1755', '1959', '1925', 'WN', '3920', 'N464WN', '90', '90', '77', '34', '34', 'IND', 'BWI', '515', '3', '10', '0', '', '0', '2', '0', '0', '0', '32')\n"
     ]
    }
   ],
   "source": [
    "cursor.execute('select top 5 * from ontime')\n",
    "rows=cursor.fetchall()\n",
    "for row in rows:\n",
    "    print(row)\n",
    "\n",
    "cursor.close()\n",
    "conn.close()"
   ]
  },
  {
   "cell_type": "code",
   "execution_count": 4,
   "metadata": {},
   "outputs": [
    {
     "name": "stdout",
     "output_type": "stream",
     "text": [
      "B6\t12\n",
      "AA\t12\n",
      "UA\t13\n",
      "CO\t13\n",
      "HA\t0\n",
      "XE\t11\n",
      "YV\t11\n",
      "MQ\t10\n",
      "OH\t11\n",
      "9E\t6\n",
      "OO\t7\n",
      "DL\t7\n",
      "US\t5\n",
      "F9\t5\n",
      "AS\t6\n",
      "FL\t9\n",
      "NW\t6\n",
      "WN\t10\n",
      "EV\t11\n",
      "AQ\t-1\n"
     ]
    }
   ],
   "source": [
    "import pymssql\n",
    "conn=pymssql.connect(host=r'(local)',database='web',user='sa',password='1234',charset='utf8')\n",
    "cursor=conn.cursor()\n",
    "cursor.execute('''\n",
    "select uniquecarrier, avg(cast(depdelay as int)) \n",
    "from ontime\n",
    "group by uniquecarrier\n",
    "''')\n",
    "rows=cursor.fetchall()\n",
    "for row in rows:\n",
    "    print('{}\\t{}'.format(row[0],row[1]))\n",
    "\n",
    "cursor.close()\n",
    "conn.close()"
   ]
  },
  {
   "cell_type": "code",
   "execution_count": 5,
   "metadata": {},
   "outputs": [
    {
     "name": "stdout",
     "output_type": "stream",
     "text": [
      "('B6', 10)\n",
      "('AA', 12)\n",
      "('UA', 11)\n",
      "('CO', 10)\n",
      "('HA', 1)\n",
      "('XE', 10)\n",
      "('YV', 11)\n",
      "('MQ', 9)\n",
      "('OH', 11)\n",
      "('9E', 3)\n",
      "('OO', 6)\n",
      "('DL', 7)\n",
      "('US', 2)\n",
      "('F9', 6)\n",
      "('AS', 4)\n",
      "('FL', 8)\n",
      "('NW', 7)\n",
      "('WN', 5)\n",
      "('EV', 10)\n",
      "('AQ', -2)\n"
     ]
    }
   ],
   "source": [
    "import pymssql\n",
    "conn=pymssql.connect(host=r'(local)',database='web',user='sa',password='1234',charset='utf8')\n",
    "cursor=conn.cursor()\n",
    "cursor.execute('''\n",
    "select uniquecarrier, avg(cast(arrdelay as int)) \n",
    "from ontime\n",
    "group by uniquecarrier\n",
    "''')\n",
    "rows=cursor.fetchall()\n",
    "for row in rows:\n",
    "    print(row)\n",
    "\n",
    "cursor.close()\n",
    "conn.close()"
   ]
  },
  {
   "cell_type": "code",
   "execution_count": 6,
   "metadata": {},
   "outputs": [
    {
     "name": "stdout",
     "output_type": "stream",
     "text": [
      "('1', 279427)\n",
      "('2', 278902)\n",
      "('3', 294556)\n",
      "('4', 256142)\n",
      "('5', 254673)\n",
      "('6', 295897)\n",
      "('7', 264630)\n",
      "('8', 239737)\n",
      "('9', 169959)\n",
      "('10', 183582)\n",
      "('11', 181506)\n",
      "('12', 280493)\n"
     ]
    }
   ],
   "source": [
    "import pymssql\n",
    "conn=pymssql.connect(host=r'(local)',database='web',user='sa',password='1234',charset='utf8')\n",
    "cursor=conn.cursor()\n",
    "cursor.execute('''\n",
    "select month,count(*)\n",
    "from ontime\n",
    "where year=2008 and arrdelay >0\n",
    "group by month\n",
    "order by cast(month as int)\n",
    "''')\n",
    "rows=cursor.fetchall()\n",
    "for row in rows:\n",
    "    print(row)\n",
    "\n",
    "cursor.close()\n",
    "conn.close()"
   ]
  },
  {
   "cell_type": "code",
   "execution_count": 7,
   "metadata": {},
   "outputs": [
    {
     "name": "stdout",
     "output_type": "stream",
     "text": [
      "[1, 2, 3, 4, 5, 6, 7, 8, 9, 10, 11, 12]\n",
      "[279427, 278902, 294556, 256142, 254673, 295897, 264630, 239737, 169959, 183582, 181506, 280493]\n"
     ]
    }
   ],
   "source": [
    "x=list(range(1,13))\n",
    "y=[]\n",
    "for row in rows:\n",
    "    y.append(row[1])\n",
    "print(x)\n",
    "print(y)"
   ]
  },
  {
   "cell_type": "code",
   "execution_count": 10,
   "metadata": {},
   "outputs": [
    {
     "data": {
      "text/plain": [
       "<BarContainer object of 12 artists>"
      ]
     },
     "execution_count": 10,
     "metadata": {},
     "output_type": "execute_result"
    },
    {
     "data": {
      "image/png": "[encoded data removed]",
      "text/plain": [
       "<Figure size 432x288 with 1 Axes>"
      ]
     },
     "metadata": {
      "needs_background": "light"
     },
     "output_type": "display_data"
    }
   ],
   "source": [
    "import pandas as pd\n",
    "%matplotlib inline\n",
    "import matplotlib.pyplot as plt\n",
    "\n",
    "plt.plot(x,y)\n",
    "plt.bar(x,y)"
   ]
  },
  {
   "cell_type": "code",
   "execution_count": 12,
   "metadata": {},
   "outputs": [
    {
     "name": "stdout",
     "output_type": "stream",
     "text": [
      "('1', 8320958)\n",
      "('2', 7526035)\n",
      "('3', 6632859)\n",
      "('4', 8512286)\n",
      "('5', 11050619)\n",
      "('6', 4872948)\n",
      "('7', 9079273)\n"
     ]
    }
   ],
   "source": [
    "import pymssql\n",
    "conn=pymssql.connect(host=r'(local)',database='web',user='sa',password='1234',charset='utf8')\n",
    "cursor=conn.cursor()\n",
    "cursor.execute('''\n",
    "select dayofweek,sum(cast(arrdelay as int))\n",
    "from ontime\n",
    "group by dayofweek\n",
    "order by dayofweek\n",
    "''')\n",
    "rows=cursor.fetchall()\n",
    "for row in rows:\n",
    "    print(row)\n",
    "\n",
    "cursor.close()\n",
    "conn.close()"
   ]
  },
  {
   "cell_type": "code",
   "execution_count": 13,
   "metadata": {},
   "outputs": [
    {
     "name": "stdout",
     "output_type": "stream",
     "text": [
      "['월', '화', '수', '목', '금', '토', '일']\n",
      "[8320958, 7526035, 6632859, 8512286, 11050619, 4872948, 9079273]\n"
     ]
    }
   ],
   "source": [
    "x=['월','화','수','목','금','토','일']\n",
    "y=[]\n",
    "for row in rows:\n",
    "    y.append(row[1])\n",
    "print(x)\n",
    "print(y)"
   ]
  },
  {
   "cell_type": "code",
   "execution_count": 14,
   "metadata": {},
   "outputs": [
    {
     "data": {
      "text/plain": [
       "<BarContainer object of 7 artists>"
      ]
     },
     "execution_count": 14,
     "metadata": {},
     "output_type": "execute_result"
    },
    {
     "data": {
      "image/png": "[encoded data removed]",
      "text/plain": [
       "<Figure size 432x288 with 1 Axes>"
      ]
     },
     "metadata": {
      "needs_background": "light"
     },
     "output_type": "display_data"
    }
   ],
   "source": [
    "import matplotlib.pyplot as plt\n",
    "%matplotlib inline\n",
    "from matplotlib import rc,font_manager\n",
    "font_name=font_manager.FontProperties(fname='c:/windows/fonts/gulim.ttc').get_name()\n",
    "rc('font',family=font_name)\n",
    "\n",
    "plt.plot(x,y)\n",
    "plt.bar(x,y)"
   ]
  },
  {
   "cell_type": "code",
   "execution_count": 15,
   "metadata": {},
   "outputs": [
    {
     "name": "stdout",
     "output_type": "stream",
     "text": [
      "('2202', -28)\n",
      "('2216', -22)\n",
      "('1807', -20)\n",
      "('2154', -17)\n",
      "('1948', -16)\n"
     ]
    }
   ],
   "source": [
    "import pymssql\n",
    "conn=pymssql.connect(host=r'(local)',database='web',user='sa',password='1234',charset='utf8')\n",
    "cursor=conn.cursor()\n",
    "cursor.execute('''\n",
    "select top 5 CRSDepTime,avg(cast(arrdelay as int)) arrdelay\n",
    "from ontime\n",
    "where month=10 and dayofweek=1\n",
    "group by CRSDepTime\n",
    "order by arrdelay\n",
    "''')\n",
    "rows=cursor.fetchall()\n",
    "for row in rows:\n",
    "    print(row)\n",
    "\n",
    "cursor.close()\n",
    "conn.close()"
   ]
  },
  {
   "cell_type": "code",
   "execution_count": null,
   "metadata": {},
   "outputs": [],
   "source": []
  }
 ],
 "metadata": {
  "interpreter": {
   "hash": "cef9e06bb236b2a8629b07e87a04b187b952a0f661eff5533360a155783f0c33"
  },
  "kernelspec": {
   "display_name": "Python 3.8.8 64-bit ('base': conda)",
   "language": "python",
   "name": "python3"
  },
  "language_info": {
   "codemirror_mode": {
    "name": "ipython",
    "version": 3
   },
   "file_extension": ".py",
   "mimetype": "text/x-python",
   "name": "python",
   "nbconvert_exporter": "python",
   "pygments_lexer": "ipython3",
   "version": "3.8.8"
  },
  "orig_nbformat": 4
 },
 "nbformat": 4,
 "nbformat_minor": 2
}
