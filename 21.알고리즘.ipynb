{
 "cells": [
  {
   "cell_type": "code",
   "execution_count": 1,
   "metadata": {},
   "outputs": [
    {
     "name": "stdout",
     "output_type": "stream",
     "text": [
      "5\n",
      "3\n",
      "\n",
      "5.0\n",
      "3.0\n"
     ]
    }
   ],
   "source": [
    "import math\n",
    "def abs_sign(a):\n",
    "    if a>=0:\n",
    "        return a\n",
    "    else:\n",
    "        return -a\n",
    "\n",
    "def abs_square(a):\n",
    "    b=a*a\n",
    "    return math.sqrt(b)\n",
    "\n",
    "print(abs_sign(5))\n",
    "print(abs_sign(-3))\n",
    "print()\n",
    "print(abs_square(5))\n",
    "print(abs_square(-3))"
   ]
  },
  {
   "cell_type": "code",
   "execution_count": 2,
   "metadata": {},
   "outputs": [
    {
     "name": "stdout",
     "output_type": "stream",
     "text": [
      "55\n",
      "5050\n"
     ]
    }
   ],
   "source": [
    "def sum_sq(n):\n",
    "    s=0\n",
    "    for i in range(1,n+1):\n",
    "        s=s+i\n",
    "    return s\n",
    "print(sum_sq(10))\n",
    "print(sum_sq(100))"
   ]
  },
  {
   "cell_type": "code",
   "execution_count": 3,
   "metadata": {},
   "outputs": [
    {
     "name": "stdout",
     "output_type": "stream",
     "text": [
      "55\n",
      "5050\n"
     ]
    }
   ],
   "source": [
    "def sum_n(n):\n",
    "    return n*(n+1)//2\n",
    "print(sum_n(10))\n",
    "print(sum_n(100))"
   ]
  },
  {
   "cell_type": "code",
   "execution_count": 4,
   "metadata": {},
   "outputs": [
    {
     "name": "stdout",
     "output_type": "stream",
     "text": [
      "385\n",
      "338350\n"
     ]
    }
   ],
   "source": [
    "def sum_sql(n):\n",
    "    s=0\n",
    "    for i in range(1,n+1):\n",
    "        s=s+i*i\n",
    "    return s\n",
    "print(sum_sql(10))\n",
    "print(sum_sql(100))"
   ]
  },
  {
   "cell_type": "code",
   "execution_count": 6,
   "metadata": {},
   "outputs": [
    {
     "name": "stdout",
     "output_type": "stream",
     "text": [
      "385\n",
      "338350\n"
     ]
    }
   ],
   "source": [
    "def sum_sq2(n):\n",
    "    return n*(n+1) *(2*n+1)//6\n",
    "print(sum_sq2(10))\n",
    "print(sum_sq2(100))"
   ]
  },
  {
   "cell_type": "code",
   "execution_count": 7,
   "metadata": {},
   "outputs": [
    {
     "name": "stdout",
     "output_type": "stream",
     "text": [
      "92\n"
     ]
    }
   ],
   "source": [
    "def find_max(a):\n",
    "    n=len(a)\n",
    "    max_v=a[0]\n",
    "    for i in range(1,n):\n",
    "        if a[i]>max_v:\n",
    "            max_v=a[i]\n",
    "    return max_v\n",
    "v=[17,92,18,33,58,7,33,42]\n",
    "print(find_max(v))"
   ]
  },
  {
   "cell_type": "code",
   "execution_count": 8,
   "metadata": {},
   "outputs": [
    {
     "name": "stdout",
     "output_type": "stream",
     "text": [
      "1\n"
     ]
    }
   ],
   "source": [
    "def find_max_idx(a):\n",
    "    n=len(a)\n",
    "    max_idx=0\n",
    "    for i in range(1,n):\n",
    "        if a[i]>a[max_idx]:\n",
    "            max_idx=i\n",
    "    return max_idx\n",
    "v=[17,92,18,33,58,7,33,42]\n",
    "print(find_max_idx(v))"
   ]
  },
  {
   "cell_type": "code",
   "execution_count": 9,
   "metadata": {},
   "outputs": [
    {
     "name": "stdout",
     "output_type": "stream",
     "text": [
      "7\n"
     ]
    }
   ],
   "source": [
    "def find_min(a):\n",
    "    n=len(a)\n",
    "    min_v=a[0]\n",
    "    for i in range(1,n):\n",
    "        if a[i]<min_v:\n",
    "            min_v=a[i]\n",
    "    return min_v\n",
    "v=[17,92,18,33,58,7,33,42]\n",
    "print(find_min(v))"
   ]
  },
  {
   "cell_type": "code",
   "execution_count": 11,
   "metadata": {},
   "outputs": [
    {
     "name": "stdout",
     "output_type": "stream",
     "text": [
      "5\n"
     ]
    }
   ],
   "source": [
    "def find_min_idx(a):\n",
    "    n=len(a)\n",
    "    min_idx=0\n",
    "    for i in range(1,n):\n",
    "        if a[i]<a[min_idx]:\n",
    "            min_idx=i\n",
    "    return min_idx\n",
    "v=[17,92,18,33,58,7,33,42]\n",
    "print(find_min_idx(v))"
   ]
  },
  {
   "cell_type": "code",
   "execution_count": 12,
   "metadata": {},
   "outputs": [
    {
     "name": "stdout",
     "output_type": "stream",
     "text": [
      "{1, 2}\n",
      "2\n",
      "True\n"
     ]
    }
   ],
   "source": [
    "s=set()\n",
    "s.add(1)\n",
    "s.add(2)\n",
    "s.add(2)\n",
    "print(s)\n",
    "print(len(s))\n",
    "print({1,2}=={2,1})"
   ]
  },
  {
   "cell_type": "code",
   "execution_count": 13,
   "metadata": {},
   "outputs": [
    {
     "name": "stdout",
     "output_type": "stream",
     "text": [
      "{'김철수'}\n",
      "{'김미영'}\n"
     ]
    }
   ],
   "source": [
    "def find_same_name(a):\n",
    "    n=len(a)\n",
    "    result=set()\n",
    "    for i in range(0,n-1):\n",
    "        for j in range(i+1,n):\n",
    "            if a[i]==a[j]:\n",
    "                result.add(a[i])\n",
    "    return result\n",
    "name=['김철수','박철수','홍수민','김철수','김철수']\n",
    "print(find_same_name(name))\n",
    "name2=['김미영','박수진','이민주','김미영','최숙희']\n",
    "print(find_same_name(name2))"
   ]
  },
  {
   "cell_type": "code",
   "execution_count": 14,
   "metadata": {},
   "outputs": [
    {
     "name": "stdout",
     "output_type": "stream",
     "text": [
      "김철수 - 박철수\n",
      "김철수 - 홍수민\n",
      "박철수 - 홍수민\n",
      "박철수 - 김철수\n",
      "박철수 - 김철수\n",
      "홍수민 - 김철수\n",
      "홍수민 - 김철수\n",
      "\n",
      "김미영 - 박수진\n",
      "김미영 - 이민주\n",
      "김미영 - 최숙희\n",
      "박수진 - 이민주\n",
      "박수진 - 김미영\n",
      "박수진 - 최숙희\n",
      "이민주 - 김미영\n",
      "이민주 - 최숙희\n",
      "김미영 - 최숙희\n"
     ]
    }
   ],
   "source": [
    "def print_pairs(a):\n",
    "    n=len(a)\n",
    "    for i in range(0,n-1):\n",
    "        for j in range(i+1,n):\n",
    "            if a[i] != a[j]:\n",
    "                print(a[i],\"-\",a[j])\n",
    "name=['김철수','박철수','홍수민','김철수','김철수']\n",
    "print_pairs(name)\n",
    "print()\n",
    "name2=['김미영','박수진','이민주','김미영','최숙희']\n",
    "print_pairs(name2)\n"
   ]
  },
  {
   "cell_type": "code",
   "execution_count": 15,
   "metadata": {},
   "outputs": [
    {
     "name": "stdout",
     "output_type": "stream",
     "text": [
      "1\n",
      "120\n",
      "3628800\n"
     ]
    }
   ],
   "source": [
    "def fact(n):\n",
    "    f=1\n",
    "    for i in range(1,n+1):\n",
    "        f=f*i\n",
    "    return f\n",
    "print(fact(1))\n",
    "print(fact(5))\n",
    "print(fact(10))"
   ]
  },
  {
   "cell_type": "code",
   "execution_count": 16,
   "metadata": {},
   "outputs": [
    {
     "name": "stdout",
     "output_type": "stream",
     "text": [
      "1\n",
      "120\n",
      "3628800\n"
     ]
    }
   ],
   "source": [
    "def fact(n):\n",
    "    if n <= 1:\n",
    "        return 1\n",
    "    return n*fact(n-1)\n",
    "print(fact(1))\n",
    "print(fact(5))\n",
    "print(fact(10))"
   ]
  },
  {
   "cell_type": "code",
   "execution_count": 18,
   "metadata": {},
   "outputs": [
    {
     "name": "stdout",
     "output_type": "stream",
     "text": [
      "55\n",
      "5050\n",
      "500500\n"
     ]
    }
   ],
   "source": [
    "def sum_n(n):\n",
    "    if n ==0:\n",
    "        return 0\n",
    "    return sum_n(n-1)+n\n",
    "print(sum_n(10))\n",
    "print(sum_n(100))\n",
    "print(sum_n(1000))"
   ]
  },
  {
   "cell_type": "code",
   "execution_count": 19,
   "metadata": {},
   "outputs": [
    {
     "name": "stdout",
     "output_type": "stream",
     "text": [
      "2\n",
      "3\n",
      "-1\n"
     ]
    }
   ],
   "source": [
    "def search_list(a,x):\n",
    "    n=len(a)\n",
    "    for i in range(0,n):\n",
    "        if x == a[i]:\n",
    "            return i\n",
    "    return -1\n",
    "v=[17,92,18,33,58,7,33,42]\n",
    "print(search_list(v,18))\n",
    "print(search_list(v,33))\n",
    "print(search_list(v,900))"
   ]
  },
  {
   "cell_type": "code",
   "execution_count": 20,
   "metadata": {},
   "outputs": [
    {
     "name": "stdout",
     "output_type": "stream",
     "text": [
      "[2]\n",
      "[3, 6]\n",
      "[]\n"
     ]
    }
   ],
   "source": [
    "def search_list(a,x):\n",
    "    n=len(a)\n",
    "    result=[]\n",
    "    for i in range(0,n):\n",
    "        if x == a[i]:\n",
    "            result.append(i)\n",
    "    return result\n",
    "v=[17,92,18,33,58,7,33,42]\n",
    "print(search_list(v,18))\n",
    "print(search_list(v,33))\n",
    "print(search_list(v,900))"
   ]
  },
  {
   "cell_type": "code",
   "execution_count": 21,
   "metadata": {},
   "outputs": [
    {
     "name": "stdout",
     "output_type": "stream",
     "text": [
      "이미영\n",
      "?\n"
     ]
    }
   ],
   "source": [
    "def get_name(s_no,s_name,find_no):\n",
    "    n=len(s_no)\n",
    "    for i in range(0,n):\n",
    "        if find_no == s_no[i]:\n",
    "            return s_name[i]\n",
    "    return \"?\"\n",
    "nums=[39,14,67,105]\n",
    "names=['김철수','최상호','이미영','한선영']\n",
    "print(get_name(nums,names,67))\n",
    "print(get_name(nums,names,70))"
   ]
  },
  {
   "cell_type": "code",
   "execution_count": 22,
   "metadata": {},
   "outputs": [
    {
     "name": "stdout",
     "output_type": "stream",
     "text": [
      "[2, 3, 5, 7, 9, 1]\n",
      "[1, 2, 3, 5, 7, 9]\n"
     ]
    }
   ],
   "source": [
    "a=[2,3,5,7,9,1]\n",
    "b=sorted(a)\n",
    "print(a)\n",
    "print(b)"
   ]
  },
  {
   "cell_type": "code",
   "execution_count": 23,
   "metadata": {},
   "outputs": [
    {
     "name": "stdout",
     "output_type": "stream",
     "text": [
      "[1, 2, 3, 5, 7, 9]\n",
      "None\n"
     ]
    }
   ],
   "source": [
    "b=a.sort()\n",
    "print(a)\n",
    "print(b)"
   ]
  },
  {
   "cell_type": "code",
   "execution_count": 24,
   "metadata": {},
   "outputs": [
    {
     "name": "stdout",
     "output_type": "stream",
     "text": [
      "[2, 4, 5, 1, 3]\n",
      "[2, 4, 5, 1, 3]\n",
      "[1, 4, 5, 2, 3]\n",
      "[1, 4, 5, 2, 3]\n",
      "[1, 4, 5, 2, 3]\n",
      "[1, 2, 5, 4, 3]\n",
      "[1, 2, 5, 4, 3]\n",
      "[1, 2, 4, 5, 3]\n",
      "[1, 2, 3, 5, 4]\n",
      "[1, 2, 3, 4, 5]\n",
      "[1, 2, 3, 4, 5]\n"
     ]
    }
   ],
   "source": [
    "def bubble_sort(a):\n",
    "    for i in range(0,len(a)):\n",
    "        for j in range(i+1,len(a)):\n",
    "            if a[i] > a[j]:\n",
    "                a[i],a[j]=a[j],a[i]\n",
    "            print(a)\n",
    "    return a\n",
    "d=[2,4,5,1,3]\n",
    "print(bubble_sort(d))"
   ]
  },
  {
   "cell_type": "code",
   "execution_count": 25,
   "metadata": {},
   "outputs": [
    {
     "name": "stdout",
     "output_type": "stream",
     "text": [
      "[1, 2, 3, 4, 5]\n"
     ]
    }
   ],
   "source": [
    "def find_min_idx(a):\n",
    "    n=len(a)\n",
    "    min_idx=0\n",
    "    for i in range(1,n):\n",
    "        if a[i]< a[min_idx]:\n",
    "            min_idx=i\n",
    "    return min_idx\n",
    "def sel_sort(a):\n",
    "    result=[]\n",
    "    while a:\n",
    "        min_idx=find_min_idx(a)\n",
    "        value=a.pop(min_idx)\n",
    "        result.append(value)\n",
    "    return result\n",
    "\n",
    "d=[2,4,5,1,3]\n",
    "print(sel_sort(d))"
   ]
  },
  {
   "cell_type": "code",
   "execution_count": 28,
   "metadata": {},
   "outputs": [
    {
     "name": "stdout",
     "output_type": "stream",
     "text": [
      "[5, 4, 3, 2, 1]\n"
     ]
    }
   ],
   "source": [
    "def sel_sort(a):\n",
    "    n=len(a)\n",
    "    for i in range(0,n-1):\n",
    "        max_idx=i\n",
    "        for j in range(i+1,n):\n",
    "            if a[j]>a[max_idx]:\n",
    "                max_idx=j\n",
    "        a[i],a[max_idx]=a[max_idx],a[i]\n",
    "\n",
    "d=[2,4,5,1,3]\n",
    "sel_sort(d)\n",
    "print(d)"
   ]
  },
  {
   "cell_type": "code",
   "execution_count": 32,
   "metadata": {},
   "outputs": [
    {
     "name": "stdout",
     "output_type": "stream",
     "text": [
      "0 2\n",
      "1 4\n",
      "2 5\n",
      "0 1\n",
      "2 3\n",
      "[1, 2, 3, 4, 5]\n"
     ]
    }
   ],
   "source": [
    "def find_ins_idx(r,v):\n",
    "    for i in range(0,len(r)):\n",
    "        if v<r[i]:\n",
    "            return i\n",
    "    return len(r)\n",
    "def ins_sort(a):\n",
    "    result=[]\n",
    "    while a:\n",
    "        value=a.pop(0)\n",
    "        ins_idx=find_ins_idx(result,value)\n",
    "        print(ins_idx,value)\n",
    "        result.insert(ins_idx,value)\n",
    "    return result\n",
    "d=[2,4,5,1,3]\n",
    "print(ins_sort(d))"
   ]
  },
  {
   "cell_type": "code",
   "execution_count": 33,
   "metadata": {},
   "outputs": [
    {
     "data": {
      "text/plain": [
       "[-15, -10, 0, 1, 2, 3, 9, 11, 16]"
      ]
     },
     "execution_count": 33,
     "metadata": {},
     "output_type": "execute_result"
    }
   ],
   "source": [
    "def quicksort(array):\n",
    "    if len(array)<2:\n",
    "        return array\n",
    "    else:\n",
    "        pivot=array[0]\n",
    "        less=[i for i in array[1:]if i <= pivot]\n",
    "        greater=[i for i in array[1:] if i > pivot]\n",
    "        return quicksort(less)+[pivot]+quicksort(greater)\n",
    "\n",
    "quicksort([-10,-15,2,3,0,9,11,16,1])"
   ]
  },
  {
   "cell_type": "code",
   "execution_count": 34,
   "metadata": {},
   "outputs": [
    {
     "name": "stdout",
     "output_type": "stream",
     "text": [
      "(5, 36)\n",
      "-1\n"
     ]
    }
   ],
   "source": [
    "def binary_search(a,x):\n",
    "    start=0\n",
    "    end=len(a)-1\n",
    "    while start <= end:\n",
    "        mid=(start+end)\n",
    "        if x ==a[mid]:\n",
    "            return mid,a[mid]\n",
    "        elif x > a[mid]:\n",
    "            start=mid+1\n",
    "        else:\n",
    "            end=mid-1\n",
    "    return -1\n",
    "d=[1,4,9,16,25,36,49,64,81]\n",
    "print(binary_search(d,36))\n",
    "print(binary_search(d,50))"
   ]
  },
  {
   "cell_type": "code",
   "execution_count": 35,
   "metadata": {},
   "outputs": [
    {
     "name": "stdout",
     "output_type": "stream",
     "text": [
      "['Tom']\n",
      "['김철수', '이혜진']\n"
     ]
    }
   ],
   "source": [
    "def find_same_name(a):\n",
    "    name_dict={}\n",
    "    for name in a:\n",
    "        if name in name_dict:\n",
    "            name_dict[name]+=1\n",
    "        else:\n",
    "            name_dict[name]=1\n",
    "    result=[]\n",
    "    for name in name_dict:\n",
    "        if name_dict[name]>=2:\n",
    "            result.append(name)\n",
    "    return result\n",
    "name=[\"Tom\",\"Jerry\",\"Mike\",\"Tom\"]\n",
    "print(find_same_name(name))\n",
    "name2=[\"김철수\",\"이혜진\",\"송민호\",\"이혜진\",\"김철수\"]\n",
    "print(find_same_name(name2))"
   ]
  },
  {
   "cell_type": "code",
   "execution_count": null,
   "metadata": {},
   "outputs": [],
   "source": []
  }
 ],
 "metadata": {
  "interpreter": {
   "hash": "cef9e06bb236b2a8629b07e87a04b187b952a0f661eff5533360a155783f0c33"
  },
  "kernelspec": {
   "display_name": "Python 3.8.8 64-bit ('base': conda)",
   "language": "python",
   "name": "python3"
  },
  "language_info": {
   "codemirror_mode": {
    "name": "ipython",
    "version": 3
   },
   "file_extension": ".py",
   "mimetype": "text/x-python",
   "name": "python",
   "nbconvert_exporter": "python",
   "pygments_lexer": "ipython3",
   "version": "3.8.8"
  },
  "orig_nbformat": 4
 },
 "nbformat": 4,
 "nbformat_minor": 2
}
