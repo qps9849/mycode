{
 "cells": [
  {
   "cell_type": "code",
   "execution_count": null,
   "metadata": {},
   "outputs": [],
   "source": [
    "import keyword\n",
    "print(keyword.kwlist)\n",
    "print(len(keyword.kwlist))"
   ]
  },
  {
   "cell_type": "code",
   "execution_count": null,
   "metadata": {},
   "outputs": [],
   "source": [
    "1+2"
   ]
  },
  {
   "cell_type": "code",
   "execution_count": null,
   "metadata": {},
   "outputs": [],
   "source": [
    "3/2.4"
   ]
  },
  {
   "cell_type": "code",
   "execution_count": null,
   "metadata": {},
   "outputs": [],
   "source": [
    "3*9"
   ]
  },
  {
   "cell_type": "code",
   "execution_count": null,
   "metadata": {},
   "outputs": [],
   "source": [
    "3**9"
   ]
  },
  {
   "cell_type": "code",
   "execution_count": null,
   "metadata": {},
   "outputs": [],
   "source": [
    "#한줄주석"
   ]
  },
  {
   "cell_type": "code",
   "execution_count": null,
   "metadata": {},
   "outputs": [],
   "source": [
    "a=10\n",
    "a+=1 #a=a+1\n",
    "print(a)\n",
    "print(type(a)) #type(변수) 변수의 자료형\n",
    "a='파이썬' #문자열 작은따옴표 or 큰따옴표\n",
    "print(a)\n",
    "print(type(a))"
   ]
  },
  {
   "cell_type": "code",
   "execution_count": null,
   "metadata": {},
   "outputs": [],
   "source": [
    "a,b=10,20\n",
    "print(a,b)\n",
    "i=j=k=10\n",
    "print(i,j,k)"
   ]
  },
  {
   "cell_type": "code",
   "execution_count": null,
   "metadata": {},
   "outputs": [],
   "source": [
    "a,b=10,20\n",
    "print(a,b)\n",
    "a,b=b,a\n",
    "print(a,b)"
   ]
  },
  {
   "cell_type": "code",
   "execution_count": null,
   "metadata": {},
   "outputs": [],
   "source": [
    "b=2\n",
    "print(b)\n",
    "del b\n",
    "print(b)"
   ]
  },
  {
   "cell_type": "code",
   "execution_count": null,
   "metadata": {},
   "outputs": [],
   "source": [
    "print(7%3) #a%b a를 b로 나눈 나머지\n",
    "print(7/4) #실수몫\n",
    "print(7//4) # a // b 정수몫"
   ]
  },
  {
   "cell_type": "code",
   "execution_count": null,
   "metadata": {},
   "outputs": [],
   "source": [
    "x=9\n",
    "#'문자열{}'.format(변수) {}자리에 변수값이 출력됨\n",
    "print('정수 : {}'.format(x))\n",
    "print('정수 : {}'.format(3**4))\n",
    "print('정수 : {}'.format(8.3/2.7))\n",
    "print('정수 : {}'.format(int(8.3)/int(2.7)))"
   ]
  },
  {
   "cell_type": "code",
   "execution_count": null,
   "metadata": {},
   "outputs": [],
   "source": [
    "a=10\n",
    "b=20\n",
    "print('{} {}'.format(a,b))\n",
    "print('{1} {0}'.format(a,b))"
   ]
  },
  {
   "cell_type": "code",
   "execution_count": null,
   "metadata": {},
   "outputs": [],
   "source": [
    "print(8.3/2.7)\n",
    "print('{0}'.format(8.3/2.7))\n",
    "print('{0:.3f}'.format(8.3/2.7))\n",
    "print('{0:10.3f}'.format(8.3/2.7))\n",
    "y=2.5*4.8\n",
    "print('{:.1f}'.format(y))\n",
    "r=8/float(3)\n",
    "print('{:.2f}'.format(r))\n",
    "print('{:.2f}'.format(8.0/3))"
   ]
  },
  {
   "cell_type": "code",
   "execution_count": null,
   "metadata": {},
   "outputs": [],
   "source": [
    "a=10\n",
    "a.bit_length()#비트수\n",
    "a=100000\n",
    "a.bit_length()"
   ]
  },
  {
   "cell_type": "code",
   "execution_count": null,
   "metadata": {},
   "outputs": [],
   "source": [
    "b=0.35\n",
    "print(b)\n",
    "print(b+0.1)"
   ]
  },
  {
   "cell_type": "code",
   "execution_count": null,
   "metadata": {},
   "outputs": [],
   "source": [
    "hungry=True\n",
    "sleepy=False\n",
    "print(type(hungry))\n",
    "print(not hungry)\n",
    "print(hungry and sleepy)\n",
    "print(hungry or sleepy)"
   ]
  },
  {
   "cell_type": "code",
   "execution_count": 10,
   "metadata": {},
   "outputs": [
    {
     "name": "stdout",
     "output_type": "stream",
     "text": [
      "ok\n",
      "ok2\n"
     ]
    }
   ],
   "source": [
    "a=1\n",
    "b=3\n",
    "if a==1 and b==3:\n",
    "    print(\"ok\")\n",
    "\n",
    "if a==1 and \\\n",
    "b==3:\n",
    "    print('ok2')"
   ]
  },
  {
   "cell_type": "code",
   "execution_count": 11,
   "metadata": {},
   "outputs": [
    {
     "name": "stdout",
     "output_type": "stream",
     "text": [
      "Hello\n",
      "Python\n",
      "Hello\n",
      "Python\n"
     ]
    }
   ],
   "source": [
    "multiline=\"Hello\\nPython\"\n",
    "print(multiline)\n",
    "\n",
    "multiline='''Hello\n",
    "Python'''\n",
    "print(multiline)"
   ]
  },
  {
   "cell_type": "code",
   "execution_count": 12,
   "metadata": {},
   "outputs": [
    {
     "name": "stdout",
     "output_type": "stream",
     "text": [
      "안녕하세요\n"
     ]
    }
   ],
   "source": [
    "a=\"안녕\"\n",
    "b=\"하세요\"\n",
    "print(a+b)"
   ]
  },
  {
   "cell_type": "code",
   "execution_count": 14,
   "metadata": {},
   "outputs": [
    {
     "ename": "TypeError",
     "evalue": "can only concatenate str (not \"int\") to str",
     "output_type": "error",
     "traceback": [
      "\u001b[1;31m---------------------------------------------------------------------------\u001b[0m",
      "\u001b[1;31mTypeError\u001b[0m                                 Traceback (most recent call last)",
      "\u001b[1;32m<ipython-input-14-977a8c37a349>\u001b[0m in \u001b[0;36m<module>\u001b[1;34m\u001b[0m\n\u001b[0;32m      1\u001b[0m \u001b[0mname\u001b[0m\u001b[1;33m=\u001b[0m\u001b[1;34m\"김철수\"\u001b[0m\u001b[1;33m\u001b[0m\u001b[1;33m\u001b[0m\u001b[0m\n\u001b[0;32m      2\u001b[0m \u001b[0mage\u001b[0m\u001b[1;33m=\u001b[0m\u001b[1;36m20\u001b[0m\u001b[1;33m\u001b[0m\u001b[1;33m\u001b[0m\u001b[0m\n\u001b[1;32m----> 3\u001b[1;33m \u001b[0mprint\u001b[0m\u001b[1;33m(\u001b[0m\u001b[1;34m\"이름:\"\u001b[0m\u001b[1;33m+\u001b[0m\u001b[0mname\u001b[0m\u001b[1;33m+\u001b[0m\u001b[1;34m\", 나이:\"\u001b[0m\u001b[1;33m+\u001b[0m\u001b[0mage\u001b[0m\u001b[1;33m)\u001b[0m\u001b[1;33m\u001b[0m\u001b[1;33m\u001b[0m\u001b[0m\n\u001b[0m",
      "\u001b[1;31mTypeError\u001b[0m: can only concatenate str (not \"int\") to str"
     ]
    }
   ],
   "source": [
    "name=\"김철수\"\n",
    "age=20\n",
    "print(\"이름:\"+name+\", 나이:\"+age)"
   ]
  },
  {
   "cell_type": "code",
   "execution_count": 15,
   "metadata": {},
   "outputs": [
    {
     "name": "stdout",
     "output_type": "stream",
     "text": [
      "이름:김철수, 나이:20\n"
     ]
    }
   ],
   "source": [
    "name=\"김철수\"\n",
    "age=20\n",
    "print(\"이름:\"+name+\", 나이:\"+str(age))"
   ]
  },
  {
   "cell_type": "code",
   "execution_count": 16,
   "metadata": {},
   "outputs": [
    {
     "name": "stdout",
     "output_type": "stream",
     "text": [
      "파이썬파이썬\n",
      "파이썬파이썬파이썬\n",
      "==================================================\n",
      "My Program\n",
      "==================================================\n"
     ]
    }
   ],
   "source": [
    "a=\"파이썬\"\n",
    "print(a*2)\n",
    "print(a*3)\n",
    "\n",
    "print(\"=\"*50)\n",
    "print(\"My Program\")\n",
    "print(\"=\"*50)"
   ]
  },
  {
   "cell_type": "code",
   "execution_count": 18,
   "metadata": {},
   "outputs": [
    {
     "name": "stdout",
     "output_type": "stream",
     "text": [
      "세\n",
      "세\n",
      "안녕하세\n",
      "\n",
      "안녕하세요\n",
      "안녕하세요\n"
     ]
    }
   ],
   "source": [
    "a=\"안녕하세요\"\n",
    "print(a[3])\n",
    "print(a[-2])\n",
    "print(a[0:4])\n",
    "print(a[5:])\n",
    "print(a[:7])\n",
    "print(a[:])"
   ]
  },
  {
   "cell_type": "code",
   "execution_count": 19,
   "metadata": {},
   "outputs": [
    {
     "name": "stdout",
     "output_type": "stream",
     "text": [
      "True\n",
      "False\n"
     ]
    }
   ],
   "source": [
    "a='Hello world'\n",
    "print(\"world\"in a)\n",
    "print(\"world\" not in a)"
   ]
  },
  {
   "cell_type": "code",
   "execution_count": 21,
   "metadata": {},
   "outputs": [
    {
     "name": "stdout",
     "output_type": "stream",
     "text": [
      "당신의 나이는 20세 입니다.\n",
      "나는 사과를 좋아합니다.\n",
      "김철수님의 나이는 20세 입니다.\n",
      "정확도 : 98%\n",
      "원주율 :      3.142\n"
     ]
    }
   ],
   "source": [
    "age=20\n",
    "print(\"당신의 나이는 %s세 입니다.\"%age)\n",
    "fruit='사과'\n",
    "print(\"나는 %s를 좋아합니다.\"%fruit)\n",
    "name='김철수'\n",
    "print(\"%s님의 나이는 %d세 입니다.\"%(name,age))\n",
    "rate=98\n",
    "print(\"정확도 : %d%%\"%rate)\n",
    "point= 3.141592\n",
    "print(\"원주율 : %10.3f\"%point)"
   ]
  },
  {
   "cell_type": "code",
   "execution_count": 22,
   "metadata": {},
   "outputs": [
    {
     "name": "stdout",
     "output_type": "stream",
     "text": [
      "나이:15세\n",
      "이름:김철수\n",
      "김철수님의 나이는 15세입니다\n",
      "김철수님의 나이는 20세입니다\n"
     ]
    }
   ],
   "source": [
    "age=15\n",
    "result=\"나이:{0}세\".format(age)\n",
    "print(result)\n",
    "\n",
    "name=\"김철수\"\n",
    "result=\"이름:{0}\".format(name)\n",
    "print(result)\n",
    "\n",
    "result=\"{0}님의 나이는 {1}세입니다\".format(name,age)\n",
    "print(result)\n",
    "\n",
    "result = \"{name}님의 나이는 {age}세입니다\".format(age=20,name=\"김철수\")\n",
    "print(result)"
   ]
  },
  {
   "cell_type": "code",
   "execution_count": 23,
   "metadata": {},
   "outputs": [
    {
     "name": "stdout",
     "output_type": "stream",
     "text": [
      "hi        \n",
      "        hi\n",
      "    hi    \n",
      "====hi====\n",
      "hi--------\n"
     ]
    }
   ],
   "source": [
    "result=\"{0:<10}\".format(\"hi\")\n",
    "print(result)\n",
    "\n",
    "result=\"{0:>10}\".format(\"hi\")\n",
    "print(result)\n",
    "\n",
    "result=\"{0:^10}\".format(\"hi\")\n",
    "print(result)\n",
    "\n",
    "result=\"{0:=^10}\".format(\"hi\")\n",
    "print(result)\n",
    "\n",
    "result=\"{0:-<10}\".format(\"hi\")\n",
    "print(result)"
   ]
  },
  {
   "cell_type": "code",
   "execution_count": 24,
   "metadata": {},
   "outputs": [
    {
     "name": "stdout",
     "output_type": "stream",
     "text": [
      "3.4213\n",
      "    3.4213\n"
     ]
    }
   ],
   "source": [
    "y=3.42134234\n",
    "result=\"{0:0.4f}\".format(y)\n",
    "print(result)\n",
    "result=\"{0:10.4f}\".format(y)\n",
    "print(result)"
   ]
  },
  {
   "cell_type": "code",
   "execution_count": 25,
   "metadata": {},
   "outputs": [
    {
     "name": "stdout",
     "output_type": "stream",
     "text": [
      "2\n"
     ]
    }
   ],
   "source": [
    "a=\"hobby\"\n",
    "print(a.count('b'))"
   ]
  },
  {
   "cell_type": "code",
   "execution_count": 26,
   "metadata": {},
   "outputs": [
    {
     "name": "stdout",
     "output_type": "stream",
     "text": [
      "7\n",
      "-1\n"
     ]
    }
   ],
   "source": [
    "a=\"Have a nice day.\"\n",
    "print(a.find('nice'))\n",
    "\n",
    "print(a.find('have'))"
   ]
  },
  {
   "cell_type": "code",
   "execution_count": 28,
   "metadata": {},
   "outputs": [
    {
     "name": "stdout",
     "output_type": "stream",
     "text": [
      "8\n"
     ]
    },
    {
     "ename": "ValueError",
     "evalue": "substring not found",
     "output_type": "error",
     "traceback": [
      "\u001b[1;31m---------------------------------------------------------------------------\u001b[0m",
      "\u001b[1;31mValueError\u001b[0m                                Traceback (most recent call last)",
      "\u001b[1;32m<ipython-input-28-f3db31758d8f>\u001b[0m in \u001b[0;36m<module>\u001b[1;34m\u001b[0m\n\u001b[0;32m      2\u001b[0m \u001b[0mprint\u001b[0m\u001b[1;33m(\u001b[0m\u001b[0ma\u001b[0m\u001b[1;33m.\u001b[0m\u001b[0mindex\u001b[0m\u001b[1;33m(\u001b[0m\u001b[1;34m'too'\u001b[0m\u001b[1;33m)\u001b[0m\u001b[1;33m)\u001b[0m\u001b[1;33m\u001b[0m\u001b[1;33m\u001b[0m\u001b[0m\n\u001b[0;32m      3\u001b[0m \u001b[1;31m#찾는 내용이 없으면 에러가 발생합니다\u001b[0m\u001b[1;33m\u001b[0m\u001b[1;33m\u001b[0m\u001b[1;33m\u001b[0m\u001b[0m\n\u001b[1;32m----> 4\u001b[1;33m \u001b[0mprint\u001b[0m\u001b[1;33m(\u001b[0m\u001b[0ma\u001b[0m\u001b[1;33m.\u001b[0m\u001b[0mindex\u001b[0m\u001b[1;33m(\u001b[0m\u001b[1;34m'kind'\u001b[0m\u001b[1;33m)\u001b[0m\u001b[1;33m)\u001b[0m\u001b[1;33m\u001b[0m\u001b[1;33m\u001b[0m\u001b[0m\n\u001b[0m",
      "\u001b[1;31mValueError\u001b[0m: substring not found"
     ]
    }
   ],
   "source": [
    "a=\"Live is too short\"\n",
    "print(a.index('too'))\n",
    "#찾는 내용이 없으면 에러가 발생합니다\n",
    "print(a.index('kind'))"
   ]
  },
  {
   "cell_type": "code",
   "execution_count": 29,
   "metadata": {},
   "outputs": [
    {
     "name": "stdout",
     "output_type": "stream",
     "text": [
      "a,b,c,d\n"
     ]
    }
   ],
   "source": [
    "a=\",\"\n",
    "result=a.join('abcd')\n",
    "print(result)"
   ]
  },
  {
   "cell_type": "code",
   "execution_count": 31,
   "metadata": {},
   "outputs": [
    {
     "name": "stdout",
     "output_type": "stream",
     "text": [
      "HI\n",
      "hi\n",
      "Python program\n"
     ]
    }
   ],
   "source": [
    "a=\"hi\"\n",
    "result=a.upper()\n",
    "print(result)\n",
    "\n",
    "a=\"HI\"\n",
    "result=a.lower()\n",
    "print(result)\n",
    "\n",
    "a=\"python program\"\n",
    "result=a.capitalize()\n",
    "print(result)"
   ]
  },
  {
   "cell_type": "code",
   "execution_count": 32,
   "metadata": {},
   "outputs": [
    {
     "name": "stdout",
     "output_type": "stream",
     "text": [
      "hi   \n",
      "   hi\n",
      "hi\n"
     ]
    }
   ],
   "source": [
    "a='   hi   '\n",
    "result=a.lstrip()\n",
    "print(result)\n",
    "a=\"   hi   \"\n",
    "result=a.rstrip()\n",
    "print(result)\n",
    "\n",
    "a=\"   hi   \"\n",
    "result=a.strip()\n",
    "print(result)"
   ]
  },
  {
   "cell_type": "code",
   "execution_count": 33,
   "metadata": {},
   "outputs": [
    {
     "name": "stdout",
     "output_type": "stream",
     "text": [
      "경력 개발자\n"
     ]
    }
   ],
   "source": [
    "a=\"신입 개발자\"\n",
    "result=a.replace(\"신입\",\"경력\")\n",
    "print(result)"
   ]
  },
  {
   "cell_type": "code",
   "execution_count": 34,
   "metadata": {},
   "outputs": [
    {
     "name": "stdout",
     "output_type": "stream",
     "text": [
      "['신입', '개발자']\n",
      "['a', 'b', 'c', 'd']\n"
     ]
    }
   ],
   "source": [
    "a=\"신입 개발자\"\n",
    "result=a.split()\n",
    "print(result)\n",
    "\n",
    "a=\"a:b:c:d\"\n",
    "result=a.split(':')\n",
    "print(result)"
   ]
  },
  {
   "cell_type": "code",
   "execution_count": null,
   "metadata": {},
   "outputs": [],
   "source": []
  }
 ],
 "metadata": {
  "interpreter": {
   "hash": "cef9e06bb236b2a8629b07e87a04b187b952a0f661eff5533360a155783f0c33"
  },
  "kernelspec": {
   "display_name": "Python 3.8.8 64-bit ('base': conda)",
   "language": "python",
   "name": "python3"
  },
  "language_info": {
   "codemirror_mode": {
    "name": "ipython",
    "version": 3
   },
   "file_extension": ".py",
   "mimetype": "text/x-python",
   "name": "python",
   "nbconvert_exporter": "python",
   "pygments_lexer": "ipython3",
   "version": "3.8.8"
  },
  "orig_nbformat": 4
 },
 "nbformat": 4,
 "nbformat_minor": 2
}
