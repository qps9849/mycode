{
 "cells": [
  {
   "cell_type": "code",
   "execution_count": 1,
   "metadata": {},
   "outputs": [
    {
     "name": "stdout",
     "output_type": "stream",
     "text": [
      "   Int'l Plan  VMail Plan  VMail Message  Day Mins  Day Calls  Day Charge  \\\n",
      "0           0           1             25     265.1        110       45.07   \n",
      "1           0           1             26     161.6        123       27.47   \n",
      "2           0           0              0     243.4        114       41.38   \n",
      "3           1           0              0     299.4         71       50.90   \n",
      "4           1           0              0     166.7        113       28.34   \n",
      "\n",
      "   Eve Mins  Eve Calls  Eve Charge  Night Mins  Night Calls  Night Charge  \\\n",
      "0     197.4         99       16.78       244.7           91         11.01   \n",
      "1     195.5        103       16.62       254.4          103         11.45   \n",
      "2     121.2        110       10.30       162.6          104          7.32   \n",
      "3      61.9         88        5.26       196.9           89          8.86   \n",
      "4     148.3        122       12.61       186.9          121          8.41   \n",
      "\n",
      "   Intl Mins  Intl Calls  Intl Charge  CustServ Calls  Churn  \n",
      "0       10.0           3         2.70               1      0  \n",
      "1       13.7           3         3.70               1      0  \n",
      "2       12.2           5         3.29               0      0  \n",
      "3        6.6           7         1.78               2      0  \n",
      "4       10.1           3         2.73               3      0  \n"
     ]
    }
   ],
   "source": [
    "import pandas as pd\n",
    "df = pd.read_csv(\"c:/data/customer/customer.csv\")\n",
    "print(df.head())"
   ]
  },
  {
   "cell_type": "code",
   "execution_count": 33,
   "metadata": {},
   "outputs": [
    {
     "data": {
      "text/plain": [
       "0    2850\n",
       "1     483\n",
       "Name: Churn, dtype: int64"
      ]
     },
     "execution_count": 33,
     "metadata": {},
     "output_type": "execute_result"
    }
   ],
   "source": [
    "df[\"Churn\"].value_counts()"
   ]
  },
  {
   "cell_type": "code",
   "execution_count": 34,
   "metadata": {},
   "outputs": [
    {
     "name": "stderr",
     "output_type": "stream",
     "text": [
      "C:\\anaconda3\\lib\\site-packages\\seaborn\\_decorators.py:36: FutureWarning: Pass the following variable as a keyword arg: x. From version 0.12, the only valid positional argument will be `data`, and passing other arguments without an explicit keyword will result in an error or misinterpretation.\n",
      "  warnings.warn(\n"
     ]
    },
    {
     "data": {
      "text/plain": [
       "Text(0.5, 1.0, '분류\\n (0: 지속 || 1: 이탈)')"
      ]
     },
     "execution_count": 34,
     "metadata": {},
     "output_type": "execute_result"
    },
    {
     "data": {
      "image/png": "[encoded data removed]",
      "text/plain": [
       "<Figure size 432x288 with 1 Axes>"
      ]
     },
     "metadata": {},
     "output_type": "display_data"
    }
   ],
   "source": [
    "import seaborn as sns\n",
    "import matplotlib.pyplot as plt\n",
    "from matplotlib import font_manager, rc\n",
    "font_name = font_manager.FontProperties(fname=\"c:/Windows/Fonts/malgun.ttf\").get_name()\n",
    "rc('font', family=font_name)\n",
    "colors = [\"yellow\", \"red\"]\n",
    "sns.countplot('Churn', data=df, palette=colors)\n",
    "plt.title('분류\\n (0: 지속 || 1: 이탈)',fontsize=14)"
   ]
  },
  {
   "cell_type": "code",
   "execution_count": 35,
   "metadata": {},
   "outputs": [
    {
     "name": "stdout",
     "output_type": "stream",
     "text": [
      "<class 'pandas.core.frame.DataFrame'> <class 'pandas.core.series.Series'>\n",
      "   Int'l Plan  VMail Plan  VMail Message  Day Mins  Day Calls  Day Charge  \\\n",
      "0           0           1             25     265.1        110       45.07   \n",
      "1           0           1             26     161.6        123       27.47   \n",
      "2           0           0              0     243.4        114       41.38   \n",
      "3           1           0              0     299.4         71       50.90   \n",
      "4           1           0              0     166.7        113       28.34   \n",
      "\n",
      "   Eve Mins  Eve Calls  Eve Charge  Night Mins  Night Calls  Night Charge  \\\n",
      "0     197.4         99       16.78       244.7           91         11.01   \n",
      "1     195.5        103       16.62       254.4          103         11.45   \n",
      "2     121.2        110       10.30       162.6          104          7.32   \n",
      "3      61.9         88        5.26       196.9           89          8.86   \n",
      "4     148.3        122       12.61       186.9          121          8.41   \n",
      "\n",
      "   Intl Mins  Intl Calls  Intl Charge  CustServ Calls  \n",
      "0       10.0           3         2.70               1  \n",
      "1       13.7           3         3.70               1  \n",
      "2       12.2           5         3.29               0  \n",
      "3        6.6           7         1.78               2  \n",
      "4       10.1           3         2.73               3  \n",
      "0    0\n",
      "1    0\n",
      "2    0\n",
      "3    0\n",
      "4    0\n",
      "Name: Churn, dtype: int64\n"
     ]
    }
   ],
   "source": [
    "train_cols = df.columns[0:16]\n",
    "X = df[train_cols]\n",
    "y = df[\"Churn\"]\n",
    "print(type(X), type(y))\n",
    "print(X.head())\n",
    "print(y.head())"
   ]
  },
  {
   "cell_type": "code",
   "execution_count": 36,
   "metadata": {},
   "outputs": [],
   "source": [
    "from imblearn.under_sampling import RandomUnderSampler\n",
    "X_sample, y_sample = RandomUnderSampler(random_state=0).fit_resample(X, y)\n",
    "X_samp = pd.DataFrame(data=X_sample,columns=train_cols )\n",
    "y_samp = pd.DataFrame(data=y_sample,columns=['Churn'])\n",
    "df_samp=pd.concat([X_samp,y_samp],axis=1)\n"
   ]
  },
  {
   "cell_type": "code",
   "execution_count": 37,
   "metadata": {},
   "outputs": [
    {
     "data": {
      "text/plain": [
       "0    483\n",
       "1    483\n",
       "Name: Churn, dtype: int64"
      ]
     },
     "execution_count": 37,
     "metadata": {},
     "output_type": "execute_result"
    }
   ],
   "source": [
    "df_samp[\"Churn\"].value_counts()"
   ]
  },
  {
   "cell_type": "code",
   "execution_count": 38,
   "metadata": {},
   "outputs": [
    {
     "name": "stderr",
     "output_type": "stream",
     "text": [
      "C:\\anaconda3\\lib\\site-packages\\seaborn\\_decorators.py:36: FutureWarning: Pass the following variable as a keyword arg: x. From version 0.12, the only valid positional argument will be `data`, and passing other arguments without an explicit keyword will result in an error or misinterpretation.\n",
      "  warnings.warn(\n"
     ]
    },
    {
     "data": {
      "text/plain": [
       "Text(0.5, 1.0, '분류\\n (0: 지속 || 1: 이탈)')"
      ]
     },
     "execution_count": 38,
     "metadata": {},
     "output_type": "execute_result"
    },
    {
     "data": {
      "image/png": "[encoded data removed]",
      "text/plain": [
       "<Figure size 432x288 with 1 Axes>"
      ]
     },
     "metadata": {},
     "output_type": "display_data"
    }
   ],
   "source": [
    "colors = [\"yellow\", \"red\"]\n",
    "sns.countplot('Churn', data=df_samp, palette=colors)\n",
    "plt.title('분류\\n (0: 지속 || 1: 이탈)',fontsize=14)"
   ]
  },
  {
   "cell_type": "code",
   "execution_count": 39,
   "metadata": {},
   "outputs": [],
   "source": [
    "train_cols = df_samp.columns[0:16]\n",
    "X = df_samp[train_cols] \n",
    "y = df_samp[\"Churn\"]"
   ]
  },
  {
   "cell_type": "code",
   "execution_count": 40,
   "metadata": {},
   "outputs": [],
   "source": [
    "from sklearn.model_selection import train_test_split\n",
    "X_train, X_test, y_train, y_test = train_test_split(X, y,test_size=0.3, random_state=10)"
   ]
  },
  {
   "cell_type": "code",
   "execution_count": 41,
   "metadata": {},
   "outputs": [
    {
     "data": {
      "text/plain": [
       "MLPClassifier(random_state=7)"
      ]
     },
     "execution_count": 41,
     "metadata": {},
     "output_type": "execute_result"
    }
   ],
   "source": [
    "from sklearn.neural_network import MLPClassifier\n",
    "model = MLPClassifier(random_state=7)\n",
    "model.fit(X_train, y_train)"
   ]
  },
  {
   "cell_type": "code",
   "execution_count": 42,
   "metadata": {},
   "outputs": [
    {
     "name": "stdout",
     "output_type": "stream",
     "text": [
      "0.6730769230769231\n",
      "0.5862068965517241\n",
      "0.5862068965517241\n"
     ]
    }
   ],
   "source": [
    "import numpy as np\n",
    "pred=model.predict(X_test)\n",
    "print(model.score(X_train, y_train)) \n",
    "print(model.score(X_test, y_test)) \n",
    "print(np.mean(pred == y_test)) "
   ]
  },
  {
   "cell_type": "code",
   "execution_count": 43,
   "metadata": {},
   "outputs": [
    {
     "name": "stdout",
     "output_type": "stream",
     "text": [
      "         Int'l Plan    VMail Plan  VMail Message      Day Mins     Day Calls  \\\n",
      "count  6.760000e+02  6.760000e+02   6.760000e+02  6.760000e+02  6.760000e+02   \n",
      "mean   1.607853e-16 -1.527378e-16   1.668619e-16 -7.994920e-16  2.461049e-16   \n",
      "std    1.000000e+00  1.000000e+00   1.000000e+00  1.000000e+00  1.000000e+00   \n",
      "min   -4.571572e-01 -5.518769e-01  -5.335870e-01 -3.121540e+00 -4.836641e+00   \n",
      "25%   -4.571572e-01 -5.518769e-01  -5.335870e-01 -6.292776e-01 -6.314072e-01   \n",
      "50%   -4.571572e-01 -5.518769e-01  -5.335870e-01 -5.332612e-02  3.760733e-02   \n",
      "75%   -4.571572e-01 -5.518769e-01  -5.335870e-01  7.249207e-01  7.066219e-01   \n",
      "max    2.184196e+00  1.809318e+00   3.037748e+00  2.589945e+00  3.048173e+00   \n",
      "\n",
      "         Day Charge      Eve Mins     Eve Calls    Eve Charge    Night Mins  \\\n",
      "count  6.760000e+02  6.760000e+02  6.760000e+02  6.760000e+02  6.760000e+02   \n",
      "mean  -1.533988e-15 -1.216072e-15  1.018252e-16  3.295769e-15 -7.035792e-16   \n",
      "std    1.000000e+00  1.000000e+00  1.000000e+00  1.000000e+00  1.000000e+00   \n",
      "min   -3.121566e+00 -2.745009e+00 -4.453764e+00 -2.745016e+00 -3.178279e+00   \n",
      "25%   -6.291058e-01 -6.896147e-01 -6.596645e-01 -6.900165e-01 -6.585308e-01   \n",
      "50%   -5.351744e-02 -1.202269e-02 -2.020527e-03 -1.092968e-02  5.660946e-02   \n",
      "75%    7.246282e-01  6.726374e-01  7.062114e-01  6.720376e-01  6.846130e-01   \n",
      "max    2.590262e+00  2.813319e+00  2.982671e+00  2.814071e+00  2.575842e+00   \n",
      "\n",
      "        Night Calls  Night Charge     Intl Mins    Intl Calls   Intl Charge  \\\n",
      "count  6.760000e+02  6.760000e+02  6.760000e+02  6.760000e+02  6.760000e+02   \n",
      "mean  -9.262807e-17 -2.746981e-15  5.914894e-16  2.980850e-17  7.220556e-16   \n",
      "std    1.000000e+00  1.000000e+00  1.000000e+00  1.000000e+00  1.000000e+00   \n",
      "min   -2.838761e+00 -3.179457e+00 -3.707284e+00 -1.682996e+00 -3.707239e+00   \n",
      "25%   -7.356897e-01 -6.589192e-01 -6.446512e-01 -5.449112e-01 -6.476822e-01   \n",
      "50%   -9.629447e-03  5.599688e-02 -3.634954e-03 -1.655497e-01 -1.482646e-03   \n",
      "75%    7.164308e-01  6.838398e-01  6.462843e-01  5.931732e-01  6.414200e-01   \n",
      "max    2.869575e+00  2.576534e+00  2.809714e+00  5.904234e+00  2.807507e+00   \n",
      "\n",
      "       CustServ Calls  \n",
      "count    6.760000e+02  \n",
      "mean    -5.395093e-17  \n",
      "std      1.000000e+00  \n",
      "min     -1.159947e+00  \n",
      "25%     -5.454297e-01  \n",
      "50%     -5.454297e-01  \n",
      "75%      6.836053e-01  \n",
      "max      4.370710e+00  \n",
      "       Int'l Plan  VMail Plan  VMail Message    Day Mins   Day Calls  \\\n",
      "count  290.000000  290.000000     290.000000  290.000000  290.000000   \n",
      "mean     0.007357   -0.087780      -0.085374   -0.018888   -0.060108   \n",
      "std      1.007309    0.939938       0.937753    1.034014    0.992331   \n",
      "min     -0.457157   -0.551877      -0.533587   -2.455634   -2.734024   \n",
      "25%     -0.457157   -0.551877      -0.533587   -0.798603   -0.631407   \n",
      "50%     -0.457157   -0.551877      -0.533587   -0.045185   -0.010179   \n",
      "75%     -0.457157   -0.551877      -0.533587    0.744051    0.611048   \n",
      "max      2.184196    1.809318       3.037748    2.524820    2.235798   \n",
      "\n",
      "       Day Charge    Eve Mins   Eve Calls  Eve Charge  Night Mins  \\\n",
      "count  290.000000  290.000000  290.000000  290.000000  290.000000   \n",
      "mean    -0.018871    0.089108    0.085375    0.089053    0.084758   \n",
      "std      1.033986    0.949694    1.004679    0.949645    1.042792   \n",
      "min     -2.455952   -2.893909   -2.632596   -2.893584   -3.677382   \n",
      "25%     -0.798382   -0.583123   -0.609076   -0.583580   -0.619345   \n",
      "50%     -0.044898    0.121799    0.099155    0.122116    0.115388   \n",
      "75%      0.744022    0.688658    0.756799    0.689223    0.789796   \n",
      "max      2.525137    3.054576    3.437963    3.053553    3.163628   \n",
      "\n",
      "       Night Calls  Night Charge   Intl Mins  Intl Calls  Intl Charge  \\\n",
      "count   290.000000    290.000000  290.000000  290.000000   290.000000   \n",
      "mean     -0.106322      0.084789   -0.024879   -0.020346    -0.024584   \n",
      "std       0.940042      1.042762    1.059666    0.887163     1.059149   \n",
      "min      -3.239346     -3.678981   -3.707284   -1.682996    -3.707239   \n",
      "25%      -0.735690     -0.621111   -0.778196   -0.544911    -0.782857   \n",
      "50%      -0.134812      0.115573    0.014171   -0.165550     0.018299   \n",
      "75%       0.566211      0.791536    0.735314    0.593173     0.740328   \n",
      "max       2.519063      3.163132    3.415118    3.248703     3.414144   \n",
      "\n",
      "       CustServ Calls  \n",
      "count      290.000000  \n",
      "mean        -0.113148  \n",
      "std          0.887284  \n",
      "min         -1.159947  \n",
      "25%         -0.545430  \n",
      "50%         -0.545430  \n",
      "75%          0.683605  \n",
      "max          3.141675  \n"
     ]
    }
   ],
   "source": [
    "mean_on_train = X_train.mean(axis=0)\n",
    "std_on_train = X_train.std(axis=0)\n",
    "X_train_scaled = (X_train - mean_on_train) / std_on_train\n",
    "X_test_scaled = (X_test - mean_on_train) / std_on_train\n",
    "print(X_train_scaled.describe())\n",
    "print(X_test_scaled.describe())"
   ]
  },
  {
   "cell_type": "code",
   "execution_count": 44,
   "metadata": {},
   "outputs": [
    {
     "name": "stderr",
     "output_type": "stream",
     "text": [
      "C:\\anaconda3\\lib\\site-packages\\sklearn\\neural_network\\_multilayer_perceptron.py:614: ConvergenceWarning: Stochastic Optimizer: Maximum iterations (200) reached and the optimization hasn't converged yet.\n",
      "  warnings.warn(\n"
     ]
    },
    {
     "data": {
      "text/plain": [
       "MLPClassifier(random_state=7)"
      ]
     },
     "execution_count": 44,
     "metadata": {},
     "output_type": "execute_result"
    }
   ],
   "source": [
    "model = MLPClassifier(random_state=7)\n",
    "model.fit(X_train_scaled, y_train)"
   ]
  },
  {
   "cell_type": "code",
   "execution_count": 45,
   "metadata": {},
   "outputs": [
    {
     "name": "stdout",
     "output_type": "stream",
     "text": [
      "0.9038461538461539\n",
      "0.8379310344827586\n"
     ]
    }
   ],
   "source": [
    "print(model.score(X_train_scaled, y_train))\n",
    "print(model.score(X_test_scaled, y_test))"
   ]
  },
  {
   "cell_type": "code",
   "execution_count": 46,
   "metadata": {},
   "outputs": [
    {
     "data": {
      "text/plain": [
       "array([[  0, 151],\n",
       "       [  0, 139]], dtype=int64)"
      ]
     },
     "execution_count": 46,
     "metadata": {},
     "output_type": "execute_result"
    }
   ],
   "source": [
    "from sklearn.metrics import confusion_matrix\n",
    "pred=model.predict(X_test)\n",
    "cm=confusion_matrix(y_test, pred)\n",
    "cm"
   ]
  },
  {
   "cell_type": "code",
   "execution_count": 47,
   "metadata": {},
   "outputs": [
    {
     "data": {
      "text/html": [
       "<div>\n",
       "<style scoped>\n",
       "    .dataframe tbody tr th:only-of-type {\n",
       "        vertical-align: middle;\n",
       "    }\n",
       "\n",
       "    .dataframe tbody tr th {\n",
       "        vertical-align: top;\n",
       "    }\n",
       "\n",
       "    .dataframe thead th {\n",
       "        text-align: right;\n",
       "    }\n",
       "</style>\n",
       "<table border=\"1\" class=\"dataframe\">\n",
       "  <thead>\n",
       "    <tr style=\"text-align: right;\">\n",
       "      <th></th>\n",
       "      <th>0</th>\n",
       "      <th>1</th>\n",
       "    </tr>\n",
       "  </thead>\n",
       "  <tbody>\n",
       "    <tr>\n",
       "      <th>0</th>\n",
       "      <td>0</td>\n",
       "      <td>151</td>\n",
       "    </tr>\n",
       "    <tr>\n",
       "      <th>1</th>\n",
       "      <td>0</td>\n",
       "      <td>139</td>\n",
       "    </tr>\n",
       "  </tbody>\n",
       "</table>\n",
       "</div>"
      ],
      "text/plain": [
       "   0    1\n",
       "0  0  151\n",
       "1  0  139"
      ]
     },
     "execution_count": 47,
     "metadata": {},
     "output_type": "execute_result"
    }
   ],
   "source": [
    "df_cm=pd.DataFrame(cm, index=[0, 1],columns=[0, 1])\n",
    "df_cm"
   ]
  },
  {
   "cell_type": "code",
   "execution_count": 48,
   "metadata": {},
   "outputs": [
    {
     "data": {
      "text/plain": [
       "<AxesSubplot:title={'center':'Confusion Matrix'}>"
      ]
     },
     "execution_count": 48,
     "metadata": {},
     "output_type": "execute_result"
    },
    {
     "data": {
      "image/png": "[encoded data removed]",
      "text/plain": [
       "<Figure size 648x432 with 2 Axes>"
      ]
     },
     "metadata": {},
     "output_type": "display_data"
    }
   ],
   "source": [
    "import seaborn as sns\n",
    "from matplotlib import pyplot as plt\n",
    "sns.set(font_scale=1.4)\n",
    "plt.figure(figsize=(9,6))\n",
    "plt.title(\"Confusion Matrix\")\n",
    "sns.heatmap(df_cm, annot=True, fmt=\"d\")"
   ]
  },
  {
   "cell_type": "code",
   "execution_count": null,
   "metadata": {},
   "outputs": [],
   "source": []
  }
 ],
 "metadata": {
  "interpreter": {
   "hash": "cef9e06bb236b2a8629b07e87a04b187b952a0f661eff5533360a155783f0c33"
  },
  "kernelspec": {
   "display_name": "Python 3.8.8 64-bit ('base': conda)",
   "language": "python",
   "name": "python3"
  },
  "language_info": {
   "codemirror_mode": {
    "name": "ipython",
    "version": 3
   },
   "file_extension": ".py",
   "mimetype": "text/x-python",
   "name": "python",
   "nbconvert_exporter": "python",
   "pygments_lexer": "ipython3",
   "version": "3.8.8"
  },
  "orig_nbformat": 4
 },
 "nbformat": 4,
 "nbformat_minor": 2
}
