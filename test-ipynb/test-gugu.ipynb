{
 "cells": [
  {
   "cell_type": "code",
   "execution_count": 10,
   "id": "5cb9efc9",
   "metadata": {},
   "outputs": [
    {
     "name": "stdout",
     "output_type": "stream",
     "text": [
      "5단\n",
      "5 x 1 = 5\n",
      "5 x 2 = 10\n",
      "5 x 3 = 15\n",
      "5 x 4 = 20\n",
      "5 x 5 = 25\n",
      "5 x 6 = 30\n",
      "5 x 7 = 35\n",
      "5 x 8 = 40\n",
      "5 x 9 = 45\n",
      "9단\n",
      "9 x 1 = 9\n",
      "9 x 2 = 18\n",
      "9 x 3 = 27\n",
      "9 x 4 = 36\n",
      "9 x 5 = 45\n",
      "9 x 6 = 54\n",
      "9 x 7 = 63\n",
      "9 x 8 = 72\n",
      "9 x 9 = 81\n",
      "정확한 숫자를 입력하세요\n",
      "종료됩니다\n"
     ]
    }
   ],
   "source": [
    "while True:\n",
    "    dan=int(input('몇단을 보시겠습니까?(2~9) 종료:0'))\n",
    "    if dan == 0:\n",
    "        print('종료됩니다')\n",
    "        break\n",
    "    elif 2<=dan<=9:\n",
    "        print('{}단'.format(dan))\n",
    "        for i in range(1,10):\n",
    "            print(\"{} x {} = {}\".format(dan,i,dan*i))\n",
    "    else:\n",
    "        print('정확한 숫자를 입력하세요')\n"
   ]
  },
  {
   "cell_type": "code",
   "execution_count": null,
   "id": "cdef19d0",
   "metadata": {},
   "outputs": [],
   "source": []
  }
 ],
 "metadata": {
  "kernelspec": {
   "display_name": "Python 3",
   "language": "python",
   "name": "python3"
  },
  "language_info": {
   "codemirror_mode": {
    "name": "ipython",
    "version": 3
   },
   "file_extension": ".py",
   "mimetype": "text/x-python",
   "name": "python",
   "nbconvert_exporter": "python",
   "pygments_lexer": "ipython3",
   "version": "3.8.8"
  }
 },
 "nbformat": 4,
 "nbformat_minor": 5
}
