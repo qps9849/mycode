{
 "cells": [
  {
   "cell_type": "code",
   "execution_count": 1,
   "metadata": {},
   "outputs": [
    {
     "name": "stdout",
     "output_type": "stream",
     "text": [
      "0     5\n",
      "1    15\n",
      "2    25\n",
      "3    35\n",
      "4    45\n",
      "dtype: int64\n",
      "a     5\n",
      "b    15\n",
      "c    25\n",
      "d    35\n",
      "e    45\n",
      "dtype: int64\n"
     ]
    }
   ],
   "source": [
    "import pandas as pd\n",
    "sr=pd.Series(range(5,51,10))\n",
    "print(sr)\n",
    "sr=pd.Series(range(5,51,10), index=['a','b','c','d','e'])\n",
    "print(sr)"
   ]
  },
  {
   "cell_type": "code",
   "execution_count": 2,
   "metadata": {},
   "outputs": [
    {
     "name": "stdout",
     "output_type": "stream",
     "text": [
      "김철수    5000\n",
      "김철호    7000\n",
      "한상민    4000\n",
      "문대용    4500\n",
      "dtype: int64\n"
     ]
    }
   ],
   "source": [
    "emp={'김철수':5000, '김철호':7000,'한상민':4000,'문대용':4500}\n",
    "sr=pd.Series(emp)\n",
    "print(sr)"
   ]
  },
  {
   "cell_type": "code",
   "execution_count": 4,
   "metadata": {},
   "outputs": [
    {
     "name": "stdout",
     "output_type": "stream",
     "text": [
      "체중\n",
      "0    88.0\n",
      "1    70.4\n",
      "2    65.5\n",
      "3    45.9\n",
      "4    51.2\n",
      "Name: weight, dtype: float64\n",
      "신장과 체중\n",
      "   weight  height\n",
      "0    88.0     170\n",
      "1    70.4     180\n",
      "2    65.5     155\n",
      "3    45.9     143\n",
      "4    51.2     154\n",
      "신장 170 이상\n",
      "  name  weight  height gender\n",
      "0  김철수    88.0     170      m\n",
      "1  김대희    70.4     180      m\n",
      "성별 m\n",
      "  name  weight  height gender\n",
      "0  김철수    88.0     170      m\n",
      "1  김대희    70.4     180      m\n",
      "2  송영민    65.5     155      m\n",
      "키 오름차순\n",
      "  name  weight  height gender\n",
      "3  이희연    45.9     143      f\n",
      "4  정미숙    51.2     154      f\n",
      "2  송영민    65.5     155      m\n",
      "0  김철수    88.0     170      m\n",
      "1  김대희    70.4     180      m\n",
      "체중 내림차순\n",
      "  name  weight  height gender\n",
      "0  김철수    88.0     170      m\n",
      "1  김대희    70.4     180      m\n",
      "2  송영민    65.5     155      m\n",
      "4  정미숙    51.2     154      f\n",
      "3  이희연    45.9     143      f\n"
     ]
    }
   ],
   "source": [
    "a=pd.DataFrame({\n",
    "    'name':['김철수','김대희','송영민','이희연','정미숙'],\n",
    "    'weight':[88.0, 70.4, 65.5, 45.9, 51.2],\n",
    "    'height':[170, 180, 155, 143, 154],\n",
    "    'gender':['m', 'm', 'm', 'f', 'f']\n",
    "})\n",
    "print('체중')\n",
    "print(a['weight'])\n",
    "print(\"신장과 체중\")\n",
    "print(a[['weight','height']])\n",
    "print('신장 170 이상')\n",
    "print(a[a.height>=170])\n",
    "print('성별 m')\n",
    "print(a[a.gender=='m'])\n",
    "print('키 오름차순')\n",
    "print(a.sort_values(by='height'))\n",
    "print('체중 내림차순')\n",
    "print(a.sort_values(by='weight',ascending=False))"
   ]
  },
  {
   "cell_type": "code",
   "execution_count": 5,
   "metadata": {},
   "outputs": [
    {
     "data": {
      "text/html": [
       "<div>\n",
       "<style scoped>\n",
       "    .dataframe tbody tr th:only-of-type {\n",
       "        vertical-align: middle;\n",
       "    }\n",
       "\n",
       "    .dataframe tbody tr th {\n",
       "        vertical-align: top;\n",
       "    }\n",
       "\n",
       "    .dataframe thead th {\n",
       "        text-align: right;\n",
       "    }\n",
       "</style>\n",
       "<table border=\"1\" class=\"dataframe\">\n",
       "  <thead>\n",
       "    <tr style=\"text-align: right;\">\n",
       "      <th></th>\n",
       "      <th>names</th>\n",
       "      <th>year</th>\n",
       "      <th>points</th>\n",
       "    </tr>\n",
       "  </thead>\n",
       "  <tbody>\n",
       "    <tr>\n",
       "      <th>0</th>\n",
       "      <td>김철수</td>\n",
       "      <td>2014</td>\n",
       "      <td>150</td>\n",
       "    </tr>\n",
       "    <tr>\n",
       "      <th>1</th>\n",
       "      <td>이철호</td>\n",
       "      <td>2015</td>\n",
       "      <td>170</td>\n",
       "    </tr>\n",
       "    <tr>\n",
       "      <th>2</th>\n",
       "      <td>김영희</td>\n",
       "      <td>2016</td>\n",
       "      <td>360</td>\n",
       "    </tr>\n",
       "    <tr>\n",
       "      <th>3</th>\n",
       "      <td>박민수</td>\n",
       "      <td>2017</td>\n",
       "      <td>240</td>\n",
       "    </tr>\n",
       "    <tr>\n",
       "      <th>4</th>\n",
       "      <td>송철호</td>\n",
       "      <td>2018</td>\n",
       "      <td>290</td>\n",
       "    </tr>\n",
       "  </tbody>\n",
       "</table>\n",
       "</div>"
      ],
      "text/plain": [
       "  names  year  points\n",
       "0   김철수  2014     150\n",
       "1   이철호  2015     170\n",
       "2   김영희  2016     360\n",
       "3   박민수  2017     240\n",
       "4   송철호  2018     290"
      ]
     },
     "execution_count": 5,
     "metadata": {},
     "output_type": "execute_result"
    }
   ],
   "source": [
    "data={\"names\":[\"김철수\",\"이철호\",\"김영희\",\"박민수\",\"송철호\"],\n",
    "\"year\":[2014,2015,2016,2017,2018],\n",
    "\"points\":[150,170,360,240,290]}\n",
    "df=pd.DataFrame(data)\n",
    "df"
   ]
  },
  {
   "cell_type": "code",
   "execution_count": 6,
   "metadata": {},
   "outputs": [
    {
     "data": {
      "text/plain": [
       "array([['김철수', 2014, 150],\n",
       "       ['이철호', 2015, 170],\n",
       "       ['김영희', 2016, 360],\n",
       "       ['박민수', 2017, 240],\n",
       "       ['송철호', 2018, 290]], dtype=object)"
      ]
     },
     "execution_count": 6,
     "metadata": {},
     "output_type": "execute_result"
    }
   ],
   "source": [
    "df.values"
   ]
  },
  {
   "cell_type": "code",
   "execution_count": 7,
   "metadata": {},
   "outputs": [
    {
     "data": {
      "text/plain": [
       "Index(['names', 'year', 'points'], dtype='object')"
      ]
     },
     "execution_count": 7,
     "metadata": {},
     "output_type": "execute_result"
    }
   ],
   "source": [
    "df.columns"
   ]
  },
  {
   "cell_type": "code",
   "execution_count": 8,
   "metadata": {},
   "outputs": [
    {
     "data": {
      "text/html": [
       "<div>\n",
       "<style scoped>\n",
       "    .dataframe tbody tr th:only-of-type {\n",
       "        vertical-align: middle;\n",
       "    }\n",
       "\n",
       "    .dataframe tbody tr th {\n",
       "        vertical-align: top;\n",
       "    }\n",
       "\n",
       "    .dataframe thead th {\n",
       "        text-align: right;\n",
       "    }\n",
       "</style>\n",
       "<table border=\"1\" class=\"dataframe\">\n",
       "  <thead>\n",
       "    <tr style=\"text-align: right;\">\n",
       "      <th></th>\n",
       "      <th>year</th>\n",
       "      <th>points</th>\n",
       "    </tr>\n",
       "  </thead>\n",
       "  <tbody>\n",
       "    <tr>\n",
       "      <th>count</th>\n",
       "      <td>5.000000</td>\n",
       "      <td>5.000000</td>\n",
       "    </tr>\n",
       "    <tr>\n",
       "      <th>mean</th>\n",
       "      <td>2016.000000</td>\n",
       "      <td>242.000000</td>\n",
       "    </tr>\n",
       "    <tr>\n",
       "      <th>std</th>\n",
       "      <td>1.581139</td>\n",
       "      <td>86.429162</td>\n",
       "    </tr>\n",
       "    <tr>\n",
       "      <th>min</th>\n",
       "      <td>2014.000000</td>\n",
       "      <td>150.000000</td>\n",
       "    </tr>\n",
       "    <tr>\n",
       "      <th>25%</th>\n",
       "      <td>2015.000000</td>\n",
       "      <td>170.000000</td>\n",
       "    </tr>\n",
       "    <tr>\n",
       "      <th>50%</th>\n",
       "      <td>2016.000000</td>\n",
       "      <td>240.000000</td>\n",
       "    </tr>\n",
       "    <tr>\n",
       "      <th>75%</th>\n",
       "      <td>2017.000000</td>\n",
       "      <td>290.000000</td>\n",
       "    </tr>\n",
       "    <tr>\n",
       "      <th>max</th>\n",
       "      <td>2018.000000</td>\n",
       "      <td>360.000000</td>\n",
       "    </tr>\n",
       "  </tbody>\n",
       "</table>\n",
       "</div>"
      ],
      "text/plain": [
       "              year      points\n",
       "count     5.000000    5.000000\n",
       "mean   2016.000000  242.000000\n",
       "std       1.581139   86.429162\n",
       "min    2014.000000  150.000000\n",
       "25%    2015.000000  170.000000\n",
       "50%    2016.000000  240.000000\n",
       "75%    2017.000000  290.000000\n",
       "max    2018.000000  360.000000"
      ]
     },
     "execution_count": 8,
     "metadata": {},
     "output_type": "execute_result"
    }
   ],
   "source": [
    "df.describe()"
   ]
  },
  {
   "cell_type": "code",
   "execution_count": null,
   "metadata": {},
   "outputs": [],
   "source": []
  }
 ],
 "metadata": {
  "interpreter": {
   "hash": "cef9e06bb236b2a8629b07e87a04b187b952a0f661eff5533360a155783f0c33"
  },
  "kernelspec": {
   "display_name": "Python 3.8.8 64-bit ('base': conda)",
   "language": "python",
   "name": "python3"
  },
  "language_info": {
   "codemirror_mode": {
    "name": "ipython",
    "version": 3
   },
   "file_extension": ".py",
   "mimetype": "text/x-python",
   "name": "python",
   "nbconvert_exporter": "python",
   "pygments_lexer": "ipython3",
   "version": "3.8.8"
  },
  "orig_nbformat": 4
 },
 "nbformat": 4,
 "nbformat_minor": 2
}
