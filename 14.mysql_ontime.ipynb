{
 "cells": [
  {
   "cell_type": "code",
   "execution_count": 1,
   "metadata": {},
   "outputs": [
    {
     "name": "stdout",
     "output_type": "stream",
     "text": [
      "(2008, 1, 3, 4, 2003, 1955, 2211, 2225, 'WN', 335, 'N712SW', 128, 150, 116, -14, 8, 'IAD', 'TPA', 810, 4, 8, 0, '', '0', 0, 0, 0, 0, 0)\n",
      "(2008, 1, 3, 4, 754, 735, 1002, 1000, 'WN', 3231, 'N772SW', 128, 145, 113, 2, 19, 'IAD', 'TPA', 810, 5, 10, 0, '', '0', 0, 0, 0, 0, 0)\n",
      "(2008, 1, 3, 4, 628, 620, 804, 750, 'WN', 448, 'N428WN', 96, 90, 76, 14, 8, 'IND', 'BWI', 515, 3, 17, 0, '', '0', 0, 0, 0, 0, 0)\n",
      "(2008, 1, 3, 4, 926, 930, 1054, 1100, 'WN', 1746, 'N612SW', 88, 90, 78, -6, -4, 'IND', 'BWI', 515, 3, 7, 0, '', '0', 0, 0, 0, 0, 0)\n",
      "(2008, 1, 3, 4, 1829, 1755, 1959, 1925, 'WN', 3920, 'N464WN', 90, 90, 77, 34, 34, 'IND', 'BWI', 515, 3, 10, 0, '', '0', 2, 0, 0, 0, 32)\n"
     ]
    }
   ],
   "source": [
    "import MySQLdb\n",
    "conn=MySQLdb.connect(host=\"localhost\", port=3306, db='ontime',user='web',passwd='1234')\n",
    "\n",
    "cursor=conn.cursor()\n",
    "cursor.execute('select * from ontime limit 5')\n",
    "rows=cursor.fetchall()\n",
    "for row in rows:\n",
    "    print(row)\n",
    "\n",
    "cursor.close()\n",
    "conn.close()"
   ]
  },
  {
   "cell_type": "code",
   "execution_count": 3,
   "metadata": {},
   "outputs": [
    {
     "name": "stdout",
     "output_type": "stream",
     "text": [
      "WN\t10.2763\n",
      "XE\t11.0937\n",
      "YV\t11.5720\n",
      "OH\t11.1605\n",
      "OO\t7.2953\n",
      "UA\t13.7844\n",
      "US\t5.6355\n",
      "DL\t7.8880\n",
      "EV\t11.7114\n",
      "F9\t5.9011\n",
      "FL\t9.1839\n",
      "HA\t0.4511\n",
      "MQ\t10.2998\n",
      "NW\t6.4098\n",
      "9E\t6.5856\n",
      "AA\t12.8999\n",
      "AQ\t-1.3903\n",
      "AS\t6.7527\n",
      "B6\t12.4477\n",
      "CO\t13.0236\n"
     ]
    }
   ],
   "source": [
    "import MySQLdb\n",
    "conn=MySQLdb.connect(host=\"localhost\", port=3306, db='ontime',user='web',passwd='1234')\n",
    "\n",
    "cursor=conn.cursor()\n",
    "cursor.execute('select uniquecarrier, avg(depdelay) from ontime group by uniquecarrier')\n",
    "rows=cursor.fetchall()\n",
    "for row in rows:\n",
    "    print('{}\\t{}'.format(row[0],row[1]))\n",
    "\n",
    "cursor.close()\n",
    "conn.close()"
   ]
  },
  {
   "cell_type": "code",
   "execution_count": 5,
   "metadata": {},
   "outputs": [
    {
     "name": "stdout",
     "output_type": "stream",
     "text": [
      "('AQ', 'Aloha Airlines Inc.', 1908)\n",
      "('HA', 'Hawaiian Airlines Inc.', 18736)\n",
      "('F9', 'Frontier Airlines Inc.', 46836)\n",
      "('AS', 'Alaska Airlines Inc.', 62241)\n",
      "('B6', 'JetBlue Airways', 83202)\n",
      "('9E', 'Pinnacle Airlines Inc.', 90601)\n",
      "('OH', 'Comair Inc.', 96154)\n",
      "('YV', 'Mesa Airlines Inc.', 111004)\n",
      "('FL', 'AirTran Airways Corporation', 117632)\n",
      "('EV', 'Atlantic Southeast Airlines', 122751)\n",
      "('CO', 'Continental Air Lines Inc.', 141680)\n",
      "('NW', 'Northwest Airlines Inc.', 158797)\n",
      "('XE', 'Expressjet Airlines Inc.', 162602)\n",
      "('US', 'US Airways Inc. (Merged with America West 9/05. Reporting for both starting 10/07.)', 167945)\n",
      "('UA', 'United Air Lines Inc.', 200470)\n",
      "('MQ', 'American Eagle Airlines Inc.', 205765)\n",
      "('DL', 'Delta Air Lines Inc.', 209018)\n",
      "('OO', 'Skywest Airlines Inc.', 219367)\n",
      "('AA', 'American Airlines Inc.', 293277)\n",
      "('WN', 'Southwest Airlines Co.', 469518)\n"
     ]
    }
   ],
   "source": [
    "import MySQLdb\n",
    "conn=MySQLdb.connect(host=\"localhost\", port=3306, db='ontime',user='web',passwd='1234')\n",
    "\n",
    "cursor=conn.cursor()\n",
    "cursor.execute('''select a.uniquecarrier, c.description ,COUNT(*) \n",
    "FROM ontime a,carrier c\n",
    "WHERE a.uniquecarrier=c.code AND a.arrdelay > 0\n",
    "GROUP BY a.uniquecarrier,c.description\n",
    "ORDER BY COUNT(*)''')\n",
    "rows=cursor.fetchall()\n",
    "for row in rows:\n",
    "    print(row)\n",
    "\n",
    "cursor.close()\n",
    "conn.close()"
   ]
  },
  {
   "cell_type": "code",
   "execution_count": 6,
   "metadata": {},
   "outputs": [
    {
     "name": "stdout",
     "output_type": "stream",
     "text": [
      "(1, 279427)\n",
      "(2, 278902)\n",
      "(3, 294556)\n",
      "(4, 256142)\n",
      "(5, 254673)\n",
      "(6, 295897)\n",
      "(7, 264630)\n",
      "(8, 239737)\n",
      "(9, 169959)\n",
      "(10, 183582)\n",
      "(11, 181506)\n",
      "(12, 280493)\n"
     ]
    }
   ],
   "source": [
    "import MySQLdb\n",
    "conn=MySQLdb.connect(host=\"localhost\", port=3306, db='ontime',user='web',passwd='1234')\n",
    "\n",
    "cursor=conn.cursor()\n",
    "cursor.execute('''select month, count(*) from ontime \n",
    "where year=2008 and arrdelay > 0\n",
    "group by month''')\n",
    "rows=cursor.fetchall()\n",
    "for row in rows:\n",
    "    print(row)\n",
    "\n",
    "cursor.close()\n",
    "conn.close()"
   ]
  },
  {
   "cell_type": "code",
   "execution_count": 7,
   "metadata": {},
   "outputs": [
    {
     "name": "stdout",
     "output_type": "stream",
     "text": [
      "[1, 2, 3, 4, 5, 6, 7, 8, 9, 10, 11, 12]\n",
      "[279427, 278902, 294556, 256142, 254673, 295897, 264630, 239737, 169959, 183582, 181506, 280493]\n"
     ]
    }
   ],
   "source": [
    "x=list(range(1,13))\n",
    "y=[]\n",
    "for row in rows:\n",
    "    y.append(row[1])\n",
    "print(x)\n",
    "print(y)"
   ]
  },
  {
   "cell_type": "code",
   "execution_count": 8,
   "metadata": {},
   "outputs": [
    {
     "data": {
      "text/plain": [
       "<BarContainer object of 12 artists>"
      ]
     },
     "execution_count": 8,
     "metadata": {},
     "output_type": "execute_result"
    },
    {
     "data": {
      "image/png": "[encoded data removed]",
      "text/plain": [
       "<Figure size 432x288 with 1 Axes>"
      ]
     },
     "metadata": {
      "needs_background": "light"
     },
     "output_type": "display_data"
    }
   ],
   "source": [
    "import pandas as pd\n",
    "%matplotlib inline\n",
    "import matplotlib.pyplot as plt\n",
    "\n",
    "plt.plot(x,y)\n",
    "plt.bar(x,y)"
   ]
  },
  {
   "cell_type": "code",
   "execution_count": 9,
   "metadata": {},
   "outputs": [
    {
     "name": "stdout",
     "output_type": "stream",
     "text": [
      "(1, Decimal('31.8789'))\n",
      "(2, Decimal('32.3587'))\n",
      "(3, Decimal('30.0503'))\n",
      "(4, Decimal('30.9361'))\n",
      "(5, Decimal('33.7131'))\n",
      "(6, Decimal('31.0378'))\n",
      "(7, Decimal('34.8987'))\n"
     ]
    }
   ],
   "source": [
    "import MySQLdb\n",
    "conn=MySQLdb.connect(host=\"localhost\", port=3306, db='ontime',user='web',passwd='1234')\n",
    "cursor=conn.cursor()\n",
    "cursor.execute('''select dayofweek, avg(arrdelay) from ontime \n",
    "where year=2008 and arrdelay > 0\n",
    "group by dayofweek\n",
    "order by dayofweek''')\n",
    "rows=cursor.fetchall()\n",
    "for row in rows:\n",
    "    print(row)\n",
    "\n",
    "cursor.close()\n",
    "conn.close()"
   ]
  },
  {
   "cell_type": "code",
   "execution_count": 10,
   "metadata": {},
   "outputs": [
    {
     "name": "stdout",
     "output_type": "stream",
     "text": [
      "['월', '화', '수', '목', '금', '토', '일']\n",
      "[Decimal('31.8789'), Decimal('32.3587'), Decimal('30.0503'), Decimal('30.9361'), Decimal('33.7131'), Decimal('31.0378'), Decimal('34.8987')]\n"
     ]
    }
   ],
   "source": [
    "x=['월','화','수','목','금','토','일']\n",
    "y=[]\n",
    "for row in rows:\n",
    "    y.append(row[1])\n",
    "print(x)\n",
    "print(y)"
   ]
  },
  {
   "cell_type": "code",
   "execution_count": 11,
   "metadata": {},
   "outputs": [
    {
     "data": {
      "text/plain": [
       "([0, 1, 2, 3, 4, 5, 6],\n",
       " [Text(0, 0, ''),\n",
       "  Text(0, 0, ''),\n",
       "  Text(0, 0, ''),\n",
       "  Text(0, 0, ''),\n",
       "  Text(0, 0, ''),\n",
       "  Text(0, 0, ''),\n",
       "  Text(0, 0, '')])"
      ]
     },
     "execution_count": 11,
     "metadata": {},
     "output_type": "execute_result"
    },
    {
     "data": {
      "image/png": "[encoded data removed]",
      "text/plain": [
       "<Figure size 432x288 with 1 Axes>"
      ]
     },
     "metadata": {
      "needs_background": "light"
     },
     "output_type": "display_data"
    }
   ],
   "source": [
    "import pandas as pd\n",
    "%matplotlib inline\n",
    "import matplotlib.pyplot as plt\n",
    "from matplotlib import rc,font_manager\n",
    "font_name=font_manager.FontProperties(fname='c:/windows/fonts/gulim.ttc').get_name()\n",
    "rc('font',family=font_name)\n",
    "\n",
    "plt.plot(x,y)\n",
    "plt.bar(x,y)\n",
    "plt.xticks(rotation=0)"
   ]
  },
  {
   "cell_type": "code",
   "execution_count": 13,
   "metadata": {},
   "outputs": [
    {
     "name": "stdout",
     "output_type": "stream",
     "text": [
      "2202\n",
      "-28.0000\n"
     ]
    }
   ],
   "source": [
    "import MySQLdb\n",
    "conn=MySQLdb.connect(host=\"localhost\", port=3306, db='ontime',user='web',passwd='1234')\n",
    "\n",
    "cursor=conn.cursor()\n",
    "cursor.execute('''select CRSDepTime, avg(arrdelay) arrdelay from ontime\n",
    "where month=10 and dayofweek=1\n",
    "group by CRSDepTime\n",
    "order by avg(arrdelay)\n",
    "limit 1''')\n",
    "rows=cursor.fetchone()\n",
    "for row in rows:\n",
    "    print(row)\n",
    "\n",
    "cursor.close()\n",
    "conn.close()"
   ]
  },
  {
   "cell_type": "code",
   "execution_count": null,
   "metadata": {},
   "outputs": [],
   "source": []
  }
 ],
 "metadata": {
  "interpreter": {
   "hash": "cef9e06bb236b2a8629b07e87a04b187b952a0f661eff5533360a155783f0c33"
  },
  "kernelspec": {
   "display_name": "Python 3.8.8 64-bit ('base': conda)",
   "language": "python",
   "name": "python3"
  },
  "language_info": {
   "codemirror_mode": {
    "name": "ipython",
    "version": 3
   },
   "file_extension": ".py",
   "mimetype": "text/x-python",
   "name": "python",
   "nbconvert_exporter": "python",
   "pygments_lexer": "ipython3",
   "version": "3.8.8"
  },
  "orig_nbformat": 4
 },
 "nbformat": 4,
 "nbformat_minor": 2
}
