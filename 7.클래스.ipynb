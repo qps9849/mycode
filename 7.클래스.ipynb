{
 "cells": [
  {
   "cell_type": "code",
   "execution_count": 1,
   "metadata": {},
   "outputs": [
    {
     "name": "stdout",
     "output_type": "stream",
     "text": [
      "<class 'int'>\n",
      "<class 'str'>\n"
     ]
    }
   ],
   "source": [
    "a=1\n",
    "print(type(a))\n",
    "b='a'\n",
    "print(type(b))"
   ]
  },
  {
   "cell_type": "code",
   "execution_count": 3,
   "metadata": {},
   "outputs": [],
   "source": [
    "import math\n",
    "\n",
    "class MyCircle:\n",
    "    def set_r(self,r):\n",
    "        self.r=r\n",
    "    def length(self):\n",
    "        self.a=2 * math.pi * self.r\n",
    "    def area(self):\n",
    "        self.b=math.pi*self.r*self.r\n",
    "    def disp(self):\n",
    "        print('반지름:{}, 둘레:{:.2f}, 넓이:{:.2f}'.format(self.r,self.a,self.b))"
   ]
  },
  {
   "cell_type": "code",
   "execution_count": 4,
   "metadata": {},
   "outputs": [
    {
     "name": "stdout",
     "output_type": "stream",
     "text": [
      "반지름:50, 둘레:314.16, 넓이:7853.98\n"
     ]
    }
   ],
   "source": [
    "a=MyCircle()\n",
    "a.set_r(50)\n",
    "a.length()\n",
    "a.area()\n",
    "a.disp()"
   ]
  },
  {
   "cell_type": "code",
   "execution_count": 5,
   "metadata": {},
   "outputs": [],
   "source": [
    "class Person:\n",
    "    name=''\n",
    "    age=0\n",
    "    height=0"
   ]
  },
  {
   "cell_type": "code",
   "execution_count": 6,
   "metadata": {},
   "outputs": [
    {
     "name": "stdout",
     "output_type": "stream",
     "text": [
      "이름:김철수 나이:20 키:187.8\n"
     ]
    }
   ],
   "source": [
    "p1=Person()\n",
    "p1.name='김철수'\n",
    "p1.age=20\n",
    "p1.height=187.8\n",
    "print('이름:{} 나이:{} 키:{}'.format(p1.name,p1.age,p1.height))"
   ]
  },
  {
   "cell_type": "code",
   "execution_count": 7,
   "metadata": {},
   "outputs": [],
   "source": [
    "class Person:\n",
    "    name=''\n",
    "    age=0\n",
    "    height=0\n",
    "    def disp(self):\n",
    "        print('이름:{} 나이:{} 키:{}'.format(self.name,self.age,self.height))"
   ]
  },
  {
   "cell_type": "code",
   "execution_count": 9,
   "metadata": {},
   "outputs": [
    {
     "name": "stdout",
     "output_type": "stream",
     "text": [
      "이름:김철수 나이:-40 키:187.7\n"
     ]
    }
   ],
   "source": [
    "p2=Person()\n",
    "p2.name='김철수'\n",
    "p2.age=-40\n",
    "p2.height=187.7\n",
    "p2.disp()"
   ]
  },
  {
   "cell_type": "code",
   "execution_count": 10,
   "metadata": {},
   "outputs": [],
   "source": [
    "class Person:\n",
    "    name=''\n",
    "    age=0\n",
    "    height=0\n",
    "    def set_age(self,age):\n",
    "        if age>100 or age <0:\n",
    "            self.age=int(input('나이를 정확히 입력하세요:'))\n",
    "        else: \n",
    "            self.age=age\n",
    "    def disp(self):\n",
    "        print('이름:{} 나이:{} 키:{}'.format(self.name,self.age,self.height))"
   ]
  },
  {
   "cell_type": "code",
   "execution_count": 11,
   "metadata": {},
   "outputs": [
    {
     "name": "stdout",
     "output_type": "stream",
     "text": [
      "이름:김철수 나이:20 키:187.7\n"
     ]
    }
   ],
   "source": [
    "p3=Person()\n",
    "p3.name='김철수'\n",
    "p3.set_age(-40)\n",
    "p3.height=187.7\n",
    "p3.disp()"
   ]
  },
  {
   "cell_type": "code",
   "execution_count": 12,
   "metadata": {},
   "outputs": [],
   "source": [
    "class Emp:\n",
    "    name=\"\"\n",
    "    salary=0\n",
    "    bonus=0\n",
    "    money=0"
   ]
  },
  {
   "cell_type": "code",
   "execution_count": 13,
   "metadata": {},
   "outputs": [
    {
     "name": "stdout",
     "output_type": "stream",
     "text": [
      "이름:김철수 월급:500 보너스:300 연봉:6300\n"
     ]
    }
   ],
   "source": [
    "e1=Emp()\n",
    "e1.name='김철수'\n",
    "e1.salary=500\n",
    "e1.bonus=300\n",
    "e1.money=e1.salary*12+e1.bonus\n",
    "print('이름:{} 월급:{} 보너스:{} 연봉:{}'.format\n",
    "(e1.name,e1.salary,e1.bonus,e1.money))"
   ]
  },
  {
   "cell_type": "code",
   "execution_count": 14,
   "metadata": {},
   "outputs": [
    {
     "name": "stdout",
     "output_type": "stream",
     "text": [
      "이름:김철수 월급:500 보너스:300 연봉:6300\n"
     ]
    }
   ],
   "source": [
    "class Emp:\n",
    "    name=\"\"\n",
    "    salary=0\n",
    "    bonus=0\n",
    "    money=0\n",
    "    def disp(self):\n",
    "        print('이름:{} 월급:{} 보너스:{} 연봉:{}'.format\n",
    "        (self.name,self.salary,self.bonus,self.money))\n",
    "\n",
    "e2=Emp()\n",
    "e2.name='김철수'\n",
    "e2.salary=500\n",
    "e2.bonus=300\n",
    "e2.money=e1.salary*12+e1.bonus\n",
    "e2.disp()"
   ]
  },
  {
   "cell_type": "code",
   "execution_count": 15,
   "metadata": {},
   "outputs": [
    {
     "name": "stdout",
     "output_type": "stream",
     "text": [
      "이름:김철수 월급:500 보너스:700 연봉:6700\n"
     ]
    }
   ],
   "source": [
    "class Emp:\n",
    "    name=''\n",
    "    salary=0\n",
    "    bonus=0\n",
    "    money=0\n",
    "\n",
    "    def __init__(self,name,salary,bonus):\n",
    "        self.name=name\n",
    "        self.salary=salary\n",
    "        self.bonus=bonus\n",
    "    def disp(self):\n",
    "        print('이름:{} 월급:{} 보너스:{} 연봉:{}'.format\n",
    "        (self.name,self.salary,self.bonus,self.money))\n",
    "\n",
    "e3=Emp('김철수',500,700)\n",
    "e3.money=e3.salary*12+e3.bonus\n",
    "e3.disp()"
   ]
  },
  {
   "cell_type": "code",
   "execution_count": 16,
   "metadata": {},
   "outputs": [],
   "source": [
    "class Point:\n",
    "    name=''\n",
    "    kor=0\n",
    "    eng=0\n",
    "    mat=0\n",
    "    tot=0\n",
    "    avg=0\n",
    "    grade=''"
   ]
  },
  {
   "cell_type": "code",
   "execution_count": 30,
   "metadata": {},
   "outputs": [
    {
     "ename": "TypeError",
     "evalue": "__init__() missing 4 required positional arguments: 'name', 'kor', 'eng', and 'mat'",
     "output_type": "error",
     "traceback": [
      "\u001b[1;31m---------------------------------------------------------------------------\u001b[0m",
      "\u001b[1;31mTypeError\u001b[0m                                 Traceback (most recent call last)",
      "\u001b[1;32m<ipython-input-30-9d7ea6624d4b>\u001b[0m in \u001b[0;36m<module>\u001b[1;34m\u001b[0m\n\u001b[1;32m----> 1\u001b[1;33m \u001b[0mp1\u001b[0m\u001b[1;33m=\u001b[0m\u001b[0mPoint\u001b[0m\u001b[1;33m(\u001b[0m\u001b[1;33m)\u001b[0m\u001b[1;33m\u001b[0m\u001b[1;33m\u001b[0m\u001b[0m\n\u001b[0m\u001b[0;32m      2\u001b[0m \u001b[0mp1\u001b[0m\u001b[1;33m.\u001b[0m\u001b[0mname\u001b[0m\u001b[1;33m=\u001b[0m\u001b[1;34m'김철수'\u001b[0m\u001b[1;33m\u001b[0m\u001b[1;33m\u001b[0m\u001b[0m\n\u001b[0;32m      3\u001b[0m \u001b[0mp1\u001b[0m\u001b[1;33m.\u001b[0m\u001b[0mkor\u001b[0m\u001b[1;33m=\u001b[0m\u001b[1;36m80\u001b[0m\u001b[1;33m\u001b[0m\u001b[1;33m\u001b[0m\u001b[0m\n\u001b[0;32m      4\u001b[0m \u001b[0mp1\u001b[0m\u001b[1;33m.\u001b[0m\u001b[0meng\u001b[0m\u001b[1;33m=\u001b[0m\u001b[1;36m90\u001b[0m\u001b[1;33m\u001b[0m\u001b[1;33m\u001b[0m\u001b[0m\n\u001b[0;32m      5\u001b[0m \u001b[0mp1\u001b[0m\u001b[1;33m.\u001b[0m\u001b[0mmat\u001b[0m\u001b[1;33m=\u001b[0m\u001b[1;36m85\u001b[0m\u001b[1;33m\u001b[0m\u001b[1;33m\u001b[0m\u001b[0m\n",
      "\u001b[1;31mTypeError\u001b[0m: __init__() missing 4 required positional arguments: 'name', 'kor', 'eng', and 'mat'"
     ]
    }
   ],
   "source": [
    "p1=Point()\n",
    "p1.name='김철수'\n",
    "p1.kor=80\n",
    "p1.eng=90\n",
    "p1.mat=85\n",
    "p1.tot=p1.kor+p1.eng+p1.mat\n",
    "p1.avg=p1.tot/3\n",
    "if 90<= p1.avg <=100:\n",
    "    p1.grade='A'\n",
    "elif 80<= p1.avg <=90:\n",
    "    p1.grade='B'\n",
    "elif 70<= p1.avg <=80:\n",
    "    p1.grade='C'\n",
    "elif 60<= p1.avg <=70:\n",
    "    p1.grade='D'\n",
    "else:\n",
    "    p1.grage='F'\n",
    "\n",
    "print('이름\\t국어\\t영어\\t수학\\t총점\\t평균\\t등급')\n",
    "print(f'{p1.name}\\t{p1.kor}\\t{p1.eng}\\t{p1.mat}\\t{p1.tot}\\t{p1.avg:.1f}\\t{p1.grade}')"
   ]
  },
  {
   "cell_type": "code",
   "execution_count": 32,
   "metadata": {},
   "outputs": [
    {
     "name": "stdout",
     "output_type": "stream",
     "text": [
      "이름\t국어\t영어\t수학\t총점\t평균\t등급\n",
      "김철수\t88\t99\t100\t287\t95.7\tA\n"
     ]
    }
   ],
   "source": [
    "class Point:\n",
    "    name=''\n",
    "    kor=0\n",
    "    eng=0\n",
    "    mat=0\n",
    "    tot=0\n",
    "    avg=0\n",
    "    grade=''\n",
    "    def __init__(self,name,kor,eng,mat):\n",
    "        self.name=name\n",
    "        self.kor=kor\n",
    "        self.eng=eng\n",
    "        self.mat=mat\n",
    "p2=Point('김철수',88,99,100)\n",
    "p2.tot=p2.kor+p2.eng+p2.mat\n",
    "p2.avg=p2.tot/3\n",
    "if 90<= p2.avg <=100:\n",
    "    p2.grade='A'\n",
    "elif 80<= p2.avg <=90:\n",
    "    p2.grade='B'\n",
    "elif 70<= p2.avg <=80:\n",
    "    p2.grade='C'\n",
    "elif 60<= p2.avg <=70:\n",
    "    p2.grade='D'\n",
    "else:\n",
    "    p2.grage='F'\n",
    "print('이름\\t국어\\t영어\\t수학\\t총점\\t평균\\t등급')\n",
    "print(f'{p2.name}\\t{p2.kor}\\t{p2.eng}\\t{p2.mat}\\t{p2.tot}\\t{p2.avg:.1f}\\t{p2.grade}')\n"
   ]
  },
  {
   "cell_type": "code",
   "execution_count": 33,
   "metadata": {},
   "outputs": [
    {
     "name": "stdout",
     "output_type": "stream",
     "text": [
      "이름\t국어\t영어\t수학\t총점\t평균\t등급\n",
      "김철수\t88\t99\t100\t0\t0.0\t\n"
     ]
    }
   ],
   "source": [
    "class Point:\n",
    "    name=''\n",
    "    kor=0\n",
    "    eng=0\n",
    "    mat=0\n",
    "    tot=0\n",
    "    avg=0\n",
    "    grade=''\n",
    "    def __init__(self,name,kor,eng,mat):\n",
    "        self.name=name\n",
    "        self.kor=kor\n",
    "        self.eng=eng\n",
    "        self.mat=mat\n",
    "    def calc(self):\n",
    "        self.tot=self.kor+self.eng+self.mat\n",
    "        self.avg=self.tot/3\n",
    "        if 90<= self.avg <=100:\n",
    "            self.grade='A'\n",
    "        elif 80<= self.avg <=90:\n",
    "            self.grade='B'\n",
    "        elif 70<= self.avg <=80:\n",
    "            self.grade='C'\n",
    "        elif 60<= self.avg <=70:\n",
    "            self.grade='D'\n",
    "        else:\n",
    "            self.grage='F'\n",
    "\n",
    "p3=Point('김철수',88,99,100)\n",
    "p3.calc()\n",
    "print('이름\\t국어\\t영어\\t수학\\t총점\\t평균\\t등급')\n",
    "print(f'{p3.name}\\t{p3.kor}\\t{p3.eng}\\t{p3.mat}\\t{p3.tot}\\t{p3.avg:.1f}\\t{p3.grade}')\n"
   ]
  },
  {
   "cell_type": "code",
   "execution_count": 34,
   "metadata": {},
   "outputs": [
    {
     "name": "stdout",
     "output_type": "stream",
     "text": [
      "이름\t국어\t영어\t수학\t총점\t평균\t등급\n",
      "김철수\t88\t99\t100\t287\t95.7\tA\n"
     ]
    }
   ],
   "source": [
    "class Point:\n",
    "    name=''\n",
    "    kor=0\n",
    "    eng=0\n",
    "    mat=0\n",
    "    tot=0\n",
    "    avg=0\n",
    "    grade=''\n",
    "    def __init__(self,name,kor,eng,mat):\n",
    "        self.name=name\n",
    "        self.kor=kor\n",
    "        self.eng=eng\n",
    "        self.mat=mat\n",
    "    def calc(self):\n",
    "        self.tot=self.kor+self.eng+self.mat\n",
    "        self.avg=self.tot/3\n",
    "        if 90<= self.avg <=100:\n",
    "            self.grade='A'\n",
    "        elif 80<= self.avg <=90:\n",
    "            self.grade='B'\n",
    "        elif 70<= self.avg <=80:\n",
    "            self.grade='C'\n",
    "        elif 60<= self.avg <=70:\n",
    "            self.grade='D'\n",
    "        else:\n",
    "            self.grage='F'\n",
    "    def disp(self):\n",
    "        print('이름\\t국어\\t영어\\t수학\\t총점\\t평균\\t등급')\n",
    "        print(f'{self.name}\\t{self.kor}\\t{self.eng}\\t{self.mat}\\t{self.tot}\\t{self.avg:.1f}\\t{self.grade}')\n",
    "\n",
    "p4=Point('김철수',88,99,100)\n",
    "p4.calc()\n",
    "p4.disp()"
   ]
  },
  {
   "cell_type": "code",
   "execution_count": 35,
   "metadata": {},
   "outputs": [],
   "source": [
    "class Book:\n",
    "    def __init__(self,name,price):\n",
    "        self.name=name\n",
    "        self.price=price\n",
    "    def disp(self):\n",
    "        print('{}\\t{}'.format(self.name,self.price))"
   ]
  },
  {
   "cell_type": "code",
   "execution_count": 36,
   "metadata": {},
   "outputs": [],
   "source": [
    "class BookSale(Book):\n",
    "    def __init__(self,name,price,amount):\n",
    "        Book.__init__(self,name,price)\n",
    "        self.amount=amount\n",
    "    def calc(self):\n",
    "        self.money=self.price*self.amount\n",
    "        if 1<=self.amount<=1000:\n",
    "            self.fee=self.money*0.01\n",
    "        elif 1001<=self.amount<=3000:\n",
    "            self.fee=self.money*0.03\n",
    "        elif 3001<= self.amount:\n",
    "            self.fee=self.money*0.05\n",
    "    def disp(self):\n",
    "        print(f'{self.name}\\t{self.price}\\t{self.amount}\\t{self.money}\\t{self.fee}')"
   ]
  },
  {
   "cell_type": "code",
   "execution_count": 37,
   "metadata": {},
   "outputs": [
    {
     "name": "stdout",
     "output_type": "stream",
     "text": [
      "Java\t50000\t1000\t50000000\t500000.0\n",
      "C\t40000\t2500\t100000000\t3000000.0\n",
      "Python\t35000\t3500\t122500000\t6125000.0\n"
     ]
    }
   ],
   "source": [
    "b1=BookSale('Java',50000,1000)\n",
    "b1.calc()\n",
    "b1.disp()\n",
    "\n",
    "b2=BookSale('C',40000,2500)\n",
    "b2.calc()\n",
    "b2.disp()\n",
    "\n",
    "b3=BookSale('Python',35000,3500)\n",
    "b3.calc()\n",
    "b3.disp()"
   ]
  },
  {
   "cell_type": "code",
   "execution_count": null,
   "metadata": {},
   "outputs": [],
   "source": []
  }
 ],
 "metadata": {
  "interpreter": {
   "hash": "cef9e06bb236b2a8629b07e87a04b187b952a0f661eff5533360a155783f0c33"
  },
  "kernelspec": {
   "display_name": "Python 3.8.8 64-bit ('base': conda)",
   "language": "python",
   "name": "python3"
  },
  "language_info": {
   "codemirror_mode": {
    "name": "ipython",
    "version": 3
   },
   "file_extension": ".py",
   "mimetype": "text/x-python",
   "name": "python",
   "nbconvert_exporter": "python",
   "pygments_lexer": "ipython3",
   "version": "3.8.8"
  },
  "orig_nbformat": 4
 },
 "nbformat": 4,
 "nbformat_minor": 2
}
