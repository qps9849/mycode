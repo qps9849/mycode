{
 "cells": [
  {
   "cell_type": "code",
   "execution_count": 1,
   "metadata": {},
   "outputs": [],
   "source": [
    "from sklearn.model_selection import train_test_split\n",
    "from sklearn.datasets import make_moons\n",
    "\n",
    "X,y = make_moons(n_samples=500, noise=0.30,random_state=42)\n",
    "X_train,X_test,y_train,y_test=train_test_split(X,y,random_state=42)"
   ]
  },
  {
   "cell_type": "code",
   "execution_count": 2,
   "metadata": {},
   "outputs": [
    {
     "data": {
      "text/plain": [
       "VotingClassifier(estimators=[('lr', LogisticRegression(random_state=42)),\n",
       "                             ('rf',\n",
       "                              RandomForestClassifier(n_estimators=10,\n",
       "                                                     random_state=42)),\n",
       "                             ('svc', SVC(random_state=42))])"
      ]
     },
     "execution_count": 2,
     "metadata": {},
     "output_type": "execute_result"
    }
   ],
   "source": [
    "from sklearn.ensemble import RandomForestClassifier\n",
    "from sklearn.ensemble import VotingClassifier\n",
    "from sklearn.linear_model import LogisticRegression\n",
    "from sklearn.svm import SVC\n",
    "\n",
    "log_clf=LogisticRegression(random_state=42)\n",
    "rnd_clf=RandomForestClassifier(n_estimators=10,random_state=42)\n",
    "svm_clf=SVC(random_state=42)\n",
    "voting_clf=VotingClassifier(estimators=[('lr',log_clf),('rf',rnd_clf),('svc',svm_clf)],voting='hard')\n",
    "voting_clf.fit(X_train,y_train)"
   ]
  },
  {
   "cell_type": "code",
   "execution_count": 3,
   "metadata": {},
   "outputs": [
    {
     "name": "stdout",
     "output_type": "stream",
     "text": [
      "LogisticRegression 0.864\n",
      "RandomForestClassifier 0.872\n",
      "SVC 0.896\n",
      "VotingClassifier 0.904\n"
     ]
    }
   ],
   "source": [
    "from sklearn.metrics import accuracy_score\n",
    "\n",
    "for clf in (log_clf,rnd_clf,svm_clf,voting_clf):\n",
    "    clf.fit(X_train,y_train)\n",
    "    y_pred=clf.predict(X_test)\n",
    "    print(clf.__class__.__name__,accuracy_score(y_test,y_pred))"
   ]
  },
  {
   "cell_type": "code",
   "execution_count": 5,
   "metadata": {},
   "outputs": [
    {
     "name": "stdout",
     "output_type": "stream",
     "text": [
      "logit: [0],rf: [1],svm: [1],투표결과: [1]\n",
      "logit: [0],rf: [0],svm: [0],투표결과: [0]\n",
      "logit: [0],rf: [0],svm: [0],투표결과: [0]\n",
      "logit: [0],rf: [0],svm: [0],투표결과: [0]\n",
      "logit: [0],rf: [1],svm: [0],투표결과: [0]\n",
      "logit: [0],rf: [0],svm: [0],투표결과: [0]\n",
      "logit: [1],rf: [1],svm: [1],투표결과: [1]\n",
      "logit: [1],rf: [0],svm: [1],투표결과: [1]\n",
      "logit: [1],rf: [1],svm: [1],투표결과: [1]\n",
      "logit: [1],rf: [1],svm: [1],투표결과: [1]\n",
      "logit: [0],rf: [0],svm: [0],투표결과: [0]\n",
      "logit: [0],rf: [0],svm: [0],투표결과: [0]\n",
      "logit: [1],rf: [0],svm: [0],투표결과: [0]\n",
      "logit: [0],rf: [0],svm: [0],투표결과: [0]\n"
     ]
    }
   ],
   "source": [
    "for i in range(50,120,5):\n",
    "    print('logit:',log_clf.predict(X_test[i].reshape(-1,2)),end=\",\")\n",
    "    print('rf:',rnd_clf.predict(X_test[i].reshape(-1,2)),end=\",\")\n",
    "    print('svm:',svm_clf.predict(X_test[i].reshape(-1,2)),end=\",\")\n",
    "    print('투표결과:',voting_clf.predict(X_test[i].reshape(-1,2)))\n",
    "    "
   ]
  },
  {
   "cell_type": "code",
   "execution_count": 8,
   "metadata": {},
   "outputs": [
    {
     "name": "stdout",
     "output_type": "stream",
     "text": [
      "LogisticRegression 0.864\n",
      "RandomForestClassifier 0.872\n",
      "SVC 0.896\n",
      "VotingClassifier 0.912\n"
     ]
    }
   ],
   "source": [
    "log_clf=LogisticRegression(random_state=45)\n",
    "rnd_clf=RandomForestClassifier(n_estimators=10,random_state=45)\n",
    "svm_clf=SVC(probability=True,random_state=45)\n",
    "voting_clf=VotingClassifier(estimators=[('lr',log_clf),('rf',rnd_clf),('svc',svm_clf)],voting='soft')\n",
    "voting_clf.fit(X_train,y_train)\n",
    "\n",
    "for clf in (log_clf,rnd_clf,svm_clf,voting_clf):\n",
    "    clf.fit(X_train,y_train)\n",
    "    y_pred=clf.predict(X_test)\n",
    "    print(clf.__class__.__name__,accuracy_score(y_test,y_pred))"
   ]
  },
  {
   "cell_type": "code",
   "execution_count": 10,
   "metadata": {},
   "outputs": [
    {
     "name": "stdout",
     "output_type": "stream",
     "text": [
      "logit: [[0.67105751 0.32894249]],rf: [[0. 1.]],svm: [[0.16212751 0.83787249]],투표결과: [[0.27772834 0.72227166]]\n",
      "logit: [[0.94711204 0.05288796]],rf: [[1. 0.]],svm: [[0.98772788 0.01227212]],투표결과: [[0.97827997 0.02172003]]\n",
      "logit: [[0.96496435 0.03503565]],rf: [[1. 0.]],svm: [[0.97091195 0.02908805]],투표결과: [[0.97862543 0.02137457]]\n",
      "logit: [[0.89421309 0.10578691]],rf: [[1. 0.]],svm: [[0.99273066 0.00726934]],투표결과: [[0.96231458 0.03768542]]\n",
      "logit: [[0.50290369 0.49709631]],rf: [[0.4 0.6]],svm: [[0.93876697 0.06123303]],투표결과: [[0.61389022 0.38610978]]\n",
      "logit: [[0.96213767 0.03786233]],rf: [[1. 0.]],svm: [[0.95469857 0.04530143]],투표결과: [[0.97227875 0.02772125]]\n",
      "logit: [[0.11831104 0.88168896]],rf: [[0. 1.]],svm: [[0.0077023 0.9922977]],투표결과: [[0.04200445 0.95799555]]\n",
      "logit: [[0.08196376 0.91803624]],rf: [[0. 1.]],svm: [[0.09941629 0.90058371]],투표결과: [[0.06046002 0.93953998]]\n",
      "logit: [[0.02615125 0.97384875]],rf: [[0. 1.]],svm: [[0.00746312 0.99253688]],투표결과: [[0.01120479 0.98879521]]\n",
      "logit: [[0.07407762 0.92592238]],rf: [[0. 1.]],svm: [[0.02249482 0.97750518]],투표결과: [[0.03219081 0.96780919]]\n",
      "logit: [[0.98982679 0.01017321]],rf: [[1. 0.]],svm: [[0.97416656 0.02583344]],투표결과: [[0.98799778 0.01200222]]\n",
      "logit: [[0.9689599 0.0310401]],rf: [[1. 0.]],svm: [[0.95836813 0.04163187]],투표결과: [[0.97577601 0.02422399]]\n",
      "logit: [[0.33720895 0.66279105]],rf: [[0.3 0.7]],svm: [[0.46101257 0.53898743]],투표결과: [[0.36607384 0.63392616]]\n",
      "logit: [[0.97654729 0.02345271]],rf: [[0.9 0.1]],svm: [[0.96561899 0.03438101]],투표결과: [[0.94738876 0.05261124]]\n"
     ]
    }
   ],
   "source": [
    "for i in range(50,120,5):\n",
    "    print('logit:',log_clf.predict_proba(X_test[i].reshape(-1,2)),end=\",\")\n",
    "    print('rf:',rnd_clf.predict_proba(X_test[i].reshape(-1,2)),end=\",\")\n",
    "    print('svm:',svm_clf.predict_proba(X_test[i].reshape(-1,2)),end=\",\")\n",
    "    print('투표결과:',voting_clf.predict_proba(X_test[i].reshape(-1,2)))"
   ]
  },
  {
   "cell_type": "code",
   "execution_count": 11,
   "metadata": {},
   "outputs": [],
   "source": [
    "from sklearn.datasets import fetch_openml\n",
    "mnist=fetch_openml('mnist_784',version=1)"
   ]
  },
  {
   "cell_type": "code",
   "execution_count": 12,
   "metadata": {},
   "outputs": [],
   "source": [
    "from sklearn.model_selection import train_test_split\n",
    "X_train_val, X_test,y_train_val,t_test=train_test_split(mnist.data, mnist.target,\n",
    "test_size=10000,random_state=42)\n",
    "X_train,X_val,y_train,y_val=train_test_split(X_train_val,y_train_val,\n",
    "test_size=10000,random_state=42)"
   ]
  },
  {
   "cell_type": "code",
   "execution_count": 13,
   "metadata": {},
   "outputs": [
    {
     "name": "stdout",
     "output_type": "stream",
     "text": [
      "훈련 예측기: RandomForestClassifier(n_estimators=10, random_state=42)\n",
      "훈련 예측기: ExtraTreesClassifier(n_estimators=10, random_state=42)\n",
      "훈련 예측기: SVC(max_iter=10000, random_state=42)\n",
      "훈련 예측기: MLPClassifier(random_state=42)\n"
     ]
    },
    {
     "data": {
      "text/plain": [
       "[0.802, 0.794, 0.906, 0.813]"
      ]
     },
     "execution_count": 13,
     "metadata": {},
     "output_type": "execute_result"
    }
   ],
   "source": [
    "from sklearn.ensemble import RandomForestClassifier,ExtraTreesClassifier\n",
    "from sklearn.neural_network import MLPClassifier\n",
    "\n",
    "random_forest_clf=RandomForestClassifier(n_estimators=10,random_state=42)\n",
    "extra_trees_clf=ExtraTreesClassifier(n_estimators=10,random_state=42)\n",
    "svm_clf=SVC(max_iter=10000,random_state=42)\n",
    "mlp_clf=MLPClassifier(random_state=42)\n",
    "\n",
    "estimators=[random_forest_clf, extra_trees_clf, svm_clf,mlp_clf]\n",
    "for estimator in estimators:\n",
    "    print(\"훈련 예측기:\", estimator)\n",
    "    estimator.fit(X_train[:1000],y_train[:1000])\n",
    "[estimator.score(X_val[:1000],y_val[:1000]) for estimator in estimators ]\n"
   ]
  },
  {
   "cell_type": "code",
   "execution_count": 14,
   "metadata": {},
   "outputs": [],
   "source": [
    "named_estimators=[\n",
    "    (\"random_forest_clf\", random_forest_clf),\n",
    "    (\"extra_trees_clf\",extra_trees_clf),\n",
    "    (\"svm_clf\",svm_clf),\n",
    "    (\"mlp_clf\",mlp_clf),\n",
    "]"
   ]
  },
  {
   "cell_type": "code",
   "execution_count": 15,
   "metadata": {},
   "outputs": [],
   "source": [
    "voting_clf=VotingClassifier(named_estimators)"
   ]
  },
  {
   "cell_type": "code",
   "execution_count": 19,
   "metadata": {},
   "outputs": [
    {
     "data": {
      "text/plain": [
       "VotingClassifier(estimators=[('random_forest_clf',\n",
       "                              RandomForestClassifier(n_estimators=10,\n",
       "                                                     random_state=42)),\n",
       "                             ('extra_trees_clf',\n",
       "                              ExtraTreesClassifier(n_estimators=10,\n",
       "                                                   random_state=42)),\n",
       "                             ('svm_clf', SVC(max_iter=10000, random_state=42)),\n",
       "                             ('mlp_clf', MLPClassifier(random_state=42))])"
      ]
     },
     "execution_count": 19,
     "metadata": {},
     "output_type": "execute_result"
    }
   ],
   "source": [
    "voting_clf.fit(X_train[:1000],y_train[:1000])"
   ]
  },
  {
   "cell_type": "code",
   "execution_count": 20,
   "metadata": {},
   "outputs": [
    {
     "data": {
      "text/plain": [
       "0.873"
      ]
     },
     "execution_count": 20,
     "metadata": {},
     "output_type": "execute_result"
    }
   ],
   "source": [
    "voting_clf.score(X_val[:1000], y_val[:1000])"
   ]
  },
  {
   "cell_type": "code",
   "execution_count": 48,
   "metadata": {},
   "outputs": [],
   "source": [
    "from sklearn.ensemble import BaggingClassifier\n",
    "from sklearn.tree import DecisionTreeClassifier\n",
    "from sklearn.metrics import accuracy_score\n",
    "\n",
    "X,y=make_moons(n_samples=500, noise=0.3, random_state=10)\n",
    "X_train, X_test, y_train,y_test=train_test_split(X,y,random_state=10)\n",
    "\n"
   ]
  },
  {
   "cell_type": "code",
   "execution_count": 49,
   "metadata": {},
   "outputs": [
    {
     "name": "stdout",
     "output_type": "stream",
     "text": [
      "0.84\n"
     ]
    }
   ],
   "source": [
    "bag_clf = BaggingClassifier(\n",
    "DecisionTreeClassifier(random_state=42),n_estimators=500,\n",
    "max_samples=100, bootstrap=True, n_jobs=-1,random_state=42)\n",
    "bag_clf.fit(X_train, y_train)\n",
    "y_pred = bag_clf.predict(X_test)\n",
    "print(accuracy_score(y_test, y_pred))"
   ]
  },
  {
   "cell_type": "code",
   "execution_count": 30,
   "metadata": {},
   "outputs": [
    {
     "name": "stdout",
     "output_type": "stream",
     "text": [
      "0.856\n"
     ]
    }
   ],
   "source": [
    "tree_clf=DecisionTreeClassifier(random_state=42)\n",
    "tree_clf.fit(X_train,y_train)\n",
    "y_pred_tree=tree_clf.predict(X_test)\n",
    "print(accuracy_score(y_test,y_pred_tree))"
   ]
  },
  {
   "cell_type": "code",
   "execution_count": 32,
   "metadata": {},
   "outputs": [
    {
     "data": {
      "image/png": "[encoded data removed]",
      "text/plain": [
       "<Figure size 792x288 with 2 Axes>"
      ]
     },
     "metadata": {
      "needs_background": "light"
     },
     "output_type": "display_data"
    }
   ],
   "source": [
    "%matplotlib inline\n",
    "import matplotlib.pyplot as plt \n",
    "import numpy as np \n",
    "from matplotlib.colors import ListedColormap\n",
    "\n",
    "def plot_decision_boundary(clf, X, y, axes=[-1.5, 2.5, -1, 1.5], alpha=0.5, contour=True):\n",
    "    x1s = np.linspace(axes[0], axes[1], 100)\n",
    "    x2s = np.linspace(axes[2], axes[3], 100)\n",
    "    x1, x2 = np.meshgrid(x1s, x2s)\n",
    "    X_new = np.c_[x1.ravel(), x2.ravel()]\n",
    "    y_pred = clf.predict(X_new).reshape(x1.shape)\n",
    "    custom_cmap = ListedColormap(['#fafab0','#9898ff','#a0faa0'])\n",
    "    plt.contourf(x1, x2, y_pred, alpha=0.3, cmap=custom_cmap)\n",
    "    if contour:\n",
    "        custom_cmap2 = ListedColormap(['#7d7d58','#4c4c7f','#507d50'])\n",
    "        plt.contour(x1, x2, y_pred, cmap=custom_cmap2, alpha=0.8)\n",
    "    plt.plot(X[:, 0][y==0], X[:, 1][y==0], \"yo\", alpha=alpha)\n",
    "    plt.plot(X[:, 0][y==1], X[:, 1][y==1], \"bs\", alpha=alpha)\n",
    "    plt.axis(axes)\n",
    "    plt.xlabel(r\"$x_1$\", fontsize=18)\n",
    "    plt.ylabel(r\"$x_2$\", fontsize=18, rotation=0)\n",
    "\n",
    "plt.figure(figsize=(11,4))\n",
    "plt.subplot(121)\n",
    "plot_decision_boundary(tree_clf, X, y)\n",
    "plt.title(\"Single model\", fontsize=14)\n",
    "plt.subplot(122)\n",
    "plot_decision_boundary(bag_clf, X, y)\n",
    "plt.title(\"Bagging model\", fontsize=14)\n",
    "plt.show()\n",
    "#단일모델은 과적합화 된 모형이고 오른쪽의 배깅모형은 일반화된 모형    "
   ]
  },
  {
   "cell_type": "code",
   "execution_count": 50,
   "metadata": {},
   "outputs": [
    {
     "data": {
      "text/plain": [
       "0.84"
      ]
     },
     "execution_count": 50,
     "metadata": {},
     "output_type": "execute_result"
    }
   ],
   "source": [
    "from sklearn.metrics import accuracy_score\n",
    "bag_clf=BaggingClassifier(DecisionTreeClassifier(splitter=\"random\",\n",
    "max_leaf_nodes=16, random_state=42),n_estimators=500,max_samples=1.0,bootstrap=True,\n",
    "n_jobs=-1,random_state=42)\n",
    "bag_clf.fit(X_train,y_train)\n",
    "y_pred=bag_clf.predict(X_test)\n",
    "accuracy_score(y_test,y_pred)"
   ]
  },
  {
   "cell_type": "code",
   "execution_count": 51,
   "metadata": {},
   "outputs": [
    {
     "data": {
      "text/plain": [
       "0.84"
      ]
     },
     "execution_count": 51,
     "metadata": {},
     "output_type": "execute_result"
    }
   ],
   "source": [
    "rnd_clf=RandomForestClassifier(n_estimators=500,max_leaf_nodes=16,n_jobs=-1,\n",
    "random_state=42)\n",
    "rnd_clf.fit(X_train,y_train)\n",
    "y_pred_rf=rnd_clf.predict(X_test)\n",
    "accuracy_score(y_test,y_pred_rf)"
   ]
  },
  {
   "cell_type": "code",
   "execution_count": 52,
   "metadata": {},
   "outputs": [
    {
     "name": "stdout",
     "output_type": "stream",
     "text": [
      "sepal length (cm) 0.11249225099876375\n",
      "sepal width (cm) 0.02311928828251033\n",
      "petal length (cm) 0.4410304643639577\n",
      "petal width (cm) 0.4233579963547682\n"
     ]
    }
   ],
   "source": [
    "from sklearn.datasets import load_iris\n",
    "iris = load_iris()\n",
    "rnd_clf = RandomForestClassifier(n_estimators=500,\n",
    "n_jobs=-1, random_state=42)\n",
    "rnd_clf.fit(iris[\"data\"], iris[\"target\"])\n",
    "for name, score in zip(iris[\"feature_names\"],\n",
    "rnd_clf.feature_importances_):\n",
    "    print(name, score)\n"
   ]
  },
  {
   "cell_type": "code",
   "execution_count": 53,
   "metadata": {},
   "outputs": [
    {
     "data": {
      "text/plain": [
       "0.8986666666666666"
      ]
     },
     "execution_count": 53,
     "metadata": {},
     "output_type": "execute_result"
    }
   ],
   "source": [
    "bag_clf=BaggingClassifier(\n",
    "    DecisionTreeClassifier(random_state=42),\n",
    "    n_estimators=500,bootstrap=True,n_jobs=-1,oob_score=True, random_state=40\n",
    ")\n",
    "bag_clf.fit(X_train,y_train)\n",
    "bag_clf.oob_score_"
   ]
  },
  {
   "cell_type": "code",
   "execution_count": 54,
   "metadata": {},
   "outputs": [
    {
     "data": {
      "text/plain": [
       "array([[0.        , 1.        ],\n",
       "       [0.        , 1.        ],\n",
       "       [0.99468085, 0.00531915],\n",
       "       [1.        , 0.        ],\n",
       "       [0.15934066, 0.84065934]])"
      ]
     },
     "execution_count": 54,
     "metadata": {},
     "output_type": "execute_result"
    }
   ],
   "source": [
    "bag_clf.oob_decision_function_[:5]"
   ]
  },
  {
   "cell_type": "code",
   "execution_count": 55,
   "metadata": {},
   "outputs": [
    {
     "data": {
      "text/plain": [
       "0.832"
      ]
     },
     "execution_count": 55,
     "metadata": {},
     "output_type": "execute_result"
    }
   ],
   "source": [
    "from sklearn.metrics import accuracy_score\n",
    "y_pred=bag_clf.predict(X_test)\n",
    "accuracy_score(y_test,y_pred)"
   ]
  },
  {
   "cell_type": "code",
   "execution_count": 56,
   "metadata": {},
   "outputs": [
    {
     "data": {
      "text/plain": [
       "RandomForestClassifier(n_estimators=10, random_state=42)"
      ]
     },
     "execution_count": 56,
     "metadata": {},
     "output_type": "execute_result"
    }
   ],
   "source": [
    "from sklearn.datasets import fetch_openml\n",
    "mnist=fetch_openml('mnist_784',version=1)\n",
    "rnd_clf=RandomForestClassifier(n_estimators=10,random_state=42)\n",
    "rnd_clf.fit(mnist[\"data\"],mnist[\"target\"])"
   ]
  },
  {
   "cell_type": "code",
   "execution_count": 57,
   "metadata": {},
   "outputs": [],
   "source": [
    "import matplotlib\n",
    "def plot_digit(data):\n",
    "    image=data.reshape(28,28)\n",
    "    plt.imshow(image,cmap=matplotlib.cm.hot,interpolation=\"nearest\")\n",
    "    plt.axis(\"off\")"
   ]
  },
  {
   "cell_type": "code",
   "execution_count": 58,
   "metadata": {},
   "outputs": [
    {
     "data": {
      "image/png": "[encoded data removed]",
      "text/plain": [
       "<Figure size 432x288 with 2 Axes>"
      ]
     },
     "metadata": {
      "needs_background": "light"
     },
     "output_type": "display_data"
    }
   ],
   "source": [
    "plot_digit(rnd_clf.feature_importances_)\n",
    "cbar=plt.colorbar(ticks=[rnd_clf.feature_importances_.min(),rnd_clf.feature_importances_.max()])\n",
    "cbar.ax.set_yticklabels(['unimportant','important'])\n",
    "plt.show()"
   ]
  },
  {
   "cell_type": "code",
   "execution_count": 59,
   "metadata": {},
   "outputs": [
    {
     "data": {
      "text/plain": [
       "0.832"
      ]
     },
     "execution_count": 59,
     "metadata": {},
     "output_type": "execute_result"
    }
   ],
   "source": [
    "from sklearn.ensemble import AdaBoostClassifier\n",
    "\n",
    "ada_clf=AdaBoostClassifier(\n",
    "    DecisionTreeClassifier(max_depth=1), n_estimators=200,\n",
    "    learning_rate=0.5,random_state=42\n",
    ")\n",
    "ada_clf.fit(X_train,y_train)\n",
    "\n",
    "from sklearn.metrics import accuracy_score\n",
    "y_pred=bag_clf.predict(X_test)\n",
    "accuracy_score(y_test,y_pred)"
   ]
  },
  {
   "cell_type": "code",
   "execution_count": null,
   "metadata": {},
   "outputs": [],
   "source": []
  }
 ],
 "metadata": {
  "interpreter": {
   "hash": "cef9e06bb236b2a8629b07e87a04b187b952a0f661eff5533360a155783f0c33"
  },
  "kernelspec": {
   "display_name": "Python 3.8.8 64-bit ('base': conda)",
   "language": "python",
   "name": "python3"
  },
  "language_info": {
   "codemirror_mode": {
    "name": "ipython",
    "version": 3
   },
   "file_extension": ".py",
   "mimetype": "text/x-python",
   "name": "python",
   "nbconvert_exporter": "python",
   "pygments_lexer": "ipython3",
   "version": "3.8.8"
  },
  "orig_nbformat": 4
 },
 "nbformat": 4,
 "nbformat_minor": 2
}
