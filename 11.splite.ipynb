{
 "cells": [
  {
   "cell_type": "code",
   "execution_count": 1,
   "metadata": {},
   "outputs": [
    {
     "name": "stdout",
     "output_type": "stream",
     "text": [
      "2.6.0\n",
      "3.35.4\n"
     ]
    }
   ],
   "source": [
    "import sqlite3\n",
    "\n",
    "print(sqlite3.version)\n",
    "print(sqlite3.sqlite_version)"
   ]
  },
  {
   "cell_type": "code",
   "execution_count": 6,
   "metadata": {},
   "outputs": [],
   "source": [
    "import sqlite3\n",
    "def create():\n",
    "    conn=sqlite3.connect('books.db')\n",
    "    cursor=conn.cursor()\n",
    "    cursor.execute('''create table if not exists books(\n",
    "                        title text,\n",
    "                        publish_date text,\n",
    "                        publisher text,\n",
    "                        pages integer,\n",
    "                        recommend integer\n",
    "                        )''')\n",
    "    conn.close()\n",
    "create()"
   ]
  },
  {
   "cell_type": "code",
   "execution_count": 7,
   "metadata": {},
   "outputs": [],
   "source": [
    "import sqlite3\n",
    "def insert():\n",
    "    conn = sqlite3.connect('books.db')\n",
    "    cursor=conn.cursor()\n",
    "    cursor.execute(\"insert into books values('Java','2018-02-28','길벗',500,10)\")\n",
    "    sql='insert into books values(?,?,?,?,?)'\n",
    "    cursor.execute(sql,('Pyhton','2018-03-04','한빛',584,20))\n",
    "    items=[\n",
    "        ('빅데이처','2014-07-02','삼성',294,11),\n",
    "        ('안드로이드','2010-02-10','영진',526,20),\n",
    "        ('Spring','2013-12-12','에이콘',248,15)\n",
    "    ]\n",
    "    cursor.executemany(sql, items)\n",
    "    conn.commit()\n",
    "    conn.close()\n",
    "insert()"
   ]
  },
  {
   "cell_type": "code",
   "execution_count": 8,
   "metadata": {},
   "outputs": [
    {
     "name": "stdout",
     "output_type": "stream",
     "text": [
      "('Java', '2018-02-28', '길벗', 500, 10)\n",
      "('Pyhton', '2018-03-04', '한빛', 584, 20)\n",
      "('빅데이처', '2014-07-02', '삼성', 294, 11)\n",
      "('안드로이드', '2010-02-10', '영진', 526, 20)\n",
      "('Spring', '2013-12-12', '에이콘', 248, 15)\n",
      "('Java', '2018-02-28', '길벗', 500, 100)\n",
      "('Pyhton', '2018-03-04', '한빛', 584, 20)\n",
      "('빅데이처', '2014-07-02', '삼성', 294, 11)\n",
      "('안드로이드', '2010-02-10', '영진', 526, 20)\n",
      "('Spring', '2013-12-12', '에이콘', 248, 15)\n"
     ]
    }
   ],
   "source": [
    "import sqlite3\n",
    "def list():\n",
    "    conn=sqlite3.connect('books.db')\n",
    "    cursor = conn.cursor()\n",
    "    cursor.execute('select * from books')\n",
    "    books=cursor.fetchall()\n",
    "    for book in books:\n",
    "        print(book)\n",
    "    conn.close()\n",
    "list()\n",
    "\n",
    "def update():\n",
    "    conn=sqlite3.connect('books.db')\n",
    "    cursor=conn.cursor()\n",
    "    sql='update books set recommend=? where title=?'\n",
    "    cursor.execute(sql,(100,'Java'))\n",
    "    conn.commit()\n",
    "    conn.close()\n",
    "update()\n",
    "list()"
   ]
  },
  {
   "cell_type": "code",
   "execution_count": 9,
   "metadata": {},
   "outputs": [
    {
     "name": "stdout",
     "output_type": "stream",
     "text": [
      "('Java', '2018-02-28', '길벗', 500, 100)\n",
      "('Pyhton', '2018-03-04', '한빛', 584, 20)\n",
      "('빅데이처', '2014-07-02', '삼성', 294, 11)\n",
      "('안드로이드', '2010-02-10', '영진', 526, 20)\n",
      "('Spring', '2013-12-12', '에이콘', 248, 15)\n",
      "('Java', '2018-02-28', '길벗', 500, 100)\n",
      "('Pyhton', '2018-03-04', '한빛', 584, 20)\n",
      "('안드로이드', '2010-02-10', '영진', 526, 20)\n",
      "('Spring', '2013-12-12', '에이콘', 248, 15)\n"
     ]
    }
   ],
   "source": [
    "def delete():\n",
    "    conn=sqlite3.connect('books.db')\n",
    "    cursor=conn.cursor()\n",
    "    sql=\"delete from books where publisher='삼성'\"\n",
    "    cursor.execute(sql)\n",
    "    conn.commit()\n",
    "    conn.close()\n",
    "list()\n",
    "delete()\n",
    "list()"
   ]
  },
  {
   "cell_type": "code",
   "execution_count": 14,
   "metadata": {},
   "outputs": [
    {
     "name": "stdout",
     "output_type": "stream",
     "text": [
      "('김철수', '배', 10000.0, '2018-01-02')\n",
      "('김민수', '사과', 20000.0, '2018-01-15')\n",
      "('김현수', '포도', 15000.0, '2018-02-03')\n",
      "('한민호', '자두', 30000.0, '2018-02-20')\n",
      "rows: 4\n"
     ]
    }
   ],
   "source": [
    "import sqlite3\n",
    "conn=sqlite3.connect('c:/data/db/sales.db')\n",
    "conn.execute('drop table sales')\n",
    "sql=\"\"\"\n",
    "create table if not exists sales(\n",
    "    customer varchar(20),\n",
    "    product varchar(50),\n",
    "    price float,\n",
    "    date date\n",
    ")\"\"\"\n",
    "conn.execute(sql)\n",
    "data=[('김철수','배',10000,'2018-01-02'),\n",
    "('김민수','사과',20000,'2018-01-15'),\n",
    "('김현수','포도',15000,'2018-02-03'),\n",
    "('한민호','자두',30000,'2018-02-20')]\n",
    "sql=\"insert into sales values(?,?,?,?)\"\n",
    "conn.executemany(sql,data)\n",
    "conn.commit()\n",
    "cursor=conn.execute(\"select * from sales\")\n",
    "rows=cursor.fetchall()\n",
    "count=0\n",
    "for row in rows:\n",
    "    print(row)\n",
    "    count +=1\n",
    "print('rows: {}'.format(count))"
   ]
  },
  {
   "cell_type": "code",
   "execution_count": 13,
   "metadata": {},
   "outputs": [
    {
     "name": "stdout",
     "output_type": "stream",
     "text": [
      "['김철수', '배', '80000.0', '2017-12-31']\n",
      "['김민수', '사과', '20000.0', '2018-01-15']\n",
      "['김현수', '포도', '15000.0', '2018-02-03']\n",
      "['한민호', '자두', '30000.0', '2018-02-20']\n"
     ]
    }
   ],
   "source": [
    "import sqlite3\n",
    "\n",
    "conn=sqlite3.connect('c:/data/db/sales.db')\n",
    "conn.execute(\"update sales set price=?,date=? where customer=?\",(80000,'2017-12-31','김철수'))\n",
    "conn.commit()\n",
    "cursor=conn.execute(\"select * from sales\")\n",
    "rows=cursor.fetchall()\n",
    "for row in rows:\n",
    "    output=[]\n",
    "    for idx in range(len(row)):\n",
    "        output.append(str(row[idx]))\n",
    "    print(output)"
   ]
  },
  {
   "cell_type": "code",
   "execution_count": 15,
   "metadata": {},
   "outputs": [
    {
     "data": {
      "text/plain": [
       "<sqlite3.Cursor at 0x228a5d40dc0>"
      ]
     },
     "execution_count": 15,
     "metadata": {},
     "output_type": "execute_result"
    }
   ],
   "source": [
    "import csv\n",
    "import sqlite3\n",
    "input_file='c:/data/db/input.csv'\n",
    "\n",
    "conn=sqlite3.connect('c:/data/db/suppliers.db')\n",
    "cursor = conn.cursor()\n",
    "sql=\"\"\"\n",
    "create table if not exists suppliers(\n",
    "    supplier_name varchar(20),\n",
    "    invoice_number varchar(20),\n",
    "    part_number varchar(20),\n",
    "    cost float,\n",
    "    purchase_date date\n",
    ")\"\"\"\n",
    "cursor.execute(sql)"
   ]
  },
  {
   "cell_type": "code",
   "execution_count": 16,
   "metadata": {},
   "outputs": [
    {
     "data": {
      "text/plain": [
       "<sqlite3.Cursor at 0x228a5d40dc0>"
      ]
     },
     "execution_count": 16,
     "metadata": {},
     "output_type": "execute_result"
    }
   ],
   "source": [
    "sql=\"delete from suppliers\"\n",
    "cursor.execute(sql)"
   ]
  },
  {
   "cell_type": "code",
   "execution_count": 17,
   "metadata": {},
   "outputs": [
    {
     "name": "stdout",
     "output_type": "stream",
     "text": [
      "['A', '001-1001', '2341', 500000.0, '2014-01-20']\n",
      "['A', '001-1001', '2341', 500000.0, '2014-01-20']\n",
      "['A', '001-1001', '5467', 750000.0, '2014-01-20']\n",
      "['A', '001-1001', '5467', 750000.0, '2014-01-20']\n",
      "['B', '50-9501', '7009', 250000.0, '2018-01-30']\n",
      "['B', '50-9501', '7009', 250000.0, '2018-01-30']\n",
      "['B', '50-9505', '6650', 125000.0, '2017-02-03']\n",
      "['B', '50-9505', '6650', 125000.0, '2017-02-03']\n",
      "['C', '920-4803', '3321', 615000.0, '2017-02-03']\n",
      "['C', '920-4804', '3321', 615000.0, '2017-02-10']\n",
      "['C', '920-4805', '3321', 615000.0, '2017-02-17']\n",
      "['C', '920-4806', '3321', 615000.0, '2017-02-24']\n"
     ]
    }
   ],
   "source": [
    "file_reader=csv.reader(open(input_file,'r'), delimiter=',')\n",
    "header=next(file_reader,None)\n",
    "for row in file_reader:\n",
    "    data=[]\n",
    "    for idx in range(len(header)):\n",
    "        data.append(row[idx])\n",
    "    cursor.execute(\"insert into suppliers values(?,?,?,?,?)\",data)\n",
    "conn.commit()\n",
    "rs=cursor.execute(\"select * from suppliers\")\n",
    "rows=rs.fetchall()\n",
    "for row in rows:\n",
    "    output=[]\n",
    "    for idx in range(len(row)):\n",
    "        output.append(row[idx])\n",
    "    print(output)\n",
    "conn.close()"
   ]
  },
  {
   "cell_type": "code",
   "execution_count": null,
   "metadata": {},
   "outputs": [],
   "source": []
  }
 ],
 "metadata": {
  "interpreter": {
   "hash": "cef9e06bb236b2a8629b07e87a04b187b952a0f661eff5533360a155783f0c33"
  },
  "kernelspec": {
   "display_name": "Python 3.8.8 64-bit ('base': conda)",
   "language": "python",
   "name": "python3"
  },
  "language_info": {
   "codemirror_mode": {
    "name": "ipython",
    "version": 3
   },
   "file_extension": ".py",
   "mimetype": "text/x-python",
   "name": "python",
   "nbconvert_exporter": "python",
   "pygments_lexer": "ipython3",
   "version": "3.8.8"
  },
  "orig_nbformat": 4
 },
 "nbformat": 4,
 "nbformat_minor": 2
}
