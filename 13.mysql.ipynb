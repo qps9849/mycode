{
 "cells": [
  {
   "cell_type": "code",
   "execution_count": 4,
   "metadata": {},
   "outputs": [
    {
     "name": "stdout",
     "output_type": "stream",
     "text": [
      "['A', '001-1001', '2341', '500000', '2014-01-20']\n",
      "['A', '001-1001', '2341', '500000', '2014-01-20']\n",
      "['A', '001-1001', '5467', '750000', '2014-01-20']\n",
      "['A', '001-1001', '5467', '750000', '2014-01-20']\n",
      "['B', '50-9501', '7009', '250000', '2018-01-30']\n",
      "['B', '50-9501', '7009', '250000', '2018-01-30']\n",
      "['B', '50-9505', '6650', '125000', '2017-02-03']\n",
      "['B', '50-9505', '6650', '125000', '2017-02-03']\n",
      "['C', '920-4803', '3321', '615000', '2017-02-03']\n",
      "['C', '920-4804', '3321', '615000', '2017-02-10']\n",
      "['C', '920-4805', '3321', '615000', '2017-02-17']\n",
      "['C', '920-4806', '3321', '615000', '2017-02-24']\n",
      "['A', '001-1001', '2341', '500000.0', '2014-01-20']\n",
      "['A', '001-1001', '2341', '500000.0', '2014-01-20']\n",
      "['A', '001-1001', '5467', '750000.0', '2014-01-20']\n",
      "['A', '001-1001', '5467', '750000.0', '2014-01-20']\n",
      "['B', '50-9501', '7009', '250000.0', '2018-01-30']\n",
      "['B', '50-9501', '7009', '250000.0', '2018-01-30']\n",
      "['B', '50-9505', '6650', '125000.0', '2017-02-03']\n",
      "['B', '50-9505', '6650', '125000.0', '2017-02-03']\n",
      "['C', '920-4803', '3321', '615000.0', '2017-02-03']\n",
      "['C', '920-4804', '3321', '615000.0', '2017-02-10']\n",
      "['C', '920-4805', '3321', '615000.0', '2017-02-17']\n",
      "['C', '920-4806', '3321', '615000.0', '2017-02-24']\n"
     ]
    }
   ],
   "source": [
    "import csv\n",
    "import MySQLdb\n",
    "\n",
    "input_file='c:/data/db/input.csv'\n",
    "conn=MySQLdb.connect(host='localhost', port=3306, db='my_suppliers', user='web', passwd='1234',charset='utf8')\n",
    "cursor=conn.cursor()\n",
    "sql=\"delete from suppliers\"\n",
    "cursor.execute(sql)\n",
    "conn.commit()\n",
    "file_reader=csv.reader(open(input_file,'r'),delimiter=',')\n",
    "header = next(file_reader)\n",
    "for row in file_reader:\n",
    "    data=[]\n",
    "    for idx in range(len(header)):\n",
    "        data.append(row[idx])\n",
    "    print(data)\n",
    "    cursor.execute('INSERT INTO Suppliers VALUES(%s,%s,%s,%s,%s)',data)\n",
    "conn.commit()\n",
    "cursor.execute(\"SELECT * FROM Suppliers\")\n",
    "rows=cursor.fetchall()\n",
    "for row in rows:\n",
    "    output = []\n",
    "    for idx in range(len(row)):\n",
    "        output.append(str(row[idx]))\n",
    "    print(output)"
   ]
  },
  {
   "cell_type": "code",
   "execution_count": 8,
   "metadata": {},
   "outputs": [],
   "source": [
    "output_file='c:/data/db/mysql_output.csv'\n",
    "conn=MySQLdb.connect(host='localhost', port=3306, db='my_suppliers', user='web', passwd='1234',charset='utf8')\n",
    "cursor=conn.cursor()\n",
    "filewriter=csv.writer(open(output_file,'w'), delimiter=',')\n",
    "header=['Supplier Name','Invoice Number','Part Number','Cost','Purchase Date']\n",
    "filewriter.writerow(header)\n",
    "cursor.execute('SELECT * FROM Suppliers WHERE cost > 500000')\n",
    "rows=cursor.fetchall()\n",
    "for row in rows:\n",
    "    filewriter.writerow(row)"
   ]
  },
  {
   "cell_type": "code",
   "execution_count": 9,
   "metadata": {},
   "outputs": [
    {
     "name": "stdout",
     "output_type": "stream",
     "text": [
      "['A', '001-1001', '2341', '777.0', '2014-01-20']\n",
      "['A', '001-1001', '2341', '777.0', '2014-01-20']\n",
      "['A', '001-1001', '5467', '777.0', '2014-01-20']\n",
      "['A', '001-1001', '5467', '777.0', '2014-01-20']\n",
      "['B', '50-9501', '7009', '250000.0', '2018-01-30']\n",
      "['B', '50-9501', '7009', '250000.0', '2018-01-30']\n",
      "['B', '50-9505', '6650', '125000.0', '2017-02-03']\n",
      "['B', '50-9505', '6650', '125000.0', '2017-02-03']\n",
      "['C', '920-4803', '3321', '615000.0', '2017-02-03']\n",
      "['C', '920-4804', '3321', '615000.0', '2017-02-10']\n",
      "['C', '920-4805', '3321', '615000.0', '2017-02-17']\n",
      "['C', '920-4806', '3321', '615000.0', '2017-02-24']\n"
     ]
    }
   ],
   "source": [
    "sql='UPDATE Suppliers SET Cost=%s, Purchase_Date=%s WHERE Supplier_Name=%s'\n",
    "cursor.execute(sql,(777,'2014-01-20','A'))\n",
    "conn.commit()\n",
    "cursor.execute(\"SELECT * FROM Suppliers\")\n",
    "rows=cursor.fetchall()\n",
    "for row in rows:\n",
    "    output=[]\n",
    "    for idx in range(len(row)):\n",
    "        output.append(str(row[idx]))\n",
    "    print(output)"
   ]
  },
  {
   "cell_type": "code",
   "execution_count": null,
   "metadata": {},
   "outputs": [],
   "source": []
  }
 ],
 "metadata": {
  "interpreter": {
   "hash": "cef9e06bb236b2a8629b07e87a04b187b952a0f661eff5533360a155783f0c33"
  },
  "kernelspec": {
   "display_name": "Python 3.8.8 64-bit ('base': conda)",
   "language": "python",
   "name": "python3"
  },
  "language_info": {
   "codemirror_mode": {
    "name": "ipython",
    "version": 3
   },
   "file_extension": ".py",
   "mimetype": "text/x-python",
   "name": "python",
   "nbconvert_exporter": "python",
   "pygments_lexer": "ipython3",
   "version": "3.8.8"
  },
  "orig_nbformat": 4
 },
 "nbformat": 4,
 "nbformat_minor": 2
}
