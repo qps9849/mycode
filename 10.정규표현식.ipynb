{
 "cells": [
  {
   "cell_type": "code",
   "execution_count": 1,
   "metadata": {},
   "outputs": [
    {
     "name": "stdout",
     "output_type": "stream",
     "text": [
      "합계: 55\n"
     ]
    }
   ],
   "source": [
    "while True:\n",
    "    try:\n",
    "        n=int(input('숫자를 입력하세요:'))\n",
    "        result=0\n",
    "        for i in range(1,n+1):\n",
    "            result+=i\n",
    "        print(\"합계:\", result)\n",
    "        break\n",
    "    except:\n",
    "        print(\"잘못된 값을 입력했습니다. 다시 입력하세요\")"
   ]
  },
  {
   "cell_type": "code",
   "execution_count": 2,
   "metadata": {},
   "outputs": [
    {
     "name": "stdout",
     "output_type": "stream",
     "text": [
      "[]\n",
      "['kim']\n",
      "['m', 'm']\n"
     ]
    }
   ],
   "source": [
    "import re\n",
    "s='My id number is kim0902'\n",
    "a=re.findall('a',s)\n",
    "print(a)\n",
    "b=re.findall('kim',s)\n",
    "print(b)\n",
    "c=re.findall('m',s)\n",
    "print(c)"
   ]
  },
  {
   "cell_type": "code",
   "execution_count": 3,
   "metadata": {},
   "outputs": [
    {
     "name": "stdout",
     "output_type": "stream",
     "text": [
      "['y', 'i', 'd', 'n', 'u', 'm', 'b', 'e', 'r', 'i', 's', 'k', 'i', 'm']\n",
      "['y', 'id', 'number', 'is', 'kim']\n",
      "['M']\n",
      "['0', '5', '0', '2']\n",
      "['0502']\n"
     ]
    }
   ],
   "source": [
    "s='My id number is kim0502'\n",
    "a=re.findall('[a-z]',s)\n",
    "print(a)\n",
    "b=re.findall('[a-z]+',s)\n",
    "print(b)\n",
    "c=re.findall('[A-Z]',s)\n",
    "print(c)\n",
    "d=re.findall('[0-9]',s)\n",
    "print(d)\n",
    "e=re.findall('[0-9]+',s)\n",
    "print(e)"
   ]
  },
  {
   "cell_type": "code",
   "execution_count": 5,
   "metadata": {},
   "outputs": [
    {
     "name": "stdout",
     "output_type": "stream",
     "text": [
      "['M', 'y', 'i', 'd', 'n', 'u', 'm', 'b', 'e', 'r', 'i', 's', 'k', 'i', 'm', '0', '5', '0', '2']\n",
      "['My', 'id', 'number', 'is', 'kim', '0502']\n",
      "[' ', ' ', ' ', ' ', '_', '$', '%']\n",
      "['M', 'y', 'i', 'd', 'n', 'u', 'm', 'b', 'e', 'r', 'i', 's', 'k', 'i', 'm', '_', '0', '5', '0', '2']\n",
      "['My', 'id', 'number', 'is', 'kim_0502']\n",
      "[' ', ' ', ' ', ' ', '$%']\n"
     ]
    }
   ],
   "source": [
    "s='My id number is kim_0502$%'\n",
    "a=re.findall('[a-zA-Z0-9]',s)\n",
    "print(a)\n",
    "b=re.findall('[a-zA-Z0-9]+',s)\n",
    "print(b)\n",
    "c=re.findall('[^a-zA-Z0-9]',s)\n",
    "print(c)\n",
    "d=re.findall('[\\w]',s)\n",
    "print(d)\n",
    "e=re.findall('[\\w]+',s)\n",
    "print(e)\n",
    "f=re.findall('[\\W]+',s)\n",
    "print(f)"
   ]
  },
  {
   "cell_type": "code",
   "execution_count": 7,
   "metadata": {},
   "outputs": [
    {
     "name": "stdout",
     "output_type": "stream",
     "text": [
      "12abc 의 길이가 적당하지 않습니다.\n",
      "123abc ==> 대문자와 소문자가 모두 필요합니다.\n",
      "123abc% ==> 숫자와 영문자로만 구성되어야 합니다.\n",
      "123Abc ==> 올바른 비밀번호 입니다.\n"
     ]
    }
   ],
   "source": [
    "import re\n",
    "def pwd_check(pwd):\n",
    "    if len(pwd)<6 or len(pwd)>12:\n",
    "        print(pwd,'의 길이가 적당하지 않습니다.')\n",
    "        return\n",
    "    if re.findall('[a-zA-Z0-9]+',pwd)[0] != pwd:\n",
    "        print(pwd,'==> 숫자와 영문자로만 구성되어야 합니다.')\n",
    "        return\n",
    "    if len(re.findall('[a-z]',pwd))==0 or len(re.findall('[A-Z]',pwd))==0:\n",
    "        print(pwd, '==> 대문자와 소문자가 모두 필요합니다.')\n",
    "        return\n",
    "    print(pwd,'==> 올바른 비밀번호 입니다.')\n",
    "\n",
    "pwd_check('12abc')\n",
    "pwd_check('123abc')\n",
    "pwd_check('123abc%')\n",
    "pwd_check('123Abc')"
   ]
  },
  {
   "cell_type": "code",
   "execution_count": 10,
   "metadata": {},
   "outputs": [
    {
     "name": "stdout",
     "output_type": "stream",
     "text": [
      "kim@gmail ==> 잘못된 이메일 형식입니다\n",
      "kim_gmail.com ==> 잘못된 이메일 형식입니다\n",
      "kim ==> 잘못된 이메일 형식입니다\n",
      "kim@gmail.com ==>올바른 이메일 주소입니다!\n",
      "kim@naver.com ==>올바른 이메일 주소입니다!\n",
      "유효성 검증 통과\n"
     ]
    }
   ],
   "source": [
    "import re\n",
    "def email_check(email):\n",
    "    exp=re.findall('^[a-z0-9]{2,}@[a-z0-9]{2,}\\.[a-z]{2,}$',email)\n",
    "    if len(exp) ==0:\n",
    "        print(email,'==> 잘못된 이메일 형식입니다')\n",
    "        return False\n",
    "    print(email,'==>올바른 이메일 주소입니다!')\n",
    "    return True\n",
    "email_check('kim@gmail')\n",
    "email_check('kim_gmail.com')\n",
    "email_check('kim')\n",
    "email_check('kim@gmail.com')\n",
    "\n",
    "a=input('비밀번호를 입력하세요.')\n",
    "if email_check(a):\n",
    "    print('유효성 검증 통과')\n",
    "else:\n",
    "    print('잘못된 형식의 이메일 주소입니다')\n"
   ]
  },
  {
   "cell_type": "code",
   "execution_count": null,
   "metadata": {},
   "outputs": [],
   "source": []
  }
 ],
 "metadata": {
  "interpreter": {
   "hash": "cef9e06bb236b2a8629b07e87a04b187b952a0f661eff5533360a155783f0c33"
  },
  "kernelspec": {
   "display_name": "Python 3.8.8 64-bit ('base': conda)",
   "language": "python",
   "name": "python3"
  },
  "language_info": {
   "codemirror_mode": {
    "name": "ipython",
    "version": 3
   },
   "file_extension": ".py",
   "mimetype": "text/x-python",
   "name": "python",
   "nbconvert_exporter": "python",
   "pygments_lexer": "ipython3",
   "version": "3.8.8"
  },
  "orig_nbformat": 4
 },
 "nbformat": 4,
 "nbformat_minor": 2
}
