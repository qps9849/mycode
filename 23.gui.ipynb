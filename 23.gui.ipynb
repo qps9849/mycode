{
 "cells": [
  {
   "cell_type": "code",
   "execution_count": 2,
   "metadata": {},
   "outputs": [
    {
     "data": {
      "text/plain": [
       "0"
      ]
     },
     "execution_count": 2,
     "metadata": {},
     "output_type": "execute_result"
    }
   ],
   "source": [
    "import wx\n",
    "\n",
    "app=wx.App()\n",
    "frame=wx.Frame(None)\n",
    "frame.Show(True)\n",
    "app.MainLoop()"
   ]
  },
  {
   "cell_type": "code",
   "execution_count": 4,
   "metadata": {},
   "outputs": [
    {
     "data": {
      "text/plain": [
       "0"
      ]
     },
     "execution_count": 4,
     "metadata": {},
     "output_type": "execute_result"
    }
   ],
   "source": [
    "app=wx.App()\n",
    "frame =wx.Frame(None, title=\"wxPython\")\n",
    "btn=wx.Button(frame, label=\"Click\", size=(100,100))\n",
    "def OnClick(event):\n",
    "    wx.MessageBox(\"버튼을 클릭하였습니다.\")\n",
    "    lbl.SetLabelText(\"버튼을 클릭하였습니다\")\n",
    "\n",
    "btn.Bind(wx.EVT_BUTTON, OnClick)\n",
    "lbl=wx.StaticText(frame, label=\"Text\")\n",
    " \n",
    "btn.SetPosition(wx.Point(150,100))\n",
    "lbl.SetPosition(wx.Point(180,60))\n",
    "frame.Show(True)\n",
    "app.MainLoop()"
   ]
  },
  {
   "cell_type": "code",
   "execution_count": 1,
   "metadata": {},
   "outputs": [
    {
     "data": {
      "text/plain": [
       "0"
      ]
     },
     "execution_count": 1,
     "metadata": {},
     "output_type": "execute_result"
    }
   ],
   "source": [
    "import wx\n",
    "app=wx.App()\n",
    "frame =wx.Frame(None, title=\"wxPython\")\n",
    "\n",
    "red=wx.RadioButton(frame,label=\"빨강\",style=wx.RB_GROUP)\n",
    "def onred(event):\n",
    "    frame.SetBackgroundColour(wx.Colour(255,0,0,0))\n",
    "    frame.Refresh()\n",
    "red.Bind(wx.EVT_RADIOBUTTON,onred)\n",
    "\n",
    "green=wx.RadioButton(frame,label=\"초록\",)\n",
    "def ongreen(event):\n",
    "    frame.SetBackgroundColour(wx.Colour(0,255,0,0))\n",
    "    frame.Refresh()\n",
    "green.Bind(wx.EVT_RADIOBUTTON,ongreen)\n",
    "\n",
    "blue=wx.RadioButton(frame,label=\"파랑\",)\n",
    "def onblue(event):\n",
    "    frame.SetBackgroundColour(wx.Colour(0,0,255,0))\n",
    "    frame.Refresh()\n",
    "blue.Bind(wx.EVT_RADIOBUTTON,onblue)\n",
    "\n",
    "yellow=wx.RadioButton(frame,label=\"노랑\",)\n",
    "def onyellow(event):\n",
    "    frame.SetBackgroundColour(wx.Colour(255,255,0,0))\n",
    "    frame.Refresh()\n",
    "yellow.Bind(wx.EVT_RADIOBUTTON,onyellow)\n",
    "yellow.SetValue(True)\n",
    "\n",
    "box=wx.StaticBoxSizer(wx.VERTICAL, frame, \"배경색\")\n",
    "frame.SetSizer(box)\n",
    "box.Add(red)\n",
    "box.Add(green)\n",
    "box.Add(blue)\n",
    "box.Add(yellow)\n",
    "\n",
    "frame.SetBackgroundColour(wx.Colour(255,255,0,0))\n",
    "frame.Show(True)\n",
    "app.MainLoop()"
   ]
  },
  {
   "cell_type": "code",
   "execution_count": 2,
   "metadata": {},
   "outputs": [],
   "source": [
    "import tkinter as tk\n",
    "root=tk.Tk()\n",
    "root.title('Thinker GUI')\n",
    "root.geometry('240x120')\n",
    "root.mainloop()"
   ]
  },
  {
   "cell_type": "code",
   "execution_count": 4,
   "metadata": {},
   "outputs": [],
   "source": [
    "import tkinter as tk\n",
    "root=tk.Tk()\n",
    "root.title('Thinker GUI')\n",
    "root.geometry('240x120')\n",
    "\n",
    "def hello():\n",
    "    label['text']='안녕하세요'\n",
    "\n",
    "button=tk.Button(root,text=\"Hello\", command=hello)\n",
    "button.pack()\n",
    "\n",
    "label=tk.Label(root)\n",
    "label.pack()\n",
    "\n",
    "root.mainloop()"
   ]
  },
  {
   "cell_type": "code",
   "execution_count": 18,
   "metadata": {},
   "outputs": [
    {
     "data": {
      "text/plain": [
       "'아이디 또는 비밀번호가 일치하지 않습니다.'"
      ]
     },
     "execution_count": 18,
     "metadata": {},
     "output_type": "execute_result"
    }
   ],
   "source": [
    "import MySQLdb\n",
    "\n",
    "def list():\n",
    "    conn=MySQLdb.connect(host='localhost', port=3306, db='web', user='web', passwd='1234',charset='utf8')\n",
    "    cursor=conn.cursor()\n",
    "    cursor.execute('select * from members')\n",
    "    rows=cursor.fetchall()\n",
    "    for row in rows:\n",
    "        print(row)\n",
    "    cursor.close()\n",
    "    conn.close()\n",
    "\n",
    "def login_check(userid,passwd):\n",
    "    conn=MySQLdb.connect(host='localhost', port=3306, db='web', user='web', passwd='1234',charset='utf8')\n",
    "    cursor=conn.cursor()\n",
    "    cursor.execute('''\n",
    "    select * from members where userid=%s and passwd=%s\n",
    "    ''',(userid,passwd))\n",
    "    row=cursor.fetchone()\n",
    "    cursor.close()\n",
    "    conn.close()\n",
    "\n",
    "    if row:\n",
    "        return row[2]+'님 환영합니다'\n",
    "    else:\n",
    "        return '아이디 또는 비밀번호가 일치하지 않습니다.'\n",
    "\n",
    "login_check('kim',1234)\n",
    "\n",
    "login_check('kim',12345)"
   ]
  },
  {
   "cell_type": "code",
   "execution_count": 19,
   "metadata": {},
   "outputs": [],
   "source": [
    "import tkinter as tk\n",
    "\n",
    "root=tk.Tk()\n",
    "root.title('텍스트 입력')\n",
    "lbl1=tk.Label(root, text='아이디')\n",
    "lbl1.grid(column=0,row=0)\n",
    "var1=tk.StringVar()\n",
    "id=tk.Entry(root, textvariable=var1)\n",
    "id.grid(column=1,row=0)\n",
    "lbl2=tk.Label(root, text='비번')\n",
    "lbl2.grid(column=0,row=1)\n",
    "var2=tk.StringVar()\n",
    "pw=tk.Entry(root, textvariable=var2,show='*')\n",
    "pw.grid(column=1,row=1)\n",
    "\n",
    "def login():\n",
    "    result=login_check(var1.get(),var2.get())\n",
    "    lblResult['text']=result\n",
    "\n",
    "button1=tk.Button(root,text='확인',command=login)\n",
    "button1.grid(column=1,row=2,sticky='w')\n",
    "lblResult=tk.Label(root, text='결과:')\n",
    "lblResult.grid(column=1,row=3)\n",
    "root.mainloop()"
   ]
  },
  {
   "cell_type": "code",
   "execution_count": 20,
   "metadata": {},
   "outputs": [],
   "source": [
    "import tkinter as tk\n",
    "from tkinter import ttk\n",
    "\n",
    "def calc(event):\n",
    "    dan=int(itemVar.get())\n",
    "    result=\"\"\n",
    "    for i in range(1,10):\n",
    "        result += \"{0} x{1}={2}\\n\".format(dan,i,dan*i)\n",
    "    lblResult.config(text=result)\n",
    "\n",
    "root=tk.Tk()\n",
    "\n",
    "root.title(\"Tkinter GUI\")\n",
    "root.geometry(\"240x240\")\n",
    "itemVar=tk.StringVar()\n",
    "\n",
    "cboDan=ttk.Combobox(root,width=10,textvariable= itemVar)\n",
    "cboDan['values']=(2,3,4,5,6,7,8,9)\n",
    "cboDan.current(0)\n",
    "\n",
    "cboDan.grid(column=0, row=0)\n",
    "cboDan.bind(\"<<ComboboxSelected>>\",calc)\n",
    "\n",
    "lblResult=ttk.Label(root)\n",
    "lblResult.grid(column=0, row=1)\n",
    "\n",
    "root.mainloop()"
   ]
  },
  {
   "cell_type": "code",
   "execution_count": 22,
   "metadata": {},
   "outputs": [],
   "source": [
    "import tkinter as tk\n",
    "from tkinter import ttk\n",
    "from time import sleep\n",
    "\n",
    "def run_progressbar():\n",
    "    progress_bar[\"maximum\"]=100\n",
    "    for i in range(101):\n",
    "        sleep(0.05)\n",
    "        progress_bar[\"value\"]=i\n",
    "        progress_bar.update()\n",
    "    lblResult.config(text=\"완료되었습니다.\")\n",
    "\n",
    "root=tk.Tk()\n",
    "\n",
    "root.title(\"Tkinter GUI\")\n",
    "button=ttk.Button(root, text=\"Run Progressbar\",command= run_progressbar)\n",
    "button.grid(column=0,row=0,sticky=\"W\")\n",
    "\n",
    "progress_bar=ttk.Progressbar(root, orient=\"horizontal\",length=286)\n",
    "progress_bar.grid(column=0,row=1)\n",
    "\n",
    "lblResult=ttk.Label(root)\n",
    "lblResult.grid(column=0,row=2)\n",
    "\n",
    "root.mainloop()"
   ]
  },
  {
   "cell_type": "code",
   "execution_count": null,
   "metadata": {},
   "outputs": [],
   "source": []
  }
 ],
 "metadata": {
  "interpreter": {
   "hash": "cef9e06bb236b2a8629b07e87a04b187b952a0f661eff5533360a155783f0c33"
  },
  "kernelspec": {
   "display_name": "Python 3.8.8 64-bit ('base': conda)",
   "language": "python",
   "name": "python3"
  },
  "language_info": {
   "codemirror_mode": {
    "name": "ipython",
    "version": 3
   },
   "file_extension": ".py",
   "mimetype": "text/x-python",
   "name": "python",
   "nbconvert_exporter": "python",
   "pygments_lexer": "ipython3",
   "version": "3.8.8"
  },
  "orig_nbformat": 4
 },
 "nbformat": 4,
 "nbformat_minor": 2
}
